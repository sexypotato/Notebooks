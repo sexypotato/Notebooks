{
  "cells": [
    {
      "cell_type": "code",
      "execution_count": 1,
      "metadata": {
        "id": "3p1iLUcL2cTw"
      },
      "outputs": [],
      "source": [
        "import numpy as np"
      ],
      "id": "3p1iLUcL2cTw"
    },
    {
      "cell_type": "markdown",
      "metadata": {
        "id": "tejXZP4B2cTy"
      },
      "source": [
        "# Разминка"
      ],
      "id": "tejXZP4B2cTy"
    },
    {
      "cell_type": "markdown",
      "metadata": {
        "id": "sFquP3712cT0"
      },
      "source": [
        "**Используйте базовые возможности, встроенные в Python.**"
      ],
      "id": "sFquP3712cT0"
    },
    {
      "cell_type": "markdown",
      "metadata": {
        "id": "tdQ64UAA2cT1"
      },
      "source": [
        "**Задание 1** (1 балл)\n",
        "\n",
        "Напишите функцию, находящую возведение в степень b числа a без использования оператора ** и встроенных функций. Параметр b целочисленный."
      ],
      "id": "tdQ64UAA2cT1"
    },
    {
      "cell_type": "code",
      "execution_count": 145,
      "metadata": {
        "id": "YUoEGcBN2cT1"
      },
      "outputs": [],
      "source": [
        "def pow_func(a, b):\n",
        "  c = 1\n",
        "  for i in range(b):\n",
        "    c = c * a\n",
        "  return c"
      ],
      "id": "YUoEGcBN2cT1"
    },
    {
      "cell_type": "code",
      "execution_count": 146,
      "metadata": {
        "id": "qHS_jWM82cT2"
      },
      "outputs": [],
      "source": [
        "a = 3\n",
        "b = 10\n",
        "\n",
        "assert pow_func(a, b) == a ** b\n",
        "assert pow_func(b, a) == b ** a"
      ],
      "id": "qHS_jWM82cT2"
    },
    {
      "cell_type": "markdown",
      "metadata": {
        "id": "dtD5Obp22cT2"
      },
      "source": [
        "**Задание 2** (решение в одну строчку* 2 балла, остальное 1 балл)\n",
        "\n",
        "\n",
        "Напишите функцию, которая все элементы массива x с четными индексами переставит в обратном порядке.\n",
        "\n",
        "*Подсказка: попробуйте использовать list comprehensions"
      ],
      "id": "dtD5Obp22cT2"
    },
    {
      "cell_type": "code",
      "source": [
        "# Если можно использовать встроенную функцию reversed:\n",
        "def reverse(x): x[0::2] = reversed(x[0::2]); return x"
      ],
      "metadata": {
        "id": "4rNB6TAtxeYu"
      },
      "id": "4rNB6TAtxeYu",
      "execution_count": 147,
      "outputs": []
    },
    {
      "cell_type": "code",
      "source": [
        "# Если без неё:\n",
        "def reverse(x):\n",
        "  if (len(x)-1)%2 == 0: l = len(x)-1 \n",
        "  else: l = len(x)-2\n",
        "  new_x = list(x)\n",
        "  for i in range(0,l+1,2):\n",
        "    new_x[i] = x[l-i]\n",
        "  return(new_x)"
      ],
      "metadata": {
        "id": "_meCANSDnafj"
      },
      "id": "_meCANSDnafj",
      "execution_count": 149,
      "outputs": []
    },
    {
      "cell_type": "code",
      "source": [
        "x1 = [0, 1, 2, 3, 4, 5, 6, 7, 8, 9]\n",
        "x2 = [0, 1, 2, 3, 4, 5, 6, 7, 8, 9, 10]\n",
        "assert reverse(x1) ==  [8, 1, 6, 3, 4, 5, 2, 7, 0, 9]\n",
        "assert reverse(x2) ==  [10, 1, 8, 3, 6, 5, 4, 7, 2, 9, 0]"
      ],
      "metadata": {
        "id": "kyAmGzOTj4I_"
      },
      "id": "kyAmGzOTj4I_",
      "execution_count": 150,
      "outputs": []
    },
    {
      "cell_type": "markdown",
      "metadata": {
        "id": "IMgK16OU2cT3"
      },
      "source": [
        "**Задание 3** (2 балла)\n",
        "\n",
        "\n",
        "Напишите цикл, который выводит все знаки препинания и четные числа, делящиеся на 2, из строки s.\n",
        "\n",
        "Подсказка: используйте преобразование типов."
      ],
      "id": "IMgK16OU2cT3"
    },
    {
      "cell_type": "code",
      "execution_count": 154,
      "metadata": {
        "id": "3sVEVgde2cT4"
      },
      "outputs": [],
      "source": [
        "s = \"\"\"\n",
        "ОДНА прекрасная принцесса\n",
        "Смотрела вдаль без интереса.\n",
        "\n",
        "Вдруг увидала 2-х коней.\n",
        "2 принца скачут прямо к ней.\n",
        "\n",
        "Навстречу вышел 3-х головый\n",
        "Дракон, свирепый и здоровый.\n",
        "\n",
        "А принцы – драться, сгоряча\n",
        "4 выхватив меча.\n",
        "\n",
        "Но и дракон силен, злодей!\n",
        "На каждой лапе – 5 когтей!\n",
        "\n",
        "Принцесса смотрит, вся дрожа,\n",
        "На бой с 6-го этажа.\n",
        "\n",
        "7 долгих дней и 7 ночей\n",
        "Был слышен рев и лязг мечей.\n",
        "\n",
        "И кони не стоят на месте,\n",
        "С хозяевами бьются вместе.\n",
        "Врага лягают будь здоров\n",
        "Все 8 кованых подков.\n",
        "\n",
        "Дракон от натиска такого\n",
        "Устал кружиться бестолково\n",
        "И 9 раз сказал: «Отбой!»\n",
        "Три раза каждой головой.\n",
        "\n",
        "Сказал и скрылся в чаще леса.\n",
        "Спустилась с башни вниз принцесса,\n",
        "К прекрасным принцам подбежала\n",
        "И руки 10 раз пожала!\n",
        "Они смогли ее спасти!\n",
        "\n",
        "Ты сосчитал до десяти?\n",
        "\"\"\""
      ],
      "id": "3sVEVgde2cT4"
    },
    {
      "cell_type": "code",
      "source": [
        "import re"
      ],
      "metadata": {
        "id": "P8EkoChh-6gT"
      },
      "id": "P8EkoChh-6gT",
      "execution_count": 151,
      "outputs": []
    },
    {
      "cell_type": "code",
      "source": [
        "# Получился не цикл, а целая функция, зато работает с любой строкой:) \n",
        "# Выводит сначала все знаки препинания по порядку, потом все четные числа\n",
        "def find(s):\n",
        "  marks = '''!()-[]{};?@#$%:'\"\\,./^&;*_'''\n",
        "  numbers = re.findall('[0-9]+', s)\n",
        "  num = list(filter(lambda x: int(x)%2 == 0, numbers))\n",
        "  new_s = list()\n",
        "  for i in range(0,len(s)-1,1):\n",
        "    if (s[i] in marks):\n",
        "      new_s.append(s[i])\n",
        "  for j in range(0,len(num),1):\n",
        "    new_s.append(num[j])\n",
        "  return(new_s)"
      ],
      "metadata": {
        "id": "cil3uFpa0nYc"
      },
      "id": "cil3uFpa0nYc",
      "execution_count": 155,
      "outputs": []
    },
    {
      "cell_type": "code",
      "source": [
        "find(s)"
      ],
      "metadata": {
        "colab": {
          "base_uri": "https://localhost:8080/"
        },
        "id": "j2axE_vAIovy",
        "outputId": "676deebd-62f0-43cf-f452-e4c8154e050a"
      },
      "id": "j2axE_vAIovy",
      "execution_count": 156,
      "outputs": [
        {
          "output_type": "execute_result",
          "data": {
            "text/plain": [
              "['.',\n",
              " '-',\n",
              " '.',\n",
              " '.',\n",
              " '-',\n",
              " ',',\n",
              " '.',\n",
              " ',',\n",
              " '.',\n",
              " ',',\n",
              " '!',\n",
              " '!',\n",
              " ',',\n",
              " ',',\n",
              " '-',\n",
              " '.',\n",
              " '.',\n",
              " ',',\n",
              " '.',\n",
              " '.',\n",
              " ':',\n",
              " '!',\n",
              " '.',\n",
              " '.',\n",
              " ',',\n",
              " '!',\n",
              " '!',\n",
              " '?',\n",
              " '2',\n",
              " '2',\n",
              " '4',\n",
              " '6',\n",
              " '8',\n",
              " '10']"
            ]
          },
          "metadata": {},
          "execution_count": 156
        }
      ]
    },
    {
      "cell_type": "markdown",
      "metadata": {
        "id": "U46WSdAB2cT4"
      },
      "source": [
        "**Задание 4** (решение в одну строчку* 2 балла, остальное 1 балл)\n",
        "\n",
        "Напишите функцию, которая по данной последовательности $\\{A_i\\}_{i=1}^n$ строит последовательность $S_n$, где $S_k = \\frac{A_1 + ... + A_k}{k}$. \n",
        "\n",
        "*Подсказка: попробуйте использовать list comprehentions и slices. Также можно использовать функции из numpy"
      ],
      "id": "U46WSdAB2cT4"
    },
    {
      "cell_type": "code",
      "source": [
        "def build_seq(A):\n",
        "  iter = [0]*len(A)\n",
        "  iter[0] = A[0]\n",
        "  for i in range(1,len(A),1):\n",
        "    iter[i] = iter[i-1] + A[i]\n",
        "  S = iter/np.arange(1,len(A)+1)\n",
        "  return S"
      ],
      "metadata": {
        "id": "VXfjPbHCWLoZ"
      },
      "id": "VXfjPbHCWLoZ",
      "execution_count": 157,
      "outputs": []
    },
    {
      "cell_type": "code",
      "execution_count": 158,
      "metadata": {
        "id": "_s3rPABQ2cT5"
      },
      "outputs": [],
      "source": [
        "A = [0.29710545, 0.4459568 , 0.61701437, 0.08954347, 0.93627464,\n",
        "       0.50553331, 0.41364757, 0.89464955, 0.21498457, 0.46527083]\n",
        "assert (np.array(build_seq(A)).round(8) == [0.29710545, 0.37153112, 0.45335887, 0.36240502, 0.47717895, 0.48190467, 0.47215366, 0.52496564, 0.4905233 , 0.48799806]).all()"
      ],
      "id": "_s3rPABQ2cT5"
    },
    {
      "cell_type": "markdown",
      "metadata": {
        "id": "Zk8gxDAh2cT5"
      },
      "source": [
        "# Numpy"
      ],
      "id": "Zk8gxDAh2cT5"
    },
    {
      "cell_type": "markdown",
      "metadata": {
        "id": "GoYkhmEc2cT6"
      },
      "source": [
        "#### Реализуйте функции ниже. Использовать циклы (for, while, ...) ЗАПРЕЩЕНО. Можно использовать if, но только не подстраиваться под ответ. Используйте функции, встроенные в numpy. Функции должны пройти все тесты."
      ],
      "id": "GoYkhmEc2cT6"
    },
    {
      "cell_type": "markdown",
      "metadata": {
        "id": "oYVCdRL12cT6"
      },
      "source": [
        "**Задание 5** (1 балл)\n",
        "\n",
        "Реализуйте функцию, которая принимает массив (np.array) и константу, и возвращает все элементы массива, которые больше данной константы"
      ],
      "id": "oYVCdRL12cT6"
    },
    {
      "cell_type": "code",
      "source": [
        "def array_const(ar, C):\n",
        "  return ar[np.where(ar > C)]"
      ],
      "metadata": {
        "id": "mvCA-cs_WxdP"
      },
      "id": "mvCA-cs_WxdP",
      "execution_count": 159,
      "outputs": []
    },
    {
      "cell_type": "code",
      "execution_count": 160,
      "metadata": {
        "id": "WNclq-1t2cT6"
      },
      "outputs": [],
      "source": [
        "assert (array_const(np.array([1,2,3,4,5,6,7,6,5,4,3,2,1]), 3) == np.array([4,5,6,7,6,5,4])).all()\n",
        "assert (array_const(np.array([1,0,1,1,1,0,1]), 0) == np.array([1,1,1,1,1])).all()"
      ],
      "id": "WNclq-1t2cT6"
    },
    {
      "cell_type": "markdown",
      "metadata": {
        "id": "XvIzgZnG2cT7"
      },
      "source": [
        "**Задание 6** (1 балл)\n",
        "\n",
        "Реализуйте функцию, принимающую на вход матрицу X и два массива i и j одинаковой длины. Функция должна возвращать [X[i[0], j[0]], X[i[1], j[1]], ..., X[i[N-1], j[N-1]]] ."
      ],
      "id": "XvIzgZnG2cT7"
    },
    {
      "cell_type": "code",
      "source": [
        "def array_i_j(X, i, j):\n",
        "    return X[i,j]"
      ],
      "metadata": {
        "id": "9wwk4kgLYkVb"
      },
      "id": "9wwk4kgLYkVb",
      "execution_count": 161,
      "outputs": []
    },
    {
      "cell_type": "code",
      "execution_count": 162,
      "metadata": {
        "id": "qPac5Ew12cT7"
      },
      "outputs": [],
      "source": [
        "assert (array_i_j(np.array([[1,2,3,4],[5,6,7,8],[9,10,11,12]]),\n",
        "                  np.array([2,0,1]),\n",
        "                  np.array([2,2,0])) == np.array([11, 3, 5])).all()\n",
        "assert (array_i_j(np.array([[1,2,3,4,1,4]]),\n",
        "                  np.array([0,0,0]),\n",
        "                  np.array([2,2,2])) == np.array([3, 3, 3])).all()"
      ],
      "id": "qPac5Ew12cT7"
    },
    {
      "cell_type": "markdown",
      "metadata": {
        "id": "lGNhIep42cT7"
      },
      "source": [
        "**Задание 7** (2 балла)\n",
        "\n",
        "Реализуйте функцию для подсчёта произведения неотрицательных и ненулевых элементов на диагонали матрицы. Если $\\forall i \\ X_{i,i} <= 0,\\$ то верните None"
      ],
      "id": "lGNhIep42cT7"
    },
    {
      "cell_type": "code",
      "execution_count": null,
      "metadata": {
        "id": "M6Jj8Sg92cT7"
      },
      "outputs": [],
      "source": [
        "# Используйте np.diagonal, np.prod"
      ],
      "id": "M6Jj8Sg92cT7"
    },
    {
      "cell_type": "code",
      "source": [
        "def non_less_zero_diag_prod(X):    \n",
        "  diag = np.diagonal(X)[np.diagonal(X) > 0]\n",
        "  if (np.diagonal(X) <= 0).all(): return None\n",
        "  else: return np.prod(diag)"
      ],
      "metadata": {
        "id": "FrdVmnQZfBR8"
      },
      "id": "FrdVmnQZfBR8",
      "execution_count": 163,
      "outputs": []
    },
    {
      "cell_type": "code",
      "execution_count": 164,
      "metadata": {
        "id": "37ZcUEuI2cT8"
      },
      "outputs": [],
      "source": [
        "assert non_less_zero_diag_prod(np.array([[10,2,3,4],[5,0,7,8],[9,10,11,12]])) == 110\n",
        "assert non_less_zero_diag_prod(np.array([[10,2,3,4],[5,6,7,8],[9,10,-11,12]])) == 60\n",
        "assert non_less_zero_diag_prod(np.array([[0,1,2], [1,0,2], [1,2,0]])) == None\n",
        "assert non_less_zero_diag_prod(np.array([[-3,1,2], [1,-9,2], [1,2,-1]])) == None"
      ],
      "id": "37ZcUEuI2cT8"
    },
    {
      "cell_type": "markdown",
      "metadata": {
        "id": "erJWsM8j2cT8"
      },
      "source": [
        "**Задание 8** (2 балла)\n",
        "\n",
        "Напишите функцию, возвращающую минимальный элемент в массиве *x* среди элементов, перед которыми стоит нулевой. Если подходящих элементов нет, функция должна возвращать *None*."
      ],
      "id": "erJWsM8j2cT8"
    },
    {
      "cell_type": "code",
      "execution_count": null,
      "metadata": {
        "id": "8vynwJds2cT8"
      },
      "outputs": [],
      "source": [
        "# Возможно пригодится: np.where, np.append, np.delete"
      ],
      "id": "8vynwJds2cT8"
    },
    {
      "cell_type": "code",
      "execution_count": 165,
      "metadata": {
        "id": "0BtCkqYc2cT8"
      },
      "outputs": [],
      "source": [
        "def min_element(arr):\n",
        "  zero = np.argwhere(arr == 0); zero += 1 # Кладем в массив zero индексы цифр, стоящих перед нулями\n",
        "  if arr[-1] == 0: zero = np.delete(zero, [-1]) # Если последний элемент arr = 0, удаляем последний элемент в zero (хранящий несуществующий индекс)\n",
        "  new_arr = np.array(arr[zero]) # Кладем в новый массив значения элементов, стоящих перед нулями\n",
        "  if (len(new_arr) == 0): # Если массив нулевой длины - возвращаем None\n",
        "    return None\n",
        "  else:\n",
        "    return(new_arr.min())"
      ],
      "id": "0BtCkqYc2cT8"
    },
    {
      "cell_type": "code",
      "execution_count": 166,
      "metadata": {
        "id": "e8y6drzt2cT8"
      },
      "outputs": [],
      "source": [
        "assert min_element(np.array([2,0,3,0,1,0,7,8,0,10,11,0])) == 1\n",
        "assert min_element(np.array([2,0,3,0,0,0,7,8,0,10,11,0])) == 0\n",
        "assert min_element(np.array([3,4,1,0,4,5,2,5,6,6,12,12])) == 4\n",
        "assert min_element(np.array([2,0,3,0,0,0,7,8,0,-1,11,0])) == -1\n",
        "assert min_element(np.array([3,4,1,2,4,5,2,5,6,6,12,0])) == None\n",
        "assert min_element(np.array([3,4,1,2,4,5,2,5,6,6,12,12])) == None\n",
        "assert min_element(np.array([0,0,0])) == 0\n",
        "assert min_element(np.array([0])) == None"
      ],
      "id": "e8y6drzt2cT8"
    },
    {
      "cell_type": "markdown",
      "metadata": {
        "id": "au8aVUEt2cT9"
      },
      "source": [
        "**Задание 9** (2 балла)\n",
        "\n",
        "Реализуйте функцию, принимающую на вход матрицу X и некоторое число a, возвращающую ближайший к заданному числу элемент матрицы."
      ],
      "id": "au8aVUEt2cT9"
    },
    {
      "cell_type": "code",
      "execution_count": null,
      "metadata": {
        "id": "VCaNrs292cT9"
      },
      "outputs": [],
      "source": [
        "# np.abs, np.where"
      ],
      "id": "VCaNrs292cT9"
    },
    {
      "cell_type": "code",
      "execution_count": 167,
      "metadata": {
        "id": "BmSPZJDL2cT9"
      },
      "outputs": [],
      "source": [
        "def nearest_value(X, a):\n",
        "  X = np.reshape(X, (1, X.size))\n",
        "  near = np.argmin(np.abs(X-a))\n",
        "  return X[0,near]"
      ],
      "id": "BmSPZJDL2cT9"
    },
    {
      "cell_type": "code",
      "execution_count": 168,
      "metadata": {
        "id": "uU7VAZ7x2cT9"
      },
      "outputs": [],
      "source": [
        "assert nearest_value(np.array([[1,2,3,4],[5,6,7,8],[9,10,11,12]]), 7.6) == 8\n",
        "assert nearest_value(np.array([[1,2,3,4],[5,-2,7,8],[9,10,11,12]]), -1) == -2"
      ],
      "id": "uU7VAZ7x2cT9"
    },
    {
      "cell_type": "markdown",
      "metadata": {
        "id": "nrY2pfD52cT9"
      },
      "source": [
        "**Задание 10** (2 балла)\n",
        "\n",
        "Реализуйте функцию, принимающую на вход матрицу X и возвращающую все её уникальные столбцы в виде матрицы."
      ],
      "id": "nrY2pfD52cT9"
    },
    {
      "cell_type": "code",
      "execution_count": null,
      "metadata": {
        "id": "K2B-YvRz2cT9"
      },
      "outputs": [],
      "source": [
        "# np.unique"
      ],
      "id": "K2B-YvRz2cT9"
    },
    {
      "cell_type": "code",
      "execution_count": 169,
      "metadata": {
        "id": "6ritt5sS2cT-"
      },
      "outputs": [],
      "source": [
        "def get_unique_columns(X):\n",
        "    return np.unique(X.T, axis = 0).T"
      ],
      "id": "6ritt5sS2cT-"
    },
    {
      "cell_type": "code",
      "execution_count": 170,
      "metadata": {
        "id": "ibM-Yr382cT-"
      },
      "outputs": [],
      "source": [
        "assert (get_unique_columns(np.array([[1,0,1,0,1],\n",
        "                                     [1,1,0,1,1],\n",
        "                                     [1,0,1,0,1],\n",
        "                                     [0,0,0,0,0],\n",
        "                                     [1,1,0,1,1]])) == np.array([[0,1,0,0,1],           #  Другой порядок столбцов\n",
        "                                                                 [1,0,1,0,0],\n",
        "                                                                 [1,1,1,0,1]]).T).all()"
      ],
      "id": "ibM-Yr382cT-"
    },
    {
      "cell_type": "markdown",
      "metadata": {
        "id": "wmkbC6gQ2cT-"
      },
      "source": [
        "**Задание 11** (2 балла)\n",
        "\n",
        "Реализуйте функцию, которая во входной вещественной матрице X находит все значения nan и заменяет их на сумму всех остальных элементов. Если $\\forall i,j \\ X_{i,j} = np.nan, $ то верните матрицу нулей"
      ],
      "id": "wmkbC6gQ2cT-"
    },
    {
      "cell_type": "code",
      "source": [
        "def replace_nans(X):\n",
        "  if np.all(np.isnan(X)):\n",
        "    X = np.zeros(X.shape)\n",
        "  else:\n",
        "    X[np.isnan(X)] = X[~np.isnan(X)].sum()\n",
        "  return X"
      ],
      "metadata": {
        "id": "kaQxl5PQNtDq"
      },
      "id": "kaQxl5PQNtDq",
      "execution_count": 171,
      "outputs": []
    },
    {
      "cell_type": "code",
      "execution_count": 172,
      "metadata": {
        "id": "77a1QHvm2cT-"
      },
      "outputs": [],
      "source": [
        "assert (replace_nans(np.array([[1,2,3,np.nan],\n",
        "                               [1,2,np.nan,3]])) == np.array([[1,2,3,12],\n",
        "                                                              [1,2,12,3]])).all()\n",
        "assert (replace_nans(np.array([[np.nan, np.nan, np.nan, np.nan],\n",
        "                               [np.nan, np.nan, np.nan, np.nan]])) == np.zeros((2,4))).all()"
      ],
      "id": "77a1QHvm2cT-"
    }
  ],
  "metadata": {
    "kernelspec": {
      "display_name": "Python 3",
      "language": "python",
      "name": "python3"
    },
    "language_info": {
      "codemirror_mode": {
        "name": "ipython",
        "version": 3
      },
      "file_extension": ".py",
      "mimetype": "text/x-python",
      "name": "python",
      "nbconvert_exporter": "python",
      "pygments_lexer": "ipython3",
      "version": "3.8.5"
    },
    "colab": {
      "provenance": []
    }
  },
  "nbformat": 4,
  "nbformat_minor": 5
}
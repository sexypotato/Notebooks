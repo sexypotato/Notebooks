{
 "cells": [
  {
   "cell_type": "markdown",
   "metadata": {},
   "source": [
    "### Общая информация о языке"
   ]
  },
  {
   "cell_type": "markdown",
   "metadata": {},
   "source": [
    "![python.png](data:image/png;base64,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)"
   ]
  },
  {
   "cell_type": "markdown",
   "metadata": {},
   "source": [
    "\n",
    "**Особенности**:  \n",
    "- интерпретируемый\n",
    "- объектно-ориентированный\n",
    "- высокоуровневый язык\n",
    "- встроенные высокоуровневые структуры данных\n",
    "- динамическая типизация\n",
    "- синтаксис прост в изучении\n",
    "- поддержка модулей и пакетов (большинство библиотек\n",
    "бесплатны)\n",
    "- универсальный\n",
    "- интеграция с другими языками (C (Cython), C++, Java (JPython))  \n",
    "\n",
    "**Стиль оформления кода** - **PEP8**.  \n",
    "\n",
    "*Самое главное из PEP8:*  \n",
    "- отступ – 4 пробела\n",
    "- длина строки < 80 символов\n",
    "- переменные: var_recommended\n",
    "- константы: CONST_RECOMMENDED"
   ]
  },
  {
   "cell_type": "markdown",
   "metadata": {},
   "source": [
    "### Правила именования переменных"
   ]
  },
  {
   "cell_type": "markdown",
   "metadata": {},
   "source": [
    "Переменные — это одни из основных элементов программ на языке Python. Переменные позволяют хранить данные в памяти. Они имеют имена, по которым к ним можно обращаться. У переменных также есть типы, которые определяют то, какие данные могут в них храниться, например, строки или целые числа. Кроме того, переменные могут использоваться в выражениях с операторами (например, + или -), которые выполняют операции с их значениями.\n",
    "\n",
    "Имя переменной:\n",
    "1. Может быть любой длины\n",
    "2. Может состоять из маленьких и больших букв латинского алфавита (A-Z, a-z)\n",
    "3. Может состоять из цифр (0-9)\n",
    "4. А также из символа  \\_\n",
    "5. Первый элемент названия не может быть цифрой\n",
    "6. Регистр важен!"
   ]
  },
  {
   "cell_type": "code",
   "execution_count": null,
   "metadata": {},
   "outputs": [],
   "source": [
    "param_1 = 3\n",
    "Param_1 = 3\n",
    "PARAM_1 = 3"
   ]
  },
  {
   "cell_type": "code",
   "execution_count": null,
   "metadata": {},
   "outputs": [],
   "source": [
    "1_param = 3"
   ]
  },
  {
   "cell_type": "markdown",
   "metadata": {},
   "source": [
    "### Типы данных"
   ]
  },
  {
   "cell_type": "markdown",
   "metadata": {},
   "source": [
    "**Все типы данных** в Python относятся к одной из **2-х категорий**: **изменяемые (mutable)** и **неизменяемые (immutable)**.   \n",
    "\n",
    "*Неизменяемые объекты*:  \n",
    "* числовые данные (int, float),  \n",
    "* bool,\n",
    "* None, \n",
    "* символьные строки (class 'str'), \n",
    "* кортежи (tuple).  \n",
    "\n",
    "*Изменяемые объекты*:  \n",
    "* списки (list),  \n",
    "* множества (set), \n",
    "* словари (dict).  \n",
    "\n",
    "Вновь определяемые пользователем типы (классы) могут быть определены как неизменяемые или изменяемые. Изменяемость объектов определённого типа является принципиально важной характеристикой, определяющей, может ли объект такого типа **выступать в качестве ключа для словарей (dict)** или нет."
   ]
  },
  {
   "cell_type": "markdown",
   "metadata": {},
   "source": [
    "#### int\n",
    "Целочисленный тип переменных в питоне\n",
    "\n",
    "Чтобы задать переменную, не нужно указывать ее тип -- достаточно присвоить ей значение. При этом тип определится автоматически."
   ]
  },
  {
   "cell_type": "code",
   "execution_count": null,
   "metadata": {},
   "outputs": [],
   "source": [
    "x = 5\n",
    "\n",
    "print(x, '|', type(x))"
   ]
  },
  {
   "cell_type": "markdown",
   "metadata": {},
   "source": [
    "C int'овыми переменными можно производить стандартные математические операции -- сложение, вычитание, умножение, деление, возведение в степень, взятие остатка при делении на число\n",
    "\n",
    "Деление переменных типа int бывает двух типов -- целочисленное (с помощью символа //) и нецелочисленное (символ /). Результатом первого типа деления будет целое число, второго -- дробное. "
   ]
  },
  {
   "cell_type": "code",
   "execution_count": null,
   "metadata": {},
   "outputs": [],
   "source": [
    "a = 4 + 5\n",
    "b = 4 * 5\n",
    "c = 5 // 4\n",
    "d = 5 / 4\n",
    "e = 5**4 # 5 в степени 4\n",
    "f = 5%4 # остаток при делении 5 н 4\n",
    "\n",
    "print(a, b, c, d, e, f)"
   ]
  },
  {
   "cell_type": "markdown",
   "metadata": {},
   "source": [
    "#### float\n",
    "Тип переменной для хранения дробных чисел в питоне. С этим типом также можно выполнять арифметические операции (даже целочисленное деление)."
   ]
  },
  {
   "cell_type": "code",
   "execution_count": null,
   "metadata": {},
   "outputs": [],
   "source": [
    "y = 12.345\n",
    "\n",
    "print(y, '|', type(y))"
   ]
  },
  {
   "cell_type": "code",
   "execution_count": null,
   "metadata": {},
   "outputs": [],
   "source": [
    "a = 4.2 + 5.1\n",
    "b = 4.2 * 5.1\n",
    "c = 5.0 / 4.0\n",
    "d = 5.25 // 4.25\n",
    "e = 5.25 ** 4.0\n",
    "\n",
    "print(a, b, c, d, e)"
   ]
  },
  {
   "cell_type": "markdown",
   "metadata": {},
   "source": [
    "#### bool\n",
    "\n",
    "Логический тип переменной. Переменная типа bool может принимать два значения: True и False:"
   ]
  },
  {
   "cell_type": "code",
   "execution_count": null,
   "metadata": {},
   "outputs": [],
   "source": [
    "a = True\n",
    "b = False\n",
    "\n",
    "print(a, '|', type(a))\n",
    "\n",
    "print(b, '|', type(b))"
   ]
  },
  {
   "cell_type": "markdown",
   "metadata": {},
   "source": [
    "У типа bool существует связь с типом int -- переменная со значением True соответствует int'овой переменной со значением 1, а переменная со значением False -- int'овой переменной со значением 0.\n",
    "\n",
    "Давайте в этом убедимся, попробовав сложить значения переменных a и b:"
   ]
  },
  {
   "cell_type": "code",
   "execution_count": null,
   "metadata": {},
   "outputs": [],
   "source": [
    "print(a + b)\n",
    "print(a + a)\n",
    "print(b + b)"
   ]
  },
  {
   "cell_type": "markdown",
   "metadata": {},
   "source": [
    "Логические операции:"
   ]
  },
  {
   "cell_type": "code",
   "execution_count": null,
   "metadata": {
    "scrolled": true
   },
   "outputs": [],
   "source": [
    "print(True and False, '\\n')\n",
    "\n",
    "print(True or True, '\\n')\n",
    "\n",
    "print(not False, '\\n') "
   ]
  },
  {
   "cell_type": "code",
   "execution_count": null,
   "metadata": {},
   "outputs": [],
   "source": [
    "# в переменную a будет записан результат сравнения 2 и 3. т.е. False, потому что (2==3) неверно. \n",
    "a = (2 == 3)\n",
    "b = (4 < 5)\n",
    "\n",
    "print(a, '|', type(a))\n",
    "print(b, '|', type(b))"
   ]
  },
  {
   "cell_type": "code",
   "execution_count": null,
   "metadata": {},
   "outputs": [],
   "source": [
    "a or (a and not b)"
   ]
  },
  {
   "cell_type": "markdown",
   "metadata": {},
   "source": [
    "#### None\n",
    "Специальный тип в питоне, который обозначает *ничего*\n",
    "\n",
    "Его нельзя привести ни к одному другому типу языка. Проверить, является ли переменная param типом None, можно так:\n",
    "\n",
    "```\n",
    "if param is None\n",
    "```\n",
    "\n",
    "С первого взгляда может быть непонятно, зачем он нужен, но на самом деле это очень удобный тип. Например, если вы где-то в коде создаете объект (базу данных, например), обращаясь к внешнему коду и хотите проверить, создалась ли ваша база данных, вы можете осуществить эту проверку, сравнив переменную базы данных с None. Примерно так:\n",
    "\n",
    "```\n",
    "database = MyDatabase(db_host, db_user, db_password, db_database)\n",
    "\n",
    "if database is None:\n",
    "```"
   ]
  },
  {
   "cell_type": "code",
   "execution_count": null,
   "metadata": {},
   "outputs": [],
   "source": [
    "z = None\n",
    "print(z, '|', type(z))"
   ]
  },
  {
   "cell_type": "markdown",
   "metadata": {},
   "source": [
    "### Структуры данных"
   ]
  },
  {
   "cell_type": "markdown",
   "metadata": {},
   "source": [
    "#### list\n",
    "***массив, список, лист***"
   ]
  },
  {
   "cell_type": "markdown",
   "metadata": {},
   "source": [
    "Вот мы и добрались до типов языка python, которые представляют собой *контейнеры*, то есть, это типы данных, которые являют собой хранилища для других типов данных.\n",
    "\n",
    "Один из таких типов -- `list` (массив, список, лист). Это контейнер, куда можно положить сколько угодно других переменных, значений, и эти переменные даже могут быть разных типов и даже так же могут быть контейнерами! То есть, в list можно положить list:\n",
    "\n",
    "Чтобы задать list, надо в квадратные скобки `[]` положить нужные элементы. Пустые скобки задают пустой list. Пустой лист также можно задать, написав `list()`:"
   ]
  },
  {
   "cell_type": "code",
   "execution_count": null,
   "metadata": {},
   "outputs": [],
   "source": [
    "a = list()\n",
    "b = []\n",
    "\n",
    "# убедимся, что два варианта создания пустого массива эквивалентны:\n",
    "print(a == b)"
   ]
  },
  {
   "cell_type": "code",
   "execution_count": null,
   "metadata": {},
   "outputs": [],
   "source": [
    "c = [2, 'a', [4, 'stroka', 6.56]]"
   ]
  },
  {
   "cell_type": "code",
   "execution_count": null,
   "metadata": {},
   "outputs": [],
   "source": [
    "c.append(2) # Добавление элемента в конец\n",
    "c"
   ]
  },
  {
   "cell_type": "markdown",
   "metadata": {},
   "source": [
    "Индексация в языках программирования — это механизм для доступа к компоненте массива данных посредством ссылки на массив и посредством одного или более выражений, значения которых определяют позицию компоненты массива. Индекс — элемент перечислимого множества, который указывает на конкретный элемент массива. Индексация в python начинается с 0. Если перед индексом стоит '-', значит порядок индексирования обратный и отсчет ведется с конца."
   ]
  },
  {
   "cell_type": "markdown",
   "metadata": {},
   "source": [
    "![python.png](data:image/png;base64,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)"
   ]
  },
  {
   "cell_type": "code",
   "execution_count": null,
   "metadata": {},
   "outputs": [],
   "source": [
    "d = [1, 2.2, 'python']\n",
    "d[0]"
   ]
  },
  {
   "cell_type": "code",
   "execution_count": null,
   "metadata": {},
   "outputs": [],
   "source": [
    "d[0] = 9\n",
    "d"
   ]
  },
  {
   "cell_type": "code",
   "execution_count": null,
   "metadata": {},
   "outputs": [],
   "source": [
    "d[-1]"
   ]
  },
  {
   "cell_type": "markdown",
   "metadata": {},
   "source": [
    "С помощью функции `len` можно получить число элементов в списке."
   ]
  },
  {
   "cell_type": "code",
   "execution_count": null,
   "metadata": {},
   "outputs": [],
   "source": [
    "len(d)"
   ]
  },
  {
   "cell_type": "markdown",
   "metadata": {},
   "source": [
    "#### tuple"
   ]
  },
  {
   "cell_type": "markdown",
   "metadata": {},
   "source": [
    "**Кортеж**\n",
    "\n",
    "Этот тип данных очень похож на list, имеет ту же структуру, но отличается тем, что он *неизменяемый*. Это нужно, например, чтобы `tuple` мог выступать в качестве ключей словаря (о них ниже). list в качестве ключей словаря выступать не может.\n",
    "\n",
    "Объявляются кортежи с помощью круглых скобок — (), а его элементы разделяются запятыми."
   ]
  },
  {
   "cell_type": "code",
   "execution_count": null,
   "metadata": {},
   "outputs": [],
   "source": [
    "t = ('a', 5, 12.345, (2, 'b'))\n",
    "t"
   ]
  },
  {
   "cell_type": "markdown",
   "metadata": {},
   "source": [
    "Tuple нельзя изменять. Давайте в этом убедимся:"
   ]
  },
  {
   "cell_type": "code",
   "execution_count": null,
   "metadata": {},
   "outputs": [],
   "source": [
    "t.append(5)"
   ]
  },
  {
   "cell_type": "code",
   "execution_count": null,
   "metadata": {},
   "outputs": [],
   "source": [
    "t[2] = 3"
   ]
  },
  {
   "cell_type": "markdown",
   "metadata": {},
   "source": [
    "С кортежами можно делать все, что можно делать с list, если это не изменяет кортеж. Например, получать элементы по индексу."
   ]
  },
  {
   "cell_type": "code",
   "execution_count": null,
   "metadata": {},
   "outputs": [],
   "source": [
    "print(t[2])\n",
    "print(t.index(5))"
   ]
  },
  {
   "cell_type": "markdown",
   "metadata": {},
   "source": [
    "Как и list, кортежи можно складывать и работает сложение так же, как в list."
   ]
  },
  {
   "cell_type": "code",
   "execution_count": null,
   "metadata": {},
   "outputs": [],
   "source": [
    "m = (1, 2, 3)\n",
    "# складывать\n",
    "print(t + m)\n",
    "# узнать размер \n",
    "print(len(t))\n",
    "# проверить наличие элемента\n",
    "print(5 in t)"
   ]
  },
  {
   "cell_type": "markdown",
   "metadata": {},
   "source": [
    "Подсчет количества двоек в tuple"
   ]
  },
  {
   "cell_type": "code",
   "execution_count": null,
   "metadata": {},
   "outputs": [],
   "source": [
    "a.count(2)"
   ]
  },
  {
   "cell_type": "markdown",
   "metadata": {},
   "source": [
    "#### str\n",
    "\n",
    "Тип переменной \"строка\". Нужен для хранения и выполнения операций со строками -- наборами символов. В питоне строку можно задавать как с помощью одинарных кавычек, так и с помощью двойных, разницы нет (главное, чтобы в начале и конце одной строки стояли одинаковые кавычки):"
   ]
  },
  {
   "cell_type": "code",
   "execution_count": null,
   "metadata": {},
   "outputs": [],
   "source": [
    "x = \"abc\"\n",
    "y = 'xyz'\n",
    "print(x, '|', type(x))\n",
    "print(y, '|', type(y))"
   ]
  },
  {
   "cell_type": "markdown",
   "metadata": {},
   "source": [
    "Для объявления строк можно использовать двойные или одинарные кавычки. Многострочные блоки текста объявляются так — `'''` или `\"\"\"`."
   ]
  },
  {
   "cell_type": "code",
   "execution_count": null,
   "metadata": {},
   "outputs": [],
   "source": [
    "s1 = \"Это однострочная строка\"\n",
    "print(s1)"
   ]
  },
  {
   "cell_type": "code",
   "execution_count": null,
   "metadata": {},
   "outputs": [],
   "source": [
    "s2 = '''Это\n",
    "многострочная\n",
    "строка'''\n",
    "print(s2)"
   ]
  },
  {
   "cell_type": "markdown",
   "metadata": {},
   "source": [
    "Со строками тоже можно выполнять некоторые операции. Например, можно сложить две строки -- тогда вторая припишется в конец первой:"
   ]
  },
  {
   "cell_type": "code",
   "execution_count": null,
   "metadata": {},
   "outputs": [],
   "source": [
    "a = 'Михаил'\n",
    "b = \"Михайлович\"\n",
    "s = a + \" \" + b\n",
    "print(s)"
   ]
  },
  {
   "cell_type": "code",
   "execution_count": null,
   "metadata": {},
   "outputs": [],
   "source": [
    "a * 8"
   ]
  },
  {
   "cell_type": "markdown",
   "metadata": {},
   "source": [
    "Можно получить длину строки с помощью функции `len`:"
   ]
  },
  {
   "cell_type": "code",
   "execution_count": null,
   "metadata": {},
   "outputs": [],
   "source": [
    "print(len(a))"
   ]
  },
  {
   "cell_type": "markdown",
   "metadata": {},
   "source": [
    "Можно обращаться к отдельным элементам строки через индексы:"
   ]
  },
  {
   "cell_type": "code",
   "execution_count": null,
   "metadata": {},
   "outputs": [],
   "source": [
    "print(a)\n",
    "print(a[0])\n",
    "print(a[1])"
   ]
  },
  {
   "cell_type": "markdown",
   "metadata": {},
   "source": [
    "Рассмотрим один из видов форматирования строк в Python. **F-строки** берут значения переменных, которые есть в текущей области видимости, и подставляют их в строку. В самой строке вам лишь нужно указать имя нужных переменных в фигурных скобках. "
   ]
  },
  {
   "cell_type": "code",
   "execution_count": null,
   "metadata": {},
   "outputs": [],
   "source": [
    "name = \"Python\"\n",
    "age = 31\n",
    "print(f\"Меня зовут {name} Мне {age} год.\")"
   ]
  },
  {
   "cell_type": "markdown",
   "metadata": {},
   "source": [
    "Также у строк есть некоторое количество *методов*\n",
    "\n",
    "Метод -- это название для функций, которые вызываются от объекта. Например, у нас есть объект a -- строка, и у нее можно вызвать метод `.upper()`:\n",
    "\n",
    "```\n",
    "a.upper()\n",
    "```\n",
    "\n",
    "Методы делятся на те, которые изменяют сам объект, который их вызывает, и на те, которые возвращают результат, но не изменяют сам объект. \n",
    "\n",
    "Вот пример методов `.upper()` и `.lower()`, которые возвращают копию строки (не изменяя саму строку), от которой был вызван метод, приведенную к верхнему и нижнему регистру соответственно:"
   ]
  },
  {
   "cell_type": "code",
   "execution_count": null,
   "metadata": {},
   "outputs": [],
   "source": [
    "print(a.upper())\n",
    "print(a.lower())"
   ]
  },
  {
   "cell_type": "markdown",
   "metadata": {},
   "source": [
    "У строк наряду с методами `.upper()`, `.lower()` и остальными есть метод `.split()`, который часто бывает очень полезен. Этот метод делит строку на несколько по символу, который ему указываешь, и возвращает набор полученных строк (точнее, массив полученных строк -- о том, что такое массив, ниже)\n",
    "\n",
    "Если символ не указывать, строка делится по пробелам:"
   ]
  },
  {
   "cell_type": "code",
   "execution_count": null,
   "metadata": {},
   "outputs": [],
   "source": [
    "s1 = 'abc, qw, aaa mma, f'\n",
    "s1.split(',')"
   ]
  },
  {
   "cell_type": "markdown",
   "metadata": {},
   "source": [
    "P.S. При вызове метода какого-то класса (или функций модуля) можно написать его имя и через точку нажать **tab**:  \n",
    "\n",
    "<имя\\_объекта\\_класса(модуля)>**.[tab]**  \n",
    "\n",
    "Тогда всплывёт меню, в котором можно выбрать из всех существующих в этом классе методов (функций модуля)."
   ]
  },
  {
   "cell_type": "markdown",
   "metadata": {},
   "source": [
    "#### dict"
   ]
  },
  {
   "cell_type": "markdown",
   "metadata": {},
   "source": [
    "Словарь -- это структура данных, которая представляет отображение из одного типа данных в другой. Представляет собой набор пар ключ-значение, в качестве ключа могут выступать immutable типы данных (int, str, tuple, ...)\n",
    "\n",
    "* Основаны на хэш-таблицах\n",
    "* Ключи должны быть неизменяемыми\n",
    "\n",
    "Массивы, которые мы до этого рассматривали, были отображением непрерывного отрезка [0, n] в другой тип данных. `dict` может быть гораздо удобнее, когда нужно использовать в качестве ключа другой тип данных (например, сопоставить именам людей (str) их даты рождения) или когда в качестве ключа хочется использовать int, но не все значения из промежутка [0, n] нужны. Например, если хочется сопоставить года рождения великих писателей их именам. \n",
    "\n"
   ]
  },
  {
   "cell_type": "markdown",
   "metadata": {},
   "source": [
    "![dict.png](data:image/png;base64,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)"
   ]
  },
  {
   "cell_type": "code",
   "execution_count": null,
   "metadata": {},
   "outputs": [],
   "source": [
    "d = {}\n",
    "dd = dict()\n",
    "\n",
    "print(d == dd, '|', type(d))"
   ]
  },
  {
   "cell_type": "code",
   "execution_count": null,
   "metadata": {},
   "outputs": [],
   "source": [
    "d = {\n",
    "    'short': 'dict',\n",
    "    'long': 'dictionary'\n",
    "}\n",
    "d"
   ]
  },
  {
   "cell_type": "code",
   "execution_count": null,
   "metadata": {},
   "outputs": [],
   "source": [
    "d = dict(short='dict', long='dictionary')\n",
    "d"
   ]
  },
  {
   "cell_type": "code",
   "execution_count": null,
   "metadata": {},
   "outputs": [],
   "source": [
    "d = dict([(1, 1), (2, 4)])\n",
    "d"
   ]
  },
  {
   "cell_type": "markdown",
   "metadata": {},
   "source": [
    "Создать дефолтный словарь с ключами из списка, значениями None:"
   ]
  },
  {
   "cell_type": "code",
   "execution_count": null,
   "metadata": {},
   "outputs": [],
   "source": [
    "d = dict.fromkeys(['a', 'b'])\n",
    "d"
   ]
  },
  {
   "cell_type": "code",
   "execution_count": null,
   "metadata": {},
   "outputs": [],
   "source": [
    "d = dict.fromkeys(['a', 'b'], 100)\n",
    "d"
   ]
  },
  {
   "cell_type": "markdown",
   "metadata": {},
   "source": [
    "Для получения значения мы используем ключ — не наоборот."
   ]
  },
  {
   "cell_type": "code",
   "execution_count": null,
   "metadata": {},
   "outputs": [],
   "source": [
    "d = {1:'значение', 'ключ':2}\n",
    "\n",
    "print(\"d[1] = \", d[1]);\n",
    "\n",
    "print(\"d['ключ'] = \", d['ключ']);\n",
    "\n",
    "# Ошибка\n",
    "print(\"d[2] = \", d[2]);"
   ]
  },
  {
   "cell_type": "markdown",
   "metadata": {},
   "source": [
    "Самое часто используемое - получение ключей, получение значений и получение всего вместе:"
   ]
  },
  {
   "cell_type": "code",
   "execution_count": null,
   "metadata": {},
   "outputs": [],
   "source": [
    "# получить список ключей\n",
    "print(d.keys(), '|', type(d.keys()))\n",
    "\n",
    "# чтобы вывести ключи, нужно привести d.keys() к списку\n",
    "print(list(d.keys()))"
   ]
  },
  {
   "cell_type": "code",
   "execution_count": null,
   "metadata": {},
   "outputs": [],
   "source": [
    "# получить список значений\n",
    "print(d.values(), '|', type(d.values()))\n",
    "\n",
    "# то же самое -- чтобы вывести значения, нужно привести d.values() к списку\n",
    "print(list(d.values()))"
   ]
  },
  {
   "cell_type": "code",
   "execution_count": null,
   "metadata": {},
   "outputs": [],
   "source": [
    "# получить список пар ключ-значение\n",
    "print(d.items(), '|', type(d.items()))\n",
    "\n",
    "# то же самое -- чтобы вывести пары ключ-значения, нужно привести d.items() к списку\n",
    "print(list(d.items()))"
   ]
  },
  {
   "cell_type": "markdown",
   "metadata": {},
   "source": [
    "#### Множество"
   ]
  },
  {
   "cell_type": "markdown",
   "metadata": {},
   "source": [
    "Множество -- это массив, в котором элементы не могут повторяться, как и в математическом определении множества.\n",
    "\n",
    "Внутри языка множество устроено совсем не так, как массив или кортеж, элементы множества хранятся не последовательно, поэтому к элементам множества нельзя обращаться по индексу.\n",
    "\n",
    "Пустое множество можно создать с помощью set():"
   ]
  },
  {
   "cell_type": "code",
   "execution_count": null,
   "metadata": {},
   "outputs": [],
   "source": [
    "s = set()\n",
    "\n",
    "print(s, '|', type(s))"
   ]
  },
  {
   "cell_type": "markdown",
   "metadata": {},
   "source": [
    "Можно добавлять элементы в множество с помощью метода `.add()`:"
   ]
  },
  {
   "cell_type": "code",
   "execution_count": null,
   "metadata": {},
   "outputs": [],
   "source": [
    "s.add(1)\n",
    "s.add('a')\n",
    "# None тоже можно добавить =)\n",
    "s.add(None)\n",
    "s.add('bullet')\n",
    "print(s)"
   ]
  },
  {
   "cell_type": "markdown",
   "metadata": {},
   "source": [
    "Метод .difference() позволяет получить элементы, которые есть в одном сете, но нет в другом:"
   ]
  },
  {
   "cell_type": "code",
   "execution_count": null,
   "metadata": {},
   "outputs": [],
   "source": [
    "s1 = set(range(0, 10))\n",
    "s2 = set(range(5, 15))\n",
    "\n",
    "print('s1: ', s1, '\\ns2: ', s2)"
   ]
  },
  {
   "cell_type": "code",
   "execution_count": null,
   "metadata": {},
   "outputs": [],
   "source": [
    "# элементы, которые есть в s1, но нет в s2\n",
    "print(s1.difference(s2))\n",
    "print()\n",
    "# элементы, которые есть в s2, но нет в s1\n",
    "print(s2.difference(s1))"
   ]
  },
  {
   "cell_type": "markdown",
   "metadata": {},
   "source": [
    "Пересечение множеств s1 и s2 можно записать двумя способами:"
   ]
  },
  {
   "cell_type": "code",
   "execution_count": null,
   "metadata": {},
   "outputs": [],
   "source": [
    "print(s1.intersection(s2))\n",
    "print(s1 & s2)"
   ]
  },
  {
   "cell_type": "markdown",
   "metadata": {},
   "source": [
    "Объединение множеств s1 и s2 тоже можно записать двумя способами:"
   ]
  },
  {
   "cell_type": "code",
   "execution_count": null,
   "metadata": {},
   "outputs": [],
   "source": [
    "print(s1.union(s2))\n",
    "print(s1 | s2)"
   ]
  },
  {
   "cell_type": "markdown",
   "metadata": {},
   "source": [
    "#### Генератор"
   ]
  },
  {
   "cell_type": "markdown",
   "metadata": {},
   "source": [
    "**range**\n",
    "\n",
    "Для работы с циклами в питоне есть очень полезная функция `range()`. Допустим, вы хотите написать цикл, который бы отработал 100 раз. Можно сделать это следующим образом:\n",
    "\n",
    "```\n",
    "i = 0\n",
    "while i < 100:\n",
    "    i += 1\n",
    "    <code>\n",
    "```\n",
    "\n",
    "но это неудобно: нужно завести вспомогательную переменную i, написать лишние 2 строчки кода (i=0 и i+=1). Так код теряет в понятности и читабельности. Гораздо проще записать этот цикл с помощью range.\n",
    "\n",
    "`range()` принимает 3 аргумента: начало интервала begin, конец интервала end и шаг step, с которым будет двигаться по интервалу, и возвращает iterable объект -- по сути, массив чисел начиная с begin включительно, заканчивая end не включительно, числа в массиве идут с шагом step.\n",
    "\n",
    "Посмотрим на пример:"
   ]
  },
  {
   "cell_type": "code",
   "execution_count": null,
   "metadata": {},
   "outputs": [],
   "source": [
    "r = range(1, 100, 10)\n",
    "#приведем возвращаемый iterable к list и выведем на экран:\n",
    "print(list(r))"
   ]
  },
  {
   "cell_type": "markdown",
   "metadata": {},
   "source": [
    "### Срезы\n"
   ]
  },
  {
   "cell_type": "markdown",
   "metadata": {},
   "source": [
    "В Python, кроме индексов, существуют ещё и срезы.\n",
    "\n",
    "item[START:STOP:STEP] - берёт срез от номера START, до STOP (не включая его), с шагом STEP. По умолчанию START = 0, STOP = длине объекта, STEP = 1. Соответственно, какие-нибудь (а возможно, и все) параметры могут быть опущены.\n"
   ]
  },
  {
   "cell_type": "code",
   "execution_count": null,
   "metadata": {},
   "outputs": [],
   "source": [
    "a = [1, 2, 6, 3, 0, 6, 7, 9]"
   ]
  },
  {
   "cell_type": "code",
   "execution_count": null,
   "metadata": {},
   "outputs": [],
   "source": [
    "a[1:6:2]"
   ]
  },
  {
   "cell_type": "markdown",
   "metadata": {},
   "source": [
    "Параметры могут быть отрицательными. Знак \"-\" перед индексом означает обратный порядок."
   ]
  },
  {
   "cell_type": "code",
   "execution_count": null,
   "metadata": {},
   "outputs": [],
   "source": [
    "# Обащение к 5-му с конца элементу списка\n",
    "a[-5]"
   ]
  },
  {
   "cell_type": "code",
   "execution_count": null,
   "metadata": {},
   "outputs": [],
   "source": [
    "# В данном примере выводятся элементы массива, начиная с последнего до 4 элемента с конца списка.\n",
    "a[:-4:-1]"
   ]
  },
  {
   "cell_type": "markdown",
   "metadata": {},
   "source": [
    "### Преобразование типов"
   ]
  },
  {
   "cell_type": "markdown",
   "metadata": {},
   "source": [
    "Процесс преобразования значения одного типа данных (целые числа, строки, числа с плавающей точкой и т. д.) в другой называется преобразованием типа. В Python есть два вида преобразования:\n",
    "\n",
    "1. Неявное преобразование типов.\n",
    "2. Явное приведение типов.\n"
   ]
  },
  {
   "cell_type": "markdown",
   "metadata": {},
   "source": [
    "#### Неявное преобразование типов\n",
    "При неявном преобразовании типов Python автоматически преобразует один тип данных в другой. Этот процесс не требует участия пользователя.\n",
    "\n",
    "Давайте рассмотрим пример, в котором Python, чтобы избежать потери данных, производит преобразование типа данных с низким диапазоном (целое число) в тип с более высоким диапазоном (число с плавающей запятой)."
   ]
  },
  {
   "cell_type": "code",
   "execution_count": null,
   "metadata": {},
   "outputs": [],
   "source": [
    "a = 5\n",
    "b = 9.0\n",
    "print(a, '|', type(a))\n",
    "print(b, '|', type(b))\n",
    "\n",
    "c = a + b\n",
    "print(c, '|', type(c))"
   ]
  },
  {
   "cell_type": "code",
   "execution_count": null,
   "metadata": {},
   "outputs": [],
   "source": [
    "# Складываем строку и целое число\n",
    "num_int = 123\n",
    "num_str = \"456\"\n",
    "\n",
    "print(\"Тип данных в num_int:\", type(num_int))\n",
    "print(\"Тип данных в num_str:\", type(num_str))\n",
    "\n",
    "print(num_int + num_str)"
   ]
  },
  {
   "cell_type": "markdown",
   "metadata": {},
   "source": [
    "#### Явное преобразование типов\n",
    "В явном преобразовании программист сам заменяет текущий тип данных объекта на требуемый. Для этого используются встроенные функции, такие как ```int (), float (), str ()``` и т. д., чтобы выполнить явное преобразование типов.\n",
    "\n",
    "Этот тип преобразования также называется приведением типов, поскольку пользователь приводит (изменяет) тип данных объекта.\n",
    "\n",
    "Синтаксис\n",
    "```\n",
    "<требуемый_тип_данных>(выражение)\n",
    "```"
   ]
  },
  {
   "cell_type": "code",
   "execution_count": null,
   "metadata": {},
   "outputs": [],
   "source": [
    "a = 5\n",
    "print(a, '|', type(a))\n",
    "a = float(a)\n",
    "print(a, '|', type(a))"
   ]
  },
  {
   "cell_type": "markdown",
   "metadata": {},
   "source": [
    "**Что надо запомнить:**\n",
    "* Преобразование типов — это преобразование объекта из одного типа данных в другой.\n",
    "* Неявное преобразование типов автоматически выполняется интерпретатором Python.\n",
    "* Python не допускает потери данных при неявном преобразовании типов.\n",
    "* Явное преобразование типов также называется приведением типов. Типы данных преобразуются пользователем с помощью встроенных функций.\n",
    "* В явном приведении типов может произойти потеря данных, поскольку мы принудительно приводим объект к определенному типу."
   ]
  },
  {
   "cell_type": "markdown",
   "metadata": {},
   "source": [
    "### Условные операторы и циклы"
   ]
  },
  {
   "cell_type": "markdown",
   "metadata": {},
   "source": [
    "#### if\n",
    "В коде часто приходится проверять выполнимость или невыполнимость каких-то условий. Синтаксис следующий\n",
    "\n",
    "```\n",
    "if <условие1 (булевское выражение)> :\n",
    "    <код, который выполнится, если условие верно>\n",
    "elif <условие2 (булевское выражение)>:\n",
    "    <код, который выполнится, если условие1 было неверно, а условие2 верно>\n",
    "else:\n",
    "    <код, который выполнится, если условие1 и условие2 были неверны>\n",
    "```\n",
    "\n",
    "Обратите внимание, что код, который должен выполняться внутри каждого условия, записывается с отступом в 4 пробела от уровня if, elif и else: в питоне области видимости переменных обозначаются отступами.\n",
    "\n",
    "*То есть, отступы позволяют понять, где начинается код, который должен выполняться при выполнении условия в if, и где заканчивается*\n",
    "\n",
    "Рассмотрим пример: пусть в нашем коде есть переменная x. Мы хотим вывести на экран сообщение \"x отрицателен\", если x<0, \"x равен нулю\", если x=0 и \"x положителен\", если x>0. Код будет следующий:"
   ]
  },
  {
   "cell_type": "code",
   "execution_count": null,
   "metadata": {},
   "outputs": [],
   "source": [
    "x = 10\n",
    "\n",
    "if x<0:\n",
    "    print(\"x отрицателен\")\n",
    "elif x==0:\n",
    "    print(\"x равен нулю\")\n",
    "else:\n",
    "    print(\"x положителен\")"
   ]
  },
  {
   "cell_type": "code",
   "execution_count": null,
   "metadata": {},
   "outputs": [],
   "source": [
    "# if внутри if:\n",
    "x = 3\n",
    "y = 5\n",
    "if x == 3:\n",
    "    if y > 6:\n",
    "        # отступ в 4 пробела от внутреннего if\n",
    "        print(\"y больше 6\")\n",
    "    else:\n",
    "        print(\"y не больше 6\")\n",
    "        \n",
    "    # отступ в 4 пробела от внешнего if, поэтому код выполнится, если x==3 и при любом значении y\n",
    "    print(\"x is equal to 3\")"
   ]
  },
  {
   "cell_type": "markdown",
   "metadata": {},
   "source": [
    "Допустим мы хотим, чтобы значение переменной b определялось исходя из значения переменной a."
   ]
  },
  {
   "cell_type": "code",
   "execution_count": null,
   "metadata": {},
   "outputs": [],
   "source": [
    "a = 8\n",
    "\n",
    "if a < 4:\n",
    "    b = 5\n",
    "elif a < 7:\n",
    "    b = a\n",
    "else: \n",
    "    b = 0\n",
    "    \n",
    "b"
   ]
  },
  {
   "cell_type": "code",
   "execution_count": null,
   "metadata": {},
   "outputs": [],
   "source": [
    "# Можно записать в одну строчку\n",
    "a = 8\n",
    "b = 5 if a < 4 else a if  a < 7 else 0\n",
    "b"
   ]
  },
  {
   "cell_type": "markdown",
   "metadata": {},
   "source": [
    "#### for"
   ]
  },
  {
   "cell_type": "markdown",
   "metadata": {},
   "source": [
    "iterable структуры данных так называются, потому что по ним можно *итерироваться* -- последовательно получать значения последовательных элементов этой структуры данных. Итерироваться можно с помощью циклов `for` или `while`.\n",
    "\n",
    "Синтаксис следующий:\n",
    "\n",
    "```\n",
    "for element in iterable:\n",
    "    <code>\n",
    "```\n",
    "\n",
    "Здесь каждую новую итерацию цикла в element будет записываться очередное значение из контейнера iterable и с ним можно будет работать внутри тела цикла (`code`). Когда код внутри тела цикла отработает, начнется новая итерация цикла -- в переменную element запишется следующее значение из iterable и опять будет выполняться code.\n",
    "\n",
    "Код, который будет выполняться каждую итерацию цикла, записывается после двоеточия с отступом 4 пробела от строчки c `for`.\n",
    "\n",
    "Посмотрим на примере:"
   ]
  },
  {
   "cell_type": "code",
   "execution_count": null,
   "metadata": {},
   "outputs": [],
   "source": [
    "# создадим list элементов\n",
    "models = ['decision tree', 'linear model', 'svm', 'ensemble']\n",
    "\n",
    "# итерируемся по названиям модели: каждую итерацию цикла в переменную model будет\n",
    "# записываться новое значение из models и оно будет использоваться для print(model)\n",
    "for model in models:\n",
    "    # тело цикла. Здесь с отступом в 4 пробела нужно описать код, который будет выполняться на каждой итерации цикла.\n",
    "    print(model)\n",
    "    \n",
    "# этот код уже будет выполняться ПОСЛЕ цикла, потому что он записан без отступа в 4 пробела после for:\n",
    "print(\"Done\")"
   ]
  },
  {
   "cell_type": "markdown",
   "metadata": {},
   "source": [
    "Если нам нужен цикл определенной длины, следует использовать генератор"
   ]
  },
  {
   "cell_type": "code",
   "execution_count": null,
   "metadata": {},
   "outputs": [],
   "source": [
    "# Итерируемся определенное количество раз с помощью генератора. Правая граница не включается!\n",
    "for i in range(0, 9, 1):\n",
    "    print(i)"
   ]
  },
  {
   "cell_type": "code",
   "execution_count": null,
   "metadata": {},
   "outputs": [],
   "source": [
    "# создадим list элементов\n",
    "models = ['decision tree', 'linear model', 'svm', 'ensemble']\n",
    "\n",
    "# итерируемся по индексам массива models\n",
    "for i in range(len(models)):\n",
    "    # выводим \n",
    "    print(models[i])\n",
    "    \n",
    "# этот код уже будет выполняться ПОСЛЕ цикла, потому что он записан без отступа в 4 пробела после for:\n",
    "print(\"Done\")"
   ]
  },
  {
   "cell_type": "markdown",
   "metadata": {},
   "source": [
    "По словарям также можно итерироваться циклом `for`"
   ]
  },
  {
   "cell_type": "code",
   "execution_count": null,
   "metadata": {},
   "outputs": [],
   "source": [
    "# Итерируемся по словарю (способ 1)\n",
    "persons = {'Anna': 1, 'John': 2, 'Paul': 0}\n",
    "for key in persons:\n",
    "    print(f\"{key}:{persons[key]}\")"
   ]
  },
  {
   "cell_type": "code",
   "execution_count": null,
   "metadata": {},
   "outputs": [],
   "source": [
    "# Итерируемся по словарю (способ 2)\n",
    "for key, value in persons.items():\n",
    "    print(f\"{key}:{value}\")"
   ]
  },
  {
   "cell_type": "markdown",
   "metadata": {},
   "source": [
    "`enumerate()` принимает iterable и создает объект-генератор, который генерирует кортежи, состоящие из двух элементов – индекса элемента и самого элемента"
   ]
  },
  {
   "cell_type": "code",
   "execution_count": null,
   "metadata": {},
   "outputs": [],
   "source": [
    "# enumerate\n",
    "a = ['a', 'b', 'c']\n",
    "for i, value in enumerate(a):\n",
    "    print(f\"{i}: {value}\")"
   ]
  },
  {
   "cell_type": "markdown",
   "metadata": {},
   "source": [
    "`zip()` принимает несколько iterable аргументов и возвращает iterable из пар соответствующих элементов этих двух iterable. Это позволяет пройтись одновременно по нескольким итерируемым объектам (спискам и др.)"
   ]
  },
  {
   "cell_type": "code",
   "execution_count": null,
   "metadata": {},
   "outputs": [],
   "source": [
    "# zip\n",
    "a = ['a', 'b', 'c']\n",
    "b = [4, 5, 6]\n",
    "# zip dвозвращает пару элементов, которые можно записать в 2 разные переменные в цикле for. \n",
    "for i, j in zip(a, b):\n",
    "    print(f\"{i}:{j}\")"
   ]
  },
  {
   "cell_type": "markdown",
   "metadata": {},
   "source": [
    "Что будет, если один из iterable короче, чем другой:"
   ]
  },
  {
   "cell_type": "code",
   "execution_count": null,
   "metadata": {},
   "outputs": [],
   "source": [
    "first = 'a b c d e f g'.split(' ')\n",
    "second = '1 2 3 4 5'.split(' ')\n",
    "\n",
    "list(zip(first, second))"
   ]
  },
  {
   "cell_type": "markdown",
   "metadata": {},
   "source": [
    "#### while"
   ]
  },
  {
   "cell_type": "markdown",
   "metadata": {},
   "source": [
    "Синтаксис `while`:\n",
    "\n",
    "```\n",
    "while <условие (булевское выражение)>:\n",
    "    <code>\n",
    "```\n",
    "\n",
    "Здесь код, написанный вместо `code` будет выполняться каждую итерацию цикла, пока условие после `while` будет выполняться.\n",
    "\n",
    "Посмотрим на примере: Напишем цикл, в котором будем выводить переменную x и увеличивать x на 1, пока x не станет больше 10:"
   ]
  },
  {
   "cell_type": "code",
   "execution_count": null,
   "metadata": {},
   "outputs": [],
   "source": [
    "x = 1\n",
    "\n",
    "while x <= 10:\n",
    "    print(x)\n",
    "    # более удобный способ записи x = x + 1\n",
    "    x += 1"
   ]
  },
  {
   "cell_type": "markdown",
   "metadata": {},
   "source": [
    "### assert"
   ]
  },
  {
   "cell_type": "markdown",
   "metadata": {},
   "source": [
    "Инструкция ```assert``` представляет собой средство отладки, которое проверяет условие. Если условие утверждения assert истинно, то ничего не происходит и ваша программа продолжает выпол­няться как обычно. Но если же вычисление условия дает результат ложно, то вызывается исключение ```AssertionError``` с необязательным сообщением об ошибке.\n",
    "\n",
    "\n",
    "Именно инструмент отладки останавливает программу, как только возникает какая-то ошибка. Он также показывает, где именно она произошла.\n",
    "\n",
    "* Инструкция assert принимает выражение и необязательное сообщение;\n",
    "* Она используется для проверки типов, значений аргумента и вывода функции;\n",
    "* А также для отладки, поскольку приостанавливает программу в случае ошибки."
   ]
  },
  {
   "cell_type": "code",
   "execution_count": null,
   "metadata": {},
   "outputs": [],
   "source": [
    "a = 2\n",
    "\n",
    "assert a == 2"
   ]
  },
  {
   "cell_type": "code",
   "execution_count": null,
   "metadata": {},
   "outputs": [],
   "source": [
    "assert a != 2"
   ]
  },
  {
   "cell_type": "markdown",
   "metadata": {},
   "source": [
    "Можно выводить сообщение об ошибке"
   ]
  },
  {
   "cell_type": "code",
   "execution_count": null,
   "metadata": {},
   "outputs": [],
   "source": [
    "assert 2+1 == 4, \"!=4\""
   ]
  },
  {
   "cell_type": "markdown",
   "metadata": {},
   "source": [
    "### Функции"
   ]
  },
  {
   "cell_type": "markdown",
   "metadata": {},
   "source": [
    "Функция в python - объект, принимающий аргументы и возвращающий значение. Обычно функция определяется с помощью инструкции ```def```."
   ]
  },
  {
   "cell_type": "markdown",
   "metadata": {},
   "source": [
    "![func.png](data:image/png;base64,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)"
   ]
  },
  {
   "cell_type": "markdown",
   "metadata": {},
   "source": [
    "Напишем функцию, которая принимает переменную x и вычисляет $x^2$"
   ]
  },
  {
   "cell_type": "code",
   "execution_count": null,
   "metadata": {},
   "outputs": [],
   "source": [
    "def square(x):\n",
    "    y = x**2\n",
    "    return y\n",
    "\n",
    "square(5)"
   ]
  },
  {
   "cell_type": "markdown",
   "metadata": {},
   "source": [
    "Существует еще один способ записи функций -- **lambda**-выражения. С использованием них наша функция square выше выглядела бы так:"
   ]
  },
  {
   "cell_type": "code",
   "execution_count": null,
   "metadata": {},
   "outputs": [],
   "source": [
    "square = lambda x: x**2\n",
    "\n",
    "square(5)"
   ]
  },
  {
   "cell_type": "code",
   "execution_count": null,
   "metadata": {},
   "outputs": [],
   "source": [
    "a = [3,4,1]\n",
    "list(map(lambda x: x**2,a))"
   ]
  },
  {
   "cell_type": "markdown",
   "metadata": {},
   "source": [
    "В Python есть возможность задавать значения аргументов по умолчанию:"
   ]
  },
  {
   "cell_type": "code",
   "execution_count": null,
   "metadata": {},
   "outputs": [],
   "source": [
    "def make_sum(a, b=3):\n",
    "    s = a + b\n",
    "    return s"
   ]
  },
  {
   "cell_type": "code",
   "execution_count": null,
   "metadata": {},
   "outputs": [],
   "source": [
    "make_sum(2, 6)"
   ]
  },
  {
   "cell_type": "code",
   "execution_count": null,
   "metadata": {},
   "outputs": [],
   "source": [
    "make_sum(2)"
   ]
  },
  {
   "cell_type": "markdown",
   "metadata": {},
   "source": [
    "Как говорилось ранее внутри функций можно использовать `assert` для различных проверок"
   ]
  },
  {
   "cell_type": "code",
   "execution_count": null,
   "metadata": {},
   "outputs": [],
   "source": [
    "def apply_discount(product, discount):\n",
    "    price = int(product['цена'] * (1.0 - discount))\n",
    "    assert 0 <= price <= product['цена']\n",
    "    return price"
   ]
  },
  {
   "cell_type": "code",
   "execution_count": null,
   "metadata": {},
   "outputs": [],
   "source": [
    "shoes = {'имя': 'Туфли', 'цена': 14900}"
   ]
  },
  {
   "cell_type": "code",
   "execution_count": null,
   "metadata": {},
   "outputs": [],
   "source": [
    "apply_discount(shoes, 0.25)"
   ]
  },
  {
   "cell_type": "code",
   "execution_count": null,
   "metadata": {
    "scrolled": true
   },
   "outputs": [],
   "source": [
    "apply_discount(shoes, 2.0)"
   ]
  },
  {
   "cell_type": "markdown",
   "metadata": {},
   "source": [
    "### Встроенные функции в python"
   ]
  },
  {
   "cell_type": "markdown",
   "metadata": {},
   "source": [
    "В Python есть ряд стандартных функций, которыми можно пользоваться. Рассмотрим несколько из них."
   ]
  },
  {
   "cell_type": "code",
   "execution_count": null,
   "metadata": {},
   "outputs": [],
   "source": [
    "a = [7,8,3,4,5]\n",
    "print(sum(a), min(a), max(a))"
   ]
  },
  {
   "cell_type": "markdown",
   "metadata": {},
   "source": [
    "Функция **filter(predicate, iterable)** - оставляет только те элементы из iterable, для которых верен предикат predicate (предикат -- это функция, возвращающая значение типа bool. filter оставляет только те значения x из iterable, для которых predicate(x)==True):"
   ]
  },
  {
   "cell_type": "code",
   "execution_count": null,
   "metadata": {},
   "outputs": [],
   "source": [
    "a = [(2, 1), (3, 8), (4, 4), (5, 1)]\n",
    "list(filter(lambda x: sum(x) > 4, a))"
   ]
  },
  {
   "cell_type": "markdown",
   "metadata": {},
   "source": [
    "Функция **sorted(iterable)** возвращает новый отсортированный список, который получен из итерируемого объекта, который был передан как аргумент. Функция также поддерживает дополнительные параметры, которые позволяют управлять сортировкой."
   ]
  },
  {
   "cell_type": "code",
   "execution_count": null,
   "metadata": {},
   "outputs": [],
   "source": [
    "a = [3, 6, 98, 34, -1, 7]\n",
    "\n",
    "# sorted НЕ изменяет массив, она возвращает отсортированную копию массива\n",
    "# это, в частности, позволяет сортировать tuple (который нельзя изменять)\n",
    "print(sorted(a))"
   ]
  },
  {
   "cell_type": "code",
   "execution_count": null,
   "metadata": {},
   "outputs": [],
   "source": [
    "a = [(2, 1), (3, 8), (4, 4), (5, 1)]\n",
    "sorted(a, key=lambda x: sum(x), reverse=True)"
   ]
  },
  {
   "cell_type": "markdown",
   "metadata": {},
   "source": [
    "Функция **map(func, iterable)** - выполняет преобразование func над элементами iterable и возвращает новый iterable.\n",
    "\n",
    "Проще говоря, func -- это функция, которая принимает элемент того же типа, что элементы iterable, и возвращает некий элемент (возможно, другого типа). iterable -- любой из iterable элементов (list, tuple, ...). \n"
   ]
  },
  {
   "cell_type": "code",
   "execution_count": null,
   "metadata": {},
   "outputs": [],
   "source": [
    "a = [3,4,1]\n",
    "list(map(lambda x: x**2,a))"
   ]
  },
  {
   "cell_type": "markdown",
   "metadata": {},
   "source": [
    "P.S. При вызове метода\\функции\\класса можно нажать **shift** + **tab**:  \n",
    "\n",
    "<имя\\_объекта\\_класса(модуля)>(**[shift]** + **[tab]**) \n",
    "\n",
    "Тогда всплывёт окно, в котором можно посмотреть описание, аргументы и возвращаемое значение."
   ]
  },
  {
   "cell_type": "markdown",
   "metadata": {},
   "source": [
    "### comprehensions"
   ]
  },
  {
   "cell_type": "markdown",
   "metadata": {},
   "source": [
    "Давайте зададимся вопросом: как создать массив с квадратами чисел с 0 до 10:\n",
    "\n",
    "1. Создание пустого списка.\n",
    "2. Цикл по итерируемому объекту или диапазону элементов range.\n",
    "3. Добавляем каждый элемент в конец списка.\n"
   ]
  },
  {
   "cell_type": "code",
   "execution_count": null,
   "metadata": {},
   "outputs": [],
   "source": [
    "# Решение 1 (писать довольно долго и некомпактно):\n",
    "squares = []\n",
    "for i in range(10):\n",
    "     squares.append(i**2)\n",
    "squares"
   ]
  },
  {
   "cell_type": "markdown",
   "metadata": {},
   "source": [
    "Существует более компактный способ сделать то же самое -- **list comprehention**. В общем случае синтаксис следующий:\n",
    "\n",
    "`new_list = [expression for element in iterable (if conditional)]`"
   ]
  },
  {
   "cell_type": "code",
   "execution_count": null,
   "metadata": {},
   "outputs": [],
   "source": [
    "#  Решение 2:\n",
    "squares1 = [x**2 for x in range(10)]"
   ]
  },
  {
   "cell_type": "markdown",
   "metadata": {},
   "source": [
    "Создадим список, на нечетных индексах которого находятся слова \"odd\", а четных -- \"even\""
   ]
  },
  {
   "cell_type": "code",
   "execution_count": null,
   "metadata": {},
   "outputs": [],
   "source": [
    "mas = [\"odd\" if x%2==1 else \"even\" for x in range(10)]"
   ]
  },
  {
   "cell_type": "markdown",
   "metadata": {},
   "source": [
    "Так же можно создавать словари. Синтаксис **dict comprehention** следующий:\n",
    "\n",
    "`new_dict = {key: expression for element in iterable (if conditional)}`"
   ]
  },
  {
   "cell_type": "markdown",
   "metadata": {},
   "source": [
    "Создадим словарь, где каждому четному числу от 0 до 6 поставим в соответствие квадрат этого числа"
   ]
  },
  {
   "cell_type": "code",
   "execution_count": null,
   "metadata": {},
   "outputs": [],
   "source": [
    "d = {a: a ** 2 for a in range(7) if a%2 == 0}\n",
    "d"
   ]
  },
  {
   "cell_type": "markdown",
   "metadata": {},
   "source": [
    "Создадим словарь, при помощи списка и enumerate"
   ]
  },
  {
   "cell_type": "code",
   "execution_count": null,
   "metadata": {},
   "outputs": [],
   "source": [
    "d = {word: i for i, word in enumerate([\"zero\", \"first\", \"second\"])}\n",
    "d"
   ]
  },
  {
   "cell_type": "markdown",
   "metadata": {},
   "source": [
    "### Модули"
   ]
  },
  {
   "cell_type": "markdown",
   "metadata": {},
   "source": [
    "**Модули** - это \"библиотеки\" Python. То есть это самостоятельные, объединённые технически и логически, именованные части Python кода.\n",
    "\n",
    "Можно рассматривать их как код, функции, записанные в других файлах (модулях), и чтобы использовать их в своем коде, нужно подключить эти файлы (модули)"
   ]
  },
  {
   "cell_type": "code",
   "execution_count": null,
   "metadata": {},
   "outputs": [],
   "source": [
    "# импорт модуля\n",
    "import collections\n",
    "# импортируем структуру данных Counter из библиотеки collections\n",
    "from collections import Counter\n",
    "# импортируем с другим именем\n",
    "import collections as cool_lib"
   ]
  },
  {
   "cell_type": "code",
   "execution_count": null,
   "metadata": {},
   "outputs": [],
   "source": [
    "count = cool_lib.Counter()"
   ]
  },
  {
   "cell_type": "code",
   "execution_count": null,
   "metadata": {},
   "outputs": [],
   "source": [
    "# импортируем класс KNeighborsClassifier из библиотеки sklearn\n",
    "from sklearn.neighbors import KNeighborsClassifier"
   ]
  },
  {
   "cell_type": "code",
   "execution_count": null,
   "metadata": {},
   "outputs": [],
   "source": [
    "KNeighborsClassifier()"
   ]
  },
  {
   "cell_type": "markdown",
   "metadata": {},
   "source": [
    "### numpy"
   ]
  },
  {
   "cell_type": "markdown",
   "metadata": {},
   "source": [
    "![440px-NumPy_logo_2020.svg.png](data:image/png;base64,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)"
   ]
  },
  {
   "cell_type": "markdown",
   "metadata": {},
   "source": [
    "`numpy` — это основной пакет для научных вычислений в Python. Это библиотека, добавляющая поддержку больших многомерных массивов и матриц и набор высокоуровневых математических функций для быстрых операций с массивами, включая математические, логические, манипуляции с фигурами, сортировку, выбор, дискретные преобразования Фурье, основы линейной алгебры, основные статистические операции, случайное моделирование и многое другое.\n",
    "\n",
    "\n",
    "\n",
    "В `numpy` реализовано много операций над массивами в целом. Если задачу можно решить, произведя некоторую последовательность операций над массивами, то это будет столь же эффективно, как в `C` или `matlab`.\n"
   ]
  },
  {
   "cell_type": "code",
   "execution_count": null,
   "metadata": {},
   "outputs": [],
   "source": [
    "import numpy as np"
   ]
  },
  {
   "cell_type": "markdown",
   "metadata": {},
   "source": [
    "#### np.array"
   ]
  },
  {
   "cell_type": "code",
   "execution_count": null,
   "metadata": {},
   "outputs": [],
   "source": [
    "a = np.array([1,2,3])"
   ]
  },
  {
   "cell_type": "markdown",
   "metadata": {},
   "source": [
    "Можно преобразовать список в массив `np.array`."
   ]
  },
  {
   "cell_type": "code",
   "execution_count": null,
   "metadata": {},
   "outputs": [],
   "source": [
    "a = np.array([[0, 2, 1], [1, 2, 4]]) # двумерный массив\n",
    "a, type(a)"
   ]
  },
  {
   "cell_type": "markdown",
   "metadata": {},
   "source": [
    "`ndim` — число измерений в массиве;\n",
    "\n",
    "`shape` — размерность массива. В $n$-мерном случае возвращается кортеж размеров по каждой координате;\n",
    "\n",
    "`size` — это полное число элементов в массиве;\n",
    "\n",
    "`len` — размер по первой координате (в 1-мерном случае это то же самое)."
   ]
  },
  {
   "cell_type": "code",
   "execution_count": null,
   "metadata": {},
   "outputs": [],
   "source": [
    "print(a.ndim)\n",
    "print(a.shape)\n",
    "print(a.size)\n",
    "print(len(a))"
   ]
  },
  {
   "cell_type": "markdown",
   "metadata": {},
   "source": [
    "Индексация происходит обычным образом по аналогии со списками и кортежами."
   ]
  },
  {
   "cell_type": "code",
   "execution_count": null,
   "metadata": {},
   "outputs": [],
   "source": [
    "a[1]"
   ]
  },
  {
   "cell_type": "code",
   "execution_count": null,
   "metadata": {},
   "outputs": [],
   "source": [
    "a[1, 2]"
   ]
  },
  {
   "cell_type": "code",
   "execution_count": null,
   "metadata": {},
   "outputs": [],
   "source": [
    "a[:1, 1:]"
   ]
  },
  {
   "cell_type": "markdown",
   "metadata": {},
   "source": [
    "#### Некоторые элементы numpy"
   ]
  },
  {
   "cell_type": "code",
   "execution_count": null,
   "metadata": {},
   "outputs": [],
   "source": [
    "np.pi, np.e, np.inf, np.nan"
   ]
  },
  {
   "cell_type": "markdown",
   "metadata": {},
   "source": [
    "#### Генерация массивов"
   ]
  },
  {
   "cell_type": "markdown",
   "metadata": {},
   "source": [
    "Можно создавать массивы, заполненные нулями или единицами. "
   ]
  },
  {
   "cell_type": "code",
   "execution_count": null,
   "metadata": {},
   "outputs": [],
   "source": [
    "a = np.zeros(3)\n",
    "b = np.ones(3, dtype=np.int64)\n",
    "print(a)\n",
    "print(b)"
   ]
  },
  {
   "cell_type": "markdown",
   "metadata": {},
   "source": [
    "Функция `arange` подобна `range`. Аргументы могут быть с плавающей точкой. "
   ]
  },
  {
   "cell_type": "code",
   "execution_count": null,
   "metadata": {},
   "outputs": [],
   "source": [
    "a = np.arange(0, 9, 2)\n",
    "print(a)\n",
    "\n",
    "b = np.arange(0., 9, 2)\n",
    "print(b)"
   ]
  },
  {
   "cell_type": "markdown",
   "metadata": {},
   "source": [
    "Последовательности чисел с постоянным шагом можно также создавать функцией `linspace`. Начало и конец диапазона включаются; последний аргумент — число точек."
   ]
  },
  {
   "cell_type": "code",
   "execution_count": null,
   "metadata": {},
   "outputs": [],
   "source": [
    "np.linspace(-10, 10, 20)"
   ]
  },
  {
   "cell_type": "markdown",
   "metadata": {},
   "source": [
    "`logspace` аналогична `logspace`, но возвращает числа, равномерно распределенные по логарифмической шкале. Аргумент `base` -- это основание логарифма."
   ]
  },
  {
   "cell_type": "code",
   "execution_count": null,
   "metadata": {},
   "outputs": [],
   "source": [
    "np.logspace(-1, 1, 3, base = 2)"
   ]
  },
  {
   "cell_type": "markdown",
   "metadata": {},
   "source": [
    "#### Операции с массивами"
   ]
  },
  {
   "cell_type": "code",
   "execution_count": null,
   "metadata": {},
   "outputs": [],
   "source": [
    "a = np.linspace(0, 5, 5)\n",
    "b = np.linspace(5, 15, 5)\n",
    "print(a)\n",
    "print(b)"
   ]
  },
  {
   "cell_type": "code",
   "execution_count": null,
   "metadata": {},
   "outputs": [],
   "source": [
    "print(a + b)"
   ]
  },
  {
   "cell_type": "code",
   "execution_count": null,
   "metadata": {},
   "outputs": [],
   "source": [
    "print(a - b)"
   ]
  },
  {
   "cell_type": "code",
   "execution_count": null,
   "metadata": {},
   "outputs": [],
   "source": [
    "# поэлементное умножение\n",
    "print(a * b) "
   ]
  },
  {
   "cell_type": "code",
   "execution_count": null,
   "metadata": {},
   "outputs": [],
   "source": [
    "print(a / b)"
   ]
  },
  {
   "cell_type": "code",
   "execution_count": null,
   "metadata": {},
   "outputs": [],
   "source": [
    "print(a ** 2)"
   ]
  },
  {
   "cell_type": "markdown",
   "metadata": {},
   "source": [
    "Один из операндов может быть скаляром"
   ]
  },
  {
   "cell_type": "code",
   "execution_count": null,
   "metadata": {},
   "outputs": [],
   "source": [
    "print(a + 1)"
   ]
  },
  {
   "cell_type": "code",
   "execution_count": null,
   "metadata": {},
   "outputs": [],
   "source": [
    "a = np.array([[1,2], [3,2], [5,6]])\n",
    "b = np.array([[1,2, 3], [3,2, 5]])\n",
    "\n",
    "print(a.shape)\n",
    "print(b.shape)"
   ]
  },
  {
   "cell_type": "code",
   "execution_count": null,
   "metadata": {},
   "outputs": [],
   "source": [
    "# Поэлементное перемножение\n",
    "a * a "
   ]
  },
  {
   "cell_type": "code",
   "execution_count": null,
   "metadata": {},
   "outputs": [],
   "source": [
    "# Матричное умножение (способ 1)\n",
    "a.dot(b) "
   ]
  },
  {
   "cell_type": "code",
   "execution_count": null,
   "metadata": {},
   "outputs": [],
   "source": [
    "# Матричное умножение (способ 2)\n",
    "a @ b"
   ]
  },
  {
   "cell_type": "code",
   "execution_count": null,
   "metadata": {},
   "outputs": [],
   "source": [
    "# Матричное умножение (способ 2)\n",
    "b @ a"
   ]
  },
  {
   "cell_type": "code",
   "execution_count": null,
   "metadata": {},
   "outputs": [],
   "source": [
    "# Транспонирование\n",
    "a.T"
   ]
  },
  {
   "cell_type": "code",
   "execution_count": null,
   "metadata": {},
   "outputs": [],
   "source": [
    "b @ a.T"
   ]
  },
  {
   "cell_type": "markdown",
   "metadata": {},
   "source": [
    "Имеются встроенные функции"
   ]
  },
  {
   "cell_type": "code",
   "execution_count": null,
   "metadata": {},
   "outputs": [],
   "source": [
    "b = np.linspace(5, 15, 5)\n",
    "b"
   ]
  },
  {
   "cell_type": "code",
   "execution_count": null,
   "metadata": {},
   "outputs": [],
   "source": [
    "print(np.sqrt(b))\n",
    "print(np.exp(b))\n",
    "print(np.log(b))\n",
    "print(np.sin(b))"
   ]
  },
  {
   "cell_type": "markdown",
   "metadata": {},
   "source": [
    "Сумма и произведение всех элементов массива; максимальный и минимальный элемент; среднее и среднеквадратичное отклонение."
   ]
  },
  {
   "cell_type": "code",
   "execution_count": null,
   "metadata": {},
   "outputs": [],
   "source": [
    "b.sum(), b.prod(), b.max(), b.min(), b.mean(), b.std()"
   ]
  },
  {
   "cell_type": "markdown",
   "metadata": {},
   "source": [
    "`argmax` и `argmin` возвращают индекс максимального и минимального элементов массива"
   ]
  },
  {
   "cell_type": "code",
   "execution_count": null,
   "metadata": {},
   "outputs": [],
   "source": [
    "print(np.max(b), np.argmax(b))"
   ]
  },
  {
   "cell_type": "code",
   "execution_count": null,
   "metadata": {},
   "outputs": [],
   "source": [
    "print(np.min(b), np.argmin(b))"
   ]
  },
  {
   "cell_type": "markdown",
   "metadata": {},
   "source": [
    "Также можно искать минимальные и максимальные элементы, сумму, среднее и т.д. не только для всего массива, но и для каждой строки или столбца"
   ]
  },
  {
   "cell_type": "code",
   "execution_count": null,
   "metadata": {},
   "outputs": [],
   "source": [
    "c = np.array([[1,2,3], [2,3,4]])\n",
    "c.shape"
   ]
  },
  {
   "cell_type": "code",
   "execution_count": null,
   "metadata": {},
   "outputs": [],
   "source": [
    "np.sum(c, axis=0), np.sum(c, axis=1)"
   ]
  },
  {
   "cell_type": "code",
   "execution_count": null,
   "metadata": {},
   "outputs": [],
   "source": [
    "np.max(c, axis=0), np.max(c, axis=1)"
   ]
  },
  {
   "cell_type": "code",
   "execution_count": null,
   "metadata": {
    "scrolled": true
   },
   "outputs": [],
   "source": [
    "np.argmax(c, axis=0), np.argmax(c, axis=1)"
   ]
  },
  {
   "cell_type": "markdown",
   "metadata": {},
   "source": [
    "`delete` -- удаление элементов из массива\n",
    "\n",
    "`insert` -- вставка новых элементов в массив \n",
    "\n",
    "`append` -- присоединение в конец массива новых элементов\n",
    "\n",
    "Данные функции не меняют массив на месте, а возвращают новый массив, в котором удалены, вставлены в середину или добавлены в конец какие-то элементы."
   ]
  },
  {
   "cell_type": "code",
   "execution_count": null,
   "metadata": {},
   "outputs": [],
   "source": [
    "a = np.array([1, 2, 3, 4])"
   ]
  },
  {
   "cell_type": "code",
   "execution_count": null,
   "metadata": {},
   "outputs": [],
   "source": [
    "a = np.delete(a, 0)\n",
    "print(a)"
   ]
  },
  {
   "cell_type": "code",
   "execution_count": null,
   "metadata": {},
   "outputs": [],
   "source": [
    "a = np.insert(a, 2, [0, 0])\n",
    "print(a)"
   ]
  },
  {
   "cell_type": "code",
   "execution_count": null,
   "metadata": {},
   "outputs": [],
   "source": [
    "a = np.append(a, [1, 2, 3])\n",
    "print(a)"
   ]
  },
  {
   "cell_type": "markdown",
   "metadata": {},
   "source": [
    "Кванторы: \n",
    "\n",
    "`any` -- \"существует\" \n",
    "\n",
    "`all` -- \"для всех\""
   ]
  },
  {
   "cell_type": "code",
   "execution_count": null,
   "metadata": {},
   "outputs": [],
   "source": [
    "a = np.array([1,2,3,4,1,2])"
   ]
  },
  {
   "cell_type": "code",
   "execution_count": null,
   "metadata": {},
   "outputs": [],
   "source": [
    "a > 2"
   ]
  },
  {
   "cell_type": "code",
   "execution_count": null,
   "metadata": {},
   "outputs": [],
   "source": [
    "(a > 2).all(), (a > 2).any()"
   ]
  },
  {
   "cell_type": "code",
   "execution_count": null,
   "metadata": {},
   "outputs": [],
   "source": [
    "a[(a > 2) & (a != 3)]"
   ]
  },
  {
   "cell_type": "code",
   "execution_count": null,
   "metadata": {},
   "outputs": [],
   "source": [
    "# Оставляет только те элементы списка, для индекса которых значение в массиве, передаваемом в [], равно True\n",
    "a[[False, False,  True,  True, False, False]]"
   ]
  },
  {
   "cell_type": "markdown",
   "metadata": {},
   "source": [
    "`diagonal` -- получение диагональных элементов"
   ]
  },
  {
   "cell_type": "code",
   "execution_count": null,
   "metadata": {},
   "outputs": [],
   "source": [
    "a = np.array([[1,2], [3,4], [6,7]])"
   ]
  },
  {
   "cell_type": "code",
   "execution_count": null,
   "metadata": {},
   "outputs": [],
   "source": [
    "np.diagonal(a)"
   ]
  },
  {
   "cell_type": "markdown",
   "metadata": {},
   "source": [
    "`nonzero` -- получение всех ненулевых элементов\n"
   ]
  },
  {
   "cell_type": "code",
   "execution_count": null,
   "metadata": {},
   "outputs": [],
   "source": [
    "a = np.array([[1,0], [3,0], [6,7]])"
   ]
  },
  {
   "cell_type": "code",
   "execution_count": null,
   "metadata": {},
   "outputs": [],
   "source": [
    "np.nonzero(a)"
   ]
  },
  {
   "cell_type": "code",
   "execution_count": null,
   "metadata": {},
   "outputs": [],
   "source": [
    "a[np.nonzero(a)]"
   ]
  },
  {
   "cell_type": "markdown",
   "metadata": {},
   "source": [
    "`unique` -- получение уникальных элементов"
   ]
  },
  {
   "cell_type": "code",
   "execution_count": null,
   "metadata": {},
   "outputs": [],
   "source": [
    "a = np.array([[1,1], [1,1], [0,0]])"
   ]
  },
  {
   "cell_type": "code",
   "execution_count": null,
   "metadata": {},
   "outputs": [],
   "source": [
    "np.unique(a)"
   ]
  },
  {
   "cell_type": "code",
   "execution_count": null,
   "metadata": {},
   "outputs": [],
   "source": [
    "np.unique(a, axis=1)"
   ]
  },
  {
   "cell_type": "code",
   "execution_count": null,
   "metadata": {},
   "outputs": [],
   "source": [
    "np.unique(a, axis=0)"
   ]
  },
  {
   "cell_type": "markdown",
   "metadata": {},
   "source": [
    "Функция `sort` возвращает отсортированную копию массива, метод `sort` сортирует массив 'на месте'."
   ]
  },
  {
   "cell_type": "code",
   "execution_count": null,
   "metadata": {},
   "outputs": [],
   "source": [
    "b = np.array([5, 6, 4, 1, -4])"
   ]
  },
  {
   "cell_type": "code",
   "execution_count": null,
   "metadata": {},
   "outputs": [],
   "source": [
    "print(np.sort(b))\n",
    "print(b)"
   ]
  },
  {
   "cell_type": "code",
   "execution_count": null,
   "metadata": {},
   "outputs": [],
   "source": [
    "b.sort()\n",
    "print(b)"
   ]
  },
  {
   "cell_type": "markdown",
   "metadata": {},
   "source": [
    "-----------------"
   ]
  }
 ],
 "metadata": {
  "kernelspec": {
   "display_name": "Python 3",
   "language": "python",
   "name": "python3"
  },
  "language_info": {
   "codemirror_mode": {
    "name": "ipython",
    "version": 3
   },
   "file_extension": ".py",
   "mimetype": "text/x-python",
   "name": "python",
   "nbconvert_exporter": "python",
   "pygments_lexer": "ipython3",
   "version": "3.8.5"
  },
  "toc": {
   "base_numbering": 1,
   "nav_menu": {},
   "number_sections": true,
   "sideBar": true,
   "skip_h1_title": false,
   "title_cell": "Table of Contents",
   "title_sidebar": "Contents",
   "toc_cell": false,
   "toc_position": {},
   "toc_section_display": true,
   "toc_window_display": true
  }
 },
 "nbformat": 4,
 "nbformat_minor": 5
}

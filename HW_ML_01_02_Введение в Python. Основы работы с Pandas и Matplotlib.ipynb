{
 "cells": [
  {
   "cell_type": "markdown",
   "metadata": {},
   "source": [
    "# Pandas"
   ]
  },
  {
   "cell_type": "code",
   "execution_count": 1,
   "metadata": {},
   "outputs": [],
   "source": [
    "import pandas as pd"
   ]
  },
  {
   "cell_type": "code",
   "execution_count": 2,
   "metadata": {},
   "outputs": [],
   "source": [
    "data = pd.read_csv('./HW_ML_01_02_BlackFriday.csv')"
   ]
  },
  {
   "cell_type": "code",
   "execution_count": null,
   "metadata": {},
   "outputs": [],
   "source": [
    "data.head(10)"
   ]
  },
  {
   "cell_type": "code",
   "execution_count": null,
   "metadata": {},
   "outputs": [],
   "source": [
    "data.info()"
   ]
  },
  {
   "cell_type": "markdown",
   "metadata": {},
   "source": [
    "**Задание 1** (0.5 балла за каждый пункт)\n",
    "\n",
    "1. Сколько всего уникальных покупателей?\n",
    "2. Сколько женщин из города категории A старше 36 лет?\n",
    "3. Сколько покупателей от 26 до 35, потративших (столбец Purchase) больше 10000 у.е. и проживающих в городе категории В?\n",
    "4. Какая доля от всех покупок приходится на город категории А?\n"
   ]
  },
  {
   "cell_type": "code",
   "execution_count": null,
   "metadata": {},
   "outputs": [],
   "source": []
  },
  {
   "cell_type": "code",
   "execution_count": null,
   "metadata": {},
   "outputs": [],
   "source": []
  },
  {
   "cell_type": "code",
   "execution_count": null,
   "metadata": {},
   "outputs": [],
   "source": []
  },
  {
   "cell_type": "code",
   "execution_count": null,
   "metadata": {},
   "outputs": [],
   "source": []
  },
  {
   "cell_type": "markdown",
   "metadata": {},
   "source": [
    "**Задание 2** (1 балл за каждый пункт)\n",
    "\n",
    "1. Какая средняя сумма всех покупок на одного покупателя?\n",
    "2. Какое среднее число покупок делает покупатель каждого пола?\n",
    "2. Какая возрастная категория самая прибыльная?"
   ]
  },
  {
   "cell_type": "code",
   "execution_count": null,
   "metadata": {},
   "outputs": [],
   "source": []
  },
  {
   "cell_type": "markdown",
   "metadata": {},
   "source": [
    "**Задание 2** (1 балл)\n",
    "\n",
    "Создайте категориальную фичу Purchase_Сat с помощью колонки Purchase:\n",
    "\n",
    "1. Purchase_cat = '<5000' , если Purchase < 5000\n",
    "\n",
    "2. Purchase_cat = '5000 - 8000' , если 5000 <= Purchase < 8000\n",
    "\n",
    "2. Purchase_cat = '>=8000' , если 8000 <= Purchase"
   ]
  },
  {
   "cell_type": "code",
   "execution_count": null,
   "metadata": {},
   "outputs": [],
   "source": []
  },
  {
   "cell_type": "markdown",
   "metadata": {},
   "source": [
    "**Задание 3** (1 балл)\n",
    "\n",
    "Создайте таблицу shipping:\n",
    "\n",
    "| Purchase_Cat | Shipping_Cost_Raw |   |   |   |\n",
    "|--------------|-------------------|---|---|---|\n",
    "| <5000        | 100               |   |   |   |\n",
    "| 5000 - 8000  | 50                |   |   |   |\n",
    "| >=8000       | 0                 |   |   |   |"
   ]
  },
  {
   "cell_type": "code",
   "execution_count": null,
   "metadata": {},
   "outputs": [],
   "source": [
    "shipping = ..."
   ]
  },
  {
   "cell_type": "markdown",
   "metadata": {},
   "source": [
    "**Задание 4** (1 балл)\n",
    "\n",
    "\n",
    "Добавьте в таблицу data колонку Shipping_Cost_Raw , используя таблицу shipping, созданную выше."
   ]
  },
  {
   "cell_type": "code",
   "execution_count": null,
   "metadata": {},
   "outputs": [],
   "source": [
    "# merge"
   ]
  },
  {
   "cell_type": "code",
   "execution_count": null,
   "metadata": {},
   "outputs": [],
   "source": []
  },
  {
   "cell_type": "markdown",
   "metadata": {},
   "source": [
    "**Задание 5** (2 балла)\n",
    "\n",
    "Добавьте в таблицу data колонку Shipping_Cost, значения для которой определяются следующей формулой:\n",
    "\n",
    "Shipping_cost = Shipping_Cost_raw * Cost_Coeff\n",
    "\n",
    "Значения Cost_Coeff, определяются в соответствии с колонкой City_Category:\n",
    "\n",
    "| City_Category | Cost_Coeff |   |   |   |\n",
    "|---------------|------------|---|---|---|\n",
    "| A             | 1          |   |   |   |\n",
    "| B             | 1.2        |   |   |   |\n",
    "| C             | 1.4        |   |   |   |"
   ]
  },
  {
   "cell_type": "code",
   "execution_count": null,
   "metadata": {},
   "outputs": [],
   "source": []
  },
  {
   "cell_type": "code",
   "execution_count": null,
   "metadata": {},
   "outputs": [],
   "source": []
  },
  {
   "cell_type": "markdown",
   "metadata": {},
   "source": [
    "**Задание 6** (1 балл)\n",
    "\n",
    "Чему равна сумма доставки (колонка Shipping_Cost) для всех покупателей?"
   ]
  },
  {
   "cell_type": "code",
   "execution_count": null,
   "metadata": {},
   "outputs": [],
   "source": []
  },
  {
   "cell_type": "markdown",
   "metadata": {},
   "source": [
    "**Задание 7** (3 балла)\n",
    "\n",
    "Из таблицы data создайте новую таблицу со статистикой по колонке Age. В этой таблице для каждого уникального значения Age должны быть:\n",
    "\n",
    "* число покупателей (количество уникальных значений по полю User_ID), \n",
    "* средняя стоимость покупки (среднее по полю Purchase), \n",
    "* максимальная сумма покупки (максимальное значение поля Purchase), \n",
    "* минимальная сумма покупки (минимальное значение поля Purchase),\n",
    "* средняя стоимость доставки (среднее значение поля Shipping_Cost).\n"
   ]
  },
  {
   "cell_type": "code",
   "execution_count": null,
   "metadata": {},
   "outputs": [],
   "source": [
    "# groupby \n",
    "# agg"
   ]
  },
  {
   "cell_type": "code",
   "execution_count": null,
   "metadata": {},
   "outputs": [],
   "source": [
    "data_stat = ..."
   ]
  },
  {
   "cell_type": "code",
   "execution_count": null,
   "metadata": {},
   "outputs": [],
   "source": []
  },
  {
   "cell_type": "markdown",
   "metadata": {},
   "source": [
    "**Задание 8** (2 балла)\n",
    "\n",
    "1. Отсортируйте таблицу data по колонке Сity_Category(по убыванию), по колонке Shipping_Cost (по возрастанию при равенстве Сity_Category) и по колонке Purchase(по возрастанию при равенстве Shipping_Cost)\n",
    "\n",
    "2. Перезапишите индексы в порядке убывания."
   ]
  },
  {
   "cell_type": "code",
   "execution_count": null,
   "metadata": {},
   "outputs": [],
   "source": [
    "data_sorted = ..."
   ]
  },
  {
   "cell_type": "code",
   "execution_count": null,
   "metadata": {},
   "outputs": [],
   "source": [
    "assert (data_sorted.index == range(data_sorted.shape[0]-1,-1, -1)).all()\n",
    "assert data.shape == data_sorted.shape"
   ]
  },
  {
   "cell_type": "markdown",
   "metadata": {},
   "source": [
    "# Matplotlib"
   ]
  },
  {
   "cell_type": "code",
   "execution_count": null,
   "metadata": {},
   "outputs": [],
   "source": [
    "import matplotlib.pyplot as plt"
   ]
  },
  {
   "cell_type": "markdown",
   "metadata": {},
   "source": [
    "**Задание 9** (1 балл)\n",
    "\n",
    "\n",
    "Постройте гистограммы для колонок Purchase и Shipping_Cost таблицы data"
   ]
  },
  {
   "cell_type": "code",
   "execution_count": null,
   "metadata": {},
   "outputs": [],
   "source": []
  },
  {
   "cell_type": "markdown",
   "metadata": {},
   "source": [
    "**Задание 10** (2 балла)\n",
    "\n",
    "Постройте круговую диаграмму (pie) распределения поля City_category. \n",
    "\n",
    "Добавьте:\n",
    "* подписи долей (labels=...), \n",
    "* процентную долю каждого класса (autopct='%1.1f%%'), \n",
    "* вырез в центре (wedgeprops=dict(width=...)),\n",
    "* отступ долей от центра (explode=[...])."
   ]
  },
  {
   "cell_type": "code",
   "execution_count": null,
   "metadata": {},
   "outputs": [],
   "source": []
  },
  {
   "cell_type": "markdown",
   "metadata": {},
   "source": [
    "**Задание 11** (3 балла)\n",
    "\n",
    "Создайте массив x длиной 100 со значениями элементов от 0 до 10."
   ]
  },
  {
   "cell_type": "code",
   "execution_count": null,
   "metadata": {},
   "outputs": [],
   "source": [
    "import numpy as np"
   ]
  },
  {
   "cell_type": "code",
   "execution_count": null,
   "metadata": {},
   "outputs": [],
   "source": [
    "# np.linespace"
   ]
  },
  {
   "cell_type": "code",
   "execution_count": null,
   "metadata": {},
   "outputs": [],
   "source": [
    "x = ..."
   ]
  },
  {
   "cell_type": "markdown",
   "metadata": {},
   "source": [
    "Создайте матрицу $Y_{100\\times 100}$. Каждая строка = массив (длина = длина массива x) равномерно распределенных случайных величин ~$Uniform[0,1]$"
   ]
  },
  {
   "cell_type": "code",
   "execution_count": null,
   "metadata": {},
   "outputs": [],
   "source": [
    "# np.random.uniform(low=..., high=..., size=...)"
   ]
  },
  {
   "cell_type": "code",
   "execution_count": null,
   "metadata": {},
   "outputs": [],
   "source": [
    "Y = ..."
   ]
  },
  {
   "cell_type": "markdown",
   "metadata": {},
   "source": [
    "1. Постройте график средних значений по столбцам матрицы $Y$.\n",
    "\n",
    "2. Также постройте график доверительного интервала средних значений в каждой точке y (уровень доверия $\\alpha$ = 0.05). $[\\bar{y} - z_{\\alpha}std(y); \\ \\bar{y} + z_{\\alpha}std(y)]$\n",
    "\n",
    "3. Закрасьте область между графиками доверительного интервала"
   ]
  },
  {
   "cell_type": "code",
   "execution_count": null,
   "metadata": {},
   "outputs": [],
   "source": [
    "import scipy.stats"
   ]
  },
  {
   "cell_type": "code",
   "execution_count": null,
   "metadata": {},
   "outputs": [],
   "source": [
    "# scipy.stats.norm.interval, np.mean, np.std, plt.plot(..., color=...), plt.fill_between, plt.show"
   ]
  },
  {
   "cell_type": "code",
   "execution_count": null,
   "metadata": {},
   "outputs": [],
   "source": []
  },
  {
   "cell_type": "code",
   "execution_count": null,
   "metadata": {},
   "outputs": [],
   "source": []
  },
  {
   "cell_type": "markdown",
   "metadata": {},
   "source": [
    "**Задание 12** (3 балла)\n",
    "\n",
    "Постройте 3 графика рядом (сгенерируйте 1000 значений и постройте гистограмму распределения):\n",
    "\n",
    "1. Нормальное распределение $N(0,1)$\n",
    "\n",
    "2. Равномерное распределение $U(0,1)$\n",
    "\n",
    "3. Экспоненциальное $Exp(1)$\n",
    "\n",
    "Гистограммы должны быть нормированы. Все оси подписаны. Все графики имеют title."
   ]
  },
  {
   "cell_type": "code",
   "execution_count": null,
   "metadata": {},
   "outputs": [],
   "source": [
    "# np.random, plt.subplots"
   ]
  },
  {
   "cell_type": "code",
   "execution_count": null,
   "metadata": {},
   "outputs": [],
   "source": [
    "fig, (ax1, ax2, ax3) = plt.subplots(...)"
   ]
  },
  {
   "cell_type": "code",
   "execution_count": null,
   "metadata": {},
   "outputs": [],
   "source": []
  }
 ],
 "metadata": {
  "anaconda-cloud": {},
  "kernelspec": {
   "display_name": "Python 3",
   "language": "python",
   "name": "python3"
  },
  "language_info": {
   "codemirror_mode": {
    "name": "ipython",
    "version": 3
   },
   "file_extension": ".py",
   "mimetype": "text/x-python",
   "name": "python",
   "nbconvert_exporter": "python",
   "pygments_lexer": "ipython3",
   "version": "3.8.5"
  }
 },
 "nbformat": 4,
 "nbformat_minor": 5
}

{
 "cells": [
  {
   "cell_type": "code",
   "execution_count": 1,
   "metadata": {
    "ExecuteTime": {
     "end_time": "2023-04-08T10:53:59.581708Z",
     "start_time": "2023-04-08T10:53:59.578527Z"
    }
   },
   "outputs": [],
   "source": [
    "import warnings\n",
    "warnings.filterwarnings(\"ignore\")"
   ]
  },
  {
   "cell_type": "markdown",
   "metadata": {},
   "source": [
    "# Imports"
   ]
  },
  {
   "cell_type": "code",
   "execution_count": 2,
   "metadata": {
    "ExecuteTime": {
     "end_time": "2023-04-08T10:54:02.218362Z",
     "start_time": "2023-04-08T10:54:00.837771Z"
    }
   },
   "outputs": [],
   "source": [
    "import numpy as np\n",
    "import pandas as pd\n",
    "from matplotlib import pyplot as plt"
   ]
  },
  {
   "cell_type": "markdown",
   "metadata": {},
   "source": [
    "# Скачиваем данные"
   ]
  },
  {
   "cell_type": "code",
   "execution_count": 3,
   "metadata": {
    "ExecuteTime": {
     "end_time": "2023-04-08T10:54:05.273610Z",
     "start_time": "2023-04-08T10:54:05.243361Z"
    }
   },
   "outputs": [],
   "source": [
    "df = pd.read_csv('./german_credit_data_train.csv')\n",
    "y = (df.Risk == 'good') * 1\n",
    "df.drop('Risk', axis=1, inplace=True)"
   ]
  },
  {
   "cell_type": "code",
   "execution_count": 4,
   "metadata": {
    "ExecuteTime": {
     "end_time": "2023-04-08T10:54:07.664217Z",
     "start_time": "2023-04-08T10:54:07.637840Z"
    }
   },
   "outputs": [
    {
     "data": {
      "text/html": [
       "<div>\n",
       "<style scoped>\n",
       "    .dataframe tbody tr th:only-of-type {\n",
       "        vertical-align: middle;\n",
       "    }\n",
       "\n",
       "    .dataframe tbody tr th {\n",
       "        vertical-align: top;\n",
       "    }\n",
       "\n",
       "    .dataframe thead th {\n",
       "        text-align: right;\n",
       "    }\n",
       "</style>\n",
       "<table border=\"1\" class=\"dataframe\">\n",
       "  <thead>\n",
       "    <tr style=\"text-align: right;\">\n",
       "      <th></th>\n",
       "      <th>Age</th>\n",
       "      <th>Sex</th>\n",
       "      <th>Job</th>\n",
       "      <th>Housing</th>\n",
       "      <th>Saving accounts</th>\n",
       "      <th>Checking account</th>\n",
       "      <th>Credit amount</th>\n",
       "      <th>Duration</th>\n",
       "      <th>Purpose</th>\n",
       "    </tr>\n",
       "  </thead>\n",
       "  <tbody>\n",
       "    <tr>\n",
       "      <th>0</th>\n",
       "      <td>67</td>\n",
       "      <td>male</td>\n",
       "      <td>2</td>\n",
       "      <td>own</td>\n",
       "      <td>NaN</td>\n",
       "      <td>little</td>\n",
       "      <td>1169</td>\n",
       "      <td>6</td>\n",
       "      <td>radio/TV</td>\n",
       "    </tr>\n",
       "    <tr>\n",
       "      <th>1</th>\n",
       "      <td>22</td>\n",
       "      <td>female</td>\n",
       "      <td>2</td>\n",
       "      <td>own</td>\n",
       "      <td>little</td>\n",
       "      <td>moderate</td>\n",
       "      <td>5951</td>\n",
       "      <td>48</td>\n",
       "      <td>radio/TV</td>\n",
       "    </tr>\n",
       "    <tr>\n",
       "      <th>2</th>\n",
       "      <td>49</td>\n",
       "      <td>male</td>\n",
       "      <td>1</td>\n",
       "      <td>own</td>\n",
       "      <td>little</td>\n",
       "      <td>NaN</td>\n",
       "      <td>2096</td>\n",
       "      <td>12</td>\n",
       "      <td>education</td>\n",
       "    </tr>\n",
       "    <tr>\n",
       "      <th>3</th>\n",
       "      <td>45</td>\n",
       "      <td>male</td>\n",
       "      <td>2</td>\n",
       "      <td>free</td>\n",
       "      <td>little</td>\n",
       "      <td>little</td>\n",
       "      <td>7882</td>\n",
       "      <td>42</td>\n",
       "      <td>furniture/equipment</td>\n",
       "    </tr>\n",
       "    <tr>\n",
       "      <th>4</th>\n",
       "      <td>53</td>\n",
       "      <td>male</td>\n",
       "      <td>2</td>\n",
       "      <td>free</td>\n",
       "      <td>little</td>\n",
       "      <td>little</td>\n",
       "      <td>4870</td>\n",
       "      <td>24</td>\n",
       "      <td>car</td>\n",
       "    </tr>\n",
       "  </tbody>\n",
       "</table>\n",
       "</div>"
      ],
      "text/plain": [
       "   Age     Sex  Job Housing Saving accounts Checking account  Credit amount  \\\n",
       "0   67    male    2     own             NaN           little           1169   \n",
       "1   22  female    2     own          little         moderate           5951   \n",
       "2   49    male    1     own          little              NaN           2096   \n",
       "3   45    male    2    free          little           little           7882   \n",
       "4   53    male    2    free          little           little           4870   \n",
       "\n",
       "   Duration              Purpose  \n",
       "0         6             radio/TV  \n",
       "1        48             radio/TV  \n",
       "2        12            education  \n",
       "3        42  furniture/equipment  \n",
       "4        24                  car  "
      ]
     },
     "execution_count": 4,
     "metadata": {},
     "output_type": "execute_result"
    }
   ],
   "source": [
    "df.head()"
   ]
  },
  {
   "cell_type": "code",
   "execution_count": 5,
   "metadata": {
    "ExecuteTime": {
     "end_time": "2023-04-08T10:54:33.261164Z",
     "start_time": "2023-04-08T10:54:33.252927Z"
    }
   },
   "outputs": [
    {
     "data": {
      "text/plain": [
       "0      1\n",
       "1      0\n",
       "2      1\n",
       "3      1\n",
       "4      0\n",
       "      ..\n",
       "895    1\n",
       "896    1\n",
       "897    1\n",
       "898    1\n",
       "899    0\n",
       "Name: Risk, Length: 900, dtype: int64"
      ]
     },
     "execution_count": 5,
     "metadata": {},
     "output_type": "execute_result"
    }
   ],
   "source": [
    "y"
   ]
  },
  {
   "cell_type": "markdown",
   "metadata": {},
   "source": [
    "# Краткий анализ имеющихся данных"
   ]
  },
  {
   "cell_type": "markdown",
   "metadata": {},
   "source": [
    "###### Баланс классов"
   ]
  },
  {
   "cell_type": "code",
   "execution_count": 6,
   "metadata": {
    "ExecuteTime": {
     "end_time": "2023-04-08T10:57:22.637639Z",
     "start_time": "2023-04-08T10:57:22.616716Z"
    }
   },
   "outputs": [
    {
     "data": {
      "text/plain": [
       "1    0.702222\n",
       "0    0.297778\n",
       "Name: Risk, dtype: float64"
      ]
     },
     "execution_count": 6,
     "metadata": {},
     "output_type": "execute_result"
    }
   ],
   "source": [
    "y.value_counts(normalize=True)"
   ]
  },
  {
   "cell_type": "markdown",
   "metadata": {},
   "source": [
    "###### Проверка пропусков"
   ]
  },
  {
   "cell_type": "code",
   "execution_count": 7,
   "metadata": {
    "ExecuteTime": {
     "end_time": "2023-04-08T10:58:27.459134Z",
     "start_time": "2023-04-08T10:58:27.444168Z"
    }
   },
   "outputs": [
    {
     "data": {
      "text/plain": [
       "Age                   0\n",
       "Sex                   0\n",
       "Job                   0\n",
       "Housing               0\n",
       "Saving accounts     163\n",
       "Checking account    356\n",
       "Credit amount         0\n",
       "Duration              0\n",
       "Purpose               0\n",
       "dtype: int64"
      ]
     },
     "execution_count": 7,
     "metadata": {},
     "output_type": "execute_result"
    }
   ],
   "source": [
    "pd.isnull(df).sum()"
   ]
  },
  {
   "cell_type": "markdown",
   "metadata": {},
   "source": [
    "###### Проверка типов данных"
   ]
  },
  {
   "cell_type": "code",
   "execution_count": 8,
   "metadata": {
    "ExecuteTime": {
     "end_time": "2023-04-08T10:58:44.496788Z",
     "start_time": "2023-04-08T10:58:44.486715Z"
    }
   },
   "outputs": [
    {
     "data": {
      "text/plain": [
       "Age                  int64\n",
       "Sex                 object\n",
       "Job                  int64\n",
       "Housing             object\n",
       "Saving accounts     object\n",
       "Checking account    object\n",
       "Credit amount        int64\n",
       "Duration             int64\n",
       "Purpose             object\n",
       "dtype: object"
      ]
     },
     "execution_count": 8,
     "metadata": {},
     "output_type": "execute_result"
    }
   ],
   "source": [
    "df.dtypes"
   ]
  },
  {
   "cell_type": "markdown",
   "metadata": {},
   "source": [
    "###### Проверка количества уникальных"
   ]
  },
  {
   "cell_type": "code",
   "execution_count": 9,
   "metadata": {
    "ExecuteTime": {
     "end_time": "2023-04-08T10:59:08.384460Z",
     "start_time": "2023-04-08T10:59:08.363083Z"
    }
   },
   "outputs": [
    {
     "data": {
      "text/plain": [
       "Age                  53\n",
       "Sex                   2\n",
       "Job                   4\n",
       "Housing               3\n",
       "Saving accounts       4\n",
       "Checking account      3\n",
       "Credit amount       837\n",
       "Duration             33\n",
       "Purpose               8\n",
       "dtype: int64"
      ]
     },
     "execution_count": 9,
     "metadata": {},
     "output_type": "execute_result"
    }
   ],
   "source": [
    "df.nunique()"
   ]
  },
  {
   "cell_type": "markdown",
   "metadata": {},
   "source": [
    "###### Просмотр некоторых фичей"
   ]
  },
  {
   "cell_type": "code",
   "execution_count": 12,
   "metadata": {
    "ExecuteTime": {
     "end_time": "2023-04-08T11:00:32.895738Z",
     "start_time": "2023-04-08T11:00:32.884255Z"
    }
   },
   "outputs": [
    {
     "data": {
      "text/plain": [
       "car                    0.335556\n",
       "radio/TV               0.274444\n",
       "furniture/equipment    0.181111\n",
       "business               0.098889\n",
       "education              0.062222\n",
       "repairs                0.022222\n",
       "domestic appliances    0.013333\n",
       "vacation/others        0.012222\n",
       "Name: Purpose, dtype: float64"
      ]
     },
     "execution_count": 12,
     "metadata": {},
     "output_type": "execute_result"
    }
   ],
   "source": [
    "df['Purpose'].value_counts(normalize=True)"
   ]
  },
  {
   "cell_type": "code",
   "execution_count": 11,
   "metadata": {
    "ExecuteTime": {
     "end_time": "2023-04-08T11:00:06.041588Z",
     "start_time": "2023-04-08T11:00:05.917932Z"
    }
   },
   "outputs": [
    {
     "data": {
      "text/plain": [
       "<AxesSubplot:>"
      ]
     },
     "execution_count": 11,
     "metadata": {},
     "output_type": "execute_result"
    },
    {
     "data": {
      "image/png": "[encoded data removed]",
      "text/plain": [
       "<Figure size 432x288 with 1 Axes>"
      ]
     },
     "metadata": {
      "needs_background": "light"
     },
     "output_type": "display_data"
    }
   ],
   "source": [
    "df['Housing'].hist()"
   ]
  },
  {
   "cell_type": "markdown",
   "metadata": {},
   "source": [
    "# Предобработка данных"
   ]
  },
  {
   "cell_type": "markdown",
   "metadata": {},
   "source": [
    "###### Map sex"
   ]
  },
  {
   "cell_type": "code",
   "execution_count": 13,
   "metadata": {
    "ExecuteTime": {
     "end_time": "2023-04-08T11:01:30.983902Z",
     "start_time": "2023-04-08T11:01:30.966822Z"
    }
   },
   "outputs": [],
   "source": [
    "df['Sex'] = df['Sex'].map({'male': 1, 'female': 0})"
   ]
  },
  {
   "cell_type": "markdown",
   "metadata": {},
   "source": [
    "###### Заполнение пропусков"
   ]
  },
  {
   "cell_type": "code",
   "execution_count": 14,
   "metadata": {
    "ExecuteTime": {
     "end_time": "2023-04-08T11:02:13.385309Z",
     "start_time": "2023-04-08T11:02:13.378609Z"
    }
   },
   "outputs": [],
   "source": [
    "df['Saving accounts'] = df['Saving accounts'].fillna('Unknown')\n",
    "df['Checking account'] = df['Checking account'].fillna('Unknown')"
   ]
  },
  {
   "cell_type": "markdown",
   "metadata": {},
   "source": [
    "###### Проверка заполнения пропусков"
   ]
  },
  {
   "cell_type": "code",
   "execution_count": 15,
   "metadata": {
    "ExecuteTime": {
     "end_time": "2023-04-08T11:02:17.119587Z",
     "start_time": "2023-04-08T11:02:17.107293Z"
    }
   },
   "outputs": [
    {
     "data": {
      "text/plain": [
       "Age                 0\n",
       "Sex                 0\n",
       "Job                 0\n",
       "Housing             0\n",
       "Saving accounts     0\n",
       "Checking account    0\n",
       "Credit amount       0\n",
       "Duration            0\n",
       "Purpose             0\n",
       "dtype: int64"
      ]
     },
     "execution_count": 15,
     "metadata": {},
     "output_type": "execute_result"
    }
   ],
   "source": [
    "pd.isnull(df).sum()"
   ]
  },
  {
   "cell_type": "markdown",
   "metadata": {},
   "source": [
    "### Кодирование Категориальных признаков"
   ]
  },
  {
   "cell_type": "markdown",
   "metadata": {},
   "source": [
    "###### Выбор категориальных и количественных признаков"
   ]
  },
  {
   "cell_type": "code",
   "execution_count": 17,
   "metadata": {
    "ExecuteTime": {
     "end_time": "2023-04-08T11:03:40.368157Z",
     "start_time": "2023-04-08T11:03:40.348002Z"
    }
   },
   "outputs": [
    {
     "data": {
      "text/html": [
       "<div>\n",
       "<style scoped>\n",
       "    .dataframe tbody tr th:only-of-type {\n",
       "        vertical-align: middle;\n",
       "    }\n",
       "\n",
       "    .dataframe tbody tr th {\n",
       "        vertical-align: top;\n",
       "    }\n",
       "\n",
       "    .dataframe thead th {\n",
       "        text-align: right;\n",
       "    }\n",
       "</style>\n",
       "<table border=\"1\" class=\"dataframe\">\n",
       "  <thead>\n",
       "    <tr style=\"text-align: right;\">\n",
       "      <th></th>\n",
       "      <th>Age</th>\n",
       "      <th>Sex</th>\n",
       "      <th>Job</th>\n",
       "      <th>Housing</th>\n",
       "      <th>Saving accounts</th>\n",
       "      <th>Checking account</th>\n",
       "      <th>Credit amount</th>\n",
       "      <th>Duration</th>\n",
       "      <th>Purpose</th>\n",
       "    </tr>\n",
       "  </thead>\n",
       "  <tbody>\n",
       "    <tr>\n",
       "      <th>0</th>\n",
       "      <td>67</td>\n",
       "      <td>1</td>\n",
       "      <td>2</td>\n",
       "      <td>own</td>\n",
       "      <td>Unknown</td>\n",
       "      <td>little</td>\n",
       "      <td>1169</td>\n",
       "      <td>6</td>\n",
       "      <td>radio/TV</td>\n",
       "    </tr>\n",
       "    <tr>\n",
       "      <th>1</th>\n",
       "      <td>22</td>\n",
       "      <td>0</td>\n",
       "      <td>2</td>\n",
       "      <td>own</td>\n",
       "      <td>little</td>\n",
       "      <td>moderate</td>\n",
       "      <td>5951</td>\n",
       "      <td>48</td>\n",
       "      <td>radio/TV</td>\n",
       "    </tr>\n",
       "    <tr>\n",
       "      <th>2</th>\n",
       "      <td>49</td>\n",
       "      <td>1</td>\n",
       "      <td>1</td>\n",
       "      <td>own</td>\n",
       "      <td>little</td>\n",
       "      <td>Unknown</td>\n",
       "      <td>2096</td>\n",
       "      <td>12</td>\n",
       "      <td>education</td>\n",
       "    </tr>\n",
       "    <tr>\n",
       "      <th>3</th>\n",
       "      <td>45</td>\n",
       "      <td>1</td>\n",
       "      <td>2</td>\n",
       "      <td>free</td>\n",
       "      <td>little</td>\n",
       "      <td>little</td>\n",
       "      <td>7882</td>\n",
       "      <td>42</td>\n",
       "      <td>furniture/equipment</td>\n",
       "    </tr>\n",
       "    <tr>\n",
       "      <th>4</th>\n",
       "      <td>53</td>\n",
       "      <td>1</td>\n",
       "      <td>2</td>\n",
       "      <td>free</td>\n",
       "      <td>little</td>\n",
       "      <td>little</td>\n",
       "      <td>4870</td>\n",
       "      <td>24</td>\n",
       "      <td>car</td>\n",
       "    </tr>\n",
       "  </tbody>\n",
       "</table>\n",
       "</div>"
      ],
      "text/plain": [
       "   Age  Sex  Job Housing Saving accounts Checking account  Credit amount  \\\n",
       "0   67    1    2     own         Unknown           little           1169   \n",
       "1   22    0    2     own          little         moderate           5951   \n",
       "2   49    1    1     own          little          Unknown           2096   \n",
       "3   45    1    2    free          little           little           7882   \n",
       "4   53    1    2    free          little           little           4870   \n",
       "\n",
       "   Duration              Purpose  \n",
       "0         6             radio/TV  \n",
       "1        48             radio/TV  \n",
       "2        12            education  \n",
       "3        42  furniture/equipment  \n",
       "4        24                  car  "
      ]
     },
     "execution_count": 17,
     "metadata": {},
     "output_type": "execute_result"
    }
   ],
   "source": [
    "df.head()"
   ]
  },
  {
   "cell_type": "code",
   "execution_count": 18,
   "metadata": {
    "ExecuteTime": {
     "end_time": "2023-04-08T11:03:41.105730Z",
     "start_time": "2023-04-08T11:03:41.101794Z"
    }
   },
   "outputs": [],
   "source": [
    "num = ['Sex', 'Age', 'Credit amount', 'Duration']\n",
    "cat = ['Job', 'Housing', 'Saving accounts', 'Checking account', 'Purpose']\n",
    "target = 'Risk'"
   ]
  },
  {
   "cell_type": "code",
   "execution_count": 19,
   "metadata": {
    "ExecuteTime": {
     "end_time": "2023-04-08T11:03:43.268698Z",
     "start_time": "2023-04-08T11:03:43.265505Z"
    }
   },
   "outputs": [],
   "source": [
    "# pip install category_encoders"
   ]
  },
  {
   "cell_type": "code",
   "execution_count": 20,
   "metadata": {
    "ExecuteTime": {
     "end_time": "2023-04-08T11:03:43.737485Z",
     "start_time": "2023-04-08T11:03:43.732683Z"
    }
   },
   "outputs": [],
   "source": [
    "from category_encoders import OneHotEncoder\n",
    "ohe = OneHotEncoder(cols=cat)"
   ]
  },
  {
   "cell_type": "code",
   "execution_count": 21,
   "metadata": {
    "ExecuteTime": {
     "end_time": "2023-04-08T11:03:44.886843Z",
     "start_time": "2023-04-08T11:03:44.832831Z"
    }
   },
   "outputs": [],
   "source": [
    "df = ohe.fit_transform(df)"
   ]
  },
  {
   "cell_type": "code",
   "execution_count": 22,
   "metadata": {
    "ExecuteTime": {
     "end_time": "2023-04-08T11:03:45.799089Z",
     "start_time": "2023-04-08T11:03:45.772710Z"
    }
   },
   "outputs": [
    {
     "data": {
      "text/html": [
       "<div>\n",
       "<style scoped>\n",
       "    .dataframe tbody tr th:only-of-type {\n",
       "        vertical-align: middle;\n",
       "    }\n",
       "\n",
       "    .dataframe tbody tr th {\n",
       "        vertical-align: top;\n",
       "    }\n",
       "\n",
       "    .dataframe thead th {\n",
       "        text-align: right;\n",
       "    }\n",
       "</style>\n",
       "<table border=\"1\" class=\"dataframe\">\n",
       "  <thead>\n",
       "    <tr style=\"text-align: right;\">\n",
       "      <th></th>\n",
       "      <th>Age</th>\n",
       "      <th>Sex</th>\n",
       "      <th>Job_1</th>\n",
       "      <th>Job_2</th>\n",
       "      <th>Job_3</th>\n",
       "      <th>Job_4</th>\n",
       "      <th>Housing_1</th>\n",
       "      <th>Housing_2</th>\n",
       "      <th>Housing_3</th>\n",
       "      <th>Saving accounts_1</th>\n",
       "      <th>...</th>\n",
       "      <th>Credit amount</th>\n",
       "      <th>Duration</th>\n",
       "      <th>Purpose_1</th>\n",
       "      <th>Purpose_2</th>\n",
       "      <th>Purpose_3</th>\n",
       "      <th>Purpose_4</th>\n",
       "      <th>Purpose_5</th>\n",
       "      <th>Purpose_6</th>\n",
       "      <th>Purpose_7</th>\n",
       "      <th>Purpose_8</th>\n",
       "    </tr>\n",
       "  </thead>\n",
       "  <tbody>\n",
       "    <tr>\n",
       "      <th>0</th>\n",
       "      <td>67</td>\n",
       "      <td>1</td>\n",
       "      <td>1</td>\n",
       "      <td>0</td>\n",
       "      <td>0</td>\n",
       "      <td>0</td>\n",
       "      <td>1</td>\n",
       "      <td>0</td>\n",
       "      <td>0</td>\n",
       "      <td>1</td>\n",
       "      <td>...</td>\n",
       "      <td>1169</td>\n",
       "      <td>6</td>\n",
       "      <td>1</td>\n",
       "      <td>0</td>\n",
       "      <td>0</td>\n",
       "      <td>0</td>\n",
       "      <td>0</td>\n",
       "      <td>0</td>\n",
       "      <td>0</td>\n",
       "      <td>0</td>\n",
       "    </tr>\n",
       "    <tr>\n",
       "      <th>1</th>\n",
       "      <td>22</td>\n",
       "      <td>0</td>\n",
       "      <td>1</td>\n",
       "      <td>0</td>\n",
       "      <td>0</td>\n",
       "      <td>0</td>\n",
       "      <td>1</td>\n",
       "      <td>0</td>\n",
       "      <td>0</td>\n",
       "      <td>0</td>\n",
       "      <td>...</td>\n",
       "      <td>5951</td>\n",
       "      <td>48</td>\n",
       "      <td>1</td>\n",
       "      <td>0</td>\n",
       "      <td>0</td>\n",
       "      <td>0</td>\n",
       "      <td>0</td>\n",
       "      <td>0</td>\n",
       "      <td>0</td>\n",
       "      <td>0</td>\n",
       "    </tr>\n",
       "    <tr>\n",
       "      <th>2</th>\n",
       "      <td>49</td>\n",
       "      <td>1</td>\n",
       "      <td>0</td>\n",
       "      <td>1</td>\n",
       "      <td>0</td>\n",
       "      <td>0</td>\n",
       "      <td>1</td>\n",
       "      <td>0</td>\n",
       "      <td>0</td>\n",
       "      <td>0</td>\n",
       "      <td>...</td>\n",
       "      <td>2096</td>\n",
       "      <td>12</td>\n",
       "      <td>0</td>\n",
       "      <td>1</td>\n",
       "      <td>0</td>\n",
       "      <td>0</td>\n",
       "      <td>0</td>\n",
       "      <td>0</td>\n",
       "      <td>0</td>\n",
       "      <td>0</td>\n",
       "    </tr>\n",
       "    <tr>\n",
       "      <th>3</th>\n",
       "      <td>45</td>\n",
       "      <td>1</td>\n",
       "      <td>1</td>\n",
       "      <td>0</td>\n",
       "      <td>0</td>\n",
       "      <td>0</td>\n",
       "      <td>0</td>\n",
       "      <td>1</td>\n",
       "      <td>0</td>\n",
       "      <td>0</td>\n",
       "      <td>...</td>\n",
       "      <td>7882</td>\n",
       "      <td>42</td>\n",
       "      <td>0</td>\n",
       "      <td>0</td>\n",
       "      <td>1</td>\n",
       "      <td>0</td>\n",
       "      <td>0</td>\n",
       "      <td>0</td>\n",
       "      <td>0</td>\n",
       "      <td>0</td>\n",
       "    </tr>\n",
       "    <tr>\n",
       "      <th>4</th>\n",
       "      <td>53</td>\n",
       "      <td>1</td>\n",
       "      <td>1</td>\n",
       "      <td>0</td>\n",
       "      <td>0</td>\n",
       "      <td>0</td>\n",
       "      <td>0</td>\n",
       "      <td>1</td>\n",
       "      <td>0</td>\n",
       "      <td>0</td>\n",
       "      <td>...</td>\n",
       "      <td>4870</td>\n",
       "      <td>24</td>\n",
       "      <td>0</td>\n",
       "      <td>0</td>\n",
       "      <td>0</td>\n",
       "      <td>1</td>\n",
       "      <td>0</td>\n",
       "      <td>0</td>\n",
       "      <td>0</td>\n",
       "      <td>0</td>\n",
       "    </tr>\n",
       "    <tr>\n",
       "      <th>...</th>\n",
       "      <td>...</td>\n",
       "      <td>...</td>\n",
       "      <td>...</td>\n",
       "      <td>...</td>\n",
       "      <td>...</td>\n",
       "      <td>...</td>\n",
       "      <td>...</td>\n",
       "      <td>...</td>\n",
       "      <td>...</td>\n",
       "      <td>...</td>\n",
       "      <td>...</td>\n",
       "      <td>...</td>\n",
       "      <td>...</td>\n",
       "      <td>...</td>\n",
       "      <td>...</td>\n",
       "      <td>...</td>\n",
       "      <td>...</td>\n",
       "      <td>...</td>\n",
       "      <td>...</td>\n",
       "      <td>...</td>\n",
       "      <td>...</td>\n",
       "    </tr>\n",
       "    <tr>\n",
       "      <th>895</th>\n",
       "      <td>31</td>\n",
       "      <td>1</td>\n",
       "      <td>0</td>\n",
       "      <td>0</td>\n",
       "      <td>1</td>\n",
       "      <td>0</td>\n",
       "      <td>1</td>\n",
       "      <td>0</td>\n",
       "      <td>0</td>\n",
       "      <td>1</td>\n",
       "      <td>...</td>\n",
       "      <td>8947</td>\n",
       "      <td>36</td>\n",
       "      <td>0</td>\n",
       "      <td>0</td>\n",
       "      <td>0</td>\n",
       "      <td>1</td>\n",
       "      <td>0</td>\n",
       "      <td>0</td>\n",
       "      <td>0</td>\n",
       "      <td>0</td>\n",
       "    </tr>\n",
       "    <tr>\n",
       "      <th>896</th>\n",
       "      <td>28</td>\n",
       "      <td>0</td>\n",
       "      <td>0</td>\n",
       "      <td>0</td>\n",
       "      <td>1</td>\n",
       "      <td>0</td>\n",
       "      <td>0</td>\n",
       "      <td>0</td>\n",
       "      <td>1</td>\n",
       "      <td>0</td>\n",
       "      <td>...</td>\n",
       "      <td>2606</td>\n",
       "      <td>21</td>\n",
       "      <td>1</td>\n",
       "      <td>0</td>\n",
       "      <td>0</td>\n",
       "      <td>0</td>\n",
       "      <td>0</td>\n",
       "      <td>0</td>\n",
       "      <td>0</td>\n",
       "      <td>0</td>\n",
       "    </tr>\n",
       "    <tr>\n",
       "      <th>897</th>\n",
       "      <td>35</td>\n",
       "      <td>0</td>\n",
       "      <td>1</td>\n",
       "      <td>0</td>\n",
       "      <td>0</td>\n",
       "      <td>0</td>\n",
       "      <td>1</td>\n",
       "      <td>0</td>\n",
       "      <td>0</td>\n",
       "      <td>0</td>\n",
       "      <td>...</td>\n",
       "      <td>1592</td>\n",
       "      <td>12</td>\n",
       "      <td>0</td>\n",
       "      <td>0</td>\n",
       "      <td>1</td>\n",
       "      <td>0</td>\n",
       "      <td>0</td>\n",
       "      <td>0</td>\n",
       "      <td>0</td>\n",
       "      <td>0</td>\n",
       "    </tr>\n",
       "    <tr>\n",
       "      <th>898</th>\n",
       "      <td>33</td>\n",
       "      <td>0</td>\n",
       "      <td>0</td>\n",
       "      <td>1</td>\n",
       "      <td>0</td>\n",
       "      <td>0</td>\n",
       "      <td>0</td>\n",
       "      <td>0</td>\n",
       "      <td>1</td>\n",
       "      <td>1</td>\n",
       "      <td>...</td>\n",
       "      <td>2186</td>\n",
       "      <td>15</td>\n",
       "      <td>0</td>\n",
       "      <td>0</td>\n",
       "      <td>1</td>\n",
       "      <td>0</td>\n",
       "      <td>0</td>\n",
       "      <td>0</td>\n",
       "      <td>0</td>\n",
       "      <td>0</td>\n",
       "    </tr>\n",
       "    <tr>\n",
       "      <th>899</th>\n",
       "      <td>42</td>\n",
       "      <td>1</td>\n",
       "      <td>1</td>\n",
       "      <td>0</td>\n",
       "      <td>0</td>\n",
       "      <td>0</td>\n",
       "      <td>1</td>\n",
       "      <td>0</td>\n",
       "      <td>0</td>\n",
       "      <td>0</td>\n",
       "      <td>...</td>\n",
       "      <td>4153</td>\n",
       "      <td>18</td>\n",
       "      <td>0</td>\n",
       "      <td>0</td>\n",
       "      <td>1</td>\n",
       "      <td>0</td>\n",
       "      <td>0</td>\n",
       "      <td>0</td>\n",
       "      <td>0</td>\n",
       "      <td>0</td>\n",
       "    </tr>\n",
       "  </tbody>\n",
       "</table>\n",
       "<p>900 rows × 28 columns</p>\n",
       "</div>"
      ],
      "text/plain": [
       "     Age  Sex  Job_1  Job_2  Job_3  Job_4  Housing_1  Housing_2  Housing_3  \\\n",
       "0     67    1      1      0      0      0          1          0          0   \n",
       "1     22    0      1      0      0      0          1          0          0   \n",
       "2     49    1      0      1      0      0          1          0          0   \n",
       "3     45    1      1      0      0      0          0          1          0   \n",
       "4     53    1      1      0      0      0          0          1          0   \n",
       "..   ...  ...    ...    ...    ...    ...        ...        ...        ...   \n",
       "895   31    1      0      0      1      0          1          0          0   \n",
       "896   28    0      0      0      1      0          0          0          1   \n",
       "897   35    0      1      0      0      0          1          0          0   \n",
       "898   33    0      0      1      0      0          0          0          1   \n",
       "899   42    1      1      0      0      0          1          0          0   \n",
       "\n",
       "     Saving accounts_1  ...  Credit amount  Duration  Purpose_1  Purpose_2  \\\n",
       "0                    1  ...           1169         6          1          0   \n",
       "1                    0  ...           5951        48          1          0   \n",
       "2                    0  ...           2096        12          0          1   \n",
       "3                    0  ...           7882        42          0          0   \n",
       "4                    0  ...           4870        24          0          0   \n",
       "..                 ...  ...            ...       ...        ...        ...   \n",
       "895                  1  ...           8947        36          0          0   \n",
       "896                  0  ...           2606        21          1          0   \n",
       "897                  0  ...           1592        12          0          0   \n",
       "898                  1  ...           2186        15          0          0   \n",
       "899                  0  ...           4153        18          0          0   \n",
       "\n",
       "     Purpose_3  Purpose_4  Purpose_5  Purpose_6  Purpose_7  Purpose_8  \n",
       "0            0          0          0          0          0          0  \n",
       "1            0          0          0          0          0          0  \n",
       "2            0          0          0          0          0          0  \n",
       "3            1          0          0          0          0          0  \n",
       "4            0          1          0          0          0          0  \n",
       "..         ...        ...        ...        ...        ...        ...  \n",
       "895          0          1          0          0          0          0  \n",
       "896          0          0          0          0          0          0  \n",
       "897          1          0          0          0          0          0  \n",
       "898          1          0          0          0          0          0  \n",
       "899          1          0          0          0          0          0  \n",
       "\n",
       "[900 rows x 28 columns]"
      ]
     },
     "execution_count": 22,
     "metadata": {},
     "output_type": "execute_result"
    }
   ],
   "source": [
    "df"
   ]
  },
  {
   "cell_type": "markdown",
   "metadata": {},
   "source": [
    "# Генерация признаков"
   ]
  },
  {
   "cell_type": "markdown",
   "metadata": {},
   "source": [
    "###### Полиномиальные признаки"
   ]
  },
  {
   "cell_type": "code",
   "execution_count": 23,
   "metadata": {
    "ExecuteTime": {
     "end_time": "2023-04-08T11:05:35.560498Z",
     "start_time": "2023-04-08T11:05:35.523653Z"
    }
   },
   "outputs": [],
   "source": [
    "from sklearn.preprocessing import PolynomialFeatures\n",
    "pf = PolynomialFeatures(degree=2)"
   ]
  },
  {
   "cell_type": "code",
   "execution_count": 24,
   "metadata": {
    "ExecuteTime": {
     "end_time": "2023-04-08T11:05:36.145933Z",
     "start_time": "2023-04-08T11:05:36.131368Z"
    }
   },
   "outputs": [],
   "source": [
    "df_p = pf.fit_transform(df)"
   ]
  },
  {
   "cell_type": "code",
   "execution_count": 25,
   "metadata": {
    "ExecuteTime": {
     "end_time": "2023-04-08T11:05:42.388301Z",
     "start_time": "2023-04-08T11:05:42.383068Z"
    }
   },
   "outputs": [
    {
     "data": {
      "text/plain": [
       "(900, 28)"
      ]
     },
     "execution_count": 25,
     "metadata": {},
     "output_type": "execute_result"
    }
   ],
   "source": [
    "df.shape"
   ]
  },
  {
   "cell_type": "code",
   "execution_count": 26,
   "metadata": {
    "ExecuteTime": {
     "end_time": "2023-04-08T11:05:54.680939Z",
     "start_time": "2023-04-08T11:05:54.674543Z"
    }
   },
   "outputs": [
    {
     "data": {
      "text/plain": [
       "(900, 435)"
      ]
     },
     "execution_count": 26,
     "metadata": {},
     "output_type": "execute_result"
    }
   ],
   "source": [
    "df_p.shape"
   ]
  },
  {
   "cell_type": "markdown",
   "metadata": {},
   "source": [
    "###### Построение новых признаков"
   ]
  },
  {
   "cell_type": "code",
   "execution_count": null,
   "metadata": {},
   "outputs": [],
   "source": [
    "df['feature_1'] = ... # Какая-то новая фича, которая повысит качество модели\n",
    "df['feature_2'] = ... # Какая-то новая фича, которая повысит качество модели\n",
    "...\n",
    "df['feature_n'] = ... # Какая-то новая фича, которая повысит качество модели"
   ]
  },
  {
   "cell_type": "code",
   "execution_count": 27,
   "metadata": {
    "ExecuteTime": {
     "end_time": "2023-04-08T11:08:02.614691Z",
     "start_time": "2023-04-08T11:08:02.544152Z"
    }
   },
   "outputs": [],
   "source": [
    "from sklearn.model_selection import train_test_split\n",
    "\n",
    "Xtr, Xval, ytr, yval = train_test_split(df, y, test_size=0.10, random_state=42)"
   ]
  },
  {
   "cell_type": "markdown",
   "metadata": {},
   "source": [
    "# Выбор модели и оптимизация"
   ]
  },
  {
   "cell_type": "markdown",
   "metadata": {},
   "source": [
    "###### Decision Tree Classifier"
   ]
  },
  {
   "cell_type": "code",
   "execution_count": 28,
   "metadata": {
    "ExecuteTime": {
     "end_time": "2023-04-08T11:09:09.600827Z",
     "start_time": "2023-04-08T11:09:09.213697Z"
    }
   },
   "outputs": [],
   "source": [
    "from sklearn.tree import DecisionTreeClassifier\n",
    "from sklearn.model_selection import StratifiedKFold, GridSearchCV"
   ]
  },
  {
   "cell_type": "code",
   "execution_count": 29,
   "metadata": {
    "ExecuteTime": {
     "end_time": "2023-04-08T11:17:21.013359Z",
     "start_time": "2023-04-08T11:17:21.003853Z"
    }
   },
   "outputs": [],
   "source": [
    "dtc = DecisionTreeClassifier(min_samples_split=4)\n",
    "params = {'min_samples_split': [3,4,5,6,7,8,9,10]}\n",
    "cv = StratifiedKFold(shuffle=True, n_splits=5)"
   ]
  },
  {
   "cell_type": "code",
   "execution_count": 30,
   "metadata": {
    "ExecuteTime": {
     "end_time": "2023-04-08T11:19:38.134206Z",
     "start_time": "2023-04-08T11:19:38.125209Z"
    }
   },
   "outputs": [],
   "source": [
    "GS_dtc = GridSearchCV(estimator=dtc, param_grid=params, cv=cv, scoring='roc_auc')"
   ]
  },
  {
   "cell_type": "code",
   "execution_count": 31,
   "metadata": {
    "ExecuteTime": {
     "end_time": "2023-04-08T11:20:10.953371Z",
     "start_time": "2023-04-08T11:20:10.708325Z"
    }
   },
   "outputs": [
    {
     "data": {
      "text/plain": [
       "GridSearchCV(cv=StratifiedKFold(n_splits=5, random_state=None, shuffle=True),\n",
       "             estimator=DecisionTreeClassifier(min_samples_split=4),\n",
       "             param_grid={'min_samples_split': [3, 4, 5, 6, 7, 8, 9, 10]},\n",
       "             scoring='roc_auc')"
      ]
     },
     "execution_count": 31,
     "metadata": {},
     "output_type": "execute_result"
    }
   ],
   "source": [
    "GS_dtc.fit(X=Xtr, y=ytr)"
   ]
  },
  {
   "cell_type": "code",
   "execution_count": 32,
   "metadata": {
    "ExecuteTime": {
     "end_time": "2023-04-08T11:20:21.195105Z",
     "start_time": "2023-04-08T11:20:21.187595Z"
    }
   },
   "outputs": [
    {
     "data": {
      "text/plain": [
       "0.6502409792126755"
      ]
     },
     "execution_count": 32,
     "metadata": {},
     "output_type": "execute_result"
    }
   ],
   "source": [
    "GS_dtc.best_score_"
   ]
  },
  {
   "cell_type": "code",
   "execution_count": 34,
   "metadata": {
    "ExecuteTime": {
     "end_time": "2023-04-08T11:21:18.099918Z",
     "start_time": "2023-04-08T11:21:18.093821Z"
    }
   },
   "outputs": [
    {
     "data": {
      "text/plain": [
       "{'min_samples_split': 10}"
      ]
     },
     "execution_count": 34,
     "metadata": {},
     "output_type": "execute_result"
    }
   ],
   "source": [
    "GS_dtc.best_params_"
   ]
  },
  {
   "cell_type": "markdown",
   "metadata": {},
   "source": [
    "###### Logistic Regression"
   ]
  },
  {
   "cell_type": "code",
   "execution_count": 35,
   "metadata": {
    "ExecuteTime": {
     "end_time": "2023-04-08T11:22:06.810298Z",
     "start_time": "2023-04-08T11:22:06.805447Z"
    }
   },
   "outputs": [],
   "source": [
    "from sklearn.linear_model import LogisticRegression"
   ]
  },
  {
   "cell_type": "code",
   "execution_count": 36,
   "metadata": {
    "ExecuteTime": {
     "end_time": "2023-04-08T11:22:35.321550Z",
     "start_time": "2023-04-08T11:22:35.308794Z"
    }
   },
   "outputs": [],
   "source": [
    "model = LogisticRegression()\n",
    "params = {'C': np.logspace(-7, 0, 20)}\n",
    "GS_LR = GridSearchCV(estimator=model, param_grid=params, cv=cv, scoring='roc_auc')"
   ]
  },
  {
   "cell_type": "code",
   "execution_count": 37,
   "metadata": {
    "ExecuteTime": {
     "end_time": "2023-04-08T11:22:39.091727Z",
     "start_time": "2023-04-08T11:22:36.547418Z"
    }
   },
   "outputs": [
    {
     "data": {
      "text/plain": [
       "GridSearchCV(cv=StratifiedKFold(n_splits=5, random_state=None, shuffle=True),\n",
       "             estimator=LogisticRegression(),\n",
       "             param_grid={'C': array([1.00000000e-07, 2.33572147e-07, 5.45559478e-07, 1.27427499e-06,\n",
       "       2.97635144e-06, 6.95192796e-06, 1.62377674e-05, 3.79269019e-05,\n",
       "       8.85866790e-05, 2.06913808e-04, 4.83293024e-04, 1.12883789e-03,\n",
       "       2.63665090e-03, 6.15848211e-03, 1.43844989e-02, 3.35981829e-02,\n",
       "       7.84759970e-02, 1.83298071e-01, 4.28133240e-01, 1.00000000e+00])},\n",
       "             scoring='roc_auc')"
      ]
     },
     "execution_count": 37,
     "metadata": {},
     "output_type": "execute_result"
    }
   ],
   "source": [
    "GS_LR.fit(X=Xtr, y=ytr)"
   ]
  },
  {
   "cell_type": "code",
   "execution_count": 38,
   "metadata": {
    "ExecuteTime": {
     "end_time": "2023-04-08T11:22:45.676595Z",
     "start_time": "2023-04-08T11:22:45.669386Z"
    }
   },
   "outputs": [
    {
     "data": {
      "text/plain": [
       "{'C': 1.0}"
      ]
     },
     "execution_count": 38,
     "metadata": {},
     "output_type": "execute_result"
    }
   ],
   "source": [
    "# Лучшая модель при параметре \"C\"\n",
    "GS_LR.best_params_"
   ]
  },
  {
   "cell_type": "code",
   "execution_count": 39,
   "metadata": {
    "ExecuteTime": {
     "end_time": "2023-04-08T11:22:52.288084Z",
     "start_time": "2023-04-08T11:22:52.281329Z"
    }
   },
   "outputs": [
    {
     "data": {
      "text/plain": [
       "0.7554004783872872"
      ]
     },
     "execution_count": 39,
     "metadata": {},
     "output_type": "execute_result"
    }
   ],
   "source": [
    "# Лучший показатель ROC_AUC\n",
    "GS_LR.best_score_"
   ]
  },
  {
   "cell_type": "code",
   "execution_count": 40,
   "metadata": {
    "ExecuteTime": {
     "end_time": "2023-04-08T11:23:06.630768Z",
     "start_time": "2023-04-08T11:23:06.624710Z"
    }
   },
   "outputs": [
    {
     "data": {
      "text/plain": [
       "array([[ 2.81191074e-02,  3.10953532e-01,  2.38647166e-01,\n",
       "         2.70574853e-04, -8.48397160e-02, -1.44564922e-02,\n",
       "         4.12737758e-01, -1.84006943e-01, -8.91092818e-02,\n",
       "         2.49575845e-01, -3.84309757e-01,  1.52543050e-01,\n",
       "         9.90754732e-02,  2.27369211e-02, -6.49870231e-01,\n",
       "        -2.58431384e-01,  9.94469788e-01,  5.34533600e-02,\n",
       "         1.26137372e-05, -3.62839571e-02,  3.24781981e-01,\n",
       "        -9.49283557e-02,  1.79527110e-02, -1.07004097e-01,\n",
       "         1.28292267e-02,  4.77716982e-03, -2.06231330e-02,\n",
       "         1.83603010e-03]])"
      ]
     },
     "execution_count": 40,
     "metadata": {},
     "output_type": "execute_result"
    }
   ],
   "source": [
    "GS_LR.best_estimator_.coef_"
   ]
  },
  {
   "cell_type": "code",
   "execution_count": 41,
   "metadata": {
    "ExecuteTime": {
     "end_time": "2023-04-08T11:23:49.916680Z",
     "start_time": "2023-04-08T11:23:49.810970Z"
    }
   },
   "outputs": [
    {
     "data": {
      "image/png": "[encoded data removed]",
      "text/plain": [
       "<Figure size 432x288 with 1 Axes>"
      ]
     },
     "metadata": {
      "needs_background": "light"
     },
     "output_type": "display_data"
    }
   ],
   "source": [
    "means = GS_LR.cv_results_['mean_test_score']\n",
    "stds = GS_LR.cv_results_['std_test_score']\n",
    "error = 1.95 * stds\n",
    "plt.plot(params['C'], means, color = 'blue')\n",
    "plt.plot(params['C'], means - error, color = 'green')\n",
    "plt.plot(params['C'], means + error, color = 'green')\n",
    "plt.fill_between(params['C'], means - error, means + error, color = 'green')\n",
    "plt.xlabel('C')\n",
    "plt.ylabel('Average quality')\n",
    "plt.title('Average quality for LR model')\n",
    "plt.show()"
   ]
  },
  {
   "cell_type": "markdown",
   "metadata": {},
   "source": [
    "###### kNN"
   ]
  },
  {
   "cell_type": "code",
   "execution_count": 42,
   "metadata": {
    "ExecuteTime": {
     "end_time": "2023-04-08T11:24:13.257512Z",
     "start_time": "2023-04-08T11:24:13.253597Z"
    }
   },
   "outputs": [],
   "source": [
    "from sklearn.neighbors import KNeighborsClassifier"
   ]
  },
  {
   "cell_type": "code",
   "execution_count": 53,
   "metadata": {
    "ExecuteTime": {
     "end_time": "2023-04-08T11:30:33.743271Z",
     "start_time": "2023-04-08T11:30:33.737733Z"
    }
   },
   "outputs": [],
   "source": [
    "model = KNeighborsClassifier()\n",
    "params = {'n_neighbors': range(1,100, 5)}\n",
    "cv = StratifiedKFold(shuffle=True, n_splits=5)\n",
    "GS_kNN = GridSearchCV(estimator=model, param_grid=params, cv=cv, scoring='roc_auc')"
   ]
  },
  {
   "cell_type": "code",
   "execution_count": 54,
   "metadata": {
    "ExecuteTime": {
     "end_time": "2023-04-08T11:30:34.876717Z",
     "start_time": "2023-04-08T11:30:34.249772Z"
    }
   },
   "outputs": [
    {
     "data": {
      "text/plain": [
       "GridSearchCV(cv=StratifiedKFold(n_splits=5, random_state=None, shuffle=True),\n",
       "             estimator=KNeighborsClassifier(),\n",
       "             param_grid={'n_neighbors': range(1, 100, 5)}, scoring='roc_auc')"
      ]
     },
     "execution_count": 54,
     "metadata": {},
     "output_type": "execute_result"
    }
   ],
   "source": [
    "GS_kNN.fit(X=Xtr, y=ytr)"
   ]
  },
  {
   "cell_type": "code",
   "execution_count": 55,
   "metadata": {
    "ExecuteTime": {
     "end_time": "2023-04-08T11:30:35.502336Z",
     "start_time": "2023-04-08T11:30:35.494630Z"
    }
   },
   "outputs": [
    {
     "data": {
      "text/plain": [
       "{'n_neighbors': 66}"
      ]
     },
     "execution_count": 55,
     "metadata": {},
     "output_type": "execute_result"
    }
   ],
   "source": [
    "# Лучший параметр 'n_neighbors'\n",
    "GS_kNN.best_params_"
   ]
  },
  {
   "cell_type": "code",
   "execution_count": 56,
   "metadata": {
    "ExecuteTime": {
     "end_time": "2023-04-08T11:30:59.552082Z",
     "start_time": "2023-04-08T11:30:59.545922Z"
    }
   },
   "outputs": [
    {
     "data": {
      "text/plain": [
       "0.5781813493911769"
      ]
     },
     "execution_count": 56,
     "metadata": {},
     "output_type": "execute_result"
    }
   ],
   "source": [
    "# Лучший показатель ROC_AUC\n",
    "GS_kNN.best_score_"
   ]
  },
  {
   "cell_type": "code",
   "execution_count": 57,
   "metadata": {
    "ExecuteTime": {
     "end_time": "2023-04-08T11:31:02.440323Z",
     "start_time": "2023-04-08T11:31:02.349509Z"
    }
   },
   "outputs": [
    {
     "data": {
      "image/png": "[encoded data removed]",
      "text/plain": [
       "<Figure size 432x288 with 1 Axes>"
      ]
     },
     "metadata": {
      "needs_background": "light"
     },
     "output_type": "display_data"
    }
   ],
   "source": [
    "means = GS_kNN.cv_results_['mean_test_score']\n",
    "stds = GS_kNN.cv_results_['std_test_score']\n",
    "error = 1.95 * stds\n",
    "plt.plot(params['n_neighbors'], means, color = 'blue')\n",
    "plt.plot(params['n_neighbors'], means - error, color = 'green')\n",
    "plt.plot(params['n_neighbors'], means + error, color = 'green')\n",
    "plt.fill_between(params['n_neighbors'], means - error, means + error, color = 'green')\n",
    "plt.xlabel('n_neighbors')\n",
    "plt.ylabel('Average quality')\n",
    "plt.title('Average quality for kNN model')\n",
    "plt.show()"
   ]
  },
  {
   "cell_type": "markdown",
   "metadata": {},
   "source": [
    "# Нормировка данных"
   ]
  },
  {
   "cell_type": "markdown",
   "metadata": {},
   "source": [
    "Нормируем данные и проверяем качество"
   ]
  },
  {
   "cell_type": "code",
   "execution_count": 60,
   "metadata": {
    "ExecuteTime": {
     "end_time": "2023-04-08T11:32:42.392307Z",
     "start_time": "2023-04-08T11:32:42.386117Z"
    }
   },
   "outputs": [],
   "source": [
    "from sklearn.preprocessing import StandardScaler"
   ]
  },
  {
   "cell_type": "code",
   "execution_count": 61,
   "metadata": {
    "ExecuteTime": {
     "end_time": "2023-04-08T11:35:15.625520Z",
     "start_time": "2023-04-08T11:35:15.596392Z"
    }
   },
   "outputs": [],
   "source": [
    "ss = StandardScaler(with_mean=True, with_std=True)\n",
    "\n",
    "X_scaled = ss.fit_transform(Xtr)\n",
    "\n",
    "X_val_scaled = ss.transform(Xval)"
   ]
  },
  {
   "cell_type": "markdown",
   "metadata": {},
   "source": [
    "# Модели на нормированных данных"
   ]
  },
  {
   "cell_type": "markdown",
   "metadata": {},
   "source": [
    "###### Decision Tree Classifier"
   ]
  },
  {
   "cell_type": "code",
   "execution_count": 62,
   "metadata": {
    "ExecuteTime": {
     "end_time": "2023-04-08T11:35:33.178607Z",
     "start_time": "2023-04-08T11:35:33.173238Z"
    }
   },
   "outputs": [],
   "source": [
    "dtc = DecisionTreeClassifier()\n",
    "params = {'min_samples_split': [3,4,5,6,7,8,9,10]}\n",
    "cv = StratifiedKFold(shuffle=True, n_splits=5)"
   ]
  },
  {
   "cell_type": "code",
   "execution_count": 63,
   "metadata": {
    "ExecuteTime": {
     "end_time": "2023-04-08T11:35:34.422630Z",
     "start_time": "2023-04-08T11:35:34.415608Z"
    }
   },
   "outputs": [],
   "source": [
    "GS_dtc = GridSearchCV(estimator=dtc, param_grid=params, cv=cv, scoring='roc_auc')"
   ]
  },
  {
   "cell_type": "code",
   "execution_count": 64,
   "metadata": {
    "ExecuteTime": {
     "end_time": "2023-04-08T11:35:35.578048Z",
     "start_time": "2023-04-08T11:35:35.423794Z"
    }
   },
   "outputs": [
    {
     "data": {
      "text/plain": [
       "GridSearchCV(cv=StratifiedKFold(n_splits=5, random_state=None, shuffle=True),\n",
       "             estimator=DecisionTreeClassifier(),\n",
       "             param_grid={'min_samples_split': [3, 4, 5, 6, 7, 8, 9, 10]},\n",
       "             scoring='roc_auc')"
      ]
     },
     "execution_count": 64,
     "metadata": {},
     "output_type": "execute_result"
    }
   ],
   "source": [
    "# Заменяем df[train_cols] на X_scaled\n",
    "GS_dtc.fit(X=X_scaled, y=ytr)"
   ]
  },
  {
   "cell_type": "code",
   "execution_count": 65,
   "metadata": {
    "ExecuteTime": {
     "end_time": "2023-04-08T11:35:37.316046Z",
     "start_time": "2023-04-08T11:35:37.308744Z"
    }
   },
   "outputs": [
    {
     "data": {
      "text/plain": [
       "0.659145925681249"
      ]
     },
     "execution_count": 65,
     "metadata": {},
     "output_type": "execute_result"
    }
   ],
   "source": [
    "GS_dtc.best_score_"
   ]
  },
  {
   "cell_type": "markdown",
   "metadata": {},
   "source": [
    "Скор не большой, так как мы перебрали не все параметры"
   ]
  },
  {
   "cell_type": "markdown",
   "metadata": {},
   "source": [
    "Попробуйте факультативно попробовать поварьировать другие параметры и добиться лучшего ROC_AUC"
   ]
  },
  {
   "cell_type": "markdown",
   "metadata": {},
   "source": [
    "###### Logistic Regression"
   ]
  },
  {
   "cell_type": "code",
   "execution_count": 66,
   "metadata": {
    "ExecuteTime": {
     "end_time": "2023-04-08T11:37:53.780729Z",
     "start_time": "2023-04-08T11:37:53.770194Z"
    }
   },
   "outputs": [],
   "source": [
    "cv = StratifiedKFold(shuffle=True, n_splits=10)"
   ]
  },
  {
   "cell_type": "code",
   "execution_count": 67,
   "metadata": {
    "ExecuteTime": {
     "end_time": "2023-04-08T11:37:55.994556Z",
     "start_time": "2023-04-08T11:37:55.984332Z"
    }
   },
   "outputs": [],
   "source": [
    "model = LogisticRegression()\n",
    "params = {'C': np.logspace(-7, 0, 20)}\n",
    "GS_LR = GridSearchCV(estimator=model, param_grid=params, cv=cv, scoring='roc_auc')"
   ]
  },
  {
   "cell_type": "code",
   "execution_count": 68,
   "metadata": {
    "ExecuteTime": {
     "end_time": "2023-04-08T11:37:57.946746Z",
     "start_time": "2023-04-08T11:37:56.770640Z"
    }
   },
   "outputs": [
    {
     "data": {
      "text/plain": [
       "GridSearchCV(cv=StratifiedKFold(n_splits=10, random_state=None, shuffle=True),\n",
       "             estimator=LogisticRegression(),\n",
       "             param_grid={'C': array([1.00000000e-07, 2.33572147e-07, 5.45559478e-07, 1.27427499e-06,\n",
       "       2.97635144e-06, 6.95192796e-06, 1.62377674e-05, 3.79269019e-05,\n",
       "       8.85866790e-05, 2.06913808e-04, 4.83293024e-04, 1.12883789e-03,\n",
       "       2.63665090e-03, 6.15848211e-03, 1.43844989e-02, 3.35981829e-02,\n",
       "       7.84759970e-02, 1.83298071e-01, 4.28133240e-01, 1.00000000e+00])},\n",
       "             scoring='roc_auc')"
      ]
     },
     "execution_count": 68,
     "metadata": {},
     "output_type": "execute_result"
    }
   ],
   "source": [
    "GS_LR.fit(X=X_scaled, y=ytr)"
   ]
  },
  {
   "cell_type": "code",
   "execution_count": 69,
   "metadata": {
    "ExecuteTime": {
     "end_time": "2023-04-08T11:38:00.307242Z",
     "start_time": "2023-04-08T11:38:00.301853Z"
    }
   },
   "outputs": [
    {
     "data": {
      "text/plain": [
       "{'C': 8.858667904100833e-05}"
      ]
     },
     "execution_count": 69,
     "metadata": {},
     "output_type": "execute_result"
    }
   ],
   "source": [
    "GS_LR.best_params_"
   ]
  },
  {
   "cell_type": "code",
   "execution_count": 70,
   "metadata": {
    "ExecuteTime": {
     "end_time": "2023-04-08T11:38:02.292592Z",
     "start_time": "2023-04-08T11:38:02.287180Z"
    }
   },
   "outputs": [
    {
     "data": {
      "text/plain": [
       "0.7543504594820385"
      ]
     },
     "execution_count": 70,
     "metadata": {},
     "output_type": "execute_result"
    }
   ],
   "source": [
    "GS_LR.best_score_"
   ]
  },
  {
   "cell_type": "markdown",
   "metadata": {},
   "source": [
    "###### kNN"
   ]
  },
  {
   "cell_type": "code",
   "execution_count": 71,
   "metadata": {
    "ExecuteTime": {
     "end_time": "2023-04-08T11:38:57.730023Z",
     "start_time": "2023-04-08T11:38:57.725439Z"
    }
   },
   "outputs": [],
   "source": [
    "cv = StratifiedKFold(shuffle=True, n_splits=10)"
   ]
  },
  {
   "cell_type": "code",
   "execution_count": 72,
   "metadata": {
    "ExecuteTime": {
     "end_time": "2023-04-08T11:38:59.731489Z",
     "start_time": "2023-04-08T11:38:59.726723Z"
    }
   },
   "outputs": [],
   "source": [
    "model = KNeighborsClassifier()\n",
    "params = {'n_neighbors': range(1,100, 5)}\n",
    "cv = StratifiedKFold(shuffle=True, n_splits=5)\n",
    "GS_kNN = GridSearchCV(estimator=model, param_grid=params, cv=cv, scoring='roc_auc')"
   ]
  },
  {
   "cell_type": "code",
   "execution_count": 73,
   "metadata": {
    "ExecuteTime": {
     "end_time": "2023-04-08T11:39:01.417274Z",
     "start_time": "2023-04-08T11:39:00.944984Z"
    }
   },
   "outputs": [
    {
     "data": {
      "text/plain": [
       "GridSearchCV(cv=StratifiedKFold(n_splits=5, random_state=None, shuffle=True),\n",
       "             estimator=KNeighborsClassifier(),\n",
       "             param_grid={'n_neighbors': range(1, 100, 5)}, scoring='roc_auc')"
      ]
     },
     "execution_count": 73,
     "metadata": {},
     "output_type": "execute_result"
    }
   ],
   "source": [
    "GS_kNN.fit(X_scaled, ytr)"
   ]
  },
  {
   "cell_type": "code",
   "execution_count": 74,
   "metadata": {
    "ExecuteTime": {
     "end_time": "2023-04-08T11:39:03.463580Z",
     "start_time": "2023-04-08T11:39:03.459051Z"
    }
   },
   "outputs": [
    {
     "data": {
      "text/plain": [
       "{'n_neighbors': 71}"
      ]
     },
     "execution_count": 74,
     "metadata": {},
     "output_type": "execute_result"
    }
   ],
   "source": [
    "# Лучший параметр 'n_neighbors'\n",
    "GS_kNN.best_params_"
   ]
  },
  {
   "cell_type": "code",
   "execution_count": 75,
   "metadata": {
    "ExecuteTime": {
     "end_time": "2023-04-08T11:39:06.823792Z",
     "start_time": "2023-04-08T11:39:06.818950Z"
    }
   },
   "outputs": [
    {
     "data": {
      "text/plain": [
       "0.7492359084605741"
      ]
     },
     "execution_count": 75,
     "metadata": {},
     "output_type": "execute_result"
    }
   ],
   "source": [
    "GS_kNN.best_score_"
   ]
  },
  {
   "cell_type": "code",
   "execution_count": 76,
   "metadata": {
    "ExecuteTime": {
     "end_time": "2023-04-08T11:40:24.571916Z",
     "start_time": "2023-04-08T11:40:24.443452Z"
    }
   },
   "outputs": [
    {
     "data": {
      "image/png": "[encoded data removed]",
      "text/plain": [
       "<Figure size 432x288 with 1 Axes>"
      ]
     },
     "metadata": {
      "needs_background": "light"
     },
     "output_type": "display_data"
    }
   ],
   "source": [
    "means = GS_kNN.cv_results_['mean_test_score']\n",
    "stds = GS_kNN.cv_results_['std_test_score']\n",
    "error = 1.95 * stds\n",
    "plt.plot(params['n_neighbors'], means, color = 'blue')\n",
    "plt.plot(params['n_neighbors'], means - error, color = 'green')\n",
    "plt.plot(params['n_neighbors'], means + error, color = 'green')\n",
    "plt.fill_between(params['n_neighbors'], means - error, means + error, color = 'green')\n",
    "plt.xlabel('n_neighbors')\n",
    "plt.ylabel('Average quality')\n",
    "plt.title('Average quality for kNN model')\n",
    "plt.show()"
   ]
  },
  {
   "cell_type": "code",
   "execution_count": 77,
   "metadata": {
    "ExecuteTime": {
     "end_time": "2023-04-08T11:40:52.654010Z",
     "start_time": "2023-04-08T11:40:52.647434Z"
    }
   },
   "outputs": [],
   "source": [
    "kNN_model = GS_kNN.best_estimator_ # Лучший ROC_AUC при гиперпараметре\n",
    "LR_model = GS_LR.best_estimator_ # Лучший ROC_AUC при гиперпараметре\n",
    "DT_model = GS_dtc.best_estimator_ # Лучший ROC_AUC при гиперпараметре"
   ]
  },
  {
   "cell_type": "code",
   "execution_count": 78,
   "metadata": {
    "ExecuteTime": {
     "end_time": "2023-04-08T11:41:02.646603Z",
     "start_time": "2023-04-08T11:41:02.506746Z"
    }
   },
   "outputs": [
    {
     "data": {
      "image/png": "[encoded data removed]",
      "text/plain": [
       "<Figure size 1080x576 with 1 Axes>"
      ]
     },
     "metadata": {
      "needs_background": "light"
     },
     "output_type": "display_data"
    }
   ],
   "source": [
    "from sklearn.metrics import roc_curve\n",
    "\n",
    "\n",
    "fig = plt.figure(figsize=(15,8))\n",
    "\n",
    "ax = fig.add_subplot(1,1,1)\n",
    "ax.set_xlim([-0.05,1.05])\n",
    "ax.set_ylim([-0.05,1.05])\n",
    "ax.set_xlabel('False Positive Rate')\n",
    "ax.set_ylabel('True Positive Rate')\n",
    "ax.set_title('ROC Curve')\n",
    "    \n",
    "for model in [kNN_model, LR_model, DT_model]:\n",
    "    \n",
    "    scores = model.predict_proba(X_val_scaled)[:, 1]\n",
    "    \n",
    "    tpr, fpr, _ = roc_curve(yval, scores)\n",
    "    \n",
    "    ax.plot(tpr,fpr,label=model.__class__.__name__)\n",
    "\n",
    "ax.legend(loc='lower right')\n",
    "                                          \n",
    "plt.show()"
   ]
  },
  {
   "cell_type": "markdown",
   "metadata": {},
   "source": [
    "# Blending"
   ]
  },
  {
   "cell_type": "markdown",
   "metadata": {},
   "source": [
    "Подробнее про ансамбли хорошо объясняется здесь:\n",
    "\n",
    "https://dyakonov.org/2017/03/10/cтекинг-stacking-и-блендинг-blending/"
   ]
  },
  {
   "cell_type": "code",
   "execution_count": 79,
   "metadata": {
    "ExecuteTime": {
     "end_time": "2023-04-08T11:44:30.076599Z",
     "start_time": "2023-04-08T11:44:30.038676Z"
    }
   },
   "outputs": [],
   "source": [
    "# Библиотека для блендинга\n",
    "from sklearn.ensemble import VotingClassifier"
   ]
  },
  {
   "cell_type": "markdown",
   "metadata": {},
   "source": [
    "###### Выбираем наши лучшие модели (модели при лучших параметрах)"
   ]
  },
  {
   "cell_type": "code",
   "execution_count": 80,
   "metadata": {
    "ExecuteTime": {
     "end_time": "2023-04-08T11:44:51.678682Z",
     "start_time": "2023-04-08T11:44:51.675464Z"
    }
   },
   "outputs": [],
   "source": [
    "kNN_model = GS_kNN.best_estimator_ # Лучший ROC_AUC при гиперпараметре\n",
    "LR_model = GS_LR.best_estimator_ # Лучший ROC_AUC при гиперпараметре"
   ]
  },
  {
   "cell_type": "code",
   "execution_count": 82,
   "metadata": {
    "ExecuteTime": {
     "end_time": "2023-04-08T11:45:46.360154Z",
     "start_time": "2023-04-08T11:45:46.356137Z"
    }
   },
   "outputs": [],
   "source": [
    "kNN_model = KNeighborsClassifier(n_neighbors=71)\n",
    "LR_model = LogisticRegression(C=8.8586)"
   ]
  },
  {
   "cell_type": "code",
   "execution_count": null,
   "metadata": {},
   "outputs": [],
   "source": []
  },
  {
   "cell_type": "code",
   "execution_count": 83,
   "metadata": {
    "ExecuteTime": {
     "end_time": "2023-04-08T11:47:15.268012Z",
     "start_time": "2023-04-08T11:47:15.261499Z"
    }
   },
   "outputs": [],
   "source": [
    "# Передаем в VotingClassifier наши модели для ансамбля\n",
    "vc = VotingClassifier([('kNN', kNN_model), ('LR', LR_model)], voting='soft')"
   ]
  },
  {
   "cell_type": "code",
   "execution_count": 84,
   "metadata": {
    "ExecuteTime": {
     "end_time": "2023-04-08T11:47:23.718554Z",
     "start_time": "2023-04-08T11:47:23.713334Z"
    }
   },
   "outputs": [],
   "source": [
    "cv = StratifiedKFold(shuffle=True, n_splits=10)"
   ]
  },
  {
   "cell_type": "code",
   "execution_count": 85,
   "metadata": {
    "ExecuteTime": {
     "end_time": "2023-04-08T11:47:42.352840Z",
     "start_time": "2023-04-08T11:47:41.020549Z"
    }
   },
   "outputs": [
    {
     "data": {
      "text/plain": [
       "GridSearchCV(cv=StratifiedKFold(n_splits=10, random_state=None, shuffle=True),\n",
       "             estimator=VotingClassifier(estimators=[('kNN',\n",
       "                                                     KNeighborsClassifier(n_neighbors=71)),\n",
       "                                                    ('LR',\n",
       "                                                     LogisticRegression(C=8.8586))],\n",
       "                                        voting='soft'),\n",
       "             param_grid={'weights': [[0.0, 1.0], [0.1, 0.9], [0.2, 0.8],\n",
       "                                     [0.30000000000000004, 0.7], [0.4, 0.6],\n",
       "                                     [0.5, 0.5],\n",
       "                                     [0.6000000000000001, 0.3999999999999999],\n",
       "                                     [0.7000000000000001, 0.29999999999999993],\n",
       "                                     [0.8, 0.19999999999999996],\n",
       "                                     [0.9, 0.09999999999999998], [1.0, 0.0]]},\n",
       "             scoring='roc_auc')"
      ]
     },
     "execution_count": 85,
     "metadata": {},
     "output_type": "execute_result"
    }
   ],
   "source": [
    "# Запускаем поиск лучших параметров alpha_1, alpha_2 на кроссвалидации\n",
    "grid = GridSearchCV(estimator=vc,\n",
    "                    param_grid={'weights': [[i, 1 - i] for i in np.arange(0,1.1,0.1)]},\n",
    "                    cv=cv,\n",
    "                    scoring='roc_auc')\n",
    "grid.fit(X_scaled, ytr)"
   ]
  },
  {
   "cell_type": "code",
   "execution_count": 89,
   "metadata": {
    "ExecuteTime": {
     "end_time": "2023-04-08T11:51:27.493705Z",
     "start_time": "2023-04-08T11:51:27.487065Z"
    }
   },
   "outputs": [
    {
     "data": {
      "text/plain": [
       "{'weights': [0.6000000000000001, 0.3999999999999999]}"
      ]
     },
     "execution_count": 89,
     "metadata": {},
     "output_type": "execute_result"
    }
   ],
   "source": [
    "grid.best_params_"
   ]
  },
  {
   "cell_type": "code",
   "execution_count": 86,
   "metadata": {
    "ExecuteTime": {
     "end_time": "2023-04-08T11:47:45.591026Z",
     "start_time": "2023-04-08T11:47:45.584791Z"
    }
   },
   "outputs": [
    {
     "name": "stdout",
     "output_type": "stream",
     "text": [
      "Качество алгоритма kNN = 0.7492359084605741\n",
      "Качество алгоритма LogReg = 0.7543504594820385\n",
      "Качество алгоритма ансамбля kNN и LogReg = 0.7545338345864662\n"
     ]
    }
   ],
   "source": [
    "# Напомним\n",
    "print(\"Качество алгоритма kNN =\", GS_kNN.best_score_)\n",
    "print(\"Качество алгоритма LogReg =\", GS_LR.best_score_)\n",
    "print(\"Качество алгоритма ансамбля kNN и LogReg =\", grid.best_score_)"
   ]
  },
  {
   "cell_type": "markdown",
   "metadata": {},
   "source": [
    "# Pipeline"
   ]
  },
  {
   "cell_type": "code",
   "execution_count": 87,
   "metadata": {
    "ExecuteTime": {
     "end_time": "2023-04-08T11:50:01.407807Z",
     "start_time": "2023-04-08T11:50:01.372716Z"
    }
   },
   "outputs": [],
   "source": [
    "X = pd.read_csv('./german_credit_data_train.csv')\n",
    "y = (X.Risk == 'good') * 1\n",
    "X.drop('Risk', axis=1, inplace=True)"
   ]
  },
  {
   "cell_type": "code",
   "execution_count": 88,
   "metadata": {
    "ExecuteTime": {
     "end_time": "2023-04-08T11:50:13.222660Z",
     "start_time": "2023-04-08T11:50:13.209021Z"
    }
   },
   "outputs": [],
   "source": [
    "from sklearn.pipeline import Pipeline\n",
    "from sklearn.base import BaseEstimator"
   ]
  },
  {
   "cell_type": "code",
   "execution_count": 92,
   "metadata": {
    "ExecuteTime": {
     "end_time": "2023-04-08T11:52:26.001753Z",
     "start_time": "2023-04-08T11:52:25.992579Z"
    }
   },
   "outputs": [],
   "source": [
    "class FeauresTransform(BaseEstimator):\n",
    "    def __init__(self):\n",
    "        pass\n",
    "    def fit(self, X, y=None):\n",
    "        return self\n",
    "    def transform(self, df):\n",
    "        df['Sex'] = df['Sex'].map({'male': 1, 'female': 0})\n",
    "        df['Saving accounts'] = df['Saving accounts'].fillna('Unknown')\n",
    "        df['Checking account'] = df['Checking account'].fillna('Unknown')\n",
    "        return df"
   ]
  },
  {
   "cell_type": "code",
   "execution_count": 93,
   "metadata": {
    "ExecuteTime": {
     "end_time": "2023-04-08T11:52:26.448192Z",
     "start_time": "2023-04-08T11:52:26.443165Z"
    }
   },
   "outputs": [],
   "source": [
    "vc = VotingClassifier([('kNN', KNeighborsClassifier(**GS_kNN.best_params_)),\n",
    "                       ('LR', LogisticRegression(**GS_LR.best_params_))], voting='soft', weights = [0.6, 0.4])"
   ]
  },
  {
   "cell_type": "code",
   "execution_count": 94,
   "metadata": {
    "ExecuteTime": {
     "end_time": "2023-04-08T11:52:26.919130Z",
     "start_time": "2023-04-08T11:52:26.913725Z"
    }
   },
   "outputs": [],
   "source": [
    "pipe = Pipeline([('features', FeauresTransform()),\n",
    "                 ('cats', OneHotEncoder(cols=cat)),\n",
    "                 ('scaler', StandardScaler()),\n",
    "                 ('best_model', vc)\n",
    "                ])"
   ]
  },
  {
   "cell_type": "code",
   "execution_count": 95,
   "metadata": {
    "ExecuteTime": {
     "end_time": "2023-04-08T11:52:33.436776Z",
     "start_time": "2023-04-08T11:52:33.347071Z"
    }
   },
   "outputs": [],
   "source": [
    "a_p = pipe.fit_transform(X, y)"
   ]
  },
  {
   "cell_type": "markdown",
   "metadata": {},
   "source": [
    "### Готовим предсказания на отправку"
   ]
  },
  {
   "cell_type": "code",
   "execution_count": 96,
   "metadata": {
    "ExecuteTime": {
     "end_time": "2023-04-08T11:53:21.577567Z",
     "start_time": "2023-04-08T11:53:21.561517Z"
    }
   },
   "outputs": [],
   "source": [
    "X_test = pd.read_csv('./german_credit_data_test.csv')\n",
    "X_test.drop('Risk', axis=1, inplace=True)"
   ]
  },
  {
   "cell_type": "code",
   "execution_count": 97,
   "metadata": {
    "ExecuteTime": {
     "end_time": "2023-04-08T11:53:24.682133Z",
     "start_time": "2023-04-08T11:53:24.643814Z"
    }
   },
   "outputs": [],
   "source": [
    "preds = pipe.predict_proba(X_test)[:, 1]"
   ]
  },
  {
   "cell_type": "code",
   "execution_count": 98,
   "metadata": {
    "ExecuteTime": {
     "end_time": "2023-04-08T11:53:30.095532Z",
     "start_time": "2023-04-08T11:53:30.090811Z"
    }
   },
   "outputs": [],
   "source": [
    "X_test['Risk'] = preds"
   ]
  },
  {
   "cell_type": "code",
   "execution_count": 99,
   "metadata": {
    "ExecuteTime": {
     "end_time": "2023-04-08T11:53:31.492438Z",
     "start_time": "2023-04-08T11:53:31.464066Z"
    }
   },
   "outputs": [
    {
     "data": {
      "text/html": [
       "<div>\n",
       "<style scoped>\n",
       "    .dataframe tbody tr th:only-of-type {\n",
       "        vertical-align: middle;\n",
       "    }\n",
       "\n",
       "    .dataframe tbody tr th {\n",
       "        vertical-align: top;\n",
       "    }\n",
       "\n",
       "    .dataframe thead th {\n",
       "        text-align: right;\n",
       "    }\n",
       "</style>\n",
       "<table border=\"1\" class=\"dataframe\">\n",
       "  <thead>\n",
       "    <tr style=\"text-align: right;\">\n",
       "      <th></th>\n",
       "      <th>Age</th>\n",
       "      <th>Sex</th>\n",
       "      <th>Job</th>\n",
       "      <th>Housing</th>\n",
       "      <th>Saving accounts</th>\n",
       "      <th>Checking account</th>\n",
       "      <th>Credit amount</th>\n",
       "      <th>Duration</th>\n",
       "      <th>Purpose</th>\n",
       "      <th>Risk</th>\n",
       "    </tr>\n",
       "  </thead>\n",
       "  <tbody>\n",
       "    <tr>\n",
       "      <th>0</th>\n",
       "      <td>43</td>\n",
       "      <td>1</td>\n",
       "      <td>2</td>\n",
       "      <td>rent</td>\n",
       "      <td>little</td>\n",
       "      <td>little</td>\n",
       "      <td>2625</td>\n",
       "      <td>16</td>\n",
       "      <td>car</td>\n",
       "      <td>0.565253</td>\n",
       "    </tr>\n",
       "    <tr>\n",
       "      <th>1</th>\n",
       "      <td>44</td>\n",
       "      <td>1</td>\n",
       "      <td>2</td>\n",
       "      <td>own</td>\n",
       "      <td>Unknown</td>\n",
       "      <td>Unknown</td>\n",
       "      <td>3485</td>\n",
       "      <td>20</td>\n",
       "      <td>car</td>\n",
       "      <td>0.800017</td>\n",
       "    </tr>\n",
       "    <tr>\n",
       "      <th>2</th>\n",
       "      <td>42</td>\n",
       "      <td>1</td>\n",
       "      <td>2</td>\n",
       "      <td>free</td>\n",
       "      <td>Unknown</td>\n",
       "      <td>Unknown</td>\n",
       "      <td>10477</td>\n",
       "      <td>36</td>\n",
       "      <td>car</td>\n",
       "      <td>0.745922</td>\n",
       "    </tr>\n",
       "    <tr>\n",
       "      <th>3</th>\n",
       "      <td>40</td>\n",
       "      <td>1</td>\n",
       "      <td>2</td>\n",
       "      <td>rent</td>\n",
       "      <td>Unknown</td>\n",
       "      <td>Unknown</td>\n",
       "      <td>1386</td>\n",
       "      <td>15</td>\n",
       "      <td>radio/TV</td>\n",
       "      <td>0.825223</td>\n",
       "    </tr>\n",
       "    <tr>\n",
       "      <th>4</th>\n",
       "      <td>36</td>\n",
       "      <td>1</td>\n",
       "      <td>3</td>\n",
       "      <td>own</td>\n",
       "      <td>little</td>\n",
       "      <td>Unknown</td>\n",
       "      <td>1278</td>\n",
       "      <td>24</td>\n",
       "      <td>radio/TV</td>\n",
       "      <td>0.823981</td>\n",
       "    </tr>\n",
       "    <tr>\n",
       "      <th>...</th>\n",
       "      <td>...</td>\n",
       "      <td>...</td>\n",
       "      <td>...</td>\n",
       "      <td>...</td>\n",
       "      <td>...</td>\n",
       "      <td>...</td>\n",
       "      <td>...</td>\n",
       "      <td>...</td>\n",
       "      <td>...</td>\n",
       "      <td>...</td>\n",
       "    </tr>\n",
       "    <tr>\n",
       "      <th>95</th>\n",
       "      <td>31</td>\n",
       "      <td>0</td>\n",
       "      <td>1</td>\n",
       "      <td>own</td>\n",
       "      <td>little</td>\n",
       "      <td>Unknown</td>\n",
       "      <td>1736</td>\n",
       "      <td>12</td>\n",
       "      <td>furniture/equipment</td>\n",
       "      <td>0.747482</td>\n",
       "    </tr>\n",
       "    <tr>\n",
       "      <th>96</th>\n",
       "      <td>40</td>\n",
       "      <td>1</td>\n",
       "      <td>3</td>\n",
       "      <td>own</td>\n",
       "      <td>little</td>\n",
       "      <td>little</td>\n",
       "      <td>3857</td>\n",
       "      <td>30</td>\n",
       "      <td>car</td>\n",
       "      <td>0.658246</td>\n",
       "    </tr>\n",
       "    <tr>\n",
       "      <th>97</th>\n",
       "      <td>38</td>\n",
       "      <td>1</td>\n",
       "      <td>2</td>\n",
       "      <td>own</td>\n",
       "      <td>little</td>\n",
       "      <td>Unknown</td>\n",
       "      <td>804</td>\n",
       "      <td>12</td>\n",
       "      <td>radio/TV</td>\n",
       "      <td>0.808297</td>\n",
       "    </tr>\n",
       "    <tr>\n",
       "      <th>98</th>\n",
       "      <td>23</td>\n",
       "      <td>1</td>\n",
       "      <td>2</td>\n",
       "      <td>free</td>\n",
       "      <td>little</td>\n",
       "      <td>little</td>\n",
       "      <td>1845</td>\n",
       "      <td>45</td>\n",
       "      <td>radio/TV</td>\n",
       "      <td>0.598072</td>\n",
       "    </tr>\n",
       "    <tr>\n",
       "      <th>99</th>\n",
       "      <td>27</td>\n",
       "      <td>1</td>\n",
       "      <td>2</td>\n",
       "      <td>own</td>\n",
       "      <td>moderate</td>\n",
       "      <td>moderate</td>\n",
       "      <td>4576</td>\n",
       "      <td>45</td>\n",
       "      <td>car</td>\n",
       "      <td>0.692941</td>\n",
       "    </tr>\n",
       "  </tbody>\n",
       "</table>\n",
       "<p>100 rows × 10 columns</p>\n",
       "</div>"
      ],
      "text/plain": [
       "    Age  Sex  Job Housing Saving accounts Checking account  Credit amount  \\\n",
       "0    43    1    2    rent          little           little           2625   \n",
       "1    44    1    2     own         Unknown          Unknown           3485   \n",
       "2    42    1    2    free         Unknown          Unknown          10477   \n",
       "3    40    1    2    rent         Unknown          Unknown           1386   \n",
       "4    36    1    3     own          little          Unknown           1278   \n",
       "..  ...  ...  ...     ...             ...              ...            ...   \n",
       "95   31    0    1     own          little          Unknown           1736   \n",
       "96   40    1    3     own          little           little           3857   \n",
       "97   38    1    2     own          little          Unknown            804   \n",
       "98   23    1    2    free          little           little           1845   \n",
       "99   27    1    2     own        moderate         moderate           4576   \n",
       "\n",
       "    Duration              Purpose      Risk  \n",
       "0         16                  car  0.565253  \n",
       "1         20                  car  0.800017  \n",
       "2         36                  car  0.745922  \n",
       "3         15             radio/TV  0.825223  \n",
       "4         24             radio/TV  0.823981  \n",
       "..       ...                  ...       ...  \n",
       "95        12  furniture/equipment  0.747482  \n",
       "96        30                  car  0.658246  \n",
       "97        12             radio/TV  0.808297  \n",
       "98        45             radio/TV  0.598072  \n",
       "99        45                  car  0.692941  \n",
       "\n",
       "[100 rows x 10 columns]"
      ]
     },
     "execution_count": 99,
     "metadata": {},
     "output_type": "execute_result"
    }
   ],
   "source": [
    "X_test"
   ]
  },
  {
   "cell_type": "code",
   "execution_count": 100,
   "metadata": {
    "ExecuteTime": {
     "end_time": "2023-04-08T11:53:39.727928Z",
     "start_time": "2023-04-08T11:53:39.711774Z"
    }
   },
   "outputs": [],
   "source": [
    "X_test[['Risk']].to_csv('./submition.csv', index=False)"
   ]
  },
  {
   "cell_type": "markdown",
   "metadata": {},
   "source": [
    "### Посмотрим финальный score"
   ]
  },
  {
   "cell_type": "code",
   "execution_count": 101,
   "metadata": {
    "ExecuteTime": {
     "end_time": "2023-04-08T11:53:55.940038Z",
     "start_time": "2023-04-08T11:53:55.934721Z"
    }
   },
   "outputs": [],
   "source": [
    "from sklearn.metrics import roc_auc_score"
   ]
  },
  {
   "cell_type": "code",
   "execution_count": 102,
   "metadata": {
    "ExecuteTime": {
     "end_time": "2023-04-08T11:53:58.733361Z",
     "start_time": "2023-04-08T11:53:58.723109Z"
    }
   },
   "outputs": [],
   "source": [
    "answers = pd.read_csv('./answers.csv', index_col=0)"
   ]
  },
  {
   "cell_type": "code",
   "execution_count": 103,
   "metadata": {
    "ExecuteTime": {
     "end_time": "2023-04-08T11:54:03.614183Z",
     "start_time": "2023-04-08T11:54:03.606603Z"
    }
   },
   "outputs": [],
   "source": [
    "answers.Risk = answers.Risk.map({'good': 1, 'bad': 0})"
   ]
  },
  {
   "cell_type": "code",
   "execution_count": 104,
   "metadata": {
    "ExecuteTime": {
     "end_time": "2023-04-08T11:54:18.630593Z",
     "start_time": "2023-04-08T11:54:18.618283Z"
    }
   },
   "outputs": [
    {
     "data": {
      "text/plain": [
       "0.7637867647058824"
      ]
     },
     "execution_count": 104,
     "metadata": {},
     "output_type": "execute_result"
    }
   ],
   "source": [
    "roc_auc_score(y_true=answers.Risk.values, y_score=preds)"
   ]
  },
  {
   "cell_type": "markdown",
   "metadata": {},
   "source": [
    "_____"
   ]
  },
  {
   "cell_type": "markdown",
   "metadata": {},
   "source": [
    "_____"
   ]
  },
  {
   "cell_type": "markdown",
   "metadata": {},
   "source": [
    "_____"
   ]
  },
  {
   "cell_type": "markdown",
   "metadata": {},
   "source": [
    "_____"
   ]
  },
  {
   "cell_type": "markdown",
   "metadata": {},
   "source": [
    "_____"
   ]
  },
  {
   "cell_type": "markdown",
   "metadata": {},
   "source": [
    "_____"
   ]
  },
  {
   "cell_type": "markdown",
   "metadata": {},
   "source": [
    "_____"
   ]
  }
 ],
 "metadata": {
  "kernelspec": {
   "display_name": "Python 3",
   "language": "python",
   "name": "python3"
  },
  "language_info": {
   "codemirror_mode": {
    "name": "ipython",
    "version": 3
   },
   "file_extension": ".py",
   "mimetype": "text/x-python",
   "name": "python",
   "nbconvert_exporter": "python",
   "pygments_lexer": "ipython3",
   "version": "3.8.8"
  },
  "latex_envs": {
   "LaTeX_envs_menu_present": true,
   "autoclose": false,
   "autocomplete": true,
   "bibliofile": "biblio.bib",
   "cite_by": "apalike",
   "current_citInitial": 1,
   "eqLabelWithNumbers": true,
   "eqNumInitial": 1,
   "hotkeys": {
    "equation": "Ctrl-E",
    "itemize": "Ctrl-I"
   },
   "labels_anchors": false,
   "latex_user_defs": false,
   "report_style_numbering": false,
   "user_envs_cfg": false
  },
  "toc": {
   "base_numbering": 1,
   "nav_menu": {},
   "number_sections": true,
   "sideBar": true,
   "skip_h1_title": false,
   "title_cell": "Table of Contents",
   "title_sidebar": "Contents",
   "toc_cell": false,
   "toc_position": {},
   "toc_section_display": true,
   "toc_window_display": false
  }
 },
 "nbformat": 4,
 "nbformat_minor": 2
}

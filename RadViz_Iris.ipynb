{
 "cells": [
  {
   "cell_type": "code",
   "execution_count": 20,
   "metadata": {},
   "outputs": [
    {
     "data": {
      "text/plain": [
       "RadialVisualizer(alpha=1.0,\n",
       "                 ax=(       temperature  relative humidity   light      CO2  humidity\n",
       "0           23.180            27.2720  426.00   721.25  0.004793\n",
       "1           23.150            27.2675  429.50   714.00  0.004783\n",
       "2           23.150            27.2450  426.00   713.50  0.004779\n",
       "3           23.150            27.2000  426.00   708.25  0.004772\n",
       "4           23.100            27.2000  426.00   704.50  0.004757\n",
       "...            ...                ...     ...      ...       ...\n",
       "20555       20.815            27.7175  429.75  1505.25  0.004213\n",
       "20556       20.865            27.7450  423.50  1514.50  0.004230\n",
       "20557       20.890            27.7450  423.50  1521.50  0.004237\n",
       "20558       20.890            28.0225  418.75  1632.00  0.004279\n",
       "20559       21.000            28.1000  409.00  1864.00  0.004321\n",
       "\n",
       "[20560 rows x 5 columns],\n",
       "                     0        1\n",
       "1        1\n",
       "2        1\n",
       "3        1\n",
       "4        1\n",
       "        ..\n",
       "20555    1\n",
       "20556    1\n",
       "20557    1\n",
       "20558    1\n",
       "20559    1\n",
       "Name: occupancy, Length: 20560, dtype: int64),\n",
       "                 classes=['unoccupied', 'occupied'], colormap=None, colors=None,\n",
       "                 features=None)"
      ]
     },
     "execution_count": 20,
     "metadata": {},
     "output_type": "execute_result"
    }
   ],
   "source": [
    "from yellowbrick.datasets import load_occupancy\n",
    "from yellowbrick.features import RadViz\n",
    "\n",
    "# Load the classification dataset\n",
    "X1, y1 = load_occupancy()\n",
    "\n",
    "# Specify the target classes\n",
    "classes = [\"unoccupied\", \"occupied\"]\n",
    "\n",
    "# Instantiate the visualizer\n",
    "RadViz(load_occupancy(), classes=classes)"
   ]
  },
  {
   "cell_type": "code",
   "execution_count": 18,
   "metadata": {},
   "outputs": [
    {
     "ename": "AttributeError",
     "evalue": "'tuple' object has no attribute 'head'",
     "output_type": "error",
     "traceback": [
      "\u001b[1;31m---------------------------------------------------------------------------\u001b[0m",
      "\u001b[1;31mAttributeError\u001b[0m                            Traceback (most recent call last)",
      "\u001b[1;32m<ipython-input-18-895a5db2e1ab>\u001b[0m in \u001b[0;36m<module>\u001b[1;34m\u001b[0m\n\u001b[0;32m      1\u001b[0m \u001b[1;31m# Specify the target classes\u001b[0m\u001b[1;33m\u001b[0m\u001b[1;33m\u001b[0m\u001b[1;33m\u001b[0m\u001b[0m\n\u001b[1;32m----> 2\u001b[1;33m \u001b[0mdata\u001b[0m\u001b[1;33m.\u001b[0m\u001b[0mhead\u001b[0m\u001b[1;33m(\u001b[0m\u001b[1;36m5\u001b[0m\u001b[1;33m)\u001b[0m\u001b[1;33m\u001b[0m\u001b[1;33m\u001b[0m\u001b[0m\n\u001b[0m\u001b[0;32m      3\u001b[0m \u001b[0mclasses\u001b[0m \u001b[1;33m=\u001b[0m \u001b[1;33m[\u001b[0m\u001b[1;34m\"unoccupied\"\u001b[0m\u001b[1;33m,\u001b[0m \u001b[1;34m\"occupied\"\u001b[0m\u001b[1;33m]\u001b[0m\u001b[1;33m\u001b[0m\u001b[1;33m\u001b[0m\u001b[0m\n",
      "\u001b[1;31mAttributeError\u001b[0m: 'tuple' object has no attribute 'head'"
     ]
    }
   ],
   "source": [
    "# Specify the target classes\n",
    "data.head(5)\n",
    "classes = [\"unoccupied\", \"occupied\"]"
   ]
  },
  {
   "cell_type": "code",
   "execution_count": 13,
   "metadata": {},
   "outputs": [
    {
     "data": {
      "image/png": "[encoded data removed]",
      "text/plain": [
       "<Figure size 432x432 with 1 Axes>"
      ]
     },
     "metadata": {
      "needs_background": "light"
     },
     "output_type": "display_data"
    }
   ],
   "source": [
    "fig,ax = plt.subplots(figsize=(6,6))"
   ]
  },
  {
   "cell_type": "code",
   "execution_count": 16,
   "metadata": {},
   "outputs": [
    {
     "data": {
      "text/plain": [
       "RadialVisualizer(alpha=1.0,\n",
       "                 ax=(       temperature  relative humidity   light      CO2  humidity\n",
       "0           23.180            27.2720  426.00   721.25  0.004793\n",
       "1           23.150            27.2675  429.50   714.00  0.004783\n",
       "2           23.150            27.2450  426.00   713.50  0.004779\n",
       "3           23.150            27.2000  426.00   708.25  0.004772\n",
       "4           23.100            27.2000  426.00   704.50  0.004757\n",
       "...            ...                ...     ...      ...       ...\n",
       "20555       20.815            27.7175  429.75  1505.25  0.004213\n",
       "20556       20.865            27.7450  423.50  1514.50  0.004230\n",
       "20557       20.890            27.7450  423.50  1521.50  0.004237\n",
       "20558       20.890            28.0225  418.75  1632.00  0.004279\n",
       "20559       21.000            28.1000  409.00  1864.00  0.004321\n",
       "\n",
       "[20560 rows x 5 columns],\n",
       "                     0        1\n",
       "1        1\n",
       "2        1\n",
       "3        1\n",
       "4        1\n",
       "        ..\n",
       "20555    1\n",
       "20556    1\n",
       "20557    1\n",
       "20558    1\n",
       "20559    1\n",
       "Name: occupancy, Length: 20560, dtype: int64),\n",
       "                 classes=None, colormap='rainbow', colors=None, features=None)"
      ]
     },
     "execution_count": 16,
     "metadata": {},
     "output_type": "execute_result"
    }
   ],
   "source": [
    "RadViz(data, colormap='rainbow')"
   ]
  },
  {
   "cell_type": "code",
   "execution_count": null,
   "metadata": {},
   "outputs": [],
   "source": []
  }
 ],
 "metadata": {
  "kernelspec": {
   "display_name": "Python 3",
   "language": "python",
   "name": "python3"
  },
  "language_info": {
   "codemirror_mode": {
    "name": "ipython",
    "version": 3
   },
   "file_extension": ".py",
   "mimetype": "text/x-python",
   "name": "python",
   "nbconvert_exporter": "python",
   "pygments_lexer": "ipython3",
   "version": "3.7.4"
  }
 },
 "nbformat": 4,
 "nbformat_minor": 2
}

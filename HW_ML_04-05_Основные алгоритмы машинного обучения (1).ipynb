{
 "cells": [
  {
   "cell_type": "markdown",
   "metadata": {},
   "source": [
    "# Кейс по моделированию"
   ]
  },
  {
   "cell_type": "markdown",
   "metadata": {},
   "source": [
    "Данная домашняя работа выполняется в формате отчета (написание кода + свои размышления). Оценивается как правильность выполнения домашней работы (код), так и правильность объяснения действий и результатов. Data Scientist должен понимать, что он делает и почему он это делает. Также приходится объяснять свои размышления и принимаемое решение руководителю или человеку со стороны бизнеса."
   ]
  },
  {
   "cell_type": "markdown",
   "metadata": {},
   "source": [
    "Старайтесь выполнить домашку САМОСТОЯТЕЛЬНО. Это идет вам на пользу (Хорошая оценка - меньшее, что можно получить, главное - знания по результатам выполнения). Если что-то не получается, обращайтесь к преподавателю с вопросами."
   ]
  },
  {
   "cell_type": "markdown",
   "metadata": {},
   "source": [
    "Всего 23 балла. 10 из 10 - это 20 баллов. Лучше решить по максимуму с запасом."
   ]
  },
  {
   "cell_type": "markdown",
   "metadata": {},
   "source": [
    "Начнём!"
   ]
  },
  {
   "cell_type": "markdown",
   "metadata": {},
   "source": [
    "### Данные"
   ]
  },
  {
   "cell_type": "markdown",
   "metadata": {},
   "source": [
    "В задачах кредитного скоринга, предсказания дефолта самым важным признаком служит заработная плата клиента. Но... Не всегда она известна."
   ]
  },
  {
   "cell_type": "markdown",
   "metadata": {},
   "source": [
    "Вам предлагается решить задачу бинарной классификации, а именно построить алгоритм, определяющий, превысит ли средний заработок человека порог $50k"
   ]
  },
  {
   "cell_type": "markdown",
   "metadata": {},
   "source": [
    "#### Как оценить качество алгоритма"
   ]
  },
  {
   "cell_type": "markdown",
   "metadata": {},
   "source": [
    "Мы будем смотреть на показатель Area Under ROC Curve (ROC_AUC). Напомню, что он тем выше, чем мы правильнее упорядочиваем наши предсказанные \"вероятности\". Подробнее [здесь](https://ru.wikipedia.org/wiki/ROC-кривая)"
   ]
  },
  {
   "cell_type": "markdown",
   "metadata": {},
   "source": [
    "#### Делаем важные импорты"
   ]
  },
  {
   "cell_type": "code",
   "execution_count": null,
   "metadata": {},
   "outputs": [],
   "source": [
    "import numpy as np\n",
    "import pandas as pd\n",
    "from matplotlib import pyplot as plt"
   ]
  },
  {
   "cell_type": "markdown",
   "metadata": {},
   "source": [
    "#### Данные"
   ]
  },
  {
   "cell_type": "markdown",
   "metadata": {},
   "source": [
    "1) age (Возраст): continuous. \n",
    "\n",
    "2) workclass (Информация о работе): Private, Self-emp-not-inc, Self-emp-inc, Federal-gov, Local-gov, State-gov, Without-pay, Never-worked. \n",
    "\n",
    "3) fnlwgt (Вещественный признак - анонимен): continuous. \n",
    "\n",
    "4) education (Образование): Bachelors, Some-college, 11th, HS-grad, Prof-school, Assoc-acdm, Assoc-voc, 9th, 7th-8th, 12th, Masters, 1st-4th, 10th, Doctorate, 5th-6th, Preschool. \n",
    "\n",
    "5) education-num: continuous. \n",
    "\n",
    "6) marital-status (Семейное положение): Married-civ-spouse, Divorced, Never-married, Separated, Widowed, Married-spouse-absent, Married-AF-spouse. \n",
    "\n",
    "7) occupation (Род деятельности): Tech-support, Craft-repair, Other-service, Sales, Exec-managerial, Prof-specialty, Handlers-cleaners, Machine-op-inspct, Adm-clerical, Farming-fishing, Transport-moving, Priv-house-serv, Protective-serv, Armed-Forces. \n",
    "\n",
    "8) relationship (Статус в семье): Wife, Own-child, Husband, Not-in-family, Other-relative, Unmarried. \n",
    "\n",
    "9) race (Раса): White, Asian-Pac-Islander, Amer-Indian-Eskimo, Other, Black. \n",
    "\n",
    "10) sex (Пол): Female, Male. \n",
    "\n",
    "11) capital-gain (Размер капитала): continuous. \n",
    "\n",
    "12) capital-loss (Фича на основе капитала): continuous. \n",
    "\n",
    "13) hours-per-week (Сколько часов в неделю работает): continuous.\n",
    "\n",
    "14) >50K,<=50K (Ваш таргет)"
   ]
  },
  {
   "cell_type": "markdown",
   "metadata": {},
   "source": [
    "#### Скачиваем данные"
   ]
  },
  {
   "cell_type": "code",
   "execution_count": null,
   "metadata": {},
   "outputs": [],
   "source": [
    "# В данной таблице NaNы заполнены значком '?' - заменим его на проспуски с помощью параметра \"na_values\"\n",
    "data_adult = pd.read_csv(\"HW_ML_04-05_data.adult.csv\", na_values='?')\n",
    "data_adult.head()"
   ]
  },
  {
   "cell_type": "markdown",
   "metadata": {},
   "source": [
    "### 1. Анализ"
   ]
  },
  {
   "cell_type": "markdown",
   "metadata": {},
   "source": [
    "Иногда в данных встречаются пропуски.\n",
    "\n",
    "Более подробно о работе с пропусками в Pandas можно прочитать [здесь](http://pandas.pydata.org/pandas-docs/stable/missing_data.html) "
   ]
  },
  {
   "cell_type": "markdown",
   "metadata": {},
   "source": [
    "**(1 балл)** \n",
    "- Найдите все признаки, имеющие пропущенные значения. Удалите из выборки все объекты с пропусками.\n",
    "\n",
    "- Проведите анализ (количество строк, количество строк после удаления (use df.shape),...)"
   ]
  },
  {
   "cell_type": "code",
   "execution_count": null,
   "metadata": {},
   "outputs": [],
   "source": [
    "# use pd.isnull, data_adult.dropna\n",
    "..."
   ]
  },
  {
   "cell_type": "markdown",
   "metadata": {},
   "source": [
    "**(1 балл)** \n",
    "- Выделите целевую переменную (наш таргет) в отдельную переменную (назовите ее 'target')\n",
    "- Преобразуйте к бинарному формату ({0,1})\n",
    "- Удалите из датасета старую переменную.\n",
    "- Посмотрите распределение целевой переменной"
   ]
  },
  {
   "cell_type": "code",
   "execution_count": null,
   "metadata": {},
   "outputs": [],
   "source": [
    "..."
   ]
  },
  {
   "cell_type": "markdown",
   "metadata": {},
   "source": [
    "**(1 балл)**\n",
    "- Постройте гистограмму распределения признака \"capital-gain\" с количеством бинов=50\n",
    "- Посмотрите процентное соотношение категорий в колонке \"workclass\""
   ]
  },
  {
   "cell_type": "code",
   "execution_count": null,
   "metadata": {},
   "outputs": [],
   "source": [
    "# use df\\['needed column'\\].hist(bins=...), df\\['needed column'\\].value_counts\n",
    "..."
   ]
  },
  {
   "cell_type": "markdown",
   "metadata": {},
   "source": [
    "### 2. Категориальные признаки"
   ]
  },
  {
   "cell_type": "markdown",
   "metadata": {},
   "source": [
    "Как вы могли заметить, среди признаков есть категориальные."
   ]
  },
  {
   "cell_type": "markdown",
   "metadata": {},
   "source": [
    "**(1 балл)**\n",
    "- Выделите 3 переменные (cat - список категориальных признаков, num - список вещественных признаков, target - таргет (строка));\n",
    "- Закодируйте категориальные признаки;\n",
    "- Выберите признаки для обучения."
   ]
  },
  {
   "cell_type": "markdown",
   "metadata": {},
   "source": [
    "Чтобы понять, какие признаки категориальные, используйте:\n",
    "- df.dtypes,\n",
    "- df\\[col\\].value_counts,\n",
    "- df\\[col\\].nunique\n",
    "- ..."
   ]
  },
  {
   "cell_type": "code",
   "execution_count": null,
   "metadata": {},
   "outputs": [],
   "source": [
    "cat = [...]\n",
    "num = [...]\n",
    "target = '...'"
   ]
  },
  {
   "cell_type": "code",
   "execution_count": null,
   "metadata": {},
   "outputs": [],
   "source": [
    "data_adult = pd.get_dummies(...)"
   ]
  },
  {
   "cell_type": "code",
   "execution_count": null,
   "metadata": {},
   "outputs": [],
   "source": [
    "train_columns = data_adult.columns.difference(...)"
   ]
  },
  {
   "cell_type": "markdown",
   "metadata": {},
   "source": [
    "### 3. Нормализация данных"
   ]
  },
  {
   "cell_type": "markdown",
   "metadata": {},
   "source": [
    "**(1 балл)**\n",
    "- Проведите анализ шкал признаков (Какого порядка вещественные признаки?) Можно с помощью гистограммы.\n",
    "- Напишите, к каким проблемам может привести разница в шкалах различных признаков.\n",
    "- На какие алгоритмы машинного обучения может повлиять данная проблема и почему.\n",
    "- На какие алгоритмы машинного обучения не влияет масштабирование данных."
   ]
  },
  {
   "cell_type": "markdown",
   "metadata": {},
   "source": [
    "**(1 балл)**\n",
    "- Масштабируйте данные\n",
    "- Выделите отдельно X (ваши признаки) и y - ваша колонка таргета"
   ]
  },
  {
   "cell_type": "code",
   "execution_count": null,
   "metadata": {},
   "outputs": [],
   "source": [
    "from sklearn.preprocessing import StandardScaler\n",
    "..."
   ]
  },
  {
   "cell_type": "markdown",
   "metadata": {},
   "source": [
    "Далее используйте масштабированные признаки"
   ]
  },
  {
   "cell_type": "markdown",
   "metadata": {},
   "source": [
    "### 4. Валидация"
   ]
  },
  {
   "cell_type": "markdown",
   "metadata": {},
   "source": [
    "В нашем случае будем валидироваться с помощью KFold + сохранение баланса классов в каждом \"фолде\" с помощью StratifiedKFold из sklearn.model_selection"
   ]
  },
  {
   "cell_type": "markdown",
   "metadata": {},
   "source": [
    "**(1 балл)**\n",
    "\n",
    "Расскажите:\n",
    "- Какие виды валидации вы знаете?\n",
    "- Какие минусы и плюсы каждого подхода к валидации?\n",
    "- В чем преимущество StratifiedKFold над KFold?"
   ]
  },
  {
   "cell_type": "markdown",
   "metadata": {},
   "source": [
    "### 5. Выбор алгоритма и оптимизация"
   ]
  },
  {
   "cell_type": "markdown",
   "metadata": {},
   "source": [
    "При подборе алгоритма будем варьировать не один параметр, а несколько в каждом алгоритме.\n",
    "\n",
    "Выберем 3 алгоритма:\n",
    "\n",
    " - kNN (подробнее [здесь](http://scikit-learn.org/stable/modules/generated/sklearn.neighbors.KNeighborsClassifier.html))\n",
    " - SGD Linear Classifier (подробнее [здесь](http://scikit-learn.org/stable/modules/generated/sklearn.linear_model.SGDClassifier.html))\n",
    " - RandomForest (подробнее [здесь](http://scikit-learn.org/stable/modules/generated/sklearn.ensemble.RandomForestClassifier.html))\n",
    " "
   ]
  },
  {
   "cell_type": "markdown",
   "metadata": {},
   "source": [
    "### 5.1 kNN"
   ]
  },
  {
   "cell_type": "markdown",
   "metadata": {},
   "source": [
    "**(3 балла)**\n",
    "- Инициализируйте дефолтную модель (модель с дефолтными гиперпараметрами).\n",
    "- Инициализируйте GridSearchCV для подбора гиперпараметров (подробнее [здесь](https://scikit-learn.org/stable/modules/generated/sklearn.model_selection.GridSearchCV.html)). Не забудьте задать параметр cv (число фолдов выберите из диапазона от 3 до 10). \n",
    "- Подберите наилучшие параметры для модели с помощью GridSearchCV.\n",
    "- Постройте график зависимости качества ROC_AUC от параметров (получается 2 графика) с доверительным интервалом. Ось Х - значения параметра, ось Y - значения ROC_AUC.\n",
    "\n",
    "Подберите оптимальные параметры:\n",
    "- Число соседей (**n_neighbors**) Перебирайте в диапазоне от 0 до 50.\n",
    "- Метрика (**metric**) Перебирайте из \\['minkowski', 'euclidean', 'chebyshev', 'manhattan'\\].\n",
    "\n",
    "Если подбор занимает очень много времени:\n",
    "* Задайте значение параметра n_jobs=-1.\n",
    "* Перебирайте значения из диапазона с шагом 2-5.\n",
    "\n",
    "Для построения графика зависимости качества модели от показателя metric по оси идут 4 категории метрики. Для построения подобного графика, используйте xticks из pylab. Подробнее [здесь](https://matplotlib.org/3.1.1/api/_as_gen/matplotlib.pyplot.xticks.html) Потыкайте на картиночки, там откроется код."
   ]
  },
  {
   "cell_type": "markdown",
   "metadata": {},
   "source": [
    "Чтобы взять лучшую модель из GridSearchCV используйте метод gsCV.best_estimator_ после того, как обучите GridSearchCV на подбор лучших гиперпараметров.\n",
    "\n",
    "gsCV.best_estimator_ вернет модель с наилучшими гиперпараметрами с точки зрения качества roc_auc на кросс-валидации.\n",
    "\n",
    "Чтобы посмотреть параметры лучшей модели, используйте gsCV.best_params_"
   ]
  },
  {
   "cell_type": "code",
   "execution_count": null,
   "metadata": {},
   "outputs": [],
   "source": [
    "from sklearn.neighbors import KNeighborsClassifier\n",
    "from sklearn.model_selection import GridSearchCV "
   ]
  },
  {
   "cell_type": "code",
   "execution_count": null,
   "metadata": {},
   "outputs": [],
   "source": [
    "..."
   ]
  },
  {
   "cell_type": "code",
   "execution_count": null,
   "metadata": {},
   "outputs": [],
   "source": [
    "import pylab as pl\n",
    "x_kNN = ...\n",
    "xTicks = [...]\n",
    "# rotation - поварьируйте (это угол поворота названий категорий гиперпараметров)\n",
    "pl.xticks(range(...), xTicks, rotation=...)\n",
    "pl.plot(x_kNN, ..., color=...)"
   ]
  },
  {
   "cell_type": "code",
   "execution_count": null,
   "metadata": {},
   "outputs": [],
   "source": [
    "..."
   ]
  },
  {
   "cell_type": "markdown",
   "metadata": {},
   "source": [
    "### 5.2 SGD Linear Classifier"
   ]
  },
  {
   "cell_type": "markdown",
   "metadata": {},
   "source": [
    "**(3 балла)**\n",
    "- Инициализируйте дефолтную модель (модель с дефолтными гиперпараметрами)\n",
    "- Инициализируйте GridSearchCV для подбора гиперпараметров (подробнее [здесь](https://scikit-learn.org/stable/modules/generated/sklearn.model_selection.GridSearchCV.html)). Не забудьте задать параметр cv (число фолдов выберите из диапазона от 3 до 10). \n",
    "- Подберите наилучшие параметры для модели с помощью GridSearchCV.\n",
    "- Постройте график зависимости качества ROC_AUC от параметров (получается 2 графика) с доверительным интервалом. Ось Х - значения параметра, ось Y - значения ROC_AUC.\n",
    "\n",
    "Подберите оптимальные параметры:\n",
    "- Loss функция (**loss**) Перебирайте из \\['hinge', 'log', 'modified_huber', 'squared_hinge', 'perceptron', 'squared_loss', 'huber', 'epsilon_insensitive'\\]\n",
    "- Вид штрафа (**penalty**) Перебирайте из \\['none', 'l2', 'l1', 'elasticnet'\\]\n",
    "\n",
    "\n",
    "Для построения графика зависимости качества модели от показателей loss, penalty по оси \"x\" идут категории. Для построения подобного графика, используйте xticks из pylab. Подробнее [здесь](https://matplotlib.org/3.1.1/api/_as_gen/matplotlib.pyplot.xticks.html) Потыкайте на картиночки, там откроется код."
   ]
  },
  {
   "cell_type": "markdown",
   "metadata": {},
   "source": [
    "Чтобы взять лучшую модель из GridSearchCV используйте метод gsCV.best_estimator_ после того, как обучите GridSearchCV на подбор лучших гиперпараметров.\n",
    "\n",
    "gsCV.best_estimator_ вернет модель с наилучшими гиперпараметрами с точки зрения качества roc_auc на кросс-валидации.\n",
    "\n",
    "Чтобы посмотреть параметры лучшей модели, используйте gsCV.best_params_"
   ]
  },
  {
   "cell_type": "code",
   "execution_count": null,
   "metadata": {},
   "outputs": [],
   "source": [
    "from sklearn.linear_model import SGDClassifier"
   ]
  },
  {
   "cell_type": "code",
   "execution_count": null,
   "metadata": {},
   "outputs": [],
   "source": [
    "..."
   ]
  },
  {
   "cell_type": "code",
   "execution_count": null,
   "metadata": {},
   "outputs": [],
   "source": [
    "import pylab as pl\n",
    "x_SGD = ...\n",
    "xTicks = [...]\n",
    "# rotation - поварьируйте (это угол поворота названий категорий гиперпараметров)\n",
    "pl.xticks(range(...), xTicks, rotation=...)\n",
    "pl.plot(x_SGD, ..., color=...)"
   ]
  },
  {
   "cell_type": "code",
   "execution_count": null,
   "metadata": {},
   "outputs": [],
   "source": [
    "..."
   ]
  },
  {
   "cell_type": "markdown",
   "metadata": {},
   "source": [
    "### 5.3 RandomForestClassifier"
   ]
  },
  {
   "cell_type": "markdown",
   "metadata": {},
   "source": [
    "**(3 балла)**\n",
    "- Инициализируйте дефолтную модель (модель с дефолтными гиперпараметрами).\n",
    "- Инициализируйте GridSearchCV для подбора гиперпараметров (подробнее [здесь](https://scikit-learn.org/stable/modules/generated/sklearn.model_selection.GridSearchCV.html)). Не забудьте задать параметр cv (число фолдов выберите из диапазона от 3 до 10). \n",
    "- Подберите наилучшие параметры для модели с помощью GridSearchCV.\n",
    "- Постройте график зависимости качества ROC_AUC от параметров (получается 2 графика) с доверительным интервалом. Ось Х - значения параметра, ось Y - значения ROC_AUC.\n",
    "\n",
    "Подберите оптимальные параметры:\n",
    "- Число деревьев (**n_estimators**) Перебирайте в диапазоне от 0 до 100\n",
    "- Параметр максимального количества фичей для построения дерева (**max_features**) Перебирайте из \\['auto', 'sqrt', 'log2', None\\]\n",
    "- Критерий разбиения на поддеревья (**criterion**) Перебирайте из \\['gini', 'entropy'\\]\n",
    "\n",
    "\n",
    "Для построения графика зависимости качества модели от показателей max_features, criterion по оси \"x\" идут категории. Для построения подобного графика, используйте xticks из pylab. Подробнее [здесь](https://matplotlib.org/3.1.1/api/_as_gen/matplotlib.pyplot.xticks.html) Потыкайте на картиночки, там откроется код."
   ]
  },
  {
   "cell_type": "markdown",
   "metadata": {},
   "source": [
    "Чтобы взять лучшую модель из GridSearchCV используйте метод gsCV.best_estimator_ после того, как обучите GridSearchCV на подбор лучших гиперпараметров.\n",
    "\n",
    "gsCV.best_estimator_ вернет модель с наилучшими гиперпараметрами с точки зрения качества roc_auc на кросс-валидации.\n",
    "\n",
    "Чтобы посмотреть параметры лучшей модели, используйте gsCV.best_params_"
   ]
  },
  {
   "cell_type": "markdown",
   "metadata": {},
   "source": [
    "#### Важно!!!\n",
    "\n",
    "Число деревьев (**n_estimators**) перебирать с помощью GridSearchCV НЕ НАДО!\n",
    "\n",
    "Если задание ниже не получится (можете по-старинке перебирать (но придется долго ждать))\n",
    "\n",
    "**(2 балла)**\n",
    "\n",
    "Подберём число деревьев (n_estimators) в алгоритме RandomForest, начиная с которого качество стабилизируется. Выполните задание одним из предложенных способов (можете сделать двумя, а потом сравнить их результаты).\n",
    "\n",
    "_Способ 1_\n",
    "1. Разбейте выборку на обучающую и тестовую с помощью train_test_split.\n",
    "2. Для каждого числа деревьев:\n",
    "  - Обучите модель на обучающей выборке\n",
    "  - Посчитайте скор на тестовой выборке\n",
    "  - Сохраните скор\n",
    "3. Проанализируйте зависимость качества предсказания модели от числа деревьев (постройте график).\n",
    "4. Напишите какое оптимальное количество деревьев следует использовать и почему.\n",
    "\n",
    "_Способ 2_\n",
    "1. Для каждого числа деревьев:\n",
    "  - Посчитайте скор, используя cross_val_score\n",
    "  - Сохраните скор\n",
    "3. Проанализируйте зависимость качества предсказания модели от числа деревьев (постройте график).\n",
    "4. Напишите какое оптимальное количество деревьев следует использовать и почему.\n",
    "\n",
    "В дальнейших экспериментах используйте подобранное количество деревьев."
   ]
  },
  {
   "cell_type": "code",
   "execution_count": null,
   "metadata": {},
   "outputs": [],
   "source": [
    "from sklearn.ensemble import RandomForestClassifier\n",
    "from sklearn.model_selection import train_test_split, cross_val_score"
   ]
  },
  {
   "cell_type": "markdown",
   "metadata": {},
   "source": [
    "#### Сначала подберите оптимальное количество деревьев, зафиксируйте, затем другие параметры."
   ]
  },
  {
   "cell_type": "code",
   "execution_count": null,
   "metadata": {},
   "outputs": [],
   "source": [
    "max_trees_number = 100\n",
    "result = []\n",
    "X_train, X_test, y_train, y_test = train_test_split(...) # для способа 1\n",
    "\n",
    "# Подсказка\n",
    "for current_trees_number in range(...):\n",
    "    # инициализируем модель\n",
    "    RFC_model = RandomForestClassifier(n_estimators=...)\n",
    "    # обучаем модель\n",
    "    RFC_model.fit(...)\n",
    "    # считаем скор\n",
    "    ...\n",
    "    # сохраняем скор\n",
    "    ..."
   ]
  },
  {
   "cell_type": "code",
   "execution_count": null,
   "metadata": {},
   "outputs": [],
   "source": [
    "..."
   ]
  },
  {
   "cell_type": "code",
   "execution_count": null,
   "metadata": {},
   "outputs": [],
   "source": [
    "import pylab as pl\n",
    "x_RFC = ...\n",
    "xTicks = [...]\n",
    "# rotation - поварьируйте (это угол поворота названий категорий гиперпараметров)\n",
    "pl.xticks(range(...), xTicks, rotation=...)\n",
    "pl.plot(x_RFC, ..., color=...)"
   ]
  },
  {
   "cell_type": "code",
   "execution_count": null,
   "metadata": {},
   "outputs": [],
   "source": [
    "..."
   ]
  },
  {
   "cell_type": "markdown",
   "metadata": {},
   "source": [
    "### 6. Ансамбль моделей"
   ]
  },
  {
   "cell_type": "markdown",
   "metadata": {},
   "source": [
    "**(2 балла)**\n",
    "\n",
    "Попробуйте \"заблендить\" модели (сложить результаты (ответы) разных алгоритмов) с разными коэффициентами перед ними.\n",
    "\n",
    "Попробуйте различные комбинации алгоритмов. А так же все три алгоритма вместе."
   ]
  },
  {
   "cell_type": "markdown",
   "metadata": {},
   "source": [
    "$$result(x) = clf_1(x) * \\alpha + clf_2(x) * (1 - \\alpha)$$"
   ]
  },
  {
   "cell_type": "markdown",
   "metadata": {},
   "source": [
    "Подробнее про ансамбли: [здесь](https://dyakonov.org/2017/03/10/cтекинг-stacking-и-блендинг-blending/)\n",
    "\n",
    "Простой пример использования VotingClassifier и его описание можно найти в официальной документации: [здесь](https://scikit-learn.org/stable/modules/generated/sklearn.ensemble.VotingClassifier.html) \n"
   ]
  },
  {
   "cell_type": "code",
   "execution_count": null,
   "metadata": {},
   "outputs": [],
   "source": [
    "# Библиотека для блендинга\n",
    "from sklearn.ensemble import VotingClassifier"
   ]
  },
  {
   "cell_type": "code",
   "execution_count": null,
   "metadata": {},
   "outputs": [],
   "source": [
    "..."
   ]
  },
  {
   "cell_type": "markdown",
   "metadata": {},
   "source": [
    "### 7. Ящик с усами"
   ]
  },
  {
   "cell_type": "markdown",
   "metadata": {},
   "source": [
    "**(2 балла)**"
   ]
  },
  {
   "cell_type": "markdown",
   "metadata": {},
   "source": [
    "Давайте посмотрим визуально на качество наших моделей. Вы уже знаете, какие гиперпараметры для наших моделей являются наилучшими. Зафиксируйте данные параметры:"
   ]
  },
  {
   "cell_type": "code",
   "execution_count": null,
   "metadata": {},
   "outputs": [],
   "source": [
    "best_model_knn = KNeighborsClassifier(...\"best params\"...) # Можно ручками или через .best_params_ или .best_model_\n",
    "best_model_random_forest = RandomForestClassifier(...\"best params\"...)  # Можно ручками или через .best_params_ или .best_model_\n",
    "best_model_sgd = SGDClassifier(...\"best params\"...)  # Можно ручками или через .best_params_ или .best_model_\n",
    "best_model_voting_classifier = voting_grid_search_CV.best_model_"
   ]
  },
  {
   "cell_type": "markdown",
   "metadata": {},
   "source": [
    "Посмотрим на наше качество на кросс_валидации:"
   ]
  },
  {
   "cell_type": "code",
   "execution_count": null,
   "metadata": {},
   "outputs": [],
   "source": [
    "from sklearn.model_selection import cross_val_score"
   ]
  },
  {
   "cell_type": "code",
   "execution_count": null,
   "metadata": {},
   "outputs": [],
   "source": [
    "# В качестве cv возьмите StratifiedKFold с 7 фолдами\n",
    "cv_score_knn = cross_val_score(estimator=..., X=..., y=..., cv=..., scoring='roc_auc')\n",
    "cv_score_random_forest = cross_val_score(estimator=..., X=..., y=..., cv=..., scoring='roc_auc')\n",
    "cv_score_sgd = cross_val_score(estimator=..., X=..., y=..., cv=..., scoring='roc_auc')\n",
    "cv_score_voting_classifier = cross_val_score(estimator=..., X=..., y=..., cv=..., scoring='roc_auc')"
   ]
  },
  {
   "cell_type": "markdown",
   "metadata": {},
   "source": [
    "Создайте таблицу pandas.DataFrame с колонками названиями методов (4 колонки), а значения - выход функции cross_val_score"
   ]
  },
  {
   "cell_type": "code",
   "execution_count": null,
   "metadata": {},
   "outputs": [],
   "source": [
    "final_result = pd.DataFrame(..., columns=[...])"
   ]
  },
  {
   "cell_type": "markdown",
   "metadata": {},
   "source": [
    "Запустите код ниже"
   ]
  },
  {
   "cell_type": "code",
   "execution_count": null,
   "metadata": {},
   "outputs": [],
   "source": [
    "ax = final_result.boxplot() \n",
    "_ = plt.setp(ax.lines, linewidth=2.0)\n",
    "plt.show()"
   ]
  },
  {
   "cell_type": "markdown",
   "metadata": {},
   "source": [
    "### 8. Выводы"
   ]
  },
  {
   "cell_type": "markdown",
   "metadata": {},
   "source": [
    "**(1 балл)**\n",
    "По графику выше сделайте вывод:\n",
    "- Какой алгоритм \"победил в соревновании\" за качество?\n",
    "- Лучший алгоритм с точки зрения качества/скорости работы (иногда это очень важно)\n",
    "- Опишите каждый алгоритм (вкратце), его плюсы и минусы"
   ]
  },
  {
   "cell_type": "markdown",
   "metadata": {},
   "source": [
    "_____"
   ]
  },
  {
   "cell_type": "markdown",
   "metadata": {},
   "source": [
    "_____"
   ]
  },
  {
   "cell_type": "markdown",
   "metadata": {},
   "source": [
    "_____"
   ]
  },
  {
   "cell_type": "markdown",
   "metadata": {},
   "source": [
    "_____"
   ]
  }
 ],
 "metadata": {
  "anaconda-cloud": {},
  "kernel_info": {
   "name": "py36"
  },
  "kernelspec": {
   "display_name": "Python 3",
   "language": "python",
   "name": "python3"
  },
  "language_info": {
   "codemirror_mode": {
    "name": "ipython",
    "version": 3
   },
   "file_extension": ".py",
   "mimetype": "text/x-python",
   "name": "python",
   "nbconvert_exporter": "python",
   "pygments_lexer": "ipython3",
   "version": "3.8.5"
  },
  "nteract": {
   "version": "0.15.0"
  }
 },
 "nbformat": 4,
 "nbformat_minor": 4
}

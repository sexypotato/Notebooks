{
 "cells": [
  {
   "cell_type": "code",
   "execution_count": 1,
   "id": "5222514a",
   "metadata": {
    "ExecuteTime": {
     "end_time": "2023-04-11T14:09:04.975798Z",
     "start_time": "2023-04-11T14:09:04.013096Z"
    }
   },
   "outputs": [],
   "source": [
    "import pandas as pd\n",
    "import numpy as np\n",
    "# pd.set_option(\"display.precision\", 2)"
   ]
  },
  {
   "cell_type": "markdown",
   "id": "6e4dcbd4",
   "metadata": {},
   "source": [
    "## Creating, reading and saving"
   ]
  },
  {
   "cell_type": "markdown",
   "id": "39a5ef67",
   "metadata": {},
   "source": [
    "Основные структуры данных:\n",
    "- Series - одномерная структура\n",
    "- DataFrame - двумерная структура\n",
    "\n",
    "Каждый столбец DataFrame - это объект Series"
   ]
  },
  {
   "cell_type": "markdown",
   "id": "43c0122e",
   "metadata": {},
   "source": [
    "#### Конструктор для создания таблиц"
   ]
  },
  {
   "cell_type": "code",
   "execution_count": 2,
   "id": "4b52d582",
   "metadata": {
    "ExecuteTime": {
     "end_time": "2023-04-11T14:09:52.448153Z",
     "start_time": "2023-04-11T14:09:52.416415Z"
    }
   },
   "outputs": [
    {
     "data": {
      "text/html": [
       "<div>\n",
       "<style scoped>\n",
       "    .dataframe tbody tr th:only-of-type {\n",
       "        vertical-align: middle;\n",
       "    }\n",
       "\n",
       "    .dataframe tbody tr th {\n",
       "        vertical-align: top;\n",
       "    }\n",
       "\n",
       "    .dataframe thead th {\n",
       "        text-align: right;\n",
       "    }\n",
       "</style>\n",
       "<table border=\"1\" class=\"dataframe\">\n",
       "  <thead>\n",
       "    <tr style=\"text-align: right;\">\n",
       "      <th></th>\n",
       "      <th>Bob</th>\n",
       "      <th>Sue</th>\n",
       "    </tr>\n",
       "  </thead>\n",
       "  <tbody>\n",
       "    <tr>\n",
       "      <th>0</th>\n",
       "      <td>I liked it.</td>\n",
       "      <td>It was awful.</td>\n",
       "    </tr>\n",
       "    <tr>\n",
       "      <th>1</th>\n",
       "      <td>Pretty good.</td>\n",
       "      <td>Bland.</td>\n",
       "    </tr>\n",
       "  </tbody>\n",
       "</table>\n",
       "</div>"
      ],
      "text/plain": [
       "            Bob            Sue\n",
       "0   I liked it.  It was awful.\n",
       "1  Pretty good.         Bland."
      ]
     },
     "execution_count": 2,
     "metadata": {},
     "output_type": "execute_result"
    }
   ],
   "source": [
    "df = pd.DataFrame([['I liked it.', 'It was awful.'], \n",
    "                  ['Pretty good.', 'Bland.']],\n",
    "                  columns = ['Bob', 'Sue'])\n",
    "df"
   ]
  },
  {
   "cell_type": "code",
   "execution_count": 3,
   "id": "5728d86f",
   "metadata": {
    "ExecuteTime": {
     "end_time": "2023-04-11T14:11:09.186731Z",
     "start_time": "2023-04-11T14:11:09.162962Z"
    }
   },
   "outputs": [
    {
     "data": {
      "text/html": [
       "<div>\n",
       "<style scoped>\n",
       "    .dataframe tbody tr th:only-of-type {\n",
       "        vertical-align: middle;\n",
       "    }\n",
       "\n",
       "    .dataframe tbody tr th {\n",
       "        vertical-align: top;\n",
       "    }\n",
       "\n",
       "    .dataframe thead th {\n",
       "        text-align: right;\n",
       "    }\n",
       "</style>\n",
       "<table border=\"1\" class=\"dataframe\">\n",
       "  <thead>\n",
       "    <tr style=\"text-align: right;\">\n",
       "      <th></th>\n",
       "      <th>Bob</th>\n",
       "      <th>Sue</th>\n",
       "    </tr>\n",
       "  </thead>\n",
       "  <tbody>\n",
       "    <tr>\n",
       "      <th>Product A</th>\n",
       "      <td>I liked it.</td>\n",
       "      <td>Pretty good.</td>\n",
       "    </tr>\n",
       "    <tr>\n",
       "      <th>Product B</th>\n",
       "      <td>It was awful.</td>\n",
       "      <td>Bland.</td>\n",
       "    </tr>\n",
       "  </tbody>\n",
       "</table>\n",
       "</div>"
      ],
      "text/plain": [
       "                     Bob           Sue\n",
       "Product A    I liked it.  Pretty good.\n",
       "Product B  It was awful.        Bland."
      ]
     },
     "metadata": {},
     "output_type": "display_data"
    },
    {
     "data": {
      "text/html": [
       "<div>\n",
       "<style scoped>\n",
       "    .dataframe tbody tr th:only-of-type {\n",
       "        vertical-align: middle;\n",
       "    }\n",
       "\n",
       "    .dataframe tbody tr th {\n",
       "        vertical-align: top;\n",
       "    }\n",
       "\n",
       "    .dataframe thead th {\n",
       "        text-align: right;\n",
       "    }\n",
       "</style>\n",
       "<table border=\"1\" class=\"dataframe\">\n",
       "  <thead>\n",
       "    <tr style=\"text-align: right;\">\n",
       "      <th></th>\n",
       "      <th>Bob</th>\n",
       "      <th>Sue</th>\n",
       "    </tr>\n",
       "  </thead>\n",
       "  <tbody>\n",
       "    <tr>\n",
       "      <th>Product A</th>\n",
       "      <td>I liked it.</td>\n",
       "      <td>It was awful.</td>\n",
       "    </tr>\n",
       "    <tr>\n",
       "      <th>Product B</th>\n",
       "      <td>Pretty good.</td>\n",
       "      <td>Bland.</td>\n",
       "    </tr>\n",
       "  </tbody>\n",
       "</table>\n",
       "</div>"
      ],
      "text/plain": [
       "                    Bob            Sue\n",
       "Product A   I liked it.  It was awful.\n",
       "Product B  Pretty good.         Bland."
      ]
     },
     "metadata": {},
     "output_type": "display_data"
    }
   ],
   "source": [
    "# 1\n",
    "df1 = pd.DataFrame({'Bob': ['I liked it.', 'It was awful.'], \n",
    "              'Sue': ['Pretty good.', 'Bland.']},\n",
    "             index=['Product A', 'Product B'])\n",
    "\n",
    "display(df1)\n",
    "# 2\n",
    "df2 = pd.DataFrame([['I liked it.', 'It was awful.'], \n",
    "                  ['Pretty good.', 'Bland.']],\n",
    "                  columns = ['Bob', 'Sue'],\n",
    "             index=['Product A', 'Product B'])\n",
    "display(df2)"
   ]
  },
  {
   "cell_type": "code",
   "execution_count": 4,
   "id": "4f32086a",
   "metadata": {
    "ExecuteTime": {
     "end_time": "2023-04-11T14:11:45.181827Z",
     "start_time": "2023-04-11T14:11:45.169189Z"
    }
   },
   "outputs": [
    {
     "name": "stdout",
     "output_type": "stream",
     "text": [
      "Размер DataFrame: (2, 2)\n",
      "Индекс DataFrame: RangeIndex(start=0, stop=2, step=1)\n",
      "Столбцы DataFrame: Index(['Bob', 'Sue'], dtype='object')\n",
      "Значения DataFrame:\n",
      "[['I liked it.' 'It was awful.']\n",
      " ['Pretty good.' 'Bland.']]\n"
     ]
    }
   ],
   "source": [
    "print (\"Размер DataFrame:\", df.shape)\n",
    "print (\"Индекс DataFrame:\", df.index)\n",
    "print (\"Столбцы DataFrame:\", df.columns)\n",
    "print (\"Значения DataFrame:\")\n",
    "print (df.values)"
   ]
  },
  {
   "cell_type": "code",
   "execution_count": 5,
   "id": "a27f16e0",
   "metadata": {
    "ExecuteTime": {
     "end_time": "2023-04-11T14:12:17.219451Z",
     "start_time": "2023-04-11T14:12:17.212498Z"
    }
   },
   "outputs": [
    {
     "data": {
      "text/plain": [
       "array([0, 1])"
      ]
     },
     "execution_count": 5,
     "metadata": {},
     "output_type": "execute_result"
    }
   ],
   "source": [
    "df.index # генератор\n",
    "df.index.values # массив"
   ]
  },
  {
   "cell_type": "markdown",
   "id": "aa53f194",
   "metadata": {},
   "source": [
    "#### Чтение из файлов "
   ]
  },
  {
   "cell_type": "markdown",
   "id": "a8b03a17",
   "metadata": {},
   "source": [
    "В pandas есть возможность считывать таблицы данных различных расширений:\n",
    "- csv (pd.read_csv)\n",
    "- excel (pd.read_excel)\n",
    "- sas (pd.read_sas)\n",
    "- ..."
   ]
  },
  {
   "cell_type": "markdown",
   "id": "7598d4d3",
   "metadata": {},
   "source": [
    "Считаем 2 таблицы:\n",
    "- covid_data.csv - статистика по короновирусу по странам\n",
    "- countries.csv - информация о странах"
   ]
  },
  {
   "cell_type": "code",
   "execution_count": 6,
   "id": "541e200c",
   "metadata": {
    "ExecuteTime": {
     "end_time": "2023-04-11T14:13:13.528505Z",
     "start_time": "2023-04-11T14:13:13.097506Z"
    }
   },
   "outputs": [],
   "source": [
    "# считаем 2 csv \n",
    "data = pd.read_csv('covid_data.csv')\n",
    "countries = pd.read_csv('countries.csv')"
   ]
  },
  {
   "cell_type": "code",
   "execution_count": 7,
   "id": "8b7a9b34",
   "metadata": {
    "ExecuteTime": {
     "end_time": "2023-04-11T14:13:15.478093Z",
     "start_time": "2023-04-11T14:13:15.445184Z"
    }
   },
   "outputs": [
    {
     "data": {
      "text/html": [
       "<div>\n",
       "<style scoped>\n",
       "    .dataframe tbody tr th:only-of-type {\n",
       "        vertical-align: middle;\n",
       "    }\n",
       "\n",
       "    .dataframe tbody tr th {\n",
       "        vertical-align: top;\n",
       "    }\n",
       "\n",
       "    .dataframe thead th {\n",
       "        text-align: right;\n",
       "    }\n",
       "</style>\n",
       "<table border=\"1\" class=\"dataframe\">\n",
       "  <thead>\n",
       "    <tr style=\"text-align: right;\">\n",
       "      <th></th>\n",
       "      <th>iso_code</th>\n",
       "      <th>date</th>\n",
       "      <th>total_cases</th>\n",
       "      <th>new_cases</th>\n",
       "      <th>new_cases_smoothed</th>\n",
       "      <th>total_deaths</th>\n",
       "      <th>new_deaths</th>\n",
       "      <th>new_deaths_smoothed</th>\n",
       "      <th>total_cases_per_million</th>\n",
       "      <th>new_cases_per_million</th>\n",
       "      <th>...</th>\n",
       "      <th>female_smokers</th>\n",
       "      <th>male_smokers</th>\n",
       "      <th>handwashing_facilities</th>\n",
       "      <th>hospital_beds_per_thousand</th>\n",
       "      <th>life_expectancy</th>\n",
       "      <th>human_development_index</th>\n",
       "      <th>excess_mortality_cumulative_absolute</th>\n",
       "      <th>excess_mortality_cumulative</th>\n",
       "      <th>excess_mortality</th>\n",
       "      <th>excess_mortality_cumulative_per_million</th>\n",
       "    </tr>\n",
       "  </thead>\n",
       "  <tbody>\n",
       "    <tr>\n",
       "      <th>0</th>\n",
       "      <td>AFG</td>\n",
       "      <td>2020-02-24</td>\n",
       "      <td>5.0</td>\n",
       "      <td>5.0</td>\n",
       "      <td>NaN</td>\n",
       "      <td>NaN</td>\n",
       "      <td>NaN</td>\n",
       "      <td>NaN</td>\n",
       "      <td>0.126</td>\n",
       "      <td>0.126</td>\n",
       "      <td>...</td>\n",
       "      <td>NaN</td>\n",
       "      <td>NaN</td>\n",
       "      <td>37.746</td>\n",
       "      <td>0.5</td>\n",
       "      <td>64.83</td>\n",
       "      <td>0.511</td>\n",
       "      <td>NaN</td>\n",
       "      <td>NaN</td>\n",
       "      <td>NaN</td>\n",
       "      <td>NaN</td>\n",
       "    </tr>\n",
       "    <tr>\n",
       "      <th>1</th>\n",
       "      <td>AFG</td>\n",
       "      <td>2020-02-25</td>\n",
       "      <td>5.0</td>\n",
       "      <td>0.0</td>\n",
       "      <td>NaN</td>\n",
       "      <td>NaN</td>\n",
       "      <td>NaN</td>\n",
       "      <td>NaN</td>\n",
       "      <td>0.126</td>\n",
       "      <td>0.000</td>\n",
       "      <td>...</td>\n",
       "      <td>NaN</td>\n",
       "      <td>NaN</td>\n",
       "      <td>37.746</td>\n",
       "      <td>0.5</td>\n",
       "      <td>64.83</td>\n",
       "      <td>0.511</td>\n",
       "      <td>NaN</td>\n",
       "      <td>NaN</td>\n",
       "      <td>NaN</td>\n",
       "      <td>NaN</td>\n",
       "    </tr>\n",
       "    <tr>\n",
       "      <th>2</th>\n",
       "      <td>AFG</td>\n",
       "      <td>2020-02-26</td>\n",
       "      <td>5.0</td>\n",
       "      <td>0.0</td>\n",
       "      <td>NaN</td>\n",
       "      <td>NaN</td>\n",
       "      <td>NaN</td>\n",
       "      <td>NaN</td>\n",
       "      <td>0.126</td>\n",
       "      <td>0.000</td>\n",
       "      <td>...</td>\n",
       "      <td>NaN</td>\n",
       "      <td>NaN</td>\n",
       "      <td>37.746</td>\n",
       "      <td>0.5</td>\n",
       "      <td>64.83</td>\n",
       "      <td>0.511</td>\n",
       "      <td>NaN</td>\n",
       "      <td>NaN</td>\n",
       "      <td>NaN</td>\n",
       "      <td>NaN</td>\n",
       "    </tr>\n",
       "    <tr>\n",
       "      <th>3</th>\n",
       "      <td>AFG</td>\n",
       "      <td>2020-02-27</td>\n",
       "      <td>5.0</td>\n",
       "      <td>0.0</td>\n",
       "      <td>NaN</td>\n",
       "      <td>NaN</td>\n",
       "      <td>NaN</td>\n",
       "      <td>NaN</td>\n",
       "      <td>0.126</td>\n",
       "      <td>0.000</td>\n",
       "      <td>...</td>\n",
       "      <td>NaN</td>\n",
       "      <td>NaN</td>\n",
       "      <td>37.746</td>\n",
       "      <td>0.5</td>\n",
       "      <td>64.83</td>\n",
       "      <td>0.511</td>\n",
       "      <td>NaN</td>\n",
       "      <td>NaN</td>\n",
       "      <td>NaN</td>\n",
       "      <td>NaN</td>\n",
       "    </tr>\n",
       "    <tr>\n",
       "      <th>4</th>\n",
       "      <td>AFG</td>\n",
       "      <td>2020-02-28</td>\n",
       "      <td>5.0</td>\n",
       "      <td>0.0</td>\n",
       "      <td>NaN</td>\n",
       "      <td>NaN</td>\n",
       "      <td>NaN</td>\n",
       "      <td>NaN</td>\n",
       "      <td>0.126</td>\n",
       "      <td>0.000</td>\n",
       "      <td>...</td>\n",
       "      <td>NaN</td>\n",
       "      <td>NaN</td>\n",
       "      <td>37.746</td>\n",
       "      <td>0.5</td>\n",
       "      <td>64.83</td>\n",
       "      <td>0.511</td>\n",
       "      <td>NaN</td>\n",
       "      <td>NaN</td>\n",
       "      <td>NaN</td>\n",
       "      <td>NaN</td>\n",
       "    </tr>\n",
       "    <tr>\n",
       "      <th>5</th>\n",
       "      <td>AFG</td>\n",
       "      <td>2020-02-29</td>\n",
       "      <td>5.0</td>\n",
       "      <td>0.0</td>\n",
       "      <td>0.714</td>\n",
       "      <td>NaN</td>\n",
       "      <td>NaN</td>\n",
       "      <td>0.0</td>\n",
       "      <td>0.126</td>\n",
       "      <td>0.000</td>\n",
       "      <td>...</td>\n",
       "      <td>NaN</td>\n",
       "      <td>NaN</td>\n",
       "      <td>37.746</td>\n",
       "      <td>0.5</td>\n",
       "      <td>64.83</td>\n",
       "      <td>0.511</td>\n",
       "      <td>NaN</td>\n",
       "      <td>NaN</td>\n",
       "      <td>NaN</td>\n",
       "      <td>NaN</td>\n",
       "    </tr>\n",
       "    <tr>\n",
       "      <th>6</th>\n",
       "      <td>AFG</td>\n",
       "      <td>2020-03-01</td>\n",
       "      <td>5.0</td>\n",
       "      <td>0.0</td>\n",
       "      <td>0.714</td>\n",
       "      <td>NaN</td>\n",
       "      <td>NaN</td>\n",
       "      <td>0.0</td>\n",
       "      <td>0.126</td>\n",
       "      <td>0.000</td>\n",
       "      <td>...</td>\n",
       "      <td>NaN</td>\n",
       "      <td>NaN</td>\n",
       "      <td>37.746</td>\n",
       "      <td>0.5</td>\n",
       "      <td>64.83</td>\n",
       "      <td>0.511</td>\n",
       "      <td>NaN</td>\n",
       "      <td>NaN</td>\n",
       "      <td>NaN</td>\n",
       "      <td>NaN</td>\n",
       "    </tr>\n",
       "    <tr>\n",
       "      <th>7</th>\n",
       "      <td>AFG</td>\n",
       "      <td>2020-03-02</td>\n",
       "      <td>5.0</td>\n",
       "      <td>0.0</td>\n",
       "      <td>0.000</td>\n",
       "      <td>NaN</td>\n",
       "      <td>NaN</td>\n",
       "      <td>0.0</td>\n",
       "      <td>0.126</td>\n",
       "      <td>0.000</td>\n",
       "      <td>...</td>\n",
       "      <td>NaN</td>\n",
       "      <td>NaN</td>\n",
       "      <td>37.746</td>\n",
       "      <td>0.5</td>\n",
       "      <td>64.83</td>\n",
       "      <td>0.511</td>\n",
       "      <td>NaN</td>\n",
       "      <td>NaN</td>\n",
       "      <td>NaN</td>\n",
       "      <td>NaN</td>\n",
       "    </tr>\n",
       "    <tr>\n",
       "      <th>8</th>\n",
       "      <td>AFG</td>\n",
       "      <td>2020-03-03</td>\n",
       "      <td>5.0</td>\n",
       "      <td>0.0</td>\n",
       "      <td>0.000</td>\n",
       "      <td>NaN</td>\n",
       "      <td>NaN</td>\n",
       "      <td>0.0</td>\n",
       "      <td>0.126</td>\n",
       "      <td>0.000</td>\n",
       "      <td>...</td>\n",
       "      <td>NaN</td>\n",
       "      <td>NaN</td>\n",
       "      <td>37.746</td>\n",
       "      <td>0.5</td>\n",
       "      <td>64.83</td>\n",
       "      <td>0.511</td>\n",
       "      <td>NaN</td>\n",
       "      <td>NaN</td>\n",
       "      <td>NaN</td>\n",
       "      <td>NaN</td>\n",
       "    </tr>\n",
       "    <tr>\n",
       "      <th>9</th>\n",
       "      <td>AFG</td>\n",
       "      <td>2020-03-04</td>\n",
       "      <td>5.0</td>\n",
       "      <td>0.0</td>\n",
       "      <td>0.000</td>\n",
       "      <td>NaN</td>\n",
       "      <td>NaN</td>\n",
       "      <td>0.0</td>\n",
       "      <td>0.126</td>\n",
       "      <td>0.000</td>\n",
       "      <td>...</td>\n",
       "      <td>NaN</td>\n",
       "      <td>NaN</td>\n",
       "      <td>37.746</td>\n",
       "      <td>0.5</td>\n",
       "      <td>64.83</td>\n",
       "      <td>0.511</td>\n",
       "      <td>NaN</td>\n",
       "      <td>NaN</td>\n",
       "      <td>NaN</td>\n",
       "      <td>NaN</td>\n",
       "    </tr>\n",
       "  </tbody>\n",
       "</table>\n",
       "<p>10 rows × 63 columns</p>\n",
       "</div>"
      ],
      "text/plain": [
       "  iso_code        date  total_cases  new_cases  new_cases_smoothed  \\\n",
       "0      AFG  2020-02-24          5.0        5.0                 NaN   \n",
       "1      AFG  2020-02-25          5.0        0.0                 NaN   \n",
       "2      AFG  2020-02-26          5.0        0.0                 NaN   \n",
       "3      AFG  2020-02-27          5.0        0.0                 NaN   \n",
       "4      AFG  2020-02-28          5.0        0.0                 NaN   \n",
       "5      AFG  2020-02-29          5.0        0.0               0.714   \n",
       "6      AFG  2020-03-01          5.0        0.0               0.714   \n",
       "7      AFG  2020-03-02          5.0        0.0               0.000   \n",
       "8      AFG  2020-03-03          5.0        0.0               0.000   \n",
       "9      AFG  2020-03-04          5.0        0.0               0.000   \n",
       "\n",
       "   total_deaths  new_deaths  new_deaths_smoothed  total_cases_per_million  \\\n",
       "0           NaN         NaN                  NaN                    0.126   \n",
       "1           NaN         NaN                  NaN                    0.126   \n",
       "2           NaN         NaN                  NaN                    0.126   \n",
       "3           NaN         NaN                  NaN                    0.126   \n",
       "4           NaN         NaN                  NaN                    0.126   \n",
       "5           NaN         NaN                  0.0                    0.126   \n",
       "6           NaN         NaN                  0.0                    0.126   \n",
       "7           NaN         NaN                  0.0                    0.126   \n",
       "8           NaN         NaN                  0.0                    0.126   \n",
       "9           NaN         NaN                  0.0                    0.126   \n",
       "\n",
       "   new_cases_per_million  ...  female_smokers  male_smokers  \\\n",
       "0                  0.126  ...             NaN           NaN   \n",
       "1                  0.000  ...             NaN           NaN   \n",
       "2                  0.000  ...             NaN           NaN   \n",
       "3                  0.000  ...             NaN           NaN   \n",
       "4                  0.000  ...             NaN           NaN   \n",
       "5                  0.000  ...             NaN           NaN   \n",
       "6                  0.000  ...             NaN           NaN   \n",
       "7                  0.000  ...             NaN           NaN   \n",
       "8                  0.000  ...             NaN           NaN   \n",
       "9                  0.000  ...             NaN           NaN   \n",
       "\n",
       "   handwashing_facilities  hospital_beds_per_thousand  life_expectancy  \\\n",
       "0                  37.746                         0.5            64.83   \n",
       "1                  37.746                         0.5            64.83   \n",
       "2                  37.746                         0.5            64.83   \n",
       "3                  37.746                         0.5            64.83   \n",
       "4                  37.746                         0.5            64.83   \n",
       "5                  37.746                         0.5            64.83   \n",
       "6                  37.746                         0.5            64.83   \n",
       "7                  37.746                         0.5            64.83   \n",
       "8                  37.746                         0.5            64.83   \n",
       "9                  37.746                         0.5            64.83   \n",
       "\n",
       "   human_development_index  excess_mortality_cumulative_absolute  \\\n",
       "0                    0.511                                   NaN   \n",
       "1                    0.511                                   NaN   \n",
       "2                    0.511                                   NaN   \n",
       "3                    0.511                                   NaN   \n",
       "4                    0.511                                   NaN   \n",
       "5                    0.511                                   NaN   \n",
       "6                    0.511                                   NaN   \n",
       "7                    0.511                                   NaN   \n",
       "8                    0.511                                   NaN   \n",
       "9                    0.511                                   NaN   \n",
       "\n",
       "   excess_mortality_cumulative  excess_mortality  \\\n",
       "0                          NaN               NaN   \n",
       "1                          NaN               NaN   \n",
       "2                          NaN               NaN   \n",
       "3                          NaN               NaN   \n",
       "4                          NaN               NaN   \n",
       "5                          NaN               NaN   \n",
       "6                          NaN               NaN   \n",
       "7                          NaN               NaN   \n",
       "8                          NaN               NaN   \n",
       "9                          NaN               NaN   \n",
       "\n",
       "   excess_mortality_cumulative_per_million  \n",
       "0                                      NaN  \n",
       "1                                      NaN  \n",
       "2                                      NaN  \n",
       "3                                      NaN  \n",
       "4                                      NaN  \n",
       "5                                      NaN  \n",
       "6                                      NaN  \n",
       "7                                      NaN  \n",
       "8                                      NaN  \n",
       "9                                      NaN  \n",
       "\n",
       "[10 rows x 63 columns]"
      ]
     },
     "execution_count": 7,
     "metadata": {},
     "output_type": "execute_result"
    }
   ],
   "source": [
    "data.head(10)"
   ]
  },
  {
   "cell_type": "code",
   "execution_count": 8,
   "id": "f295abad",
   "metadata": {
    "ExecuteTime": {
     "end_time": "2023-04-11T14:14:35.941975Z",
     "start_time": "2023-04-11T14:13:59.342278Z"
    }
   },
   "outputs": [
    {
     "ename": "KeyboardInterrupt",
     "evalue": "",
     "output_type": "error",
     "traceback": [
      "\u001b[0;31m---------------------------------------------------------------------------\u001b[0m",
      "\u001b[0;31mKeyboardInterrupt\u001b[0m                         Traceback (most recent call last)",
      "\u001b[0;32m~/opt/anaconda3/lib/python3.8/site-packages/pandas/io/formats/excel.py\u001b[0m in \u001b[0;36mwrite\u001b[0;34m(self, writer, sheet_name, startrow, startcol, freeze_panes, engine, storage_options)\u001b[0m\n\u001b[1;32m    820\u001b[0m         \u001b[0;32mtry\u001b[0m\u001b[0;34m:\u001b[0m\u001b[0;34m\u001b[0m\u001b[0;34m\u001b[0m\u001b[0m\n\u001b[0;32m--> 821\u001b[0;31m             writer.write_cells(\n\u001b[0m\u001b[1;32m    822\u001b[0m                 \u001b[0mformatted_cells\u001b[0m\u001b[0;34m,\u001b[0m\u001b[0;34m\u001b[0m\u001b[0;34m\u001b[0m\u001b[0m\n",
      "\u001b[0;32m~/opt/anaconda3/lib/python3.8/site-packages/pandas/io/excel/_xlsxwriter.py\u001b[0m in \u001b[0;36mwrite_cells\u001b[0;34m(self, cells, sheet_name, startrow, startcol, freeze_panes)\u001b[0m\n\u001b[1;32m    239\u001b[0m             \u001b[0;32melse\u001b[0m\u001b[0;34m:\u001b[0m\u001b[0;34m\u001b[0m\u001b[0;34m\u001b[0m\u001b[0m\n\u001b[0;32m--> 240\u001b[0;31m                 \u001b[0mwks\u001b[0m\u001b[0;34m.\u001b[0m\u001b[0mwrite\u001b[0m\u001b[0;34m(\u001b[0m\u001b[0mstartrow\u001b[0m \u001b[0;34m+\u001b[0m \u001b[0mcell\u001b[0m\u001b[0;34m.\u001b[0m\u001b[0mrow\u001b[0m\u001b[0;34m,\u001b[0m \u001b[0mstartcol\u001b[0m \u001b[0;34m+\u001b[0m \u001b[0mcell\u001b[0m\u001b[0;34m.\u001b[0m\u001b[0mcol\u001b[0m\u001b[0;34m,\u001b[0m \u001b[0mval\u001b[0m\u001b[0;34m,\u001b[0m \u001b[0mstyle\u001b[0m\u001b[0;34m)\u001b[0m\u001b[0;34m\u001b[0m\u001b[0;34m\u001b[0m\u001b[0m\n\u001b[0m",
      "\u001b[0;32m~/opt/anaconda3/lib/python3.8/site-packages/xlsxwriter/worksheet.py\u001b[0m in \u001b[0;36mcell_wrapper\u001b[0;34m(self, *args, **kwargs)\u001b[0m\n\u001b[1;32m     68\u001b[0m \u001b[0;34m\u001b[0m\u001b[0m\n\u001b[0;32m---> 69\u001b[0;31m         \u001b[0;32mreturn\u001b[0m \u001b[0mmethod\u001b[0m\u001b[0;34m(\u001b[0m\u001b[0mself\u001b[0m\u001b[0;34m,\u001b[0m \u001b[0;34m*\u001b[0m\u001b[0margs\u001b[0m\u001b[0;34m,\u001b[0m \u001b[0;34m**\u001b[0m\u001b[0mkwargs\u001b[0m\u001b[0;34m)\u001b[0m\u001b[0;34m\u001b[0m\u001b[0;34m\u001b[0m\u001b[0m\n\u001b[0m\u001b[1;32m     70\u001b[0m \u001b[0;34m\u001b[0m\u001b[0m\n",
      "\u001b[0;32m~/opt/anaconda3/lib/python3.8/site-packages/xlsxwriter/worksheet.py\u001b[0m in \u001b[0;36mwrite\u001b[0;34m(self, row, col, *args)\u001b[0m\n\u001b[1;32m    421\u001b[0m         \"\"\"\n\u001b[0;32m--> 422\u001b[0;31m         \u001b[0;32mreturn\u001b[0m \u001b[0mself\u001b[0m\u001b[0;34m.\u001b[0m\u001b[0m_write\u001b[0m\u001b[0;34m(\u001b[0m\u001b[0mrow\u001b[0m\u001b[0;34m,\u001b[0m \u001b[0mcol\u001b[0m\u001b[0;34m,\u001b[0m \u001b[0;34m*\u001b[0m\u001b[0margs\u001b[0m\u001b[0;34m)\u001b[0m\u001b[0;34m\u001b[0m\u001b[0;34m\u001b[0m\u001b[0m\n\u001b[0m\u001b[1;32m    423\u001b[0m \u001b[0;34m\u001b[0m\u001b[0m\n",
      "\u001b[0;32m~/opt/anaconda3/lib/python3.8/site-packages/xlsxwriter/worksheet.py\u001b[0m in \u001b[0;36m_write\u001b[0;34m(self, row, col, *args)\u001b[0m\n\u001b[1;32m    457\u001b[0m         \u001b[0;32mif\u001b[0m \u001b[0mtoken_type\u001b[0m \u001b[0;32min\u001b[0m \u001b[0mnum_types\u001b[0m\u001b[0;34m:\u001b[0m\u001b[0;34m\u001b[0m\u001b[0;34m\u001b[0m\u001b[0m\n\u001b[0;32m--> 458\u001b[0;31m             \u001b[0;32mreturn\u001b[0m \u001b[0mself\u001b[0m\u001b[0;34m.\u001b[0m\u001b[0m_write_number\u001b[0m\u001b[0;34m(\u001b[0m\u001b[0mrow\u001b[0m\u001b[0;34m,\u001b[0m \u001b[0mcol\u001b[0m\u001b[0;34m,\u001b[0m \u001b[0;34m*\u001b[0m\u001b[0margs\u001b[0m\u001b[0;34m)\u001b[0m\u001b[0;34m\u001b[0m\u001b[0;34m\u001b[0m\u001b[0m\n\u001b[0m\u001b[1;32m    459\u001b[0m \u001b[0;34m\u001b[0m\u001b[0m\n",
      "\u001b[0;32m~/opt/anaconda3/lib/python3.8/site-packages/xlsxwriter/worksheet.py\u001b[0m in \u001b[0;36m_write_number\u001b[0;34m(self, row, col, number, cell_format)\u001b[0m\n\u001b[1;32m    601\u001b[0m         \u001b[0;31m# Store the cell data in the worksheet data table.\u001b[0m\u001b[0;34m\u001b[0m\u001b[0;34m\u001b[0m\u001b[0;34m\u001b[0m\u001b[0m\n\u001b[0;32m--> 602\u001b[0;31m         \u001b[0mself\u001b[0m\u001b[0;34m.\u001b[0m\u001b[0mtable\u001b[0m\u001b[0;34m[\u001b[0m\u001b[0mrow\u001b[0m\u001b[0;34m]\u001b[0m\u001b[0;34m[\u001b[0m\u001b[0mcol\u001b[0m\u001b[0;34m]\u001b[0m \u001b[0;34m=\u001b[0m \u001b[0mcell_number_tuple\u001b[0m\u001b[0;34m(\u001b[0m\u001b[0mnumber\u001b[0m\u001b[0;34m,\u001b[0m \u001b[0mcell_format\u001b[0m\u001b[0;34m)\u001b[0m\u001b[0;34m\u001b[0m\u001b[0;34m\u001b[0m\u001b[0m\n\u001b[0m\u001b[1;32m    603\u001b[0m \u001b[0;34m\u001b[0m\u001b[0m\n",
      "\u001b[0;31mKeyboardInterrupt\u001b[0m: ",
      "\nDuring handling of the above exception, another exception occurred:\n",
      "\u001b[0;31mKeyboardInterrupt\u001b[0m                         Traceback (most recent call last)",
      "\u001b[0;32m<ipython-input-8-300307e832b4>\u001b[0m in \u001b[0;36m<module>\u001b[0;34m\u001b[0m\n\u001b[1;32m      3\u001b[0m \u001b[0;34m\u001b[0m\u001b[0m\n\u001b[1;32m      4\u001b[0m \u001b[0;31m# можно сохроанить в разные форматы\u001b[0m\u001b[0;34m\u001b[0m\u001b[0;34m\u001b[0m\u001b[0;34m\u001b[0m\u001b[0m\n\u001b[0;32m----> 5\u001b[0;31m \u001b[0mdata\u001b[0m\u001b[0;34m.\u001b[0m\u001b[0mto_excel\u001b[0m\u001b[0;34m(\u001b[0m\u001b[0;34m'covid_data_1.xlsx'\u001b[0m\u001b[0;34m,\u001b[0m \u001b[0mindex\u001b[0m\u001b[0;34m=\u001b[0m\u001b[0;32mFalse\u001b[0m\u001b[0;34m)\u001b[0m\u001b[0;34m\u001b[0m\u001b[0;34m\u001b[0m\u001b[0m\n\u001b[0m",
      "\u001b[0;32m~/opt/anaconda3/lib/python3.8/site-packages/pandas/core/generic.py\u001b[0m in \u001b[0;36mto_excel\u001b[0;34m(self, excel_writer, sheet_name, na_rep, float_format, columns, header, index, index_label, startrow, startcol, engine, merge_cells, encoding, inf_rep, verbose, freeze_panes, storage_options)\u001b[0m\n\u001b[1;32m   2187\u001b[0m             \u001b[0minf_rep\u001b[0m\u001b[0;34m=\u001b[0m\u001b[0minf_rep\u001b[0m\u001b[0;34m,\u001b[0m\u001b[0;34m\u001b[0m\u001b[0;34m\u001b[0m\u001b[0m\n\u001b[1;32m   2188\u001b[0m         )\n\u001b[0;32m-> 2189\u001b[0;31m         formatter.write(\n\u001b[0m\u001b[1;32m   2190\u001b[0m             \u001b[0mexcel_writer\u001b[0m\u001b[0;34m,\u001b[0m\u001b[0;34m\u001b[0m\u001b[0;34m\u001b[0m\u001b[0m\n\u001b[1;32m   2191\u001b[0m             \u001b[0msheet_name\u001b[0m\u001b[0;34m=\u001b[0m\u001b[0msheet_name\u001b[0m\u001b[0;34m,\u001b[0m\u001b[0;34m\u001b[0m\u001b[0;34m\u001b[0m\u001b[0m\n",
      "\u001b[0;32m~/opt/anaconda3/lib/python3.8/site-packages/pandas/io/formats/excel.py\u001b[0m in \u001b[0;36mwrite\u001b[0;34m(self, writer, sheet_name, startrow, startcol, freeze_panes, engine, storage_options)\u001b[0m\n\u001b[1;32m    829\u001b[0m             \u001b[0;31m# make sure to close opened file handles\u001b[0m\u001b[0;34m\u001b[0m\u001b[0;34m\u001b[0m\u001b[0;34m\u001b[0m\u001b[0m\n\u001b[1;32m    830\u001b[0m             \u001b[0;32mif\u001b[0m \u001b[0mneed_save\u001b[0m\u001b[0;34m:\u001b[0m\u001b[0;34m\u001b[0m\u001b[0;34m\u001b[0m\u001b[0m\n\u001b[0;32m--> 831\u001b[0;31m                 \u001b[0mwriter\u001b[0m\u001b[0;34m.\u001b[0m\u001b[0mclose\u001b[0m\u001b[0;34m(\u001b[0m\u001b[0;34m)\u001b[0m\u001b[0;34m\u001b[0m\u001b[0;34m\u001b[0m\u001b[0m\n\u001b[0m",
      "\u001b[0;32m~/opt/anaconda3/lib/python3.8/site-packages/pandas/io/excel/_base.py\u001b[0m in \u001b[0;36mclose\u001b[0;34m(self)\u001b[0m\n\u001b[1;32m    896\u001b[0m     \u001b[0;32mdef\u001b[0m \u001b[0mclose\u001b[0m\u001b[0;34m(\u001b[0m\u001b[0mself\u001b[0m\u001b[0;34m)\u001b[0m\u001b[0;34m:\u001b[0m\u001b[0;34m\u001b[0m\u001b[0;34m\u001b[0m\u001b[0m\n\u001b[1;32m    897\u001b[0m         \u001b[0;34m\"\"\"synonym for save, to make it more file-like\"\"\"\u001b[0m\u001b[0;34m\u001b[0m\u001b[0;34m\u001b[0m\u001b[0m\n\u001b[0;32m--> 898\u001b[0;31m         \u001b[0mcontent\u001b[0m \u001b[0;34m=\u001b[0m \u001b[0mself\u001b[0m\u001b[0;34m.\u001b[0m\u001b[0msave\u001b[0m\u001b[0;34m(\u001b[0m\u001b[0;34m)\u001b[0m\u001b[0;34m\u001b[0m\u001b[0;34m\u001b[0m\u001b[0m\n\u001b[0m\u001b[1;32m    899\u001b[0m         \u001b[0mself\u001b[0m\u001b[0;34m.\u001b[0m\u001b[0mhandles\u001b[0m\u001b[0;34m.\u001b[0m\u001b[0mclose\u001b[0m\u001b[0;34m(\u001b[0m\u001b[0;34m)\u001b[0m\u001b[0;34m\u001b[0m\u001b[0;34m\u001b[0m\u001b[0m\n\u001b[1;32m    900\u001b[0m         \u001b[0;32mreturn\u001b[0m \u001b[0mcontent\u001b[0m\u001b[0;34m\u001b[0m\u001b[0;34m\u001b[0m\u001b[0m\n",
      "\u001b[0;32m~/opt/anaconda3/lib/python3.8/site-packages/pandas/io/excel/_xlsxwriter.py\u001b[0m in \u001b[0;36msave\u001b[0;34m(self)\u001b[0m\n\u001b[1;32m    196\u001b[0m         \u001b[0mSave\u001b[0m \u001b[0mworkbook\u001b[0m \u001b[0mto\u001b[0m \u001b[0mdisk\u001b[0m\u001b[0;34m.\u001b[0m\u001b[0;34m\u001b[0m\u001b[0;34m\u001b[0m\u001b[0m\n\u001b[1;32m    197\u001b[0m         \"\"\"\n\u001b[0;32m--> 198\u001b[0;31m         \u001b[0;32mreturn\u001b[0m \u001b[0mself\u001b[0m\u001b[0;34m.\u001b[0m\u001b[0mbook\u001b[0m\u001b[0;34m.\u001b[0m\u001b[0mclose\u001b[0m\u001b[0;34m(\u001b[0m\u001b[0;34m)\u001b[0m\u001b[0;34m\u001b[0m\u001b[0;34m\u001b[0m\u001b[0m\n\u001b[0m\u001b[1;32m    199\u001b[0m \u001b[0;34m\u001b[0m\u001b[0m\n\u001b[1;32m    200\u001b[0m     def write_cells(\n",
      "\u001b[0;32m~/opt/anaconda3/lib/python3.8/site-packages/xlsxwriter/workbook.py\u001b[0m in \u001b[0;36mclose\u001b[0;34m(self)\u001b[0m\n\u001b[1;32m    319\u001b[0m \u001b[0;34m\u001b[0m\u001b[0m\n\u001b[1;32m    320\u001b[0m             \u001b[0;32mtry\u001b[0m\u001b[0;34m:\u001b[0m\u001b[0;34m\u001b[0m\u001b[0;34m\u001b[0m\u001b[0m\n\u001b[0;32m--> 321\u001b[0;31m                 \u001b[0mself\u001b[0m\u001b[0;34m.\u001b[0m\u001b[0m_store_workbook\u001b[0m\u001b[0;34m(\u001b[0m\u001b[0;34m)\u001b[0m\u001b[0;34m\u001b[0m\u001b[0;34m\u001b[0m\u001b[0m\n\u001b[0m\u001b[1;32m    322\u001b[0m             \u001b[0;32mexcept\u001b[0m \u001b[0mIOError\u001b[0m \u001b[0;32mas\u001b[0m \u001b[0me\u001b[0m\u001b[0;34m:\u001b[0m\u001b[0;34m\u001b[0m\u001b[0;34m\u001b[0m\u001b[0m\n\u001b[1;32m    323\u001b[0m                 \u001b[0;32mraise\u001b[0m \u001b[0mFileCreateError\u001b[0m\u001b[0;34m(\u001b[0m\u001b[0me\u001b[0m\u001b[0;34m)\u001b[0m\u001b[0;34m\u001b[0m\u001b[0;34m\u001b[0m\u001b[0m\n",
      "\u001b[0;32m~/opt/anaconda3/lib/python3.8/site-packages/xlsxwriter/workbook.py\u001b[0m in \u001b[0;36m_store_workbook\u001b[0;34m(self)\u001b[0m\n\u001b[1;32m    706\u001b[0m         \u001b[0mpackager\u001b[0m\u001b[0;34m.\u001b[0m\u001b[0m_set_tmpdir\u001b[0m\u001b[0;34m(\u001b[0m\u001b[0mself\u001b[0m\u001b[0;34m.\u001b[0m\u001b[0mtmpdir\u001b[0m\u001b[0;34m)\u001b[0m\u001b[0;34m\u001b[0m\u001b[0;34m\u001b[0m\u001b[0m\n\u001b[1;32m    707\u001b[0m         \u001b[0mpackager\u001b[0m\u001b[0;34m.\u001b[0m\u001b[0m_set_in_memory\u001b[0m\u001b[0;34m(\u001b[0m\u001b[0mself\u001b[0m\u001b[0;34m.\u001b[0m\u001b[0min_memory\u001b[0m\u001b[0;34m)\u001b[0m\u001b[0;34m\u001b[0m\u001b[0;34m\u001b[0m\u001b[0m\n\u001b[0;32m--> 708\u001b[0;31m         \u001b[0mxml_files\u001b[0m \u001b[0;34m=\u001b[0m \u001b[0mpackager\u001b[0m\u001b[0;34m.\u001b[0m\u001b[0m_create_package\u001b[0m\u001b[0;34m(\u001b[0m\u001b[0;34m)\u001b[0m\u001b[0;34m\u001b[0m\u001b[0;34m\u001b[0m\u001b[0m\n\u001b[0m\u001b[1;32m    709\u001b[0m \u001b[0;34m\u001b[0m\u001b[0m\n\u001b[1;32m    710\u001b[0m         \u001b[0;31m# Free up the Packager object.\u001b[0m\u001b[0;34m\u001b[0m\u001b[0;34m\u001b[0m\u001b[0;34m\u001b[0m\u001b[0m\n",
      "\u001b[0;32m~/opt/anaconda3/lib/python3.8/site-packages/xlsxwriter/packager.py\u001b[0m in \u001b[0;36m_create_package\u001b[0;34m(self)\u001b[0m\n\u001b[1;32m    133\u001b[0m         \u001b[0mself\u001b[0m\u001b[0;34m.\u001b[0m\u001b[0m_write_root_rels_file\u001b[0m\u001b[0;34m(\u001b[0m\u001b[0;34m)\u001b[0m\u001b[0;34m\u001b[0m\u001b[0;34m\u001b[0m\u001b[0m\n\u001b[1;32m    134\u001b[0m         \u001b[0mself\u001b[0m\u001b[0;34m.\u001b[0m\u001b[0m_write_workbook_rels_file\u001b[0m\u001b[0;34m(\u001b[0m\u001b[0;34m)\u001b[0m\u001b[0;34m\u001b[0m\u001b[0;34m\u001b[0m\u001b[0m\n\u001b[0;32m--> 135\u001b[0;31m         \u001b[0mself\u001b[0m\u001b[0;34m.\u001b[0m\u001b[0m_write_worksheet_files\u001b[0m\u001b[0;34m(\u001b[0m\u001b[0;34m)\u001b[0m\u001b[0;34m\u001b[0m\u001b[0;34m\u001b[0m\u001b[0m\n\u001b[0m\u001b[1;32m    136\u001b[0m         \u001b[0mself\u001b[0m\u001b[0;34m.\u001b[0m\u001b[0m_write_chartsheet_files\u001b[0m\u001b[0;34m(\u001b[0m\u001b[0;34m)\u001b[0m\u001b[0;34m\u001b[0m\u001b[0;34m\u001b[0m\u001b[0m\n\u001b[1;32m    137\u001b[0m         \u001b[0mself\u001b[0m\u001b[0;34m.\u001b[0m\u001b[0m_write_workbook_file\u001b[0m\u001b[0;34m(\u001b[0m\u001b[0;34m)\u001b[0m\u001b[0;34m\u001b[0m\u001b[0;34m\u001b[0m\u001b[0m\n",
      "\u001b[0;32m~/opt/anaconda3/lib/python3.8/site-packages/xlsxwriter/packager.py\u001b[0m in \u001b[0;36m_write_worksheet_files\u001b[0;34m(self)\u001b[0m\n\u001b[1;32m    188\u001b[0m             worksheet._set_xml_writer(self._filename('xl/worksheets/sheet'\n\u001b[1;32m    189\u001b[0m                                                      + str(index) + '.xml'))\n\u001b[0;32m--> 190\u001b[0;31m             \u001b[0mworksheet\u001b[0m\u001b[0;34m.\u001b[0m\u001b[0m_assemble_xml_file\u001b[0m\u001b[0;34m(\u001b[0m\u001b[0;34m)\u001b[0m\u001b[0;34m\u001b[0m\u001b[0;34m\u001b[0m\u001b[0m\n\u001b[0m\u001b[1;32m    191\u001b[0m             \u001b[0mindex\u001b[0m \u001b[0;34m+=\u001b[0m \u001b[0;36m1\u001b[0m\u001b[0;34m\u001b[0m\u001b[0;34m\u001b[0m\u001b[0m\n\u001b[1;32m    192\u001b[0m \u001b[0;34m\u001b[0m\u001b[0m\n",
      "\u001b[0;32m~/opt/anaconda3/lib/python3.8/site-packages/xlsxwriter/worksheet.py\u001b[0m in \u001b[0;36m_assemble_xml_file\u001b[0;34m(self)\u001b[0m\n\u001b[1;32m   3876\u001b[0m         \u001b[0;31m# Write the worksheet data such as rows columns and cells.\u001b[0m\u001b[0;34m\u001b[0m\u001b[0;34m\u001b[0m\u001b[0;34m\u001b[0m\u001b[0m\n\u001b[1;32m   3877\u001b[0m         \u001b[0;32mif\u001b[0m \u001b[0;32mnot\u001b[0m \u001b[0mself\u001b[0m\u001b[0;34m.\u001b[0m\u001b[0mconstant_memory\u001b[0m\u001b[0;34m:\u001b[0m\u001b[0;34m\u001b[0m\u001b[0;34m\u001b[0m\u001b[0m\n\u001b[0;32m-> 3878\u001b[0;31m             \u001b[0mself\u001b[0m\u001b[0;34m.\u001b[0m\u001b[0m_write_sheet_data\u001b[0m\u001b[0;34m(\u001b[0m\u001b[0;34m)\u001b[0m\u001b[0;34m\u001b[0m\u001b[0;34m\u001b[0m\u001b[0m\n\u001b[0m\u001b[1;32m   3879\u001b[0m         \u001b[0;32melse\u001b[0m\u001b[0;34m:\u001b[0m\u001b[0;34m\u001b[0m\u001b[0;34m\u001b[0m\u001b[0m\n\u001b[1;32m   3880\u001b[0m             \u001b[0mself\u001b[0m\u001b[0;34m.\u001b[0m\u001b[0m_write_optimized_sheet_data\u001b[0m\u001b[0;34m(\u001b[0m\u001b[0;34m)\u001b[0m\u001b[0;34m\u001b[0m\u001b[0;34m\u001b[0m\u001b[0m\n",
      "\u001b[0;32m~/opt/anaconda3/lib/python3.8/site-packages/xlsxwriter/worksheet.py\u001b[0m in \u001b[0;36m_write_sheet_data\u001b[0;34m(self)\u001b[0m\n\u001b[1;32m   5491\u001b[0m         \u001b[0;32melse\u001b[0m\u001b[0;34m:\u001b[0m\u001b[0;34m\u001b[0m\u001b[0;34m\u001b[0m\u001b[0m\n\u001b[1;32m   5492\u001b[0m             \u001b[0mself\u001b[0m\u001b[0;34m.\u001b[0m\u001b[0m_xml_start_tag\u001b[0m\u001b[0;34m(\u001b[0m\u001b[0;34m'sheetData'\u001b[0m\u001b[0;34m)\u001b[0m\u001b[0;34m\u001b[0m\u001b[0;34m\u001b[0m\u001b[0m\n\u001b[0;32m-> 5493\u001b[0;31m             \u001b[0mself\u001b[0m\u001b[0;34m.\u001b[0m\u001b[0m_write_rows\u001b[0m\u001b[0;34m(\u001b[0m\u001b[0;34m)\u001b[0m\u001b[0;34m\u001b[0m\u001b[0;34m\u001b[0m\u001b[0m\n\u001b[0m\u001b[1;32m   5494\u001b[0m             \u001b[0mself\u001b[0m\u001b[0;34m.\u001b[0m\u001b[0m_xml_end_tag\u001b[0m\u001b[0;34m(\u001b[0m\u001b[0;34m'sheetData'\u001b[0m\u001b[0;34m)\u001b[0m\u001b[0;34m\u001b[0m\u001b[0;34m\u001b[0m\u001b[0m\n\u001b[1;32m   5495\u001b[0m \u001b[0;34m\u001b[0m\u001b[0m\n",
      "\u001b[0;32m~/opt/anaconda3/lib/python3.8/site-packages/xlsxwriter/worksheet.py\u001b[0m in \u001b[0;36m_write_rows\u001b[0;34m(self)\u001b[0m\n\u001b[1;32m   5659\u001b[0m     \u001b[0;32mdef\u001b[0m \u001b[0m_write_rows\u001b[0m\u001b[0;34m(\u001b[0m\u001b[0mself\u001b[0m\u001b[0;34m)\u001b[0m\u001b[0;34m:\u001b[0m\u001b[0;34m\u001b[0m\u001b[0;34m\u001b[0m\u001b[0m\n\u001b[1;32m   5660\u001b[0m         \u001b[0;31m# Write out the worksheet data as a series of rows and cells.\u001b[0m\u001b[0;34m\u001b[0m\u001b[0;34m\u001b[0m\u001b[0;34m\u001b[0m\u001b[0m\n\u001b[0;32m-> 5661\u001b[0;31m         \u001b[0mself\u001b[0m\u001b[0;34m.\u001b[0m\u001b[0m_calculate_spans\u001b[0m\u001b[0;34m(\u001b[0m\u001b[0;34m)\u001b[0m\u001b[0;34m\u001b[0m\u001b[0;34m\u001b[0m\u001b[0m\n\u001b[0m\u001b[1;32m   5662\u001b[0m \u001b[0;34m\u001b[0m\u001b[0m\n\u001b[1;32m   5663\u001b[0m         \u001b[0;32mfor\u001b[0m \u001b[0mrow_num\u001b[0m \u001b[0;32min\u001b[0m \u001b[0mrange\u001b[0m\u001b[0;34m(\u001b[0m\u001b[0mself\u001b[0m\u001b[0;34m.\u001b[0m\u001b[0mdim_rowmin\u001b[0m\u001b[0;34m,\u001b[0m \u001b[0mself\u001b[0m\u001b[0;34m.\u001b[0m\u001b[0mdim_rowmax\u001b[0m \u001b[0;34m+\u001b[0m \u001b[0;36m1\u001b[0m\u001b[0;34m)\u001b[0m\u001b[0;34m:\u001b[0m\u001b[0;34m\u001b[0m\u001b[0;34m\u001b[0m\u001b[0m\n",
      "\u001b[0;32m~/opt/anaconda3/lib/python3.8/site-packages/xlsxwriter/worksheet.py\u001b[0m in \u001b[0;36m_calculate_spans\u001b[0;34m(self)\u001b[0m\n\u001b[1;32m   5748\u001b[0m             \u001b[0;32mif\u001b[0m \u001b[0mrow_num\u001b[0m \u001b[0;32min\u001b[0m \u001b[0mself\u001b[0m\u001b[0;34m.\u001b[0m\u001b[0mtable\u001b[0m\u001b[0;34m:\u001b[0m\u001b[0;34m\u001b[0m\u001b[0;34m\u001b[0m\u001b[0m\n\u001b[1;32m   5749\u001b[0m                 \u001b[0;31m# Calculate spans for cell data.\u001b[0m\u001b[0;34m\u001b[0m\u001b[0;34m\u001b[0m\u001b[0;34m\u001b[0m\u001b[0m\n\u001b[0;32m-> 5750\u001b[0;31m                 \u001b[0;32mfor\u001b[0m \u001b[0mcol_num\u001b[0m \u001b[0;32min\u001b[0m \u001b[0mrange\u001b[0m\u001b[0;34m(\u001b[0m\u001b[0mself\u001b[0m\u001b[0;34m.\u001b[0m\u001b[0mdim_colmin\u001b[0m\u001b[0;34m,\u001b[0m \u001b[0mself\u001b[0m\u001b[0;34m.\u001b[0m\u001b[0mdim_colmax\u001b[0m \u001b[0;34m+\u001b[0m \u001b[0;36m1\u001b[0m\u001b[0;34m)\u001b[0m\u001b[0;34m:\u001b[0m\u001b[0;34m\u001b[0m\u001b[0;34m\u001b[0m\u001b[0m\n\u001b[0m\u001b[1;32m   5751\u001b[0m                     \u001b[0;32mif\u001b[0m \u001b[0mcol_num\u001b[0m \u001b[0;32min\u001b[0m \u001b[0mself\u001b[0m\u001b[0;34m.\u001b[0m\u001b[0mtable\u001b[0m\u001b[0;34m[\u001b[0m\u001b[0mrow_num\u001b[0m\u001b[0;34m]\u001b[0m\u001b[0;34m:\u001b[0m\u001b[0;34m\u001b[0m\u001b[0;34m\u001b[0m\u001b[0m\n\u001b[1;32m   5752\u001b[0m                         \u001b[0;32mif\u001b[0m \u001b[0mspan_min\u001b[0m \u001b[0;32mis\u001b[0m \u001b[0;32mNone\u001b[0m\u001b[0;34m:\u001b[0m\u001b[0;34m\u001b[0m\u001b[0;34m\u001b[0m\u001b[0m\n",
      "\u001b[0;31mKeyboardInterrupt\u001b[0m: "
     ]
    }
   ],
   "source": [
    "# сохраним таблицу в файл\n",
    "data.to_csv('covid_data_1.csv', index=False)\n",
    "\n",
    "# можно сохроанить в разные форматы\n",
    "data.to_excel('covid_data_1.xlsx', index=False)"
   ]
  },
  {
   "cell_type": "markdown",
   "id": "0471b020",
   "metadata": {},
   "source": [
    "## Indexing and selecting"
   ]
  },
  {
   "cell_type": "markdown",
   "id": "8af4a2a6",
   "metadata": {},
   "source": [
    "Вернемся к DataFrame.\n"
   ]
  },
  {
   "cell_type": "code",
   "execution_count": 9,
   "id": "5bf32684",
   "metadata": {
    "ExecuteTime": {
     "end_time": "2023-04-11T14:14:40.643115Z",
     "start_time": "2023-04-11T14:14:40.613787Z"
    }
   },
   "outputs": [
    {
     "data": {
      "text/html": [
       "<div>\n",
       "<style scoped>\n",
       "    .dataframe tbody tr th:only-of-type {\n",
       "        vertical-align: middle;\n",
       "    }\n",
       "\n",
       "    .dataframe tbody tr th {\n",
       "        vertical-align: top;\n",
       "    }\n",
       "\n",
       "    .dataframe thead th {\n",
       "        text-align: right;\n",
       "    }\n",
       "</style>\n",
       "<table border=\"1\" class=\"dataframe\">\n",
       "  <thead>\n",
       "    <tr style=\"text-align: right;\">\n",
       "      <th></th>\n",
       "      <th>iso_code</th>\n",
       "      <th>date</th>\n",
       "      <th>total_cases</th>\n",
       "      <th>new_cases</th>\n",
       "      <th>new_cases_smoothed</th>\n",
       "      <th>total_deaths</th>\n",
       "      <th>new_deaths</th>\n",
       "      <th>new_deaths_smoothed</th>\n",
       "      <th>total_cases_per_million</th>\n",
       "      <th>new_cases_per_million</th>\n",
       "      <th>...</th>\n",
       "      <th>female_smokers</th>\n",
       "      <th>male_smokers</th>\n",
       "      <th>handwashing_facilities</th>\n",
       "      <th>hospital_beds_per_thousand</th>\n",
       "      <th>life_expectancy</th>\n",
       "      <th>human_development_index</th>\n",
       "      <th>excess_mortality_cumulative_absolute</th>\n",
       "      <th>excess_mortality_cumulative</th>\n",
       "      <th>excess_mortality</th>\n",
       "      <th>excess_mortality_cumulative_per_million</th>\n",
       "    </tr>\n",
       "  </thead>\n",
       "  <tbody>\n",
       "    <tr>\n",
       "      <th>0</th>\n",
       "      <td>AFG</td>\n",
       "      <td>2020-02-24</td>\n",
       "      <td>5.0</td>\n",
       "      <td>5.0</td>\n",
       "      <td>NaN</td>\n",
       "      <td>NaN</td>\n",
       "      <td>NaN</td>\n",
       "      <td>NaN</td>\n",
       "      <td>0.126</td>\n",
       "      <td>0.126</td>\n",
       "      <td>...</td>\n",
       "      <td>NaN</td>\n",
       "      <td>NaN</td>\n",
       "      <td>37.746</td>\n",
       "      <td>0.5</td>\n",
       "      <td>64.83</td>\n",
       "      <td>0.511</td>\n",
       "      <td>NaN</td>\n",
       "      <td>NaN</td>\n",
       "      <td>NaN</td>\n",
       "      <td>NaN</td>\n",
       "    </tr>\n",
       "    <tr>\n",
       "      <th>1</th>\n",
       "      <td>AFG</td>\n",
       "      <td>2020-02-25</td>\n",
       "      <td>5.0</td>\n",
       "      <td>0.0</td>\n",
       "      <td>NaN</td>\n",
       "      <td>NaN</td>\n",
       "      <td>NaN</td>\n",
       "      <td>NaN</td>\n",
       "      <td>0.126</td>\n",
       "      <td>0.000</td>\n",
       "      <td>...</td>\n",
       "      <td>NaN</td>\n",
       "      <td>NaN</td>\n",
       "      <td>37.746</td>\n",
       "      <td>0.5</td>\n",
       "      <td>64.83</td>\n",
       "      <td>0.511</td>\n",
       "      <td>NaN</td>\n",
       "      <td>NaN</td>\n",
       "      <td>NaN</td>\n",
       "      <td>NaN</td>\n",
       "    </tr>\n",
       "    <tr>\n",
       "      <th>2</th>\n",
       "      <td>AFG</td>\n",
       "      <td>2020-02-26</td>\n",
       "      <td>5.0</td>\n",
       "      <td>0.0</td>\n",
       "      <td>NaN</td>\n",
       "      <td>NaN</td>\n",
       "      <td>NaN</td>\n",
       "      <td>NaN</td>\n",
       "      <td>0.126</td>\n",
       "      <td>0.000</td>\n",
       "      <td>...</td>\n",
       "      <td>NaN</td>\n",
       "      <td>NaN</td>\n",
       "      <td>37.746</td>\n",
       "      <td>0.5</td>\n",
       "      <td>64.83</td>\n",
       "      <td>0.511</td>\n",
       "      <td>NaN</td>\n",
       "      <td>NaN</td>\n",
       "      <td>NaN</td>\n",
       "      <td>NaN</td>\n",
       "    </tr>\n",
       "    <tr>\n",
       "      <th>3</th>\n",
       "      <td>AFG</td>\n",
       "      <td>2020-02-27</td>\n",
       "      <td>5.0</td>\n",
       "      <td>0.0</td>\n",
       "      <td>NaN</td>\n",
       "      <td>NaN</td>\n",
       "      <td>NaN</td>\n",
       "      <td>NaN</td>\n",
       "      <td>0.126</td>\n",
       "      <td>0.000</td>\n",
       "      <td>...</td>\n",
       "      <td>NaN</td>\n",
       "      <td>NaN</td>\n",
       "      <td>37.746</td>\n",
       "      <td>0.5</td>\n",
       "      <td>64.83</td>\n",
       "      <td>0.511</td>\n",
       "      <td>NaN</td>\n",
       "      <td>NaN</td>\n",
       "      <td>NaN</td>\n",
       "      <td>NaN</td>\n",
       "    </tr>\n",
       "    <tr>\n",
       "      <th>4</th>\n",
       "      <td>AFG</td>\n",
       "      <td>2020-02-28</td>\n",
       "      <td>5.0</td>\n",
       "      <td>0.0</td>\n",
       "      <td>NaN</td>\n",
       "      <td>NaN</td>\n",
       "      <td>NaN</td>\n",
       "      <td>NaN</td>\n",
       "      <td>0.126</td>\n",
       "      <td>0.000</td>\n",
       "      <td>...</td>\n",
       "      <td>NaN</td>\n",
       "      <td>NaN</td>\n",
       "      <td>37.746</td>\n",
       "      <td>0.5</td>\n",
       "      <td>64.83</td>\n",
       "      <td>0.511</td>\n",
       "      <td>NaN</td>\n",
       "      <td>NaN</td>\n",
       "      <td>NaN</td>\n",
       "      <td>NaN</td>\n",
       "    </tr>\n",
       "  </tbody>\n",
       "</table>\n",
       "<p>5 rows × 63 columns</p>\n",
       "</div>"
      ],
      "text/plain": [
       "  iso_code        date  total_cases  new_cases  new_cases_smoothed  \\\n",
       "0      AFG  2020-02-24          5.0        5.0                 NaN   \n",
       "1      AFG  2020-02-25          5.0        0.0                 NaN   \n",
       "2      AFG  2020-02-26          5.0        0.0                 NaN   \n",
       "3      AFG  2020-02-27          5.0        0.0                 NaN   \n",
       "4      AFG  2020-02-28          5.0        0.0                 NaN   \n",
       "\n",
       "   total_deaths  new_deaths  new_deaths_smoothed  total_cases_per_million  \\\n",
       "0           NaN         NaN                  NaN                    0.126   \n",
       "1           NaN         NaN                  NaN                    0.126   \n",
       "2           NaN         NaN                  NaN                    0.126   \n",
       "3           NaN         NaN                  NaN                    0.126   \n",
       "4           NaN         NaN                  NaN                    0.126   \n",
       "\n",
       "   new_cases_per_million  ...  female_smokers  male_smokers  \\\n",
       "0                  0.126  ...             NaN           NaN   \n",
       "1                  0.000  ...             NaN           NaN   \n",
       "2                  0.000  ...             NaN           NaN   \n",
       "3                  0.000  ...             NaN           NaN   \n",
       "4                  0.000  ...             NaN           NaN   \n",
       "\n",
       "   handwashing_facilities  hospital_beds_per_thousand  life_expectancy  \\\n",
       "0                  37.746                         0.5            64.83   \n",
       "1                  37.746                         0.5            64.83   \n",
       "2                  37.746                         0.5            64.83   \n",
       "3                  37.746                         0.5            64.83   \n",
       "4                  37.746                         0.5            64.83   \n",
       "\n",
       "   human_development_index  excess_mortality_cumulative_absolute  \\\n",
       "0                    0.511                                   NaN   \n",
       "1                    0.511                                   NaN   \n",
       "2                    0.511                                   NaN   \n",
       "3                    0.511                                   NaN   \n",
       "4                    0.511                                   NaN   \n",
       "\n",
       "   excess_mortality_cumulative  excess_mortality  \\\n",
       "0                          NaN               NaN   \n",
       "1                          NaN               NaN   \n",
       "2                          NaN               NaN   \n",
       "3                          NaN               NaN   \n",
       "4                          NaN               NaN   \n",
       "\n",
       "   excess_mortality_cumulative_per_million  \n",
       "0                                      NaN  \n",
       "1                                      NaN  \n",
       "2                                      NaN  \n",
       "3                                      NaN  \n",
       "4                                      NaN  \n",
       "\n",
       "[5 rows x 63 columns]"
      ]
     },
     "execution_count": 9,
     "metadata": {},
     "output_type": "execute_result"
    }
   ],
   "source": [
    "data.head(5)"
   ]
  },
  {
   "cell_type": "code",
   "execution_count": 10,
   "id": "035dafec",
   "metadata": {
    "ExecuteTime": {
     "end_time": "2023-04-11T14:14:46.058215Z",
     "start_time": "2023-04-11T14:14:46.026870Z"
    }
   },
   "outputs": [
    {
     "data": {
      "text/html": [
       "<div>\n",
       "<style scoped>\n",
       "    .dataframe tbody tr th:only-of-type {\n",
       "        vertical-align: middle;\n",
       "    }\n",
       "\n",
       "    .dataframe tbody tr th {\n",
       "        vertical-align: top;\n",
       "    }\n",
       "\n",
       "    .dataframe thead th {\n",
       "        text-align: right;\n",
       "    }\n",
       "</style>\n",
       "<table border=\"1\" class=\"dataframe\">\n",
       "  <thead>\n",
       "    <tr style=\"text-align: right;\">\n",
       "      <th></th>\n",
       "      <th>iso_code</th>\n",
       "      <th>date</th>\n",
       "      <th>total_cases</th>\n",
       "      <th>new_cases</th>\n",
       "      <th>new_cases_smoothed</th>\n",
       "      <th>total_deaths</th>\n",
       "      <th>new_deaths</th>\n",
       "      <th>new_deaths_smoothed</th>\n",
       "      <th>total_cases_per_million</th>\n",
       "      <th>new_cases_per_million</th>\n",
       "      <th>...</th>\n",
       "      <th>female_smokers</th>\n",
       "      <th>male_smokers</th>\n",
       "      <th>handwashing_facilities</th>\n",
       "      <th>hospital_beds_per_thousand</th>\n",
       "      <th>life_expectancy</th>\n",
       "      <th>human_development_index</th>\n",
       "      <th>excess_mortality_cumulative_absolute</th>\n",
       "      <th>excess_mortality_cumulative</th>\n",
       "      <th>excess_mortality</th>\n",
       "      <th>excess_mortality_cumulative_per_million</th>\n",
       "    </tr>\n",
       "  </thead>\n",
       "  <tbody>\n",
       "    <tr>\n",
       "      <th>125306</th>\n",
       "      <td>ZWE</td>\n",
       "      <td>2021-10-17</td>\n",
       "      <td>132368.0</td>\n",
       "      <td>35.0</td>\n",
       "      <td>81.714</td>\n",
       "      <td>4658.0</td>\n",
       "      <td>1.0</td>\n",
       "      <td>3.000</td>\n",
       "      <td>8770.640</td>\n",
       "      <td>2.319</td>\n",
       "      <td>...</td>\n",
       "      <td>1.6</td>\n",
       "      <td>30.7</td>\n",
       "      <td>36.791</td>\n",
       "      <td>1.7</td>\n",
       "      <td>61.49</td>\n",
       "      <td>0.571</td>\n",
       "      <td>NaN</td>\n",
       "      <td>NaN</td>\n",
       "      <td>NaN</td>\n",
       "      <td>NaN</td>\n",
       "    </tr>\n",
       "    <tr>\n",
       "      <th>125307</th>\n",
       "      <td>ZWE</td>\n",
       "      <td>2021-10-18</td>\n",
       "      <td>132368.0</td>\n",
       "      <td>0.0</td>\n",
       "      <td>70.429</td>\n",
       "      <td>4658.0</td>\n",
       "      <td>0.0</td>\n",
       "      <td>2.143</td>\n",
       "      <td>8770.640</td>\n",
       "      <td>0.000</td>\n",
       "      <td>...</td>\n",
       "      <td>1.6</td>\n",
       "      <td>30.7</td>\n",
       "      <td>36.791</td>\n",
       "      <td>1.7</td>\n",
       "      <td>61.49</td>\n",
       "      <td>0.571</td>\n",
       "      <td>NaN</td>\n",
       "      <td>NaN</td>\n",
       "      <td>NaN</td>\n",
       "      <td>NaN</td>\n",
       "    </tr>\n",
       "    <tr>\n",
       "      <th>125308</th>\n",
       "      <td>ZWE</td>\n",
       "      <td>2021-10-19</td>\n",
       "      <td>132405.0</td>\n",
       "      <td>37.0</td>\n",
       "      <td>55.571</td>\n",
       "      <td>4659.0</td>\n",
       "      <td>1.0</td>\n",
       "      <td>2.000</td>\n",
       "      <td>8773.092</td>\n",
       "      <td>2.452</td>\n",
       "      <td>...</td>\n",
       "      <td>1.6</td>\n",
       "      <td>30.7</td>\n",
       "      <td>36.791</td>\n",
       "      <td>1.7</td>\n",
       "      <td>61.49</td>\n",
       "      <td>0.571</td>\n",
       "      <td>NaN</td>\n",
       "      <td>NaN</td>\n",
       "      <td>NaN</td>\n",
       "      <td>NaN</td>\n",
       "    </tr>\n",
       "    <tr>\n",
       "      <th>125309</th>\n",
       "      <td>ZWE</td>\n",
       "      <td>2021-10-20</td>\n",
       "      <td>132437.0</td>\n",
       "      <td>32.0</td>\n",
       "      <td>47.000</td>\n",
       "      <td>4659.0</td>\n",
       "      <td>0.0</td>\n",
       "      <td>1.571</td>\n",
       "      <td>8775.212</td>\n",
       "      <td>2.120</td>\n",
       "      <td>...</td>\n",
       "      <td>1.6</td>\n",
       "      <td>30.7</td>\n",
       "      <td>36.791</td>\n",
       "      <td>1.7</td>\n",
       "      <td>61.49</td>\n",
       "      <td>0.571</td>\n",
       "      <td>NaN</td>\n",
       "      <td>NaN</td>\n",
       "      <td>NaN</td>\n",
       "      <td>NaN</td>\n",
       "    </tr>\n",
       "    <tr>\n",
       "      <th>125310</th>\n",
       "      <td>ZWE</td>\n",
       "      <td>2021-10-21</td>\n",
       "      <td>132540.0</td>\n",
       "      <td>103.0</td>\n",
       "      <td>41.286</td>\n",
       "      <td>4662.0</td>\n",
       "      <td>3.0</td>\n",
       "      <td>1.000</td>\n",
       "      <td>8782.037</td>\n",
       "      <td>6.825</td>\n",
       "      <td>...</td>\n",
       "      <td>1.6</td>\n",
       "      <td>30.7</td>\n",
       "      <td>36.791</td>\n",
       "      <td>1.7</td>\n",
       "      <td>61.49</td>\n",
       "      <td>0.571</td>\n",
       "      <td>NaN</td>\n",
       "      <td>NaN</td>\n",
       "      <td>NaN</td>\n",
       "      <td>NaN</td>\n",
       "    </tr>\n",
       "  </tbody>\n",
       "</table>\n",
       "<p>5 rows × 63 columns</p>\n",
       "</div>"
      ],
      "text/plain": [
       "       iso_code        date  total_cases  new_cases  new_cases_smoothed  \\\n",
       "125306      ZWE  2021-10-17     132368.0       35.0              81.714   \n",
       "125307      ZWE  2021-10-18     132368.0        0.0              70.429   \n",
       "125308      ZWE  2021-10-19     132405.0       37.0              55.571   \n",
       "125309      ZWE  2021-10-20     132437.0       32.0              47.000   \n",
       "125310      ZWE  2021-10-21     132540.0      103.0              41.286   \n",
       "\n",
       "        total_deaths  new_deaths  new_deaths_smoothed  \\\n",
       "125306        4658.0         1.0                3.000   \n",
       "125307        4658.0         0.0                2.143   \n",
       "125308        4659.0         1.0                2.000   \n",
       "125309        4659.0         0.0                1.571   \n",
       "125310        4662.0         3.0                1.000   \n",
       "\n",
       "        total_cases_per_million  new_cases_per_million  ...  female_smokers  \\\n",
       "125306                 8770.640                  2.319  ...             1.6   \n",
       "125307                 8770.640                  0.000  ...             1.6   \n",
       "125308                 8773.092                  2.452  ...             1.6   \n",
       "125309                 8775.212                  2.120  ...             1.6   \n",
       "125310                 8782.037                  6.825  ...             1.6   \n",
       "\n",
       "        male_smokers  handwashing_facilities  hospital_beds_per_thousand  \\\n",
       "125306          30.7                  36.791                         1.7   \n",
       "125307          30.7                  36.791                         1.7   \n",
       "125308          30.7                  36.791                         1.7   \n",
       "125309          30.7                  36.791                         1.7   \n",
       "125310          30.7                  36.791                         1.7   \n",
       "\n",
       "        life_expectancy  human_development_index  \\\n",
       "125306            61.49                    0.571   \n",
       "125307            61.49                    0.571   \n",
       "125308            61.49                    0.571   \n",
       "125309            61.49                    0.571   \n",
       "125310            61.49                    0.571   \n",
       "\n",
       "        excess_mortality_cumulative_absolute  excess_mortality_cumulative  \\\n",
       "125306                                   NaN                          NaN   \n",
       "125307                                   NaN                          NaN   \n",
       "125308                                   NaN                          NaN   \n",
       "125309                                   NaN                          NaN   \n",
       "125310                                   NaN                          NaN   \n",
       "\n",
       "        excess_mortality  excess_mortality_cumulative_per_million  \n",
       "125306               NaN                                      NaN  \n",
       "125307               NaN                                      NaN  \n",
       "125308               NaN                                      NaN  \n",
       "125309               NaN                                      NaN  \n",
       "125310               NaN                                      NaN  \n",
       "\n",
       "[5 rows x 63 columns]"
      ]
     },
     "execution_count": 10,
     "metadata": {},
     "output_type": "execute_result"
    }
   ],
   "source": [
    "data.tail(5)"
   ]
  },
  {
   "cell_type": "markdown",
   "id": "58b7b10d",
   "metadata": {},
   "source": [
    "#### .loc\n",
    "Передавать можно:\n",
    "- метку\n",
    "- список меток\n",
    "- slice (правый конец включен)\n",
    "- булевский массив\n",
    "- lambda-функции"
   ]
  },
  {
   "cell_type": "code",
   "execution_count": null,
   "id": "d7820919",
   "metadata": {},
   "outputs": [],
   "source": [
    "[start:end:step]"
   ]
  },
  {
   "cell_type": "code",
   "execution_count": 11,
   "id": "44c565e4",
   "metadata": {
    "ExecuteTime": {
     "end_time": "2023-04-11T14:16:46.271284Z",
     "start_time": "2023-04-11T14:16:46.228948Z"
    }
   },
   "outputs": [
    {
     "data": {
      "text/html": [
       "<div>\n",
       "<style scoped>\n",
       "    .dataframe tbody tr th:only-of-type {\n",
       "        vertical-align: middle;\n",
       "    }\n",
       "\n",
       "    .dataframe tbody tr th {\n",
       "        vertical-align: top;\n",
       "    }\n",
       "\n",
       "    .dataframe thead th {\n",
       "        text-align: right;\n",
       "    }\n",
       "</style>\n",
       "<table border=\"1\" class=\"dataframe\">\n",
       "  <thead>\n",
       "    <tr style=\"text-align: right;\">\n",
       "      <th></th>\n",
       "      <th>date</th>\n",
       "      <th>iso_code</th>\n",
       "    </tr>\n",
       "  </thead>\n",
       "  <tbody>\n",
       "    <tr>\n",
       "      <th>800</th>\n",
       "      <td>2020-08-25</td>\n",
       "      <td>OWID_AFR</td>\n",
       "    </tr>\n",
       "    <tr>\n",
       "      <th>801</th>\n",
       "      <td>2020-08-26</td>\n",
       "      <td>OWID_AFR</td>\n",
       "    </tr>\n",
       "    <tr>\n",
       "      <th>802</th>\n",
       "      <td>2020-08-27</td>\n",
       "      <td>OWID_AFR</td>\n",
       "    </tr>\n",
       "    <tr>\n",
       "      <th>803</th>\n",
       "      <td>2020-08-28</td>\n",
       "      <td>OWID_AFR</td>\n",
       "    </tr>\n",
       "    <tr>\n",
       "      <th>804</th>\n",
       "      <td>2020-08-29</td>\n",
       "      <td>OWID_AFR</td>\n",
       "    </tr>\n",
       "    <tr>\n",
       "      <th>805</th>\n",
       "      <td>2020-08-30</td>\n",
       "      <td>OWID_AFR</td>\n",
       "    </tr>\n",
       "  </tbody>\n",
       "</table>\n",
       "</div>"
      ],
      "text/plain": [
       "           date  iso_code\n",
       "800  2020-08-25  OWID_AFR\n",
       "801  2020-08-26  OWID_AFR\n",
       "802  2020-08-27  OWID_AFR\n",
       "803  2020-08-28  OWID_AFR\n",
       "804  2020-08-29  OWID_AFR\n",
       "805  2020-08-30  OWID_AFR"
      ]
     },
     "execution_count": 11,
     "metadata": {},
     "output_type": "execute_result"
    }
   ],
   "source": [
    "data.loc[800:805, ['date', 'iso_code']]"
   ]
  },
  {
   "cell_type": "code",
   "execution_count": 12,
   "id": "ed1d58e1",
   "metadata": {
    "ExecuteTime": {
     "end_time": "2023-04-11T14:17:29.192015Z",
     "start_time": "2023-04-11T14:17:29.134141Z"
    }
   },
   "outputs": [
    {
     "data": {
      "text/html": [
       "<div>\n",
       "<style scoped>\n",
       "    .dataframe tbody tr th:only-of-type {\n",
       "        vertical-align: middle;\n",
       "    }\n",
       "\n",
       "    .dataframe tbody tr th {\n",
       "        vertical-align: top;\n",
       "    }\n",
       "\n",
       "    .dataframe thead th {\n",
       "        text-align: right;\n",
       "    }\n",
       "</style>\n",
       "<table border=\"1\" class=\"dataframe\">\n",
       "  <thead>\n",
       "    <tr style=\"text-align: right;\">\n",
       "      <th></th>\n",
       "      <th>date</th>\n",
       "      <th>iso_code</th>\n",
       "      <th>total_cases</th>\n",
       "    </tr>\n",
       "  </thead>\n",
       "  <tbody>\n",
       "    <tr>\n",
       "      <th>781</th>\n",
       "      <td>2020-08-06</td>\n",
       "      <td>OWID_AFR</td>\n",
       "      <td>1008204.0</td>\n",
       "    </tr>\n",
       "    <tr>\n",
       "      <th>782</th>\n",
       "      <td>2020-08-07</td>\n",
       "      <td>OWID_AFR</td>\n",
       "      <td>1021693.0</td>\n",
       "    </tr>\n",
       "    <tr>\n",
       "      <th>783</th>\n",
       "      <td>2020-08-08</td>\n",
       "      <td>OWID_AFR</td>\n",
       "      <td>1035915.0</td>\n",
       "    </tr>\n",
       "    <tr>\n",
       "      <th>784</th>\n",
       "      <td>2020-08-09</td>\n",
       "      <td>OWID_AFR</td>\n",
       "      <td>1048272.0</td>\n",
       "    </tr>\n",
       "    <tr>\n",
       "      <th>785</th>\n",
       "      <td>2020-08-10</td>\n",
       "      <td>OWID_AFR</td>\n",
       "      <td>1057404.0</td>\n",
       "    </tr>\n",
       "    <tr>\n",
       "      <th>...</th>\n",
       "      <td>...</td>\n",
       "      <td>...</td>\n",
       "      <td>...</td>\n",
       "    </tr>\n",
       "    <tr>\n",
       "      <th>123582</th>\n",
       "      <td>2021-10-17</td>\n",
       "      <td>OWID_WRL</td>\n",
       "      <td>240706344.0</td>\n",
       "    </tr>\n",
       "    <tr>\n",
       "      <th>123583</th>\n",
       "      <td>2021-10-18</td>\n",
       "      <td>OWID_WRL</td>\n",
       "      <td>241132266.0</td>\n",
       "    </tr>\n",
       "    <tr>\n",
       "      <th>123584</th>\n",
       "      <td>2021-10-19</td>\n",
       "      <td>OWID_WRL</td>\n",
       "      <td>241573517.0</td>\n",
       "    </tr>\n",
       "    <tr>\n",
       "      <th>123585</th>\n",
       "      <td>2021-10-20</td>\n",
       "      <td>OWID_WRL</td>\n",
       "      <td>242041201.0</td>\n",
       "    </tr>\n",
       "    <tr>\n",
       "      <th>123586</th>\n",
       "      <td>2021-10-21</td>\n",
       "      <td>OWID_WRL</td>\n",
       "      <td>242498327.0</td>\n",
       "    </tr>\n",
       "  </tbody>\n",
       "</table>\n",
       "<p>12946 rows × 3 columns</p>\n",
       "</div>"
      ],
      "text/plain": [
       "              date  iso_code  total_cases\n",
       "781     2020-08-06  OWID_AFR    1008204.0\n",
       "782     2020-08-07  OWID_AFR    1021693.0\n",
       "783     2020-08-08  OWID_AFR    1035915.0\n",
       "784     2020-08-09  OWID_AFR    1048272.0\n",
       "785     2020-08-10  OWID_AFR    1057404.0\n",
       "...            ...       ...          ...\n",
       "123582  2021-10-17  OWID_WRL  240706344.0\n",
       "123583  2021-10-18  OWID_WRL  241132266.0\n",
       "123584  2021-10-19  OWID_WRL  241573517.0\n",
       "123585  2021-10-20  OWID_WRL  242041201.0\n",
       "123586  2021-10-21  OWID_WRL  242498327.0\n",
       "\n",
       "[12946 rows x 3 columns]"
      ]
     },
     "execution_count": 12,
     "metadata": {},
     "output_type": "execute_result"
    }
   ],
   "source": [
    "data.loc[data.total_cases > 1000000, ['date', 'iso_code', 'total_cases']]"
   ]
  },
  {
   "cell_type": "code",
   "execution_count": 13,
   "id": "3bd9d79b",
   "metadata": {
    "ExecuteTime": {
     "end_time": "2023-04-11T14:18:10.075014Z",
     "start_time": "2023-04-11T14:18:10.033820Z"
    }
   },
   "outputs": [
    {
     "data": {
      "text/html": [
       "<div>\n",
       "<style scoped>\n",
       "    .dataframe tbody tr th:only-of-type {\n",
       "        vertical-align: middle;\n",
       "    }\n",
       "\n",
       "    .dataframe tbody tr th {\n",
       "        vertical-align: top;\n",
       "    }\n",
       "\n",
       "    .dataframe thead th {\n",
       "        text-align: right;\n",
       "    }\n",
       "</style>\n",
       "<table border=\"1\" class=\"dataframe\">\n",
       "  <thead>\n",
       "    <tr style=\"text-align: right;\">\n",
       "      <th></th>\n",
       "      <th>total_cases</th>\n",
       "    </tr>\n",
       "  </thead>\n",
       "  <tbody>\n",
       "    <tr>\n",
       "      <th>937</th>\n",
       "      <td>3024442.0</td>\n",
       "    </tr>\n",
       "    <tr>\n",
       "      <th>941</th>\n",
       "      <td>3144210.0</td>\n",
       "    </tr>\n",
       "    <tr>\n",
       "      <th>943</th>\n",
       "      <td>3210014.0</td>\n",
       "    </tr>\n",
       "    <tr>\n",
       "      <th>944</th>\n",
       "      <td>3237542.0</td>\n",
       "    </tr>\n",
       "    <tr>\n",
       "      <th>4818</th>\n",
       "      <td>1602163.0</td>\n",
       "    </tr>\n",
       "    <tr>\n",
       "      <th>...</th>\n",
       "      <td>...</td>\n",
       "    </tr>\n",
       "    <tr>\n",
       "      <th>123271</th>\n",
       "      <td>70594659.0</td>\n",
       "    </tr>\n",
       "    <tr>\n",
       "      <th>123272</th>\n",
       "      <td>71300704.0</td>\n",
       "    </tr>\n",
       "    <tr>\n",
       "      <th>123273</th>\n",
       "      <td>71937739.0</td>\n",
       "    </tr>\n",
       "    <tr>\n",
       "      <th>123274</th>\n",
       "      <td>72467046.0</td>\n",
       "    </tr>\n",
       "    <tr>\n",
       "      <th>123275</th>\n",
       "      <td>73000015.0</td>\n",
       "    </tr>\n",
       "  </tbody>\n",
       "</table>\n",
       "<p>96 rows × 1 columns</p>\n",
       "</div>"
      ],
      "text/plain": [
       "        total_cases\n",
       "937       3024442.0\n",
       "941       3144210.0\n",
       "943       3210014.0\n",
       "944       3237542.0\n",
       "4818      1602163.0\n",
       "...             ...\n",
       "123271   70594659.0\n",
       "123272   71300704.0\n",
       "123273   71937739.0\n",
       "123274   72467046.0\n",
       "123275   73000015.0\n",
       "\n",
       "[96 rows x 1 columns]"
      ]
     },
     "execution_count": 13,
     "metadata": {},
     "output_type": "execute_result"
    }
   ],
   "source": [
    "# Для обращения к элементам масивов данных pandas в условиях  нельзя испоьзовать логические операторы or и and \n",
    "# Но можно пользоваться | и & соответственно\n",
    "data.loc[(data.total_cases > 1000000) & (data.total_vaccinations < 10000), ['total_cases']]"
   ]
  },
  {
   "cell_type": "markdown",
   "id": "ae271f32",
   "metadata": {},
   "source": [
    "#### .iloc\n",
    "Передавать можно:\n",
    "\n",
    "- целое число\n",
    "- целочисленный список меток\n",
    "- slice (правый конец не включен)\n",
    "- lambda-функции"
   ]
  },
  {
   "cell_type": "code",
   "execution_count": 14,
   "id": "47792686",
   "metadata": {
    "ExecuteTime": {
     "end_time": "2023-04-11T14:18:48.491541Z",
     "start_time": "2023-04-11T14:18:48.484190Z"
    },
    "scrolled": true
   },
   "outputs": [
    {
     "data": {
      "text/plain": [
       "Index(['iso_code', 'date', 'total_cases', 'new_cases', 'new_cases_smoothed',\n",
       "       'total_deaths', 'new_deaths', 'new_deaths_smoothed',\n",
       "       'total_cases_per_million', 'new_cases_per_million',\n",
       "       'new_cases_smoothed_per_million', 'total_deaths_per_million',\n",
       "       'new_deaths_per_million', 'new_deaths_smoothed_per_million',\n",
       "       'reproduction_rate', 'icu_patients', 'icu_patients_per_million',\n",
       "       'hosp_patients', 'hosp_patients_per_million', 'weekly_icu_admissions',\n",
       "       'weekly_icu_admissions_per_million', 'weekly_hosp_admissions',\n",
       "       'weekly_hosp_admissions_per_million', 'new_tests', 'total_tests',\n",
       "       'total_tests_per_thousand', 'new_tests_per_thousand',\n",
       "       'new_tests_smoothed', 'new_tests_smoothed_per_thousand',\n",
       "       'positive_rate', 'tests_per_case', 'tests_units', 'total_vaccinations',\n",
       "       'people_vaccinated', 'people_fully_vaccinated', 'total_boosters',\n",
       "       'new_vaccinations', 'new_vaccinations_smoothed',\n",
       "       'total_vaccinations_per_hundred', 'people_vaccinated_per_hundred',\n",
       "       'people_fully_vaccinated_per_hundred', 'total_boosters_per_hundred',\n",
       "       'new_vaccinations_smoothed_per_million', 'stringency_index',\n",
       "       'population', 'population_density', 'median_age', 'aged_65_older',\n",
       "       'aged_70_older', 'gdp_per_capita', 'extreme_poverty',\n",
       "       'cardiovasc_death_rate', 'diabetes_prevalence', 'female_smokers',\n",
       "       'male_smokers', 'handwashing_facilities', 'hospital_beds_per_thousand',\n",
       "       'life_expectancy', 'human_development_index',\n",
       "       'excess_mortality_cumulative_absolute', 'excess_mortality_cumulative',\n",
       "       'excess_mortality', 'excess_mortality_cumulative_per_million'],\n",
       "      dtype='object')"
      ]
     },
     "execution_count": 14,
     "metadata": {},
     "output_type": "execute_result"
    }
   ],
   "source": [
    "data.columns"
   ]
  },
  {
   "cell_type": "code",
   "execution_count": 15,
   "id": "618c78b0",
   "metadata": {
    "ExecuteTime": {
     "end_time": "2023-04-11T14:19:07.015000Z",
     "start_time": "2023-04-11T14:19:07.005290Z"
    }
   },
   "outputs": [
    {
     "data": {
      "text/plain": [
       "date           2020-02-25\n",
       "total_cases           5.0\n",
       "Name: 1, dtype: object"
      ]
     },
     "execution_count": 15,
     "metadata": {},
     "output_type": "execute_result"
    }
   ],
   "source": [
    "data.iloc[1, [1, 2]]"
   ]
  },
  {
   "cell_type": "code",
   "execution_count": 16,
   "id": "48762d10",
   "metadata": {
    "ExecuteTime": {
     "end_time": "2023-04-11T14:19:14.497508Z",
     "start_time": "2023-04-11T14:19:14.483100Z"
    }
   },
   "outputs": [
    {
     "data": {
      "text/html": [
       "<div>\n",
       "<style scoped>\n",
       "    .dataframe tbody tr th:only-of-type {\n",
       "        vertical-align: middle;\n",
       "    }\n",
       "\n",
       "    .dataframe tbody tr th {\n",
       "        vertical-align: top;\n",
       "    }\n",
       "\n",
       "    .dataframe thead th {\n",
       "        text-align: right;\n",
       "    }\n",
       "</style>\n",
       "<table border=\"1\" class=\"dataframe\">\n",
       "  <thead>\n",
       "    <tr style=\"text-align: right;\">\n",
       "      <th></th>\n",
       "      <th>date</th>\n",
       "      <th>total_cases</th>\n",
       "    </tr>\n",
       "  </thead>\n",
       "  <tbody>\n",
       "    <tr>\n",
       "      <th>1</th>\n",
       "      <td>2020-02-25</td>\n",
       "      <td>5.0</td>\n",
       "    </tr>\n",
       "    <tr>\n",
       "      <th>2</th>\n",
       "      <td>2020-02-26</td>\n",
       "      <td>5.0</td>\n",
       "    </tr>\n",
       "  </tbody>\n",
       "</table>\n",
       "</div>"
      ],
      "text/plain": [
       "         date  total_cases\n",
       "1  2020-02-25          5.0\n",
       "2  2020-02-26          5.0"
      ]
     },
     "execution_count": 16,
     "metadata": {},
     "output_type": "execute_result"
    }
   ],
   "source": [
    "data.iloc[[1, 2], [1, 2]]"
   ]
  },
  {
   "cell_type": "code",
   "execution_count": 17,
   "id": "f91dae75",
   "metadata": {
    "ExecuteTime": {
     "end_time": "2023-04-11T14:19:23.505171Z",
     "start_time": "2023-04-11T14:19:23.490472Z"
    }
   },
   "outputs": [
    {
     "data": {
      "text/html": [
       "<div>\n",
       "<style scoped>\n",
       "    .dataframe tbody tr th:only-of-type {\n",
       "        vertical-align: middle;\n",
       "    }\n",
       "\n",
       "    .dataframe tbody tr th {\n",
       "        vertical-align: top;\n",
       "    }\n",
       "\n",
       "    .dataframe thead th {\n",
       "        text-align: right;\n",
       "    }\n",
       "</style>\n",
       "<table border=\"1\" class=\"dataframe\">\n",
       "  <thead>\n",
       "    <tr style=\"text-align: right;\">\n",
       "      <th></th>\n",
       "      <th>date</th>\n",
       "      <th>total_cases</th>\n",
       "    </tr>\n",
       "  </thead>\n",
       "  <tbody>\n",
       "    <tr>\n",
       "      <th>0</th>\n",
       "      <td>2020-02-24</td>\n",
       "      <td>5.0</td>\n",
       "    </tr>\n",
       "    <tr>\n",
       "      <th>1</th>\n",
       "      <td>2020-02-25</td>\n",
       "      <td>5.0</td>\n",
       "    </tr>\n",
       "    <tr>\n",
       "      <th>2</th>\n",
       "      <td>2020-02-26</td>\n",
       "      <td>5.0</td>\n",
       "    </tr>\n",
       "    <tr>\n",
       "      <th>3</th>\n",
       "      <td>2020-02-27</td>\n",
       "      <td>5.0</td>\n",
       "    </tr>\n",
       "    <tr>\n",
       "      <th>4</th>\n",
       "      <td>2020-02-28</td>\n",
       "      <td>5.0</td>\n",
       "    </tr>\n",
       "  </tbody>\n",
       "</table>\n",
       "</div>"
      ],
      "text/plain": [
       "         date  total_cases\n",
       "0  2020-02-24          5.0\n",
       "1  2020-02-25          5.0\n",
       "2  2020-02-26          5.0\n",
       "3  2020-02-27          5.0\n",
       "4  2020-02-28          5.0"
      ]
     },
     "execution_count": 17,
     "metadata": {},
     "output_type": "execute_result"
    }
   ],
   "source": [
    "data.iloc[:5, [1, 2]]"
   ]
  },
  {
   "cell_type": "code",
   "execution_count": 18,
   "id": "d51ea11c",
   "metadata": {
    "ExecuteTime": {
     "end_time": "2023-04-11T14:19:32.338892Z",
     "start_time": "2023-04-11T14:19:32.307529Z"
    },
    "scrolled": true
   },
   "outputs": [
    {
     "ename": "NotImplementedError",
     "evalue": "iLocation based boolean indexing on an integer type is not available",
     "output_type": "error",
     "traceback": [
      "\u001b[0;31m---------------------------------------------------------------------------\u001b[0m",
      "\u001b[0;31mNotImplementedError\u001b[0m                       Traceback (most recent call last)",
      "\u001b[0;32m<ipython-input-18-224f486d6116>\u001b[0m in \u001b[0;36m<module>\u001b[0;34m\u001b[0m\n\u001b[0;32m----> 1\u001b[0;31m \u001b[0mdata\u001b[0m\u001b[0;34m.\u001b[0m\u001b[0miloc\u001b[0m\u001b[0;34m[\u001b[0m\u001b[0;34m(\u001b[0m\u001b[0mdata\u001b[0m\u001b[0;34m.\u001b[0m\u001b[0mtotal_cases\u001b[0m \u001b[0;34m>\u001b[0m \u001b[0;36m1000000\u001b[0m\u001b[0;34m)\u001b[0m \u001b[0;34m&\u001b[0m \u001b[0;34m(\u001b[0m\u001b[0mdata\u001b[0m\u001b[0;34m.\u001b[0m\u001b[0mtotal_vaccinations\u001b[0m \u001b[0;34m<\u001b[0m \u001b[0;36m10000\u001b[0m\u001b[0;34m)\u001b[0m\u001b[0;34m,\u001b[0m \u001b[0;36m1\u001b[0m\u001b[0;34m]\u001b[0m\u001b[0;34m\u001b[0m\u001b[0;34m\u001b[0m\u001b[0m\n\u001b[0m",
      "\u001b[0;32m~/opt/anaconda3/lib/python3.8/site-packages/pandas/core/indexing.py\u001b[0m in \u001b[0;36m__getitem__\u001b[0;34m(self, key)\u001b[0m\n\u001b[1;32m    887\u001b[0m                     \u001b[0;31m# AttributeError for IntervalTree get_value\u001b[0m\u001b[0;34m\u001b[0m\u001b[0;34m\u001b[0m\u001b[0;34m\u001b[0m\u001b[0m\n\u001b[1;32m    888\u001b[0m                     \u001b[0;32mreturn\u001b[0m \u001b[0mself\u001b[0m\u001b[0;34m.\u001b[0m\u001b[0mobj\u001b[0m\u001b[0;34m.\u001b[0m\u001b[0m_get_value\u001b[0m\u001b[0;34m(\u001b[0m\u001b[0;34m*\u001b[0m\u001b[0mkey\u001b[0m\u001b[0;34m,\u001b[0m \u001b[0mtakeable\u001b[0m\u001b[0;34m=\u001b[0m\u001b[0mself\u001b[0m\u001b[0;34m.\u001b[0m\u001b[0m_takeable\u001b[0m\u001b[0;34m)\u001b[0m\u001b[0;34m\u001b[0m\u001b[0;34m\u001b[0m\u001b[0m\n\u001b[0;32m--> 889\u001b[0;31m             \u001b[0;32mreturn\u001b[0m \u001b[0mself\u001b[0m\u001b[0;34m.\u001b[0m\u001b[0m_getitem_tuple\u001b[0m\u001b[0;34m(\u001b[0m\u001b[0mkey\u001b[0m\u001b[0;34m)\u001b[0m\u001b[0;34m\u001b[0m\u001b[0;34m\u001b[0m\u001b[0m\n\u001b[0m\u001b[1;32m    890\u001b[0m         \u001b[0;32melse\u001b[0m\u001b[0;34m:\u001b[0m\u001b[0;34m\u001b[0m\u001b[0;34m\u001b[0m\u001b[0m\n\u001b[1;32m    891\u001b[0m             \u001b[0;31m# we by definition only have the 0th axis\u001b[0m\u001b[0;34m\u001b[0m\u001b[0;34m\u001b[0m\u001b[0;34m\u001b[0m\u001b[0m\n",
      "\u001b[0;32m~/opt/anaconda3/lib/python3.8/site-packages/pandas/core/indexing.py\u001b[0m in \u001b[0;36m_getitem_tuple\u001b[0;34m(self, tup)\u001b[0m\n\u001b[1;32m   1448\u001b[0m     \u001b[0;32mdef\u001b[0m \u001b[0m_getitem_tuple\u001b[0m\u001b[0;34m(\u001b[0m\u001b[0mself\u001b[0m\u001b[0;34m,\u001b[0m \u001b[0mtup\u001b[0m\u001b[0;34m:\u001b[0m \u001b[0mTuple\u001b[0m\u001b[0;34m)\u001b[0m\u001b[0;34m:\u001b[0m\u001b[0;34m\u001b[0m\u001b[0;34m\u001b[0m\u001b[0m\n\u001b[1;32m   1449\u001b[0m \u001b[0;34m\u001b[0m\u001b[0m\n\u001b[0;32m-> 1450\u001b[0;31m         \u001b[0mself\u001b[0m\u001b[0;34m.\u001b[0m\u001b[0m_has_valid_tuple\u001b[0m\u001b[0;34m(\u001b[0m\u001b[0mtup\u001b[0m\u001b[0;34m)\u001b[0m\u001b[0;34m\u001b[0m\u001b[0;34m\u001b[0m\u001b[0m\n\u001b[0m\u001b[1;32m   1451\u001b[0m         \u001b[0;32mwith\u001b[0m \u001b[0msuppress\u001b[0m\u001b[0;34m(\u001b[0m\u001b[0mIndexingError\u001b[0m\u001b[0;34m)\u001b[0m\u001b[0;34m:\u001b[0m\u001b[0;34m\u001b[0m\u001b[0;34m\u001b[0m\u001b[0m\n\u001b[1;32m   1452\u001b[0m             \u001b[0;32mreturn\u001b[0m \u001b[0mself\u001b[0m\u001b[0;34m.\u001b[0m\u001b[0m_getitem_lowerdim\u001b[0m\u001b[0;34m(\u001b[0m\u001b[0mtup\u001b[0m\u001b[0;34m)\u001b[0m\u001b[0;34m\u001b[0m\u001b[0;34m\u001b[0m\u001b[0m\n",
      "\u001b[0;32m~/opt/anaconda3/lib/python3.8/site-packages/pandas/core/indexing.py\u001b[0m in \u001b[0;36m_has_valid_tuple\u001b[0;34m(self, key)\u001b[0m\n\u001b[1;32m    721\u001b[0m         \u001b[0;32mfor\u001b[0m \u001b[0mi\u001b[0m\u001b[0;34m,\u001b[0m \u001b[0mk\u001b[0m \u001b[0;32min\u001b[0m \u001b[0menumerate\u001b[0m\u001b[0;34m(\u001b[0m\u001b[0mkey\u001b[0m\u001b[0;34m)\u001b[0m\u001b[0;34m:\u001b[0m\u001b[0;34m\u001b[0m\u001b[0;34m\u001b[0m\u001b[0m\n\u001b[1;32m    722\u001b[0m             \u001b[0;32mtry\u001b[0m\u001b[0;34m:\u001b[0m\u001b[0;34m\u001b[0m\u001b[0;34m\u001b[0m\u001b[0m\n\u001b[0;32m--> 723\u001b[0;31m                 \u001b[0mself\u001b[0m\u001b[0;34m.\u001b[0m\u001b[0m_validate_key\u001b[0m\u001b[0;34m(\u001b[0m\u001b[0mk\u001b[0m\u001b[0;34m,\u001b[0m \u001b[0mi\u001b[0m\u001b[0;34m)\u001b[0m\u001b[0;34m\u001b[0m\u001b[0;34m\u001b[0m\u001b[0m\n\u001b[0m\u001b[1;32m    724\u001b[0m             \u001b[0;32mexcept\u001b[0m \u001b[0mValueError\u001b[0m \u001b[0;32mas\u001b[0m \u001b[0merr\u001b[0m\u001b[0;34m:\u001b[0m\u001b[0;34m\u001b[0m\u001b[0;34m\u001b[0m\u001b[0m\n\u001b[1;32m    725\u001b[0m                 raise ValueError(\n",
      "\u001b[0;32m~/opt/anaconda3/lib/python3.8/site-packages/pandas/core/indexing.py\u001b[0m in \u001b[0;36m_validate_key\u001b[0;34m(self, key, axis)\u001b[0m\n\u001b[1;32m   1342\u001b[0m             \u001b[0;32mif\u001b[0m \u001b[0mhasattr\u001b[0m\u001b[0;34m(\u001b[0m\u001b[0mkey\u001b[0m\u001b[0;34m,\u001b[0m \u001b[0;34m\"index\"\u001b[0m\u001b[0;34m)\u001b[0m \u001b[0;32mand\u001b[0m \u001b[0misinstance\u001b[0m\u001b[0;34m(\u001b[0m\u001b[0mkey\u001b[0m\u001b[0;34m.\u001b[0m\u001b[0mindex\u001b[0m\u001b[0;34m,\u001b[0m \u001b[0mIndex\u001b[0m\u001b[0;34m)\u001b[0m\u001b[0;34m:\u001b[0m\u001b[0;34m\u001b[0m\u001b[0;34m\u001b[0m\u001b[0m\n\u001b[1;32m   1343\u001b[0m                 \u001b[0;32mif\u001b[0m \u001b[0mkey\u001b[0m\u001b[0;34m.\u001b[0m\u001b[0mindex\u001b[0m\u001b[0;34m.\u001b[0m\u001b[0minferred_type\u001b[0m \u001b[0;34m==\u001b[0m \u001b[0;34m\"integer\"\u001b[0m\u001b[0;34m:\u001b[0m\u001b[0;34m\u001b[0m\u001b[0;34m\u001b[0m\u001b[0m\n\u001b[0;32m-> 1344\u001b[0;31m                     raise NotImplementedError(\n\u001b[0m\u001b[1;32m   1345\u001b[0m                         \u001b[0;34m\"iLocation based boolean \"\u001b[0m\u001b[0;34m\u001b[0m\u001b[0;34m\u001b[0m\u001b[0m\n\u001b[1;32m   1346\u001b[0m                         \u001b[0;34m\"indexing on an integer type \"\u001b[0m\u001b[0;34m\u001b[0m\u001b[0;34m\u001b[0m\u001b[0m\n",
      "\u001b[0;31mNotImplementedError\u001b[0m: iLocation based boolean indexing on an integer type is not available"
     ]
    }
   ],
   "source": [
    "data.iloc[(data.total_cases > 1000000) & (data.total_vaccinations < 10000), 1]"
   ]
  },
  {
   "cell_type": "markdown",
   "id": "6d992276",
   "metadata": {},
   "source": [
    "#### .at\n",
    "\n",
    "Свойство получает значение в столбце для указанной строки"
   ]
  },
  {
   "cell_type": "code",
   "execution_count": 19,
   "id": "169a8ac1",
   "metadata": {
    "ExecuteTime": {
     "end_time": "2023-04-11T14:20:00.592200Z",
     "start_time": "2023-04-11T14:20:00.576996Z"
    }
   },
   "outputs": [
    {
     "data": {
      "text/plain": [
       "'2021-07-08'"
      ]
     },
     "execution_count": 19,
     "metadata": {},
     "output_type": "execute_result"
    }
   ],
   "source": [
    "data.at[500, 'date']"
   ]
  },
  {
   "cell_type": "markdown",
   "id": "8a9bf592",
   "metadata": {},
   "source": [
    "## Functions and operations"
   ]
  },
  {
   "cell_type": "markdown",
   "id": "dcad3b60",
   "metadata": {},
   "source": [
    "######  Смотрим статистику по столбцам"
   ]
  },
  {
   "cell_type": "code",
   "execution_count": 20,
   "id": "f81ac4c1",
   "metadata": {
    "ExecuteTime": {
     "end_time": "2023-04-11T14:21:31.566150Z",
     "start_time": "2023-04-11T14:21:31.448873Z"
    },
    "scrolled": true
   },
   "outputs": [
    {
     "name": "stdout",
     "output_type": "stream",
     "text": [
      "<class 'pandas.core.frame.DataFrame'>\n",
      "RangeIndex: 125311 entries, 0 to 125310\n",
      "Data columns (total 63 columns):\n",
      " #   Column                                   Non-Null Count   Dtype  \n",
      "---  ------                                   --------------   -----  \n",
      " 0   iso_code                                 125311 non-null  object \n",
      " 1   date                                     125311 non-null  object \n",
      " 2   total_cases                              118548 non-null  float64\n",
      " 3   new_cases                                118544 non-null  float64\n",
      " 4   new_cases_smoothed                       117530 non-null  float64\n",
      " 5   total_deaths                             107633 non-null  float64\n",
      " 6   new_deaths                               107786 non-null  float64\n",
      " 7   new_deaths_smoothed                      117530 non-null  float64\n",
      " 8   total_cases_per_million                  117925 non-null  float64\n",
      " 9   new_cases_per_million                    117921 non-null  float64\n",
      " 10  new_cases_smoothed_per_million           116912 non-null  float64\n",
      " 11  total_deaths_per_million                 107023 non-null  float64\n",
      " 12  new_deaths_per_million                   107176 non-null  float64\n",
      " 13  new_deaths_smoothed_per_million          116912 non-null  float64\n",
      " 14  reproduction_rate                        100726 non-null  float64\n",
      " 15  icu_patients                             15384 non-null   float64\n",
      " 16  icu_patients_per_million                 15384 non-null   float64\n",
      " 17  hosp_patients                            17471 non-null   float64\n",
      " 18  hosp_patients_per_million                17471 non-null   float64\n",
      " 19  weekly_icu_admissions                    1293 non-null    float64\n",
      " 20  weekly_icu_admissions_per_million        1293 non-null    float64\n",
      " 21  weekly_hosp_admissions                   2259 non-null    float64\n",
      " 22  weekly_hosp_admissions_per_million       2259 non-null    float64\n",
      " 23  new_tests                                53736 non-null   float64\n",
      " 24  total_tests                              53887 non-null   float64\n",
      " 25  total_tests_per_thousand                 53887 non-null   float64\n",
      " 26  new_tests_per_thousand                   53736 non-null   float64\n",
      " 27  new_tests_smoothed                       64878 non-null   float64\n",
      " 28  new_tests_smoothed_per_thousand          64878 non-null   float64\n",
      " 29  positive_rate                            60954 non-null   float64\n",
      " 30  tests_per_case                           60311 non-null   float64\n",
      " 31  tests_units                              66845 non-null   object \n",
      " 32  total_vaccinations                       29716 non-null   float64\n",
      " 33  people_vaccinated                        28391 non-null   float64\n",
      " 34  people_fully_vaccinated                  25287 non-null   float64\n",
      " 35  total_boosters                           4192 non-null    float64\n",
      " 36  new_vaccinations                         24533 non-null   float64\n",
      " 37  new_vaccinations_smoothed                53647 non-null   float64\n",
      " 38  total_vaccinations_per_hundred           29716 non-null   float64\n",
      " 39  people_vaccinated_per_hundred            28391 non-null   float64\n",
      " 40  people_fully_vaccinated_per_hundred      25287 non-null   float64\n",
      " 41  total_boosters_per_hundred               4192 non-null    float64\n",
      " 42  new_vaccinations_smoothed_per_million    53647 non-null   float64\n",
      " 43  stringency_index                         104479 non-null  float64\n",
      " 44  population                               124432 non-null  float64\n",
      " 45  population_density                       115746 non-null  float64\n",
      " 46  median_age                               110453 non-null  float64\n",
      " 47  aged_65_older                            109229 non-null  float64\n",
      " 48  aged_70_older                            109849 non-null  float64\n",
      " 49  gdp_per_capita                           111110 non-null  float64\n",
      " 50  extreme_poverty                          74356 non-null   float64\n",
      " 51  cardiovasc_death_rate                    110714 non-null  float64\n",
      " 52  diabetes_prevalence                      114213 non-null  float64\n",
      " 53  female_smokers                           86270 non-null   float64\n",
      " 54  male_smokers                             85020 non-null   float64\n",
      " 55  handwashing_facilities                   55718 non-null   float64\n",
      " 56  hospital_beds_per_thousand               100645 non-null  float64\n",
      " 57  life_expectancy                          118859 non-null  float64\n",
      " 58  human_development_index                  110809 non-null  float64\n",
      " 59  excess_mortality_cumulative_absolute     4563 non-null    float64\n",
      " 60  excess_mortality_cumulative              4563 non-null    float64\n",
      " 61  excess_mortality                         4563 non-null    float64\n",
      " 62  excess_mortality_cumulative_per_million  4563 non-null    float64\n",
      "dtypes: float64(60), object(3)\n",
      "memory usage: 60.2+ MB\n"
     ]
    }
   ],
   "source": [
    "data.info()"
   ]
  },
  {
   "cell_type": "code",
   "execution_count": 21,
   "id": "180b714d",
   "metadata": {
    "ExecuteTime": {
     "end_time": "2023-04-11T14:22:08.528055Z",
     "start_time": "2023-04-11T14:22:08.245748Z"
    }
   },
   "outputs": [
    {
     "data": {
      "text/html": [
       "<div>\n",
       "<style scoped>\n",
       "    .dataframe tbody tr th:only-of-type {\n",
       "        vertical-align: middle;\n",
       "    }\n",
       "\n",
       "    .dataframe tbody tr th {\n",
       "        vertical-align: top;\n",
       "    }\n",
       "\n",
       "    .dataframe thead th {\n",
       "        text-align: right;\n",
       "    }\n",
       "</style>\n",
       "<table border=\"1\" class=\"dataframe\">\n",
       "  <thead>\n",
       "    <tr style=\"text-align: right;\">\n",
       "      <th></th>\n",
       "      <th>total_cases</th>\n",
       "      <th>new_cases</th>\n",
       "      <th>new_cases_smoothed</th>\n",
       "      <th>total_deaths</th>\n",
       "      <th>new_deaths</th>\n",
       "      <th>new_deaths_smoothed</th>\n",
       "      <th>total_cases_per_million</th>\n",
       "      <th>new_cases_per_million</th>\n",
       "      <th>new_cases_smoothed_per_million</th>\n",
       "      <th>total_deaths_per_million</th>\n",
       "      <th>...</th>\n",
       "      <th>female_smokers</th>\n",
       "      <th>male_smokers</th>\n",
       "      <th>handwashing_facilities</th>\n",
       "      <th>hospital_beds_per_thousand</th>\n",
       "      <th>life_expectancy</th>\n",
       "      <th>human_development_index</th>\n",
       "      <th>excess_mortality_cumulative_absolute</th>\n",
       "      <th>excess_mortality_cumulative</th>\n",
       "      <th>excess_mortality</th>\n",
       "      <th>excess_mortality_cumulative_per_million</th>\n",
       "    </tr>\n",
       "  </thead>\n",
       "  <tbody>\n",
       "    <tr>\n",
       "      <th>count</th>\n",
       "      <td>1.185480e+05</td>\n",
       "      <td>118544.000000</td>\n",
       "      <td>117530.000000</td>\n",
       "      <td>1.076330e+05</td>\n",
       "      <td>107786.000000</td>\n",
       "      <td>117530.000000</td>\n",
       "      <td>117925.000000</td>\n",
       "      <td>117921.000000</td>\n",
       "      <td>116912.000000</td>\n",
       "      <td>107023.000000</td>\n",
       "      <td>...</td>\n",
       "      <td>86270.000000</td>\n",
       "      <td>85020.000000</td>\n",
       "      <td>55718.000000</td>\n",
       "      <td>100645.000000</td>\n",
       "      <td>118859.000000</td>\n",
       "      <td>110809.000000</td>\n",
       "      <td>4563.000000</td>\n",
       "      <td>4563.000000</td>\n",
       "      <td>4563.000000</td>\n",
       "      <td>4563.000000</td>\n",
       "    </tr>\n",
       "    <tr>\n",
       "      <th>mean</th>\n",
       "      <td>1.501679e+06</td>\n",
       "      <td>6455.285894</td>\n",
       "      <td>6475.664003</td>\n",
       "      <td>3.768573e+04</td>\n",
       "      <td>144.047502</td>\n",
       "      <td>131.513056</td>\n",
       "      <td>18652.984113</td>\n",
       "      <td>84.721668</td>\n",
       "      <td>84.696605</td>\n",
       "      <td>386.524361</td>\n",
       "      <td>...</td>\n",
       "      <td>10.591798</td>\n",
       "      <td>32.743238</td>\n",
       "      <td>50.886463</td>\n",
       "      <td>3.030776</td>\n",
       "      <td>73.258756</td>\n",
       "      <td>0.726353</td>\n",
       "      <td>29867.812601</td>\n",
       "      <td>8.250493</td>\n",
       "      <td>15.553517</td>\n",
       "      <td>733.690022</td>\n",
       "    </tr>\n",
       "    <tr>\n",
       "      <th>std</th>\n",
       "      <td>1.001869e+07</td>\n",
       "      <td>39202.648651</td>\n",
       "      <td>38800.727107</td>\n",
       "      <td>2.243444e+05</td>\n",
       "      <td>785.584634</td>\n",
       "      <td>735.847049</td>\n",
       "      <td>31366.086438</td>\n",
       "      <td>196.316017</td>\n",
       "      <td>165.374760</td>\n",
       "      <td>646.028012</td>\n",
       "      <td>...</td>\n",
       "      <td>10.503878</td>\n",
       "      <td>13.508404</td>\n",
       "      <td>31.824830</td>\n",
       "      <td>2.456880</td>\n",
       "      <td>7.534963</td>\n",
       "      <td>0.150067</td>\n",
       "      <td>84621.602001</td>\n",
       "      <td>15.739907</td>\n",
       "      <td>31.104837</td>\n",
       "      <td>1120.115624</td>\n",
       "    </tr>\n",
       "    <tr>\n",
       "      <th>min</th>\n",
       "      <td>1.000000e+00</td>\n",
       "      <td>-74347.000000</td>\n",
       "      <td>-6223.000000</td>\n",
       "      <td>1.000000e+00</td>\n",
       "      <td>-1918.000000</td>\n",
       "      <td>-232.143000</td>\n",
       "      <td>0.001000</td>\n",
       "      <td>-3125.829000</td>\n",
       "      <td>-272.971000</td>\n",
       "      <td>0.001000</td>\n",
       "      <td>...</td>\n",
       "      <td>0.100000</td>\n",
       "      <td>7.700000</td>\n",
       "      <td>1.188000</td>\n",
       "      <td>0.100000</td>\n",
       "      <td>53.280000</td>\n",
       "      <td>0.394000</td>\n",
       "      <td>-31959.400000</td>\n",
       "      <td>-27.350000</td>\n",
       "      <td>-95.920000</td>\n",
       "      <td>-1749.128494</td>\n",
       "    </tr>\n",
       "    <tr>\n",
       "      <th>25%</th>\n",
       "      <td>2.101000e+03</td>\n",
       "      <td>3.000000</td>\n",
       "      <td>9.571000</td>\n",
       "      <td>7.100000e+01</td>\n",
       "      <td>0.000000</td>\n",
       "      <td>0.000000</td>\n",
       "      <td>373.463000</td>\n",
       "      <td>0.292000</td>\n",
       "      <td>1.585000</td>\n",
       "      <td>10.846000</td>\n",
       "      <td>...</td>\n",
       "      <td>1.900000</td>\n",
       "      <td>21.600000</td>\n",
       "      <td>20.859000</td>\n",
       "      <td>1.300000</td>\n",
       "      <td>67.920000</td>\n",
       "      <td>0.602000</td>\n",
       "      <td>-230.100000</td>\n",
       "      <td>-1.245000</td>\n",
       "      <td>-1.100000</td>\n",
       "      <td>-51.045544</td>\n",
       "    </tr>\n",
       "    <tr>\n",
       "      <th>50%</th>\n",
       "      <td>2.237950e+04</td>\n",
       "      <td>94.000000</td>\n",
       "      <td>117.286000</td>\n",
       "      <td>6.270000e+02</td>\n",
       "      <td>2.000000</td>\n",
       "      <td>1.714000</td>\n",
       "      <td>2916.981000</td>\n",
       "      <td>10.901000</td>\n",
       "      <td>15.133500</td>\n",
       "      <td>72.780000</td>\n",
       "      <td>...</td>\n",
       "      <td>6.300000</td>\n",
       "      <td>31.400000</td>\n",
       "      <td>49.839000</td>\n",
       "      <td>2.400000</td>\n",
       "      <td>74.620000</td>\n",
       "      <td>0.744000</td>\n",
       "      <td>1811.700000</td>\n",
       "      <td>4.790000</td>\n",
       "      <td>6.160000</td>\n",
       "      <td>314.754547</td>\n",
       "    </tr>\n",
       "    <tr>\n",
       "      <th>75%</th>\n",
       "      <td>2.257605e+05</td>\n",
       "      <td>937.000000</td>\n",
       "      <td>989.714000</td>\n",
       "      <td>5.487000e+03</td>\n",
       "      <td>19.000000</td>\n",
       "      <td>16.000000</td>\n",
       "      <td>23094.092000</td>\n",
       "      <td>82.728000</td>\n",
       "      <td>92.322250</td>\n",
       "      <td>479.600500</td>\n",
       "      <td>...</td>\n",
       "      <td>19.300000</td>\n",
       "      <td>41.300000</td>\n",
       "      <td>83.241000</td>\n",
       "      <td>4.000000</td>\n",
       "      <td>78.740000</td>\n",
       "      <td>0.848000</td>\n",
       "      <td>18465.750000</td>\n",
       "      <td>13.295000</td>\n",
       "      <td>21.745000</td>\n",
       "      <td>1264.341911</td>\n",
       "    </tr>\n",
       "    <tr>\n",
       "      <th>max</th>\n",
       "      <td>2.424983e+08</td>\n",
       "      <td>905955.000000</td>\n",
       "      <td>826438.429000</td>\n",
       "      <td>4.929776e+06</td>\n",
       "      <td>18006.000000</td>\n",
       "      <td>14703.143000</td>\n",
       "      <td>223142.251000</td>\n",
       "      <td>8620.690000</td>\n",
       "      <td>3385.473000</td>\n",
       "      <td>5993.660000</td>\n",
       "      <td>...</td>\n",
       "      <td>44.000000</td>\n",
       "      <td>78.100000</td>\n",
       "      <td>100.000000</td>\n",
       "      <td>13.800000</td>\n",
       "      <td>86.750000</td>\n",
       "      <td>0.957000</td>\n",
       "      <td>746026.500000</td>\n",
       "      <td>106.830000</td>\n",
       "      <td>373.280000</td>\n",
       "      <td>6124.441930</td>\n",
       "    </tr>\n",
       "  </tbody>\n",
       "</table>\n",
       "<p>8 rows × 60 columns</p>\n",
       "</div>"
      ],
      "text/plain": [
       "        total_cases      new_cases  new_cases_smoothed  total_deaths  \\\n",
       "count  1.185480e+05  118544.000000       117530.000000  1.076330e+05   \n",
       "mean   1.501679e+06    6455.285894         6475.664003  3.768573e+04   \n",
       "std    1.001869e+07   39202.648651        38800.727107  2.243444e+05   \n",
       "min    1.000000e+00  -74347.000000        -6223.000000  1.000000e+00   \n",
       "25%    2.101000e+03       3.000000            9.571000  7.100000e+01   \n",
       "50%    2.237950e+04      94.000000          117.286000  6.270000e+02   \n",
       "75%    2.257605e+05     937.000000          989.714000  5.487000e+03   \n",
       "max    2.424983e+08  905955.000000       826438.429000  4.929776e+06   \n",
       "\n",
       "          new_deaths  new_deaths_smoothed  total_cases_per_million  \\\n",
       "count  107786.000000        117530.000000            117925.000000   \n",
       "mean      144.047502           131.513056             18652.984113   \n",
       "std       785.584634           735.847049             31366.086438   \n",
       "min     -1918.000000          -232.143000                 0.001000   \n",
       "25%         0.000000             0.000000               373.463000   \n",
       "50%         2.000000             1.714000              2916.981000   \n",
       "75%        19.000000            16.000000             23094.092000   \n",
       "max     18006.000000         14703.143000            223142.251000   \n",
       "\n",
       "       new_cases_per_million  new_cases_smoothed_per_million  \\\n",
       "count          117921.000000                   116912.000000   \n",
       "mean               84.721668                       84.696605   \n",
       "std               196.316017                      165.374760   \n",
       "min             -3125.829000                     -272.971000   \n",
       "25%                 0.292000                        1.585000   \n",
       "50%                10.901000                       15.133500   \n",
       "75%                82.728000                       92.322250   \n",
       "max              8620.690000                     3385.473000   \n",
       "\n",
       "       total_deaths_per_million  ...  female_smokers  male_smokers  \\\n",
       "count             107023.000000  ...    86270.000000  85020.000000   \n",
       "mean                 386.524361  ...       10.591798     32.743238   \n",
       "std                  646.028012  ...       10.503878     13.508404   \n",
       "min                    0.001000  ...        0.100000      7.700000   \n",
       "25%                   10.846000  ...        1.900000     21.600000   \n",
       "50%                   72.780000  ...        6.300000     31.400000   \n",
       "75%                  479.600500  ...       19.300000     41.300000   \n",
       "max                 5993.660000  ...       44.000000     78.100000   \n",
       "\n",
       "       handwashing_facilities  hospital_beds_per_thousand  life_expectancy  \\\n",
       "count            55718.000000               100645.000000    118859.000000   \n",
       "mean                50.886463                    3.030776        73.258756   \n",
       "std                 31.824830                    2.456880         7.534963   \n",
       "min                  1.188000                    0.100000        53.280000   \n",
       "25%                 20.859000                    1.300000        67.920000   \n",
       "50%                 49.839000                    2.400000        74.620000   \n",
       "75%                 83.241000                    4.000000        78.740000   \n",
       "max                100.000000                   13.800000        86.750000   \n",
       "\n",
       "       human_development_index  excess_mortality_cumulative_absolute  \\\n",
       "count            110809.000000                           4563.000000   \n",
       "mean                  0.726353                          29867.812601   \n",
       "std                   0.150067                          84621.602001   \n",
       "min                   0.394000                         -31959.400000   \n",
       "25%                   0.602000                           -230.100000   \n",
       "50%                   0.744000                           1811.700000   \n",
       "75%                   0.848000                          18465.750000   \n",
       "max                   0.957000                         746026.500000   \n",
       "\n",
       "       excess_mortality_cumulative  excess_mortality  \\\n",
       "count                  4563.000000       4563.000000   \n",
       "mean                      8.250493         15.553517   \n",
       "std                      15.739907         31.104837   \n",
       "min                     -27.350000        -95.920000   \n",
       "25%                      -1.245000         -1.100000   \n",
       "50%                       4.790000          6.160000   \n",
       "75%                      13.295000         21.745000   \n",
       "max                     106.830000        373.280000   \n",
       "\n",
       "       excess_mortality_cumulative_per_million  \n",
       "count                              4563.000000  \n",
       "mean                                733.690022  \n",
       "std                                1120.115624  \n",
       "min                               -1749.128494  \n",
       "25%                                 -51.045544  \n",
       "50%                                 314.754547  \n",
       "75%                                1264.341911  \n",
       "max                                6124.441930  \n",
       "\n",
       "[8 rows x 60 columns]"
      ]
     },
     "execution_count": 21,
     "metadata": {},
     "output_type": "execute_result"
    }
   ],
   "source": [
    "data.describe()"
   ]
  },
  {
   "cell_type": "code",
   "execution_count": 22,
   "id": "1b8143f1",
   "metadata": {
    "ExecuteTime": {
     "end_time": "2023-04-11T14:23:23.773350Z",
     "start_time": "2023-04-11T14:23:23.751637Z"
    }
   },
   "outputs": [
    {
     "data": {
      "text/plain": [
       "Africa           55\n",
       "Europe           51\n",
       "Asia             50\n",
       "North America    34\n",
       "Oceania          21\n",
       "South America    13\n",
       "Name: continent, dtype: int64"
      ]
     },
     "execution_count": 22,
     "metadata": {},
     "output_type": "execute_result"
    }
   ],
   "source": [
    "countries['continent'].value_counts()"
   ]
  },
  {
   "cell_type": "code",
   "execution_count": 23,
   "id": "ec95b868",
   "metadata": {
    "ExecuteTime": {
     "end_time": "2023-04-11T14:24:08.678281Z",
     "start_time": "2023-04-11T14:24:08.666209Z"
    }
   },
   "outputs": [
    {
     "data": {
      "text/plain": [
       "6455.285893845324"
      ]
     },
     "execution_count": 23,
     "metadata": {},
     "output_type": "execute_result"
    }
   ],
   "source": [
    "data['new_cases'].mean()"
   ]
  },
  {
   "cell_type": "code",
   "execution_count": 25,
   "id": "aefdbde4",
   "metadata": {
    "ExecuteTime": {
     "end_time": "2023-04-11T14:24:34.496060Z",
     "start_time": "2023-04-11T14:24:34.487128Z"
    }
   },
   "outputs": [
    {
     "data": {
      "text/plain": [
       "765235411.0"
      ]
     },
     "execution_count": 25,
     "metadata": {},
     "output_type": "execute_result"
    }
   ],
   "source": [
    "data['new_cases'].sum()"
   ]
  },
  {
   "cell_type": "code",
   "execution_count": 26,
   "id": "28193a2b",
   "metadata": {
    "ExecuteTime": {
     "end_time": "2023-04-11T14:24:44.862765Z",
     "start_time": "2023-04-11T14:24:44.856284Z"
    }
   },
   "outputs": [
    {
     "data": {
      "text/plain": [
       "39202.64865080523"
      ]
     },
     "execution_count": 26,
     "metadata": {},
     "output_type": "execute_result"
    }
   ],
   "source": [
    "data['new_cases'].std()"
   ]
  },
  {
   "cell_type": "code",
   "execution_count": 27,
   "id": "90685e76",
   "metadata": {
    "ExecuteTime": {
     "end_time": "2023-04-11T14:24:56.091835Z",
     "start_time": "2023-04-11T14:24:56.061400Z"
    }
   },
   "outputs": [
    {
     "data": {
      "text/plain": [
       "0         1.000000\n",
       "1         0.000000\n",
       "2         0.000000\n",
       "3         0.000000\n",
       "4         0.000000\n",
       "            ...   \n",
       "125306    0.000264\n",
       "125307    0.000000\n",
       "125308    0.000279\n",
       "125309    0.000242\n",
       "125310    0.000777\n",
       "Length: 125311, dtype: float64"
      ]
     },
     "execution_count": 27,
     "metadata": {},
     "output_type": "execute_result"
    }
   ],
   "source": [
    "data['new_cases'] / data['total_cases']"
   ]
  },
  {
   "cell_type": "code",
   "execution_count": 28,
   "id": "f4b56d09",
   "metadata": {
    "ExecuteTime": {
     "end_time": "2023-04-11T14:25:06.342810Z",
     "start_time": "2023-04-11T14:25:06.330844Z"
    }
   },
   "outputs": [
    {
     "data": {
      "text/plain": [
       "0               25.0\n",
       "1                0.0\n",
       "2                0.0\n",
       "3                0.0\n",
       "4                0.0\n",
       "             ...    \n",
       "125306     4632880.0\n",
       "125307           0.0\n",
       "125308     4898985.0\n",
       "125309     4237984.0\n",
       "125310    13651620.0\n",
       "Length: 125311, dtype: float64"
      ]
     },
     "execution_count": 28,
     "metadata": {},
     "output_type": "execute_result"
    }
   ],
   "source": [
    "data['new_cases'] * data['total_cases']"
   ]
  },
  {
   "cell_type": "code",
   "execution_count": 29,
   "id": "2d1365b8",
   "metadata": {
    "ExecuteTime": {
     "end_time": "2023-04-11T14:25:08.642582Z",
     "start_time": "2023-04-11T14:25:08.631762Z"
    }
   },
   "outputs": [
    {
     "data": {
      "text/plain": [
       "0              0.0\n",
       "1             -5.0\n",
       "2             -5.0\n",
       "3             -5.0\n",
       "4             -5.0\n",
       "            ...   \n",
       "125306   -132333.0\n",
       "125307   -132368.0\n",
       "125308   -132368.0\n",
       "125309   -132405.0\n",
       "125310   -132437.0\n",
       "Length: 125311, dtype: float64"
      ]
     },
     "execution_count": 29,
     "metadata": {},
     "output_type": "execute_result"
    }
   ],
   "source": [
    "data['new_cases'] - data['total_cases']"
   ]
  },
  {
   "cell_type": "code",
   "execution_count": 30,
   "id": "80d4cf0f",
   "metadata": {
    "ExecuteTime": {
     "end_time": "2023-04-11T14:25:12.199065Z",
     "start_time": "2023-04-11T14:25:12.189258Z"
    }
   },
   "outputs": [
    {
     "data": {
      "text/plain": [
       "0             10.0\n",
       "1              5.0\n",
       "2              5.0\n",
       "3              5.0\n",
       "4              5.0\n",
       "            ...   \n",
       "125306    132403.0\n",
       "125307    132368.0\n",
       "125308    132442.0\n",
       "125309    132469.0\n",
       "125310    132643.0\n",
       "Length: 125311, dtype: float64"
      ]
     },
     "execution_count": 30,
     "metadata": {},
     "output_type": "execute_result"
    }
   ],
   "source": [
    "data['new_cases'] + data['total_cases']"
   ]
  },
  {
   "cell_type": "code",
   "execution_count": 31,
   "id": "dfa60019",
   "metadata": {
    "ExecuteTime": {
     "end_time": "2023-04-11T14:25:16.383856Z",
     "start_time": "2023-04-11T14:25:16.332106Z"
    }
   },
   "outputs": [
    {
     "data": {
      "text/html": [
       "<div>\n",
       "<style scoped>\n",
       "    .dataframe tbody tr th:only-of-type {\n",
       "        vertical-align: middle;\n",
       "    }\n",
       "\n",
       "    .dataframe tbody tr th {\n",
       "        vertical-align: top;\n",
       "    }\n",
       "\n",
       "    .dataframe thead th {\n",
       "        text-align: right;\n",
       "    }\n",
       "</style>\n",
       "<table border=\"1\" class=\"dataframe\">\n",
       "  <thead>\n",
       "    <tr style=\"text-align: right;\">\n",
       "      <th></th>\n",
       "      <th>iso_code</th>\n",
       "      <th>date</th>\n",
       "      <th>total_cases</th>\n",
       "      <th>new_cases</th>\n",
       "      <th>new_cases_smoothed</th>\n",
       "      <th>total_deaths</th>\n",
       "      <th>new_deaths</th>\n",
       "      <th>new_deaths_smoothed</th>\n",
       "      <th>total_cases_per_million</th>\n",
       "      <th>new_cases_per_million</th>\n",
       "      <th>...</th>\n",
       "      <th>female_smokers</th>\n",
       "      <th>male_smokers</th>\n",
       "      <th>handwashing_facilities</th>\n",
       "      <th>hospital_beds_per_thousand</th>\n",
       "      <th>life_expectancy</th>\n",
       "      <th>human_development_index</th>\n",
       "      <th>excess_mortality_cumulative_absolute</th>\n",
       "      <th>excess_mortality_cumulative</th>\n",
       "      <th>excess_mortality</th>\n",
       "      <th>excess_mortality_cumulative_per_million</th>\n",
       "    </tr>\n",
       "  </thead>\n",
       "  <tbody>\n",
       "    <tr>\n",
       "      <th>0</th>\n",
       "      <td>AFG</td>\n",
       "      <td>2020-02-24</td>\n",
       "      <td>5.0</td>\n",
       "      <td>5.0</td>\n",
       "      <td>NaN</td>\n",
       "      <td>NaN</td>\n",
       "      <td>NaN</td>\n",
       "      <td>NaN</td>\n",
       "      <td>0.126</td>\n",
       "      <td>0.126</td>\n",
       "      <td>...</td>\n",
       "      <td>NaN</td>\n",
       "      <td>NaN</td>\n",
       "      <td>37.746</td>\n",
       "      <td>0.5</td>\n",
       "      <td>64.83</td>\n",
       "      <td>0.511</td>\n",
       "      <td>NaN</td>\n",
       "      <td>NaN</td>\n",
       "      <td>NaN</td>\n",
       "      <td>NaN</td>\n",
       "    </tr>\n",
       "    <tr>\n",
       "      <th>1</th>\n",
       "      <td>AFG</td>\n",
       "      <td>2020-02-25</td>\n",
       "      <td>5.0</td>\n",
       "      <td>0.0</td>\n",
       "      <td>NaN</td>\n",
       "      <td>NaN</td>\n",
       "      <td>NaN</td>\n",
       "      <td>NaN</td>\n",
       "      <td>0.126</td>\n",
       "      <td>0.000</td>\n",
       "      <td>...</td>\n",
       "      <td>NaN</td>\n",
       "      <td>NaN</td>\n",
       "      <td>37.746</td>\n",
       "      <td>0.5</td>\n",
       "      <td>64.83</td>\n",
       "      <td>0.511</td>\n",
       "      <td>NaN</td>\n",
       "      <td>NaN</td>\n",
       "      <td>NaN</td>\n",
       "      <td>NaN</td>\n",
       "    </tr>\n",
       "    <tr>\n",
       "      <th>2</th>\n",
       "      <td>AFG</td>\n",
       "      <td>2020-02-26</td>\n",
       "      <td>5.0</td>\n",
       "      <td>0.0</td>\n",
       "      <td>NaN</td>\n",
       "      <td>NaN</td>\n",
       "      <td>NaN</td>\n",
       "      <td>NaN</td>\n",
       "      <td>0.126</td>\n",
       "      <td>0.000</td>\n",
       "      <td>...</td>\n",
       "      <td>NaN</td>\n",
       "      <td>NaN</td>\n",
       "      <td>37.746</td>\n",
       "      <td>0.5</td>\n",
       "      <td>64.83</td>\n",
       "      <td>0.511</td>\n",
       "      <td>NaN</td>\n",
       "      <td>NaN</td>\n",
       "      <td>NaN</td>\n",
       "      <td>NaN</td>\n",
       "    </tr>\n",
       "    <tr>\n",
       "      <th>3</th>\n",
       "      <td>AFG</td>\n",
       "      <td>2020-02-27</td>\n",
       "      <td>5.0</td>\n",
       "      <td>0.0</td>\n",
       "      <td>NaN</td>\n",
       "      <td>NaN</td>\n",
       "      <td>NaN</td>\n",
       "      <td>NaN</td>\n",
       "      <td>0.126</td>\n",
       "      <td>0.000</td>\n",
       "      <td>...</td>\n",
       "      <td>NaN</td>\n",
       "      <td>NaN</td>\n",
       "      <td>37.746</td>\n",
       "      <td>0.5</td>\n",
       "      <td>64.83</td>\n",
       "      <td>0.511</td>\n",
       "      <td>NaN</td>\n",
       "      <td>NaN</td>\n",
       "      <td>NaN</td>\n",
       "      <td>NaN</td>\n",
       "    </tr>\n",
       "    <tr>\n",
       "      <th>4</th>\n",
       "      <td>AFG</td>\n",
       "      <td>2020-02-28</td>\n",
       "      <td>5.0</td>\n",
       "      <td>0.0</td>\n",
       "      <td>NaN</td>\n",
       "      <td>NaN</td>\n",
       "      <td>NaN</td>\n",
       "      <td>NaN</td>\n",
       "      <td>0.126</td>\n",
       "      <td>0.000</td>\n",
       "      <td>...</td>\n",
       "      <td>NaN</td>\n",
       "      <td>NaN</td>\n",
       "      <td>37.746</td>\n",
       "      <td>0.5</td>\n",
       "      <td>64.83</td>\n",
       "      <td>0.511</td>\n",
       "      <td>NaN</td>\n",
       "      <td>NaN</td>\n",
       "      <td>NaN</td>\n",
       "      <td>NaN</td>\n",
       "    </tr>\n",
       "  </tbody>\n",
       "</table>\n",
       "<p>5 rows × 63 columns</p>\n",
       "</div>"
      ],
      "text/plain": [
       "  iso_code        date  total_cases  new_cases  new_cases_smoothed  \\\n",
       "0      AFG  2020-02-24          5.0        5.0                 NaN   \n",
       "1      AFG  2020-02-25          5.0        0.0                 NaN   \n",
       "2      AFG  2020-02-26          5.0        0.0                 NaN   \n",
       "3      AFG  2020-02-27          5.0        0.0                 NaN   \n",
       "4      AFG  2020-02-28          5.0        0.0                 NaN   \n",
       "\n",
       "   total_deaths  new_deaths  new_deaths_smoothed  total_cases_per_million  \\\n",
       "0           NaN         NaN                  NaN                    0.126   \n",
       "1           NaN         NaN                  NaN                    0.126   \n",
       "2           NaN         NaN                  NaN                    0.126   \n",
       "3           NaN         NaN                  NaN                    0.126   \n",
       "4           NaN         NaN                  NaN                    0.126   \n",
       "\n",
       "   new_cases_per_million  ...  female_smokers  male_smokers  \\\n",
       "0                  0.126  ...             NaN           NaN   \n",
       "1                  0.000  ...             NaN           NaN   \n",
       "2                  0.000  ...             NaN           NaN   \n",
       "3                  0.000  ...             NaN           NaN   \n",
       "4                  0.000  ...             NaN           NaN   \n",
       "\n",
       "   handwashing_facilities  hospital_beds_per_thousand  life_expectancy  \\\n",
       "0                  37.746                         0.5            64.83   \n",
       "1                  37.746                         0.5            64.83   \n",
       "2                  37.746                         0.5            64.83   \n",
       "3                  37.746                         0.5            64.83   \n",
       "4                  37.746                         0.5            64.83   \n",
       "\n",
       "   human_development_index  excess_mortality_cumulative_absolute  \\\n",
       "0                    0.511                                   NaN   \n",
       "1                    0.511                                   NaN   \n",
       "2                    0.511                                   NaN   \n",
       "3                    0.511                                   NaN   \n",
       "4                    0.511                                   NaN   \n",
       "\n",
       "   excess_mortality_cumulative  excess_mortality  \\\n",
       "0                          NaN               NaN   \n",
       "1                          NaN               NaN   \n",
       "2                          NaN               NaN   \n",
       "3                          NaN               NaN   \n",
       "4                          NaN               NaN   \n",
       "\n",
       "   excess_mortality_cumulative_per_million  \n",
       "0                                      NaN  \n",
       "1                                      NaN  \n",
       "2                                      NaN  \n",
       "3                                      NaN  \n",
       "4                                      NaN  \n",
       "\n",
       "[5 rows x 63 columns]"
      ]
     },
     "execution_count": 31,
     "metadata": {},
     "output_type": "execute_result"
    }
   ],
   "source": [
    "data.head()"
   ]
  },
  {
   "cell_type": "code",
   "execution_count": 32,
   "id": "6a805b83",
   "metadata": {
    "ExecuteTime": {
     "end_time": "2023-04-11T14:26:11.107766Z",
     "start_time": "2023-04-11T14:26:10.960386Z"
    }
   },
   "outputs": [
    {
     "data": {
      "text/html": [
       "<div>\n",
       "<style scoped>\n",
       "    .dataframe tbody tr th:only-of-type {\n",
       "        vertical-align: middle;\n",
       "    }\n",
       "\n",
       "    .dataframe tbody tr th {\n",
       "        vertical-align: top;\n",
       "    }\n",
       "\n",
       "    .dataframe thead th {\n",
       "        text-align: right;\n",
       "    }\n",
       "</style>\n",
       "<table border=\"1\" class=\"dataframe\">\n",
       "  <thead>\n",
       "    <tr style=\"text-align: right;\">\n",
       "      <th></th>\n",
       "      <th>iso_code</th>\n",
       "      <th>date</th>\n",
       "      <th>total_cases</th>\n",
       "      <th>new_cases</th>\n",
       "      <th>new_cases_smoothed</th>\n",
       "      <th>total_deaths</th>\n",
       "      <th>new_deaths</th>\n",
       "      <th>new_deaths_smoothed</th>\n",
       "      <th>total_cases_per_million</th>\n",
       "      <th>new_cases_per_million</th>\n",
       "      <th>...</th>\n",
       "      <th>female_smokers</th>\n",
       "      <th>male_smokers</th>\n",
       "      <th>handwashing_facilities</th>\n",
       "      <th>hospital_beds_per_thousand</th>\n",
       "      <th>life_expectancy</th>\n",
       "      <th>human_development_index</th>\n",
       "      <th>excess_mortality_cumulative_absolute</th>\n",
       "      <th>excess_mortality_cumulative</th>\n",
       "      <th>excess_mortality</th>\n",
       "      <th>excess_mortality_cumulative_per_million</th>\n",
       "    </tr>\n",
       "  </thead>\n",
       "  <tbody>\n",
       "    <tr>\n",
       "      <th>123586</th>\n",
       "      <td>OWID_WRL</td>\n",
       "      <td>2021-10-21</td>\n",
       "      <td>242498327.0</td>\n",
       "      <td>457126.0</td>\n",
       "      <td>412384.714</td>\n",
       "      <td>4929776.0</td>\n",
       "      <td>7589.0</td>\n",
       "      <td>6800.286</td>\n",
       "      <td>30793.572</td>\n",
       "      <td>58.048</td>\n",
       "      <td>...</td>\n",
       "      <td>6.434</td>\n",
       "      <td>34.635</td>\n",
       "      <td>60.13</td>\n",
       "      <td>2.705</td>\n",
       "      <td>72.58</td>\n",
       "      <td>0.737</td>\n",
       "      <td>NaN</td>\n",
       "      <td>NaN</td>\n",
       "      <td>NaN</td>\n",
       "      <td>NaN</td>\n",
       "    </tr>\n",
       "    <tr>\n",
       "      <th>123585</th>\n",
       "      <td>OWID_WRL</td>\n",
       "      <td>2021-10-20</td>\n",
       "      <td>242041201.0</td>\n",
       "      <td>467684.0</td>\n",
       "      <td>410477.429</td>\n",
       "      <td>4922187.0</td>\n",
       "      <td>8587.0</td>\n",
       "      <td>6840.857</td>\n",
       "      <td>30735.524</td>\n",
       "      <td>59.389</td>\n",
       "      <td>...</td>\n",
       "      <td>6.434</td>\n",
       "      <td>34.635</td>\n",
       "      <td>60.13</td>\n",
       "      <td>2.705</td>\n",
       "      <td>72.58</td>\n",
       "      <td>0.737</td>\n",
       "      <td>NaN</td>\n",
       "      <td>NaN</td>\n",
       "      <td>NaN</td>\n",
       "      <td>NaN</td>\n",
       "    </tr>\n",
       "    <tr>\n",
       "      <th>123584</th>\n",
       "      <td>OWID_WRL</td>\n",
       "      <td>2021-10-19</td>\n",
       "      <td>241573517.0</td>\n",
       "      <td>441251.0</td>\n",
       "      <td>409760.571</td>\n",
       "      <td>4913600.0</td>\n",
       "      <td>8506.0</td>\n",
       "      <td>6855.000</td>\n",
       "      <td>30676.136</td>\n",
       "      <td>56.032</td>\n",
       "      <td>...</td>\n",
       "      <td>6.434</td>\n",
       "      <td>34.635</td>\n",
       "      <td>60.13</td>\n",
       "      <td>2.705</td>\n",
       "      <td>72.58</td>\n",
       "      <td>0.737</td>\n",
       "      <td>NaN</td>\n",
       "      <td>NaN</td>\n",
       "      <td>NaN</td>\n",
       "      <td>NaN</td>\n",
       "    </tr>\n",
       "    <tr>\n",
       "      <th>123583</th>\n",
       "      <td>OWID_WRL</td>\n",
       "      <td>2021-10-18</td>\n",
       "      <td>241132266.0</td>\n",
       "      <td>425922.0</td>\n",
       "      <td>408517.571</td>\n",
       "      <td>4905094.0</td>\n",
       "      <td>6420.0</td>\n",
       "      <td>6790.286</td>\n",
       "      <td>30620.104</td>\n",
       "      <td>54.086</td>\n",
       "      <td>...</td>\n",
       "      <td>6.434</td>\n",
       "      <td>34.635</td>\n",
       "      <td>60.13</td>\n",
       "      <td>2.705</td>\n",
       "      <td>72.58</td>\n",
       "      <td>0.737</td>\n",
       "      <td>NaN</td>\n",
       "      <td>NaN</td>\n",
       "      <td>NaN</td>\n",
       "      <td>NaN</td>\n",
       "    </tr>\n",
       "    <tr>\n",
       "      <th>123582</th>\n",
       "      <td>OWID_WRL</td>\n",
       "      <td>2021-10-17</td>\n",
       "      <td>240706344.0</td>\n",
       "      <td>301327.0</td>\n",
       "      <td>403868.000</td>\n",
       "      <td>4898674.0</td>\n",
       "      <td>4161.0</td>\n",
       "      <td>6695.143</td>\n",
       "      <td>30566.018</td>\n",
       "      <td>38.264</td>\n",
       "      <td>...</td>\n",
       "      <td>6.434</td>\n",
       "      <td>34.635</td>\n",
       "      <td>60.13</td>\n",
       "      <td>2.705</td>\n",
       "      <td>72.58</td>\n",
       "      <td>0.737</td>\n",
       "      <td>NaN</td>\n",
       "      <td>NaN</td>\n",
       "      <td>NaN</td>\n",
       "      <td>NaN</td>\n",
       "    </tr>\n",
       "  </tbody>\n",
       "</table>\n",
       "<p>5 rows × 63 columns</p>\n",
       "</div>"
      ],
      "text/plain": [
       "        iso_code        date  total_cases  new_cases  new_cases_smoothed  \\\n",
       "123586  OWID_WRL  2021-10-21  242498327.0   457126.0          412384.714   \n",
       "123585  OWID_WRL  2021-10-20  242041201.0   467684.0          410477.429   \n",
       "123584  OWID_WRL  2021-10-19  241573517.0   441251.0          409760.571   \n",
       "123583  OWID_WRL  2021-10-18  241132266.0   425922.0          408517.571   \n",
       "123582  OWID_WRL  2021-10-17  240706344.0   301327.0          403868.000   \n",
       "\n",
       "        total_deaths  new_deaths  new_deaths_smoothed  \\\n",
       "123586     4929776.0      7589.0             6800.286   \n",
       "123585     4922187.0      8587.0             6840.857   \n",
       "123584     4913600.0      8506.0             6855.000   \n",
       "123583     4905094.0      6420.0             6790.286   \n",
       "123582     4898674.0      4161.0             6695.143   \n",
       "\n",
       "        total_cases_per_million  new_cases_per_million  ...  female_smokers  \\\n",
       "123586                30793.572                 58.048  ...           6.434   \n",
       "123585                30735.524                 59.389  ...           6.434   \n",
       "123584                30676.136                 56.032  ...           6.434   \n",
       "123583                30620.104                 54.086  ...           6.434   \n",
       "123582                30566.018                 38.264  ...           6.434   \n",
       "\n",
       "        male_smokers  handwashing_facilities  hospital_beds_per_thousand  \\\n",
       "123586        34.635                   60.13                       2.705   \n",
       "123585        34.635                   60.13                       2.705   \n",
       "123584        34.635                   60.13                       2.705   \n",
       "123583        34.635                   60.13                       2.705   \n",
       "123582        34.635                   60.13                       2.705   \n",
       "\n",
       "        life_expectancy  human_development_index  \\\n",
       "123586            72.58                    0.737   \n",
       "123585            72.58                    0.737   \n",
       "123584            72.58                    0.737   \n",
       "123583            72.58                    0.737   \n",
       "123582            72.58                    0.737   \n",
       "\n",
       "        excess_mortality_cumulative_absolute  excess_mortality_cumulative  \\\n",
       "123586                                   NaN                          NaN   \n",
       "123585                                   NaN                          NaN   \n",
       "123584                                   NaN                          NaN   \n",
       "123583                                   NaN                          NaN   \n",
       "123582                                   NaN                          NaN   \n",
       "\n",
       "        excess_mortality  excess_mortality_cumulative_per_million  \n",
       "123586               NaN                                      NaN  \n",
       "123585               NaN                                      NaN  \n",
       "123584               NaN                                      NaN  \n",
       "123583               NaN                                      NaN  \n",
       "123582               NaN                                      NaN  \n",
       "\n",
       "[5 rows x 63 columns]"
      ]
     },
     "execution_count": 32,
     "metadata": {},
     "output_type": "execute_result"
    }
   ],
   "source": [
    "data.sort_values(by=\"total_cases\", ascending=False, ).head() "
   ]
  },
  {
   "cell_type": "code",
   "execution_count": null,
   "id": "7da38e17",
   "metadata": {},
   "outputs": [],
   "source": [
    "def func():\n",
    "    pass\n"
   ]
  },
  {
   "cell_type": "code",
   "execution_count": 35,
   "id": "69a393e3",
   "metadata": {
    "ExecuteTime": {
     "end_time": "2023-04-11T14:29:12.752961Z",
     "start_time": "2023-04-11T14:29:12.744297Z"
    }
   },
   "outputs": [],
   "source": [
    "countries['continent_new'] = countries.continent.values\n",
    "countries['continent_new'] = countries['continent'].apply(lambda x: 'Eurasia' if (x == 'Asia') | (x=='Europe') else x)"
   ]
  },
  {
   "cell_type": "code",
   "execution_count": 36,
   "id": "b82f2eba",
   "metadata": {
    "ExecuteTime": {
     "end_time": "2023-04-11T14:29:14.836924Z",
     "start_time": "2023-04-11T14:29:14.802751Z"
    }
   },
   "outputs": [
    {
     "data": {
      "text/html": [
       "<div>\n",
       "<style scoped>\n",
       "    .dataframe tbody tr th:only-of-type {\n",
       "        vertical-align: middle;\n",
       "    }\n",
       "\n",
       "    .dataframe tbody tr th {\n",
       "        vertical-align: top;\n",
       "    }\n",
       "\n",
       "    .dataframe thead th {\n",
       "        text-align: right;\n",
       "    }\n",
       "</style>\n",
       "<table border=\"1\" class=\"dataframe\">\n",
       "  <thead>\n",
       "    <tr style=\"text-align: right;\">\n",
       "      <th></th>\n",
       "      <th>iso_code</th>\n",
       "      <th>continent</th>\n",
       "      <th>location</th>\n",
       "      <th>continent_new</th>\n",
       "    </tr>\n",
       "  </thead>\n",
       "  <tbody>\n",
       "    <tr>\n",
       "      <th>0</th>\n",
       "      <td>ABW</td>\n",
       "      <td>North America</td>\n",
       "      <td>Aruba</td>\n",
       "      <td>North America</td>\n",
       "    </tr>\n",
       "    <tr>\n",
       "      <th>1</th>\n",
       "      <td>AFG</td>\n",
       "      <td>Asia</td>\n",
       "      <td>Afghanistan</td>\n",
       "      <td>Eurasia</td>\n",
       "    </tr>\n",
       "    <tr>\n",
       "      <th>2</th>\n",
       "      <td>AGO</td>\n",
       "      <td>Africa</td>\n",
       "      <td>Angola</td>\n",
       "      <td>Africa</td>\n",
       "    </tr>\n",
       "    <tr>\n",
       "      <th>3</th>\n",
       "      <td>AIA</td>\n",
       "      <td>North America</td>\n",
       "      <td>Anguilla</td>\n",
       "      <td>North America</td>\n",
       "    </tr>\n",
       "    <tr>\n",
       "      <th>4</th>\n",
       "      <td>ALB</td>\n",
       "      <td>Europe</td>\n",
       "      <td>Albania</td>\n",
       "      <td>Eurasia</td>\n",
       "    </tr>\n",
       "    <tr>\n",
       "      <th>...</th>\n",
       "      <td>...</td>\n",
       "      <td>...</td>\n",
       "      <td>...</td>\n",
       "      <td>...</td>\n",
       "    </tr>\n",
       "    <tr>\n",
       "      <th>219</th>\n",
       "      <td>WSM</td>\n",
       "      <td>Oceania</td>\n",
       "      <td>Samoa</td>\n",
       "      <td>Oceania</td>\n",
       "    </tr>\n",
       "    <tr>\n",
       "      <th>220</th>\n",
       "      <td>YEM</td>\n",
       "      <td>Asia</td>\n",
       "      <td>Yemen</td>\n",
       "      <td>Eurasia</td>\n",
       "    </tr>\n",
       "    <tr>\n",
       "      <th>221</th>\n",
       "      <td>ZAF</td>\n",
       "      <td>Africa</td>\n",
       "      <td>South Africa</td>\n",
       "      <td>Africa</td>\n",
       "    </tr>\n",
       "    <tr>\n",
       "      <th>222</th>\n",
       "      <td>ZMB</td>\n",
       "      <td>Africa</td>\n",
       "      <td>Zambia</td>\n",
       "      <td>Africa</td>\n",
       "    </tr>\n",
       "    <tr>\n",
       "      <th>223</th>\n",
       "      <td>ZWE</td>\n",
       "      <td>Africa</td>\n",
       "      <td>Zimbabwe</td>\n",
       "      <td>Africa</td>\n",
       "    </tr>\n",
       "  </tbody>\n",
       "</table>\n",
       "<p>224 rows × 4 columns</p>\n",
       "</div>"
      ],
      "text/plain": [
       "    iso_code      continent      location  continent_new\n",
       "0        ABW  North America         Aruba  North America\n",
       "1        AFG           Asia   Afghanistan        Eurasia\n",
       "2        AGO         Africa        Angola         Africa\n",
       "3        AIA  North America      Anguilla  North America\n",
       "4        ALB         Europe       Albania        Eurasia\n",
       "..       ...            ...           ...            ...\n",
       "219      WSM        Oceania         Samoa        Oceania\n",
       "220      YEM           Asia         Yemen        Eurasia\n",
       "221      ZAF         Africa  South Africa         Africa\n",
       "222      ZMB         Africa        Zambia         Africa\n",
       "223      ZWE         Africa      Zimbabwe         Africa\n",
       "\n",
       "[224 rows x 4 columns]"
      ]
     },
     "execution_count": 36,
     "metadata": {},
     "output_type": "execute_result"
    }
   ],
   "source": [
    "countries"
   ]
  },
  {
   "cell_type": "markdown",
   "id": "f6b544c5",
   "metadata": {},
   "source": [
    "#### Убираем ненужные столбцы"
   ]
  },
  {
   "cell_type": "code",
   "execution_count": 37,
   "id": "7b0124d8",
   "metadata": {
    "ExecuteTime": {
     "end_time": "2023-04-11T14:31:01.266620Z",
     "start_time": "2023-04-11T14:31:01.203619Z"
    }
   },
   "outputs": [],
   "source": [
    "columns_to_drop = ['total_deaths', 'new_deaths',\n",
    "       'new_deaths_smoothed', 'total_cases_per_million',\n",
    "       'new_cases_per_million', 'new_cases_smoothed_per_million',\n",
    "       'total_deaths_per_million', 'new_deaths_per_million',\n",
    "       'new_deaths_smoothed_per_million', 'reproduction_rate', \n",
    "       'icu_patients_per_million', \n",
    "       'hosp_patients_per_million', 'weekly_icu_admissions',\n",
    "       'weekly_icu_admissions_per_million', 'weekly_hosp_admissions',\n",
    "       'weekly_hosp_admissions_per_million', \n",
    "       'total_tests_per_thousand', 'new_tests_per_thousand',\n",
    "       'new_tests_smoothed_per_thousand',\n",
    "       'positive_rate', 'tests_per_case', 'tests_units', 'total_boosters',\n",
    "       'total_vaccinations_per_hundred', 'people_vaccinated_per_hundred',\n",
    "       'people_fully_vaccinated_per_hundred', 'total_boosters_per_hundred',\n",
    "       'new_vaccinations_smoothed_per_million', 'stringency_index',\n",
    "       'population', 'population_density', 'median_age', 'aged_65_older',\n",
    "       'aged_70_older', 'gdp_per_capita', 'extreme_poverty','female_smokers',\n",
    "       'male_smokers', 'handwashing_facilities', 'hospital_beds_per_thousand',\n",
    "       'life_expectancy', 'human_development_index',\n",
    "       'excess_mortality_cumulative_absolute', 'excess_mortality_cumulative',\n",
    "       'excess_mortality', 'excess_mortality_cumulative_per_million']\n",
    "\n",
    "data.drop(columns_to_drop, axis=1, inplace=True)"
   ]
  },
  {
   "cell_type": "code",
   "execution_count": 38,
   "id": "2b87ce21",
   "metadata": {
    "ExecuteTime": {
     "end_time": "2023-04-11T14:31:02.521332Z",
     "start_time": "2023-04-11T14:31:02.512535Z"
    }
   },
   "outputs": [
    {
     "data": {
      "text/plain": [
       "Index(['iso_code', 'date', 'total_cases', 'new_cases', 'new_cases_smoothed',\n",
       "       'icu_patients', 'hosp_patients', 'new_tests', 'total_tests',\n",
       "       'new_tests_smoothed', 'total_vaccinations', 'people_vaccinated',\n",
       "       'people_fully_vaccinated', 'new_vaccinations',\n",
       "       'new_vaccinations_smoothed', 'cardiovasc_death_rate',\n",
       "       'diabetes_prevalence'],\n",
       "      dtype='object')"
      ]
     },
     "execution_count": 38,
     "metadata": {},
     "output_type": "execute_result"
    }
   ],
   "source": [
    "data.columns"
   ]
  },
  {
   "cell_type": "markdown",
   "id": "82e10c66",
   "metadata": {},
   "source": [
    "## Data types and missing values"
   ]
  },
  {
   "cell_type": "code",
   "execution_count": 42,
   "id": "bba5377a",
   "metadata": {
    "ExecuteTime": {
     "end_time": "2023-04-11T14:32:46.799952Z",
     "start_time": "2023-04-11T14:32:46.762444Z"
    },
    "scrolled": false
   },
   "outputs": [
    {
     "name": "stdout",
     "output_type": "stream",
     "text": [
      "<class 'pandas.core.frame.DataFrame'>\n",
      "RangeIndex: 125311 entries, 0 to 125310\n",
      "Data columns (total 17 columns):\n",
      " #   Column                     Non-Null Count   Dtype         \n",
      "---  ------                     --------------   -----         \n",
      " 0   iso_code                   125311 non-null  object        \n",
      " 1   date                       125311 non-null  datetime64[ns]\n",
      " 2   total_cases                118548 non-null  float64       \n",
      " 3   new_cases                  118544 non-null  float64       \n",
      " 4   new_cases_smoothed         117530 non-null  float64       \n",
      " 5   icu_patients               15384 non-null   float64       \n",
      " 6   hosp_patients              17471 non-null   float64       \n",
      " 7   new_tests                  53736 non-null   float64       \n",
      " 8   total_tests                53887 non-null   float64       \n",
      " 9   new_tests_smoothed         64878 non-null   float64       \n",
      " 10  total_vaccinations         29716 non-null   float64       \n",
      " 11  people_vaccinated          28391 non-null   float64       \n",
      " 12  people_fully_vaccinated    25287 non-null   float64       \n",
      " 13  new_vaccinations           24533 non-null   float64       \n",
      " 14  new_vaccinations_smoothed  53647 non-null   float64       \n",
      " 15  cardiovasc_death_rate      110714 non-null  float64       \n",
      " 16  diabetes_prevalence        114213 non-null  float64       \n",
      "dtypes: datetime64[ns](1), float64(15), object(1)\n",
      "memory usage: 16.3+ MB\n"
     ]
    }
   ],
   "source": [
    "data.info()"
   ]
  },
  {
   "cell_type": "code",
   "execution_count": 41,
   "id": "2f850a40",
   "metadata": {
    "ExecuteTime": {
     "end_time": "2023-04-11T14:32:43.112560Z",
     "start_time": "2023-04-11T14:32:43.076660Z"
    }
   },
   "outputs": [],
   "source": [
    "data['date'] =  pd.to_datetime(data['date'], format='%Y-%m-%d') # подумайте как можно сделать то же самое через apply"
   ]
  },
  {
   "cell_type": "code",
   "execution_count": 43,
   "id": "068cfbfd",
   "metadata": {
    "ExecuteTime": {
     "end_time": "2023-04-11T14:32:55.498078Z",
     "start_time": "2023-04-11T14:32:55.470383Z"
    }
   },
   "outputs": [
    {
     "data": {
      "text/html": [
       "<div>\n",
       "<style scoped>\n",
       "    .dataframe tbody tr th:only-of-type {\n",
       "        vertical-align: middle;\n",
       "    }\n",
       "\n",
       "    .dataframe tbody tr th {\n",
       "        vertical-align: top;\n",
       "    }\n",
       "\n",
       "    .dataframe thead th {\n",
       "        text-align: right;\n",
       "    }\n",
       "</style>\n",
       "<table border=\"1\" class=\"dataframe\">\n",
       "  <thead>\n",
       "    <tr style=\"text-align: right;\">\n",
       "      <th></th>\n",
       "      <th>iso_code</th>\n",
       "      <th>date</th>\n",
       "      <th>total_cases</th>\n",
       "      <th>new_cases</th>\n",
       "      <th>new_cases_smoothed</th>\n",
       "      <th>icu_patients</th>\n",
       "      <th>hosp_patients</th>\n",
       "      <th>new_tests</th>\n",
       "      <th>total_tests</th>\n",
       "      <th>new_tests_smoothed</th>\n",
       "      <th>total_vaccinations</th>\n",
       "      <th>people_vaccinated</th>\n",
       "      <th>people_fully_vaccinated</th>\n",
       "      <th>new_vaccinations</th>\n",
       "      <th>new_vaccinations_smoothed</th>\n",
       "      <th>cardiovasc_death_rate</th>\n",
       "      <th>diabetes_prevalence</th>\n",
       "    </tr>\n",
       "  </thead>\n",
       "  <tbody>\n",
       "    <tr>\n",
       "      <th>606</th>\n",
       "      <td>OWID_AFR</td>\n",
       "      <td>2020-02-13</td>\n",
       "      <td>NaN</td>\n",
       "      <td>0.0</td>\n",
       "      <td>NaN</td>\n",
       "      <td>NaN</td>\n",
       "      <td>NaN</td>\n",
       "      <td>NaN</td>\n",
       "      <td>NaN</td>\n",
       "      <td>NaN</td>\n",
       "      <td>NaN</td>\n",
       "      <td>NaN</td>\n",
       "      <td>NaN</td>\n",
       "      <td>NaN</td>\n",
       "      <td>NaN</td>\n",
       "      <td>NaN</td>\n",
       "      <td>NaN</td>\n",
       "    </tr>\n",
       "    <tr>\n",
       "      <th>1223</th>\n",
       "      <td>ALB</td>\n",
       "      <td>2020-02-25</td>\n",
       "      <td>NaN</td>\n",
       "      <td>NaN</td>\n",
       "      <td>NaN</td>\n",
       "      <td>NaN</td>\n",
       "      <td>NaN</td>\n",
       "      <td>8.0</td>\n",
       "      <td>8.0</td>\n",
       "      <td>NaN</td>\n",
       "      <td>NaN</td>\n",
       "      <td>NaN</td>\n",
       "      <td>NaN</td>\n",
       "      <td>NaN</td>\n",
       "      <td>NaN</td>\n",
       "      <td>304.195</td>\n",
       "      <td>10.08</td>\n",
       "    </tr>\n",
       "    <tr>\n",
       "      <th>1224</th>\n",
       "      <td>ALB</td>\n",
       "      <td>2020-02-26</td>\n",
       "      <td>NaN</td>\n",
       "      <td>NaN</td>\n",
       "      <td>NaN</td>\n",
       "      <td>NaN</td>\n",
       "      <td>NaN</td>\n",
       "      <td>5.0</td>\n",
       "      <td>13.0</td>\n",
       "      <td>NaN</td>\n",
       "      <td>NaN</td>\n",
       "      <td>NaN</td>\n",
       "      <td>NaN</td>\n",
       "      <td>NaN</td>\n",
       "      <td>NaN</td>\n",
       "      <td>304.195</td>\n",
       "      <td>10.08</td>\n",
       "    </tr>\n",
       "    <tr>\n",
       "      <th>1225</th>\n",
       "      <td>ALB</td>\n",
       "      <td>2020-02-27</td>\n",
       "      <td>NaN</td>\n",
       "      <td>NaN</td>\n",
       "      <td>NaN</td>\n",
       "      <td>NaN</td>\n",
       "      <td>NaN</td>\n",
       "      <td>4.0</td>\n",
       "      <td>17.0</td>\n",
       "      <td>NaN</td>\n",
       "      <td>NaN</td>\n",
       "      <td>NaN</td>\n",
       "      <td>NaN</td>\n",
       "      <td>NaN</td>\n",
       "      <td>NaN</td>\n",
       "      <td>304.195</td>\n",
       "      <td>10.08</td>\n",
       "    </tr>\n",
       "    <tr>\n",
       "      <th>1226</th>\n",
       "      <td>ALB</td>\n",
       "      <td>2020-02-28</td>\n",
       "      <td>NaN</td>\n",
       "      <td>NaN</td>\n",
       "      <td>NaN</td>\n",
       "      <td>NaN</td>\n",
       "      <td>NaN</td>\n",
       "      <td>1.0</td>\n",
       "      <td>18.0</td>\n",
       "      <td>NaN</td>\n",
       "      <td>NaN</td>\n",
       "      <td>NaN</td>\n",
       "      <td>NaN</td>\n",
       "      <td>NaN</td>\n",
       "      <td>NaN</td>\n",
       "      <td>304.195</td>\n",
       "      <td>10.08</td>\n",
       "    </tr>\n",
       "  </tbody>\n",
       "</table>\n",
       "</div>"
      ],
      "text/plain": [
       "      iso_code       date  total_cases  new_cases  new_cases_smoothed  \\\n",
       "606   OWID_AFR 2020-02-13          NaN        0.0                 NaN   \n",
       "1223       ALB 2020-02-25          NaN        NaN                 NaN   \n",
       "1224       ALB 2020-02-26          NaN        NaN                 NaN   \n",
       "1225       ALB 2020-02-27          NaN        NaN                 NaN   \n",
       "1226       ALB 2020-02-28          NaN        NaN                 NaN   \n",
       "\n",
       "      icu_patients  hosp_patients  new_tests  total_tests  new_tests_smoothed  \\\n",
       "606            NaN            NaN        NaN          NaN                 NaN   \n",
       "1223           NaN            NaN        8.0          8.0                 NaN   \n",
       "1224           NaN            NaN        5.0         13.0                 NaN   \n",
       "1225           NaN            NaN        4.0         17.0                 NaN   \n",
       "1226           NaN            NaN        1.0         18.0                 NaN   \n",
       "\n",
       "      total_vaccinations  people_vaccinated  people_fully_vaccinated  \\\n",
       "606                  NaN                NaN                      NaN   \n",
       "1223                 NaN                NaN                      NaN   \n",
       "1224                 NaN                NaN                      NaN   \n",
       "1225                 NaN                NaN                      NaN   \n",
       "1226                 NaN                NaN                      NaN   \n",
       "\n",
       "      new_vaccinations  new_vaccinations_smoothed  cardiovasc_death_rate  \\\n",
       "606                NaN                        NaN                    NaN   \n",
       "1223               NaN                        NaN                304.195   \n",
       "1224               NaN                        NaN                304.195   \n",
       "1225               NaN                        NaN                304.195   \n",
       "1226               NaN                        NaN                304.195   \n",
       "\n",
       "      diabetes_prevalence  \n",
       "606                   NaN  \n",
       "1223                10.08  \n",
       "1224                10.08  \n",
       "1225                10.08  \n",
       "1226                10.08  "
      ]
     },
     "execution_count": 43,
     "metadata": {},
     "output_type": "execute_result"
    }
   ],
   "source": [
    "data[data['total_cases'].isnull()].head(5)"
   ]
  },
  {
   "cell_type": "code",
   "execution_count": 44,
   "id": "dd6363fc",
   "metadata": {
    "ExecuteTime": {
     "end_time": "2023-04-11T14:33:24.012129Z",
     "start_time": "2023-04-11T14:33:24.005155Z"
    }
   },
   "outputs": [],
   "source": [
    "data['total_cases'] = data['total_cases'].fillna(0)"
   ]
  },
  {
   "cell_type": "code",
   "execution_count": 45,
   "id": "fcbc54e1",
   "metadata": {
    "ExecuteTime": {
     "end_time": "2023-04-11T14:33:27.219379Z",
     "start_time": "2023-04-11T14:33:27.196438Z"
    }
   },
   "outputs": [
    {
     "data": {
      "text/html": [
       "<div>\n",
       "<style scoped>\n",
       "    .dataframe tbody tr th:only-of-type {\n",
       "        vertical-align: middle;\n",
       "    }\n",
       "\n",
       "    .dataframe tbody tr th {\n",
       "        vertical-align: top;\n",
       "    }\n",
       "\n",
       "    .dataframe thead th {\n",
       "        text-align: right;\n",
       "    }\n",
       "</style>\n",
       "<table border=\"1\" class=\"dataframe\">\n",
       "  <thead>\n",
       "    <tr style=\"text-align: right;\">\n",
       "      <th></th>\n",
       "      <th>iso_code</th>\n",
       "      <th>date</th>\n",
       "      <th>total_cases</th>\n",
       "      <th>new_cases</th>\n",
       "      <th>new_cases_smoothed</th>\n",
       "      <th>icu_patients</th>\n",
       "      <th>hosp_patients</th>\n",
       "      <th>new_tests</th>\n",
       "      <th>total_tests</th>\n",
       "      <th>new_tests_smoothed</th>\n",
       "      <th>total_vaccinations</th>\n",
       "      <th>people_vaccinated</th>\n",
       "      <th>people_fully_vaccinated</th>\n",
       "      <th>new_vaccinations</th>\n",
       "      <th>new_vaccinations_smoothed</th>\n",
       "      <th>cardiovasc_death_rate</th>\n",
       "      <th>diabetes_prevalence</th>\n",
       "    </tr>\n",
       "  </thead>\n",
       "  <tbody>\n",
       "  </tbody>\n",
       "</table>\n",
       "</div>"
      ],
      "text/plain": [
       "Empty DataFrame\n",
       "Columns: [iso_code, date, total_cases, new_cases, new_cases_smoothed, icu_patients, hosp_patients, new_tests, total_tests, new_tests_smoothed, total_vaccinations, people_vaccinated, people_fully_vaccinated, new_vaccinations, new_vaccinations_smoothed, cardiovasc_death_rate, diabetes_prevalence]\n",
       "Index: []"
      ]
     },
     "execution_count": 45,
     "metadata": {},
     "output_type": "execute_result"
    }
   ],
   "source": [
    "data[data['total_cases'].isnull()]"
   ]
  },
  {
   "cell_type": "code",
   "execution_count": 46,
   "id": "eebb53e5",
   "metadata": {
    "ExecuteTime": {
     "end_time": "2023-04-11T14:33:33.503523Z",
     "start_time": "2023-04-11T14:33:33.477945Z"
    }
   },
   "outputs": [
    {
     "data": {
      "text/html": [
       "<div>\n",
       "<style scoped>\n",
       "    .dataframe tbody tr th:only-of-type {\n",
       "        vertical-align: middle;\n",
       "    }\n",
       "\n",
       "    .dataframe tbody tr th {\n",
       "        vertical-align: top;\n",
       "    }\n",
       "\n",
       "    .dataframe thead th {\n",
       "        text-align: right;\n",
       "    }\n",
       "</style>\n",
       "<table border=\"1\" class=\"dataframe\">\n",
       "  <thead>\n",
       "    <tr style=\"text-align: right;\">\n",
       "      <th></th>\n",
       "      <th>iso_code</th>\n",
       "      <th>date</th>\n",
       "      <th>total_cases</th>\n",
       "      <th>new_cases</th>\n",
       "      <th>new_cases_smoothed</th>\n",
       "      <th>icu_patients</th>\n",
       "      <th>hosp_patients</th>\n",
       "      <th>new_tests</th>\n",
       "      <th>total_tests</th>\n",
       "      <th>new_tests_smoothed</th>\n",
       "      <th>total_vaccinations</th>\n",
       "      <th>people_vaccinated</th>\n",
       "      <th>people_fully_vaccinated</th>\n",
       "      <th>new_vaccinations</th>\n",
       "      <th>new_vaccinations_smoothed</th>\n",
       "      <th>cardiovasc_death_rate</th>\n",
       "      <th>diabetes_prevalence</th>\n",
       "    </tr>\n",
       "  </thead>\n",
       "  <tbody>\n",
       "    <tr>\n",
       "      <th>0</th>\n",
       "      <td>AFG</td>\n",
       "      <td>2020-02-24</td>\n",
       "      <td>5.0</td>\n",
       "      <td>5.0</td>\n",
       "      <td>NaN</td>\n",
       "      <td>NaN</td>\n",
       "      <td>NaN</td>\n",
       "      <td>NaN</td>\n",
       "      <td>NaN</td>\n",
       "      <td>NaN</td>\n",
       "      <td>NaN</td>\n",
       "      <td>NaN</td>\n",
       "      <td>NaN</td>\n",
       "      <td>NaN</td>\n",
       "      <td>NaN</td>\n",
       "      <td>597.029</td>\n",
       "      <td>9.59</td>\n",
       "    </tr>\n",
       "    <tr>\n",
       "      <th>1</th>\n",
       "      <td>AFG</td>\n",
       "      <td>2020-02-25</td>\n",
       "      <td>5.0</td>\n",
       "      <td>0.0</td>\n",
       "      <td>NaN</td>\n",
       "      <td>NaN</td>\n",
       "      <td>NaN</td>\n",
       "      <td>NaN</td>\n",
       "      <td>NaN</td>\n",
       "      <td>NaN</td>\n",
       "      <td>NaN</td>\n",
       "      <td>NaN</td>\n",
       "      <td>NaN</td>\n",
       "      <td>NaN</td>\n",
       "      <td>NaN</td>\n",
       "      <td>597.029</td>\n",
       "      <td>9.59</td>\n",
       "    </tr>\n",
       "    <tr>\n",
       "      <th>2</th>\n",
       "      <td>AFG</td>\n",
       "      <td>2020-02-26</td>\n",
       "      <td>5.0</td>\n",
       "      <td>0.0</td>\n",
       "      <td>NaN</td>\n",
       "      <td>NaN</td>\n",
       "      <td>NaN</td>\n",
       "      <td>NaN</td>\n",
       "      <td>NaN</td>\n",
       "      <td>NaN</td>\n",
       "      <td>NaN</td>\n",
       "      <td>NaN</td>\n",
       "      <td>NaN</td>\n",
       "      <td>NaN</td>\n",
       "      <td>NaN</td>\n",
       "      <td>597.029</td>\n",
       "      <td>9.59</td>\n",
       "    </tr>\n",
       "    <tr>\n",
       "      <th>3</th>\n",
       "      <td>AFG</td>\n",
       "      <td>2020-02-27</td>\n",
       "      <td>5.0</td>\n",
       "      <td>0.0</td>\n",
       "      <td>NaN</td>\n",
       "      <td>NaN</td>\n",
       "      <td>NaN</td>\n",
       "      <td>NaN</td>\n",
       "      <td>NaN</td>\n",
       "      <td>NaN</td>\n",
       "      <td>NaN</td>\n",
       "      <td>NaN</td>\n",
       "      <td>NaN</td>\n",
       "      <td>NaN</td>\n",
       "      <td>NaN</td>\n",
       "      <td>597.029</td>\n",
       "      <td>9.59</td>\n",
       "    </tr>\n",
       "    <tr>\n",
       "      <th>4</th>\n",
       "      <td>AFG</td>\n",
       "      <td>2020-02-28</td>\n",
       "      <td>5.0</td>\n",
       "      <td>0.0</td>\n",
       "      <td>NaN</td>\n",
       "      <td>NaN</td>\n",
       "      <td>NaN</td>\n",
       "      <td>NaN</td>\n",
       "      <td>NaN</td>\n",
       "      <td>NaN</td>\n",
       "      <td>NaN</td>\n",
       "      <td>NaN</td>\n",
       "      <td>NaN</td>\n",
       "      <td>NaN</td>\n",
       "      <td>NaN</td>\n",
       "      <td>597.029</td>\n",
       "      <td>9.59</td>\n",
       "    </tr>\n",
       "  </tbody>\n",
       "</table>\n",
       "</div>"
      ],
      "text/plain": [
       "  iso_code       date  total_cases  new_cases  new_cases_smoothed  \\\n",
       "0      AFG 2020-02-24          5.0        5.0                 NaN   \n",
       "1      AFG 2020-02-25          5.0        0.0                 NaN   \n",
       "2      AFG 2020-02-26          5.0        0.0                 NaN   \n",
       "3      AFG 2020-02-27          5.0        0.0                 NaN   \n",
       "4      AFG 2020-02-28          5.0        0.0                 NaN   \n",
       "\n",
       "   icu_patients  hosp_patients  new_tests  total_tests  new_tests_smoothed  \\\n",
       "0           NaN            NaN        NaN          NaN                 NaN   \n",
       "1           NaN            NaN        NaN          NaN                 NaN   \n",
       "2           NaN            NaN        NaN          NaN                 NaN   \n",
       "3           NaN            NaN        NaN          NaN                 NaN   \n",
       "4           NaN            NaN        NaN          NaN                 NaN   \n",
       "\n",
       "   total_vaccinations  people_vaccinated  people_fully_vaccinated  \\\n",
       "0                 NaN                NaN                      NaN   \n",
       "1                 NaN                NaN                      NaN   \n",
       "2                 NaN                NaN                      NaN   \n",
       "3                 NaN                NaN                      NaN   \n",
       "4                 NaN                NaN                      NaN   \n",
       "\n",
       "   new_vaccinations  new_vaccinations_smoothed  cardiovasc_death_rate  \\\n",
       "0               NaN                        NaN                597.029   \n",
       "1               NaN                        NaN                597.029   \n",
       "2               NaN                        NaN                597.029   \n",
       "3               NaN                        NaN                597.029   \n",
       "4               NaN                        NaN                597.029   \n",
       "\n",
       "   diabetes_prevalence  \n",
       "0                 9.59  \n",
       "1                 9.59  \n",
       "2                 9.59  \n",
       "3                 9.59  \n",
       "4                 9.59  "
      ]
     },
     "execution_count": 46,
     "metadata": {},
     "output_type": "execute_result"
    }
   ],
   "source": [
    "data.head()"
   ]
  },
  {
   "cell_type": "code",
   "execution_count": 47,
   "id": "2a3a45f3",
   "metadata": {
    "ExecuteTime": {
     "end_time": "2023-04-11T14:33:36.040985Z",
     "start_time": "2023-04-11T14:33:36.004956Z"
    }
   },
   "outputs": [
    {
     "name": "stdout",
     "output_type": "stream",
     "text": [
      "<class 'pandas.core.frame.DataFrame'>\n",
      "RangeIndex: 125311 entries, 0 to 125310\n",
      "Data columns (total 17 columns):\n",
      " #   Column                     Non-Null Count   Dtype         \n",
      "---  ------                     --------------   -----         \n",
      " 0   iso_code                   125311 non-null  object        \n",
      " 1   date                       125311 non-null  datetime64[ns]\n",
      " 2   total_cases                125311 non-null  float64       \n",
      " 3   new_cases                  118544 non-null  float64       \n",
      " 4   new_cases_smoothed         117530 non-null  float64       \n",
      " 5   icu_patients               15384 non-null   float64       \n",
      " 6   hosp_patients              17471 non-null   float64       \n",
      " 7   new_tests                  53736 non-null   float64       \n",
      " 8   total_tests                53887 non-null   float64       \n",
      " 9   new_tests_smoothed         64878 non-null   float64       \n",
      " 10  total_vaccinations         29716 non-null   float64       \n",
      " 11  people_vaccinated          28391 non-null   float64       \n",
      " 12  people_fully_vaccinated    25287 non-null   float64       \n",
      " 13  new_vaccinations           24533 non-null   float64       \n",
      " 14  new_vaccinations_smoothed  53647 non-null   float64       \n",
      " 15  cardiovasc_death_rate      110714 non-null  float64       \n",
      " 16  diabetes_prevalence        114213 non-null  float64       \n",
      "dtypes: datetime64[ns](1), float64(15), object(1)\n",
      "memory usage: 16.3+ MB\n"
     ]
    }
   ],
   "source": [
    "data.info()"
   ]
  },
  {
   "cell_type": "markdown",
   "id": "dc7be557",
   "metadata": {},
   "source": [
    "## Grouping and merging"
   ]
  },
  {
   "cell_type": "code",
   "execution_count": 48,
   "id": "b09819bc",
   "metadata": {
    "ExecuteTime": {
     "end_time": "2023-04-11T14:34:21.858129Z",
     "start_time": "2023-04-11T14:34:21.830787Z"
    }
   },
   "outputs": [
    {
     "data": {
      "text/html": [
       "<div>\n",
       "<style scoped>\n",
       "    .dataframe tbody tr th:only-of-type {\n",
       "        vertical-align: middle;\n",
       "    }\n",
       "\n",
       "    .dataframe tbody tr th {\n",
       "        vertical-align: top;\n",
       "    }\n",
       "\n",
       "    .dataframe thead th {\n",
       "        text-align: right;\n",
       "    }\n",
       "</style>\n",
       "<table border=\"1\" class=\"dataframe\">\n",
       "  <thead>\n",
       "    <tr style=\"text-align: right;\">\n",
       "      <th></th>\n",
       "      <th>iso_code</th>\n",
       "      <th>date</th>\n",
       "      <th>total_cases</th>\n",
       "      <th>new_cases</th>\n",
       "      <th>new_cases_smoothed</th>\n",
       "      <th>icu_patients</th>\n",
       "      <th>hosp_patients</th>\n",
       "      <th>new_tests</th>\n",
       "      <th>total_tests</th>\n",
       "      <th>new_tests_smoothed</th>\n",
       "      <th>total_vaccinations</th>\n",
       "      <th>people_vaccinated</th>\n",
       "      <th>people_fully_vaccinated</th>\n",
       "      <th>new_vaccinations</th>\n",
       "      <th>new_vaccinations_smoothed</th>\n",
       "      <th>cardiovasc_death_rate</th>\n",
       "      <th>diabetes_prevalence</th>\n",
       "    </tr>\n",
       "  </thead>\n",
       "  <tbody>\n",
       "    <tr>\n",
       "      <th>0</th>\n",
       "      <td>AFG</td>\n",
       "      <td>2020-02-24</td>\n",
       "      <td>5.0</td>\n",
       "      <td>5.0</td>\n",
       "      <td>NaN</td>\n",
       "      <td>NaN</td>\n",
       "      <td>NaN</td>\n",
       "      <td>NaN</td>\n",
       "      <td>NaN</td>\n",
       "      <td>NaN</td>\n",
       "      <td>NaN</td>\n",
       "      <td>NaN</td>\n",
       "      <td>NaN</td>\n",
       "      <td>NaN</td>\n",
       "      <td>NaN</td>\n",
       "      <td>597.029</td>\n",
       "      <td>9.59</td>\n",
       "    </tr>\n",
       "    <tr>\n",
       "      <th>1</th>\n",
       "      <td>AFG</td>\n",
       "      <td>2020-02-25</td>\n",
       "      <td>5.0</td>\n",
       "      <td>0.0</td>\n",
       "      <td>NaN</td>\n",
       "      <td>NaN</td>\n",
       "      <td>NaN</td>\n",
       "      <td>NaN</td>\n",
       "      <td>NaN</td>\n",
       "      <td>NaN</td>\n",
       "      <td>NaN</td>\n",
       "      <td>NaN</td>\n",
       "      <td>NaN</td>\n",
       "      <td>NaN</td>\n",
       "      <td>NaN</td>\n",
       "      <td>597.029</td>\n",
       "      <td>9.59</td>\n",
       "    </tr>\n",
       "    <tr>\n",
       "      <th>2</th>\n",
       "      <td>AFG</td>\n",
       "      <td>2020-02-26</td>\n",
       "      <td>5.0</td>\n",
       "      <td>0.0</td>\n",
       "      <td>NaN</td>\n",
       "      <td>NaN</td>\n",
       "      <td>NaN</td>\n",
       "      <td>NaN</td>\n",
       "      <td>NaN</td>\n",
       "      <td>NaN</td>\n",
       "      <td>NaN</td>\n",
       "      <td>NaN</td>\n",
       "      <td>NaN</td>\n",
       "      <td>NaN</td>\n",
       "      <td>NaN</td>\n",
       "      <td>597.029</td>\n",
       "      <td>9.59</td>\n",
       "    </tr>\n",
       "    <tr>\n",
       "      <th>3</th>\n",
       "      <td>AFG</td>\n",
       "      <td>2020-02-27</td>\n",
       "      <td>5.0</td>\n",
       "      <td>0.0</td>\n",
       "      <td>NaN</td>\n",
       "      <td>NaN</td>\n",
       "      <td>NaN</td>\n",
       "      <td>NaN</td>\n",
       "      <td>NaN</td>\n",
       "      <td>NaN</td>\n",
       "      <td>NaN</td>\n",
       "      <td>NaN</td>\n",
       "      <td>NaN</td>\n",
       "      <td>NaN</td>\n",
       "      <td>NaN</td>\n",
       "      <td>597.029</td>\n",
       "      <td>9.59</td>\n",
       "    </tr>\n",
       "    <tr>\n",
       "      <th>4</th>\n",
       "      <td>AFG</td>\n",
       "      <td>2020-02-28</td>\n",
       "      <td>5.0</td>\n",
       "      <td>0.0</td>\n",
       "      <td>NaN</td>\n",
       "      <td>NaN</td>\n",
       "      <td>NaN</td>\n",
       "      <td>NaN</td>\n",
       "      <td>NaN</td>\n",
       "      <td>NaN</td>\n",
       "      <td>NaN</td>\n",
       "      <td>NaN</td>\n",
       "      <td>NaN</td>\n",
       "      <td>NaN</td>\n",
       "      <td>NaN</td>\n",
       "      <td>597.029</td>\n",
       "      <td>9.59</td>\n",
       "    </tr>\n",
       "  </tbody>\n",
       "</table>\n",
       "</div>"
      ],
      "text/plain": [
       "  iso_code       date  total_cases  new_cases  new_cases_smoothed  \\\n",
       "0      AFG 2020-02-24          5.0        5.0                 NaN   \n",
       "1      AFG 2020-02-25          5.0        0.0                 NaN   \n",
       "2      AFG 2020-02-26          5.0        0.0                 NaN   \n",
       "3      AFG 2020-02-27          5.0        0.0                 NaN   \n",
       "4      AFG 2020-02-28          5.0        0.0                 NaN   \n",
       "\n",
       "   icu_patients  hosp_patients  new_tests  total_tests  new_tests_smoothed  \\\n",
       "0           NaN            NaN        NaN          NaN                 NaN   \n",
       "1           NaN            NaN        NaN          NaN                 NaN   \n",
       "2           NaN            NaN        NaN          NaN                 NaN   \n",
       "3           NaN            NaN        NaN          NaN                 NaN   \n",
       "4           NaN            NaN        NaN          NaN                 NaN   \n",
       "\n",
       "   total_vaccinations  people_vaccinated  people_fully_vaccinated  \\\n",
       "0                 NaN                NaN                      NaN   \n",
       "1                 NaN                NaN                      NaN   \n",
       "2                 NaN                NaN                      NaN   \n",
       "3                 NaN                NaN                      NaN   \n",
       "4                 NaN                NaN                      NaN   \n",
       "\n",
       "   new_vaccinations  new_vaccinations_smoothed  cardiovasc_death_rate  \\\n",
       "0               NaN                        NaN                597.029   \n",
       "1               NaN                        NaN                597.029   \n",
       "2               NaN                        NaN                597.029   \n",
       "3               NaN                        NaN                597.029   \n",
       "4               NaN                        NaN                597.029   \n",
       "\n",
       "   diabetes_prevalence  \n",
       "0                 9.59  \n",
       "1                 9.59  \n",
       "2                 9.59  \n",
       "3                 9.59  \n",
       "4                 9.59  "
      ]
     },
     "execution_count": 48,
     "metadata": {},
     "output_type": "execute_result"
    }
   ],
   "source": [
    "data.head()"
   ]
  },
  {
   "cell_type": "code",
   "execution_count": 49,
   "id": "69303f79",
   "metadata": {
    "ExecuteTime": {
     "end_time": "2023-04-11T14:34:26.294949Z",
     "start_time": "2023-04-11T14:34:26.282489Z"
    }
   },
   "outputs": [
    {
     "data": {
      "text/html": [
       "<div>\n",
       "<style scoped>\n",
       "    .dataframe tbody tr th:only-of-type {\n",
       "        vertical-align: middle;\n",
       "    }\n",
       "\n",
       "    .dataframe tbody tr th {\n",
       "        vertical-align: top;\n",
       "    }\n",
       "\n",
       "    .dataframe thead th {\n",
       "        text-align: right;\n",
       "    }\n",
       "</style>\n",
       "<table border=\"1\" class=\"dataframe\">\n",
       "  <thead>\n",
       "    <tr style=\"text-align: right;\">\n",
       "      <th></th>\n",
       "      <th>iso_code</th>\n",
       "      <th>continent</th>\n",
       "      <th>location</th>\n",
       "      <th>continent_new</th>\n",
       "    </tr>\n",
       "  </thead>\n",
       "  <tbody>\n",
       "    <tr>\n",
       "      <th>0</th>\n",
       "      <td>ABW</td>\n",
       "      <td>North America</td>\n",
       "      <td>Aruba</td>\n",
       "      <td>North America</td>\n",
       "    </tr>\n",
       "    <tr>\n",
       "      <th>1</th>\n",
       "      <td>AFG</td>\n",
       "      <td>Asia</td>\n",
       "      <td>Afghanistan</td>\n",
       "      <td>Eurasia</td>\n",
       "    </tr>\n",
       "    <tr>\n",
       "      <th>2</th>\n",
       "      <td>AGO</td>\n",
       "      <td>Africa</td>\n",
       "      <td>Angola</td>\n",
       "      <td>Africa</td>\n",
       "    </tr>\n",
       "    <tr>\n",
       "      <th>3</th>\n",
       "      <td>AIA</td>\n",
       "      <td>North America</td>\n",
       "      <td>Anguilla</td>\n",
       "      <td>North America</td>\n",
       "    </tr>\n",
       "    <tr>\n",
       "      <th>4</th>\n",
       "      <td>ALB</td>\n",
       "      <td>Europe</td>\n",
       "      <td>Albania</td>\n",
       "      <td>Eurasia</td>\n",
       "    </tr>\n",
       "  </tbody>\n",
       "</table>\n",
       "</div>"
      ],
      "text/plain": [
       "  iso_code      continent     location  continent_new\n",
       "0      ABW  North America        Aruba  North America\n",
       "1      AFG           Asia  Afghanistan        Eurasia\n",
       "2      AGO         Africa       Angola         Africa\n",
       "3      AIA  North America     Anguilla  North America\n",
       "4      ALB         Europe      Albania        Eurasia"
      ]
     },
     "execution_count": 49,
     "metadata": {},
     "output_type": "execute_result"
    }
   ],
   "source": [
    "countries.head()"
   ]
  },
  {
   "cell_type": "markdown",
   "id": "6a77b513",
   "metadata": {},
   "source": [
    "#### Join\n",
    "\n",
    "В данном примере происходит обогащение левой таблицы столбцами из правой таблицы (Inner Join). Для каждой строки в таблице data, назовем ее d_str, ищется строка, назовем ее c_str, в таблице countries с таким же значением поля iso_code т.е. d_str['iso_code'] == c_str['iso_code']. Значения всех полей из строки c_str копируются в строку d_str из таблицы data."
   ]
  },
  {
   "cell_type": "code",
   "execution_count": 50,
   "id": "32960b0e",
   "metadata": {
    "ExecuteTime": {
     "end_time": "2023-04-11T14:36:31.732023Z",
     "start_time": "2023-04-11T14:36:31.665522Z"
    }
   },
   "outputs": [
    {
     "data": {
      "text/html": [
       "<div>\n",
       "<style scoped>\n",
       "    .dataframe tbody tr th:only-of-type {\n",
       "        vertical-align: middle;\n",
       "    }\n",
       "\n",
       "    .dataframe tbody tr th {\n",
       "        vertical-align: top;\n",
       "    }\n",
       "\n",
       "    .dataframe thead th {\n",
       "        text-align: right;\n",
       "    }\n",
       "</style>\n",
       "<table border=\"1\" class=\"dataframe\">\n",
       "  <thead>\n",
       "    <tr style=\"text-align: right;\">\n",
       "      <th></th>\n",
       "      <th>iso_code</th>\n",
       "      <th>date</th>\n",
       "      <th>total_cases</th>\n",
       "      <th>new_cases</th>\n",
       "      <th>new_cases_smoothed</th>\n",
       "      <th>icu_patients</th>\n",
       "      <th>hosp_patients</th>\n",
       "      <th>new_tests</th>\n",
       "      <th>total_tests</th>\n",
       "      <th>new_tests_smoothed</th>\n",
       "      <th>total_vaccinations</th>\n",
       "      <th>people_vaccinated</th>\n",
       "      <th>people_fully_vaccinated</th>\n",
       "      <th>new_vaccinations</th>\n",
       "      <th>new_vaccinations_smoothed</th>\n",
       "      <th>cardiovasc_death_rate</th>\n",
       "      <th>diabetes_prevalence</th>\n",
       "      <th>continent</th>\n",
       "      <th>location</th>\n",
       "      <th>continent_new</th>\n",
       "    </tr>\n",
       "  </thead>\n",
       "  <tbody>\n",
       "    <tr>\n",
       "      <th>0</th>\n",
       "      <td>AFG</td>\n",
       "      <td>2020-02-24</td>\n",
       "      <td>5.0</td>\n",
       "      <td>5.0</td>\n",
       "      <td>NaN</td>\n",
       "      <td>NaN</td>\n",
       "      <td>NaN</td>\n",
       "      <td>NaN</td>\n",
       "      <td>NaN</td>\n",
       "      <td>NaN</td>\n",
       "      <td>NaN</td>\n",
       "      <td>NaN</td>\n",
       "      <td>NaN</td>\n",
       "      <td>NaN</td>\n",
       "      <td>NaN</td>\n",
       "      <td>597.029</td>\n",
       "      <td>9.59</td>\n",
       "      <td>Asia</td>\n",
       "      <td>Afghanistan</td>\n",
       "      <td>Eurasia</td>\n",
       "    </tr>\n",
       "    <tr>\n",
       "      <th>1</th>\n",
       "      <td>AFG</td>\n",
       "      <td>2020-02-25</td>\n",
       "      <td>5.0</td>\n",
       "      <td>0.0</td>\n",
       "      <td>NaN</td>\n",
       "      <td>NaN</td>\n",
       "      <td>NaN</td>\n",
       "      <td>NaN</td>\n",
       "      <td>NaN</td>\n",
       "      <td>NaN</td>\n",
       "      <td>NaN</td>\n",
       "      <td>NaN</td>\n",
       "      <td>NaN</td>\n",
       "      <td>NaN</td>\n",
       "      <td>NaN</td>\n",
       "      <td>597.029</td>\n",
       "      <td>9.59</td>\n",
       "      <td>Asia</td>\n",
       "      <td>Afghanistan</td>\n",
       "      <td>Eurasia</td>\n",
       "    </tr>\n",
       "    <tr>\n",
       "      <th>2</th>\n",
       "      <td>AFG</td>\n",
       "      <td>2020-02-26</td>\n",
       "      <td>5.0</td>\n",
       "      <td>0.0</td>\n",
       "      <td>NaN</td>\n",
       "      <td>NaN</td>\n",
       "      <td>NaN</td>\n",
       "      <td>NaN</td>\n",
       "      <td>NaN</td>\n",
       "      <td>NaN</td>\n",
       "      <td>NaN</td>\n",
       "      <td>NaN</td>\n",
       "      <td>NaN</td>\n",
       "      <td>NaN</td>\n",
       "      <td>NaN</td>\n",
       "      <td>597.029</td>\n",
       "      <td>9.59</td>\n",
       "      <td>Asia</td>\n",
       "      <td>Afghanistan</td>\n",
       "      <td>Eurasia</td>\n",
       "    </tr>\n",
       "    <tr>\n",
       "      <th>3</th>\n",
       "      <td>AFG</td>\n",
       "      <td>2020-02-27</td>\n",
       "      <td>5.0</td>\n",
       "      <td>0.0</td>\n",
       "      <td>NaN</td>\n",
       "      <td>NaN</td>\n",
       "      <td>NaN</td>\n",
       "      <td>NaN</td>\n",
       "      <td>NaN</td>\n",
       "      <td>NaN</td>\n",
       "      <td>NaN</td>\n",
       "      <td>NaN</td>\n",
       "      <td>NaN</td>\n",
       "      <td>NaN</td>\n",
       "      <td>NaN</td>\n",
       "      <td>597.029</td>\n",
       "      <td>9.59</td>\n",
       "      <td>Asia</td>\n",
       "      <td>Afghanistan</td>\n",
       "      <td>Eurasia</td>\n",
       "    </tr>\n",
       "    <tr>\n",
       "      <th>4</th>\n",
       "      <td>AFG</td>\n",
       "      <td>2020-02-28</td>\n",
       "      <td>5.0</td>\n",
       "      <td>0.0</td>\n",
       "      <td>NaN</td>\n",
       "      <td>NaN</td>\n",
       "      <td>NaN</td>\n",
       "      <td>NaN</td>\n",
       "      <td>NaN</td>\n",
       "      <td>NaN</td>\n",
       "      <td>NaN</td>\n",
       "      <td>NaN</td>\n",
       "      <td>NaN</td>\n",
       "      <td>NaN</td>\n",
       "      <td>NaN</td>\n",
       "      <td>597.029</td>\n",
       "      <td>9.59</td>\n",
       "      <td>Asia</td>\n",
       "      <td>Afghanistan</td>\n",
       "      <td>Eurasia</td>\n",
       "    </tr>\n",
       "  </tbody>\n",
       "</table>\n",
       "</div>"
      ],
      "text/plain": [
       "  iso_code       date  total_cases  new_cases  new_cases_smoothed  \\\n",
       "0      AFG 2020-02-24          5.0        5.0                 NaN   \n",
       "1      AFG 2020-02-25          5.0        0.0                 NaN   \n",
       "2      AFG 2020-02-26          5.0        0.0                 NaN   \n",
       "3      AFG 2020-02-27          5.0        0.0                 NaN   \n",
       "4      AFG 2020-02-28          5.0        0.0                 NaN   \n",
       "\n",
       "   icu_patients  hosp_patients  new_tests  total_tests  new_tests_smoothed  \\\n",
       "0           NaN            NaN        NaN          NaN                 NaN   \n",
       "1           NaN            NaN        NaN          NaN                 NaN   \n",
       "2           NaN            NaN        NaN          NaN                 NaN   \n",
       "3           NaN            NaN        NaN          NaN                 NaN   \n",
       "4           NaN            NaN        NaN          NaN                 NaN   \n",
       "\n",
       "   total_vaccinations  people_vaccinated  people_fully_vaccinated  \\\n",
       "0                 NaN                NaN                      NaN   \n",
       "1                 NaN                NaN                      NaN   \n",
       "2                 NaN                NaN                      NaN   \n",
       "3                 NaN                NaN                      NaN   \n",
       "4                 NaN                NaN                      NaN   \n",
       "\n",
       "   new_vaccinations  new_vaccinations_smoothed  cardiovasc_death_rate  \\\n",
       "0               NaN                        NaN                597.029   \n",
       "1               NaN                        NaN                597.029   \n",
       "2               NaN                        NaN                597.029   \n",
       "3               NaN                        NaN                597.029   \n",
       "4               NaN                        NaN                597.029   \n",
       "\n",
       "   diabetes_prevalence continent     location continent_new  \n",
       "0                 9.59      Asia  Afghanistan       Eurasia  \n",
       "1                 9.59      Asia  Afghanistan       Eurasia  \n",
       "2                 9.59      Asia  Afghanistan       Eurasia  \n",
       "3                 9.59      Asia  Afghanistan       Eurasia  \n",
       "4                 9.59      Asia  Afghanistan       Eurasia  "
      ]
     },
     "execution_count": 50,
     "metadata": {},
     "output_type": "execute_result"
    }
   ],
   "source": [
    "data_new = data.merge(right=countries, how='inner', on=['iso_code'])\n",
    "data_new.head()"
   ]
  },
  {
   "cell_type": "code",
   "execution_count": 51,
   "id": "e33aa3e7",
   "metadata": {
    "ExecuteTime": {
     "end_time": "2023-04-11T14:36:55.823486Z",
     "start_time": "2023-04-11T14:36:55.817694Z"
    }
   },
   "outputs": [
    {
     "data": {
      "text/plain": [
       "(119634, 20)"
      ]
     },
     "execution_count": 51,
     "metadata": {},
     "output_type": "execute_result"
    }
   ],
   "source": [
    "data_new.shape"
   ]
  },
  {
   "cell_type": "code",
   "execution_count": 52,
   "id": "345b4fc3",
   "metadata": {
    "ExecuteTime": {
     "end_time": "2023-04-11T14:37:00.140108Z",
     "start_time": "2023-04-11T14:37:00.133439Z"
    }
   },
   "outputs": [
    {
     "data": {
      "text/plain": [
       "(125311, 17)"
      ]
     },
     "execution_count": 52,
     "metadata": {},
     "output_type": "execute_result"
    }
   ],
   "source": [
    "data.shape"
   ]
  },
  {
   "cell_type": "code",
   "execution_count": 53,
   "id": "7306ebec",
   "metadata": {
    "ExecuteTime": {
     "end_time": "2023-04-11T14:37:41.816701Z",
     "start_time": "2023-04-11T14:37:41.776340Z"
    }
   },
   "outputs": [],
   "source": [
    "data_new1 = data.merge(right=countries, how='outer', on=['iso_code'])\n",
    "# data_new1.head()"
   ]
  },
  {
   "cell_type": "markdown",
   "id": "059211c3",
   "metadata": {},
   "source": [
    "#### pd.concat"
   ]
  },
  {
   "cell_type": "code",
   "execution_count": 55,
   "id": "0c0fa0ec",
   "metadata": {
    "ExecuteTime": {
     "end_time": "2023-04-11T14:40:49.666068Z",
     "start_time": "2023-04-11T14:40:49.627717Z"
    }
   },
   "outputs": [
    {
     "data": {
      "text/html": [
       "<div>\n",
       "<style scoped>\n",
       "    .dataframe tbody tr th:only-of-type {\n",
       "        vertical-align: middle;\n",
       "    }\n",
       "\n",
       "    .dataframe tbody tr th {\n",
       "        vertical-align: top;\n",
       "    }\n",
       "\n",
       "    .dataframe thead th {\n",
       "        text-align: right;\n",
       "    }\n",
       "</style>\n",
       "<table border=\"1\" class=\"dataframe\">\n",
       "  <thead>\n",
       "    <tr style=\"text-align: right;\">\n",
       "      <th></th>\n",
       "      <th>person</th>\n",
       "      <th>age</th>\n",
       "      <th>sex</th>\n",
       "    </tr>\n",
       "  </thead>\n",
       "  <tbody>\n",
       "    <tr>\n",
       "      <th>0</th>\n",
       "      <td>Lady</td>\n",
       "      <td>18</td>\n",
       "      <td>F</td>\n",
       "    </tr>\n",
       "    <tr>\n",
       "      <th>1</th>\n",
       "      <td>Man</td>\n",
       "      <td>21</td>\n",
       "      <td>M</td>\n",
       "    </tr>\n",
       "    <tr>\n",
       "      <th>2</th>\n",
       "      <td>Cat</td>\n",
       "      <td>3</td>\n",
       "      <td>M</td>\n",
       "    </tr>\n",
       "  </tbody>\n",
       "</table>\n",
       "</div>"
      ],
      "text/plain": [
       "  person  age sex\n",
       "0   Lady   18   F\n",
       "1    Man   21   M\n",
       "2    Cat    3   M"
      ]
     },
     "metadata": {},
     "output_type": "display_data"
    },
    {
     "data": {
      "text/html": [
       "<div>\n",
       "<style scoped>\n",
       "    .dataframe tbody tr th:only-of-type {\n",
       "        vertical-align: middle;\n",
       "    }\n",
       "\n",
       "    .dataframe tbody tr th {\n",
       "        vertical-align: top;\n",
       "    }\n",
       "\n",
       "    .dataframe thead th {\n",
       "        text-align: right;\n",
       "    }\n",
       "</style>\n",
       "<table border=\"1\" class=\"dataframe\">\n",
       "  <thead>\n",
       "    <tr style=\"text-align: right;\">\n",
       "      <th></th>\n",
       "      <th>person</th>\n",
       "      <th>age</th>\n",
       "      <th>sex</th>\n",
       "    </tr>\n",
       "  </thead>\n",
       "  <tbody>\n",
       "    <tr>\n",
       "      <th>0</th>\n",
       "      <td>Dog</td>\n",
       "      <td>5</td>\n",
       "      <td>F</td>\n",
       "    </tr>\n",
       "    <tr>\n",
       "      <th>1</th>\n",
       "      <td>Child</td>\n",
       "      <td>3</td>\n",
       "      <td>M</td>\n",
       "    </tr>\n",
       "  </tbody>\n",
       "</table>\n",
       "</div>"
      ],
      "text/plain": [
       "  person  age sex\n",
       "0    Dog    5   F\n",
       "1  Child    3   M"
      ]
     },
     "metadata": {},
     "output_type": "display_data"
    },
    {
     "data": {
      "text/html": [
       "<div>\n",
       "<style scoped>\n",
       "    .dataframe tbody tr th:only-of-type {\n",
       "        vertical-align: middle;\n",
       "    }\n",
       "\n",
       "    .dataframe tbody tr th {\n",
       "        vertical-align: top;\n",
       "    }\n",
       "\n",
       "    .dataframe thead th {\n",
       "        text-align: right;\n",
       "    }\n",
       "</style>\n",
       "<table border=\"1\" class=\"dataframe\">\n",
       "  <thead>\n",
       "    <tr style=\"text-align: right;\">\n",
       "      <th></th>\n",
       "      <th>person</th>\n",
       "      <th>age</th>\n",
       "      <th>sex</th>\n",
       "    </tr>\n",
       "  </thead>\n",
       "  <tbody>\n",
       "    <tr>\n",
       "      <th>0</th>\n",
       "      <td>Lady</td>\n",
       "      <td>18</td>\n",
       "      <td>F</td>\n",
       "    </tr>\n",
       "    <tr>\n",
       "      <th>1</th>\n",
       "      <td>Man</td>\n",
       "      <td>21</td>\n",
       "      <td>M</td>\n",
       "    </tr>\n",
       "    <tr>\n",
       "      <th>2</th>\n",
       "      <td>Cat</td>\n",
       "      <td>3</td>\n",
       "      <td>M</td>\n",
       "    </tr>\n",
       "    <tr>\n",
       "      <th>0</th>\n",
       "      <td>Dog</td>\n",
       "      <td>5</td>\n",
       "      <td>F</td>\n",
       "    </tr>\n",
       "    <tr>\n",
       "      <th>1</th>\n",
       "      <td>Child</td>\n",
       "      <td>3</td>\n",
       "      <td>M</td>\n",
       "    </tr>\n",
       "  </tbody>\n",
       "</table>\n",
       "</div>"
      ],
      "text/plain": [
       "  person  age sex\n",
       "0   Lady   18   F\n",
       "1    Man   21   M\n",
       "2    Cat    3   M\n",
       "0    Dog    5   F\n",
       "1  Child    3   M"
      ]
     },
     "metadata": {},
     "output_type": "display_data"
    }
   ],
   "source": [
    "df = pd.DataFrame({\n",
    "    'person': ['Lady', 'Man', 'Cat'],\n",
    "    'age': [18, 21, 3],\n",
    "    'sex': ['F', 'M', 'M']\n",
    "})\n",
    "\n",
    "df1 = pd.DataFrame({\n",
    "    'person': ['Dog', 'Child'],\n",
    "    'age': [5, 3],\n",
    "    'sex': ['F', 'M']\n",
    "})\n",
    "df3 = pd.concat([df, df1])\n",
    "display(df)\n",
    "display(df1)\n",
    "display(df3)"
   ]
  },
  {
   "cell_type": "markdown",
   "id": "eccd175e",
   "metadata": {},
   "source": [
    "#### goupby"
   ]
  },
  {
   "cell_type": "code",
   "execution_count": 57,
   "id": "22acfd83",
   "metadata": {
    "ExecuteTime": {
     "end_time": "2023-04-11T14:42:43.740646Z",
     "start_time": "2023-04-11T14:42:43.709387Z"
    }
   },
   "outputs": [
    {
     "data": {
      "text/html": [
       "<div>\n",
       "<style scoped>\n",
       "    .dataframe tbody tr th:only-of-type {\n",
       "        vertical-align: middle;\n",
       "    }\n",
       "\n",
       "    .dataframe tbody tr th {\n",
       "        vertical-align: top;\n",
       "    }\n",
       "\n",
       "    .dataframe thead th {\n",
       "        text-align: right;\n",
       "    }\n",
       "</style>\n",
       "<table border=\"1\" class=\"dataframe\">\n",
       "  <thead>\n",
       "    <tr style=\"text-align: right;\">\n",
       "      <th></th>\n",
       "      <th>total_cases</th>\n",
       "    </tr>\n",
       "    <tr>\n",
       "      <th>continent_new</th>\n",
       "      <th></th>\n",
       "    </tr>\n",
       "  </thead>\n",
       "  <tbody>\n",
       "    <tr>\n",
       "      <th>Africa</th>\n",
       "      <td>1.890127e+09</td>\n",
       "    </tr>\n",
       "    <tr>\n",
       "      <th>Eurasia</th>\n",
       "      <td>3.099696e+10</td>\n",
       "    </tr>\n",
       "    <tr>\n",
       "      <th>North America</th>\n",
       "      <td>1.353585e+10</td>\n",
       "    </tr>\n",
       "    <tr>\n",
       "      <th>Oceania</th>\n",
       "      <td>2.717938e+07</td>\n",
       "    </tr>\n",
       "    <tr>\n",
       "      <th>South America</th>\n",
       "      <td>9.594913e+09</td>\n",
       "    </tr>\n",
       "  </tbody>\n",
       "</table>\n",
       "</div>"
      ],
      "text/plain": [
       "                total_cases\n",
       "continent_new              \n",
       "Africa         1.890127e+09\n",
       "Eurasia        3.099696e+10\n",
       "North America  1.353585e+10\n",
       "Oceania        2.717938e+07\n",
       "South America  9.594913e+09"
      ]
     },
     "execution_count": 57,
     "metadata": {},
     "output_type": "execute_result"
    }
   ],
   "source": [
    "data_new.groupby(['continent_new'])[['total_cases']].sum()"
   ]
  },
  {
   "cell_type": "code",
   "execution_count": 58,
   "id": "233738bb",
   "metadata": {
    "ExecuteTime": {
     "end_time": "2023-04-11T14:43:19.952769Z",
     "start_time": "2023-04-11T14:43:19.901273Z"
    },
    "scrolled": true
   },
   "outputs": [
    {
     "data": {
      "text/html": [
       "<div>\n",
       "<style scoped>\n",
       "    .dataframe tbody tr th:only-of-type {\n",
       "        vertical-align: middle;\n",
       "    }\n",
       "\n",
       "    .dataframe tbody tr th {\n",
       "        vertical-align: top;\n",
       "    }\n",
       "\n",
       "    .dataframe thead th {\n",
       "        text-align: right;\n",
       "    }\n",
       "</style>\n",
       "<table border=\"1\" class=\"dataframe\">\n",
       "  <thead>\n",
       "    <tr style=\"text-align: right;\">\n",
       "      <th></th>\n",
       "      <th></th>\n",
       "      <th>total_cases</th>\n",
       "      <th>total_tests</th>\n",
       "    </tr>\n",
       "    <tr>\n",
       "      <th>continent_new</th>\n",
       "      <th>iso_code</th>\n",
       "      <th></th>\n",
       "      <th></th>\n",
       "    </tr>\n",
       "  </thead>\n",
       "  <tbody>\n",
       "    <tr>\n",
       "      <th rowspan=\"5\" valign=\"top\">Africa</th>\n",
       "      <th>AGO</th>\n",
       "      <td>1.969046e+04</td>\n",
       "      <td>NaN</td>\n",
       "    </tr>\n",
       "    <tr>\n",
       "      <th>BDI</th>\n",
       "      <td>3.472544e+03</td>\n",
       "      <td>NaN</td>\n",
       "    </tr>\n",
       "    <tr>\n",
       "      <th>BEN</th>\n",
       "      <td>5.675819e+03</td>\n",
       "      <td>6.405860e+05</td>\n",
       "    </tr>\n",
       "    <tr>\n",
       "      <th>BFA</th>\n",
       "      <td>7.188269e+03</td>\n",
       "      <td>NaN</td>\n",
       "    </tr>\n",
       "    <tr>\n",
       "      <th>BWA</th>\n",
       "      <td>4.179615e+04</td>\n",
       "      <td>5.507737e+05</td>\n",
       "    </tr>\n",
       "    <tr>\n",
       "      <th>...</th>\n",
       "      <th>...</th>\n",
       "      <td>...</td>\n",
       "      <td>...</td>\n",
       "    </tr>\n",
       "    <tr>\n",
       "      <th rowspan=\"5\" valign=\"top\">South America</th>\n",
       "      <th>PER</th>\n",
       "      <td>1.010637e+06</td>\n",
       "      <td>2.064603e+06</td>\n",
       "    </tr>\n",
       "    <tr>\n",
       "      <th>PRY</th>\n",
       "      <td>1.718269e+05</td>\n",
       "      <td>7.105007e+05</td>\n",
       "    </tr>\n",
       "    <tr>\n",
       "      <th>SUR</th>\n",
       "      <td>1.076582e+04</td>\n",
       "      <td>NaN</td>\n",
       "    </tr>\n",
       "    <tr>\n",
       "      <th>URY</th>\n",
       "      <td>1.212911e+05</td>\n",
       "      <td>1.035712e+06</td>\n",
       "    </tr>\n",
       "    <tr>\n",
       "      <th>VEN</th>\n",
       "      <td>1.389739e+05</td>\n",
       "      <td>NaN</td>\n",
       "    </tr>\n",
       "  </tbody>\n",
       "</table>\n",
       "<p>224 rows × 2 columns</p>\n",
       "</div>"
      ],
      "text/plain": [
       "                         total_cases   total_tests\n",
       "continent_new iso_code                            \n",
       "Africa        AGO       1.969046e+04           NaN\n",
       "              BDI       3.472544e+03           NaN\n",
       "              BEN       5.675819e+03  6.405860e+05\n",
       "              BFA       7.188269e+03           NaN\n",
       "              BWA       4.179615e+04  5.507737e+05\n",
       "...                              ...           ...\n",
       "South America PER       1.010637e+06  2.064603e+06\n",
       "              PRY       1.718269e+05  7.105007e+05\n",
       "              SUR       1.076582e+04           NaN\n",
       "              URY       1.212911e+05  1.035712e+06\n",
       "              VEN       1.389739e+05           NaN\n",
       "\n",
       "[224 rows x 2 columns]"
      ]
     },
     "execution_count": 58,
     "metadata": {},
     "output_type": "execute_result"
    }
   ],
   "source": [
    "data_new.groupby(['continent_new', 'iso_code'])[['total_cases', 'total_tests']].mean()"
   ]
  },
  {
   "cell_type": "code",
   "execution_count": 59,
   "id": "db905873",
   "metadata": {
    "ExecuteTime": {
     "end_time": "2023-04-11T14:44:13.274990Z",
     "start_time": "2023-04-11T14:44:13.215812Z"
    }
   },
   "outputs": [
    {
     "data": {
      "text/html": [
       "<div>\n",
       "<style scoped>\n",
       "    .dataframe tbody tr th:only-of-type {\n",
       "        vertical-align: middle;\n",
       "    }\n",
       "\n",
       "    .dataframe tbody tr th {\n",
       "        vertical-align: top;\n",
       "    }\n",
       "\n",
       "    .dataframe thead tr th {\n",
       "        text-align: left;\n",
       "    }\n",
       "\n",
       "    .dataframe thead tr:last-of-type th {\n",
       "        text-align: right;\n",
       "    }\n",
       "</style>\n",
       "<table border=\"1\" class=\"dataframe\">\n",
       "  <thead>\n",
       "    <tr>\n",
       "      <th></th>\n",
       "      <th></th>\n",
       "      <th colspan=\"2\" halign=\"left\">total_cases</th>\n",
       "      <th>total_tests</th>\n",
       "    </tr>\n",
       "    <tr>\n",
       "      <th></th>\n",
       "      <th></th>\n",
       "      <th>median</th>\n",
       "      <th>sum</th>\n",
       "      <th>sum</th>\n",
       "    </tr>\n",
       "    <tr>\n",
       "      <th>continent_new</th>\n",
       "      <th>iso_code</th>\n",
       "      <th></th>\n",
       "      <th></th>\n",
       "      <th></th>\n",
       "    </tr>\n",
       "  </thead>\n",
       "  <tbody>\n",
       "    <tr>\n",
       "      <th rowspan=\"5\" valign=\"top\">Africa</th>\n",
       "      <th>AGO</th>\n",
       "      <td>17684.0</td>\n",
       "      <td>11440159.0</td>\n",
       "      <td>0.000000e+00</td>\n",
       "    </tr>\n",
       "    <tr>\n",
       "      <th>BDI</th>\n",
       "      <td>935.5</td>\n",
       "      <td>1979350.0</td>\n",
       "      <td>0.000000e+00</td>\n",
       "    </tr>\n",
       "    <tr>\n",
       "      <th>BEN</th>\n",
       "      <td>3251.0</td>\n",
       "      <td>3320354.0</td>\n",
       "      <td>6.405860e+05</td>\n",
       "    </tr>\n",
       "    <tr>\n",
       "      <th>BFA</th>\n",
       "      <td>6631.0</td>\n",
       "      <td>4248267.0</td>\n",
       "      <td>0.000000e+00</td>\n",
       "    </tr>\n",
       "    <tr>\n",
       "      <th>BWA</th>\n",
       "      <td>16050.0</td>\n",
       "      <td>23865599.0</td>\n",
       "      <td>9.308076e+07</td>\n",
       "    </tr>\n",
       "    <tr>\n",
       "      <th>...</th>\n",
       "      <th>...</th>\n",
       "      <td>...</td>\n",
       "      <td>...</td>\n",
       "      <td>...</td>\n",
       "    </tr>\n",
       "    <tr>\n",
       "      <th rowspan=\"5\" valign=\"top\">South America</th>\n",
       "      <th>PER</th>\n",
       "      <td>952439.0</td>\n",
       "      <td>667020402.0</td>\n",
       "      <td>1.296571e+09</td>\n",
       "    </tr>\n",
       "    <tr>\n",
       "      <th>PRY</th>\n",
       "      <td>105755.0</td>\n",
       "      <td>102065177.0</td>\n",
       "      <td>4.170639e+08</td>\n",
       "    </tr>\n",
       "    <tr>\n",
       "      <th>SUR</th>\n",
       "      <td>6277.0</td>\n",
       "      <td>6319537.0</td>\n",
       "      <td>0.000000e+00</td>\n",
       "    </tr>\n",
       "    <tr>\n",
       "      <th>URY</th>\n",
       "      <td>19436.0</td>\n",
       "      <td>71319148.0</td>\n",
       "      <td>4.712488e+08</td>\n",
       "    </tr>\n",
       "    <tr>\n",
       "      <th>VEN</th>\n",
       "      <td>113884.0</td>\n",
       "      <td>81577679.0</td>\n",
       "      <td>0.000000e+00</td>\n",
       "    </tr>\n",
       "  </tbody>\n",
       "</table>\n",
       "<p>224 rows × 3 columns</p>\n",
       "</div>"
      ],
      "text/plain": [
       "                       total_cases                total_tests\n",
       "                            median          sum           sum\n",
       "continent_new iso_code                                       \n",
       "Africa        AGO          17684.0   11440159.0  0.000000e+00\n",
       "              BDI            935.5    1979350.0  0.000000e+00\n",
       "              BEN           3251.0    3320354.0  6.405860e+05\n",
       "              BFA           6631.0    4248267.0  0.000000e+00\n",
       "              BWA          16050.0   23865599.0  9.308076e+07\n",
       "...                            ...          ...           ...\n",
       "South America PER         952439.0  667020402.0  1.296571e+09\n",
       "              PRY         105755.0  102065177.0  4.170639e+08\n",
       "              SUR           6277.0    6319537.0  0.000000e+00\n",
       "              URY          19436.0   71319148.0  4.712488e+08\n",
       "              VEN         113884.0   81577679.0  0.000000e+00\n",
       "\n",
       "[224 rows x 3 columns]"
      ]
     },
     "execution_count": 59,
     "metadata": {},
     "output_type": "execute_result"
    }
   ],
   "source": [
    "# С помощью функции agg можно задать способ аггрегирования для каждого столбца\n",
    "data_agg = data_new.groupby(['continent_new', 'iso_code']).agg({'total_cases': ['median', 'sum'],\n",
    "                                                   'total_tests': 'sum'})\n",
    "data_agg"
   ]
  },
  {
   "cell_type": "markdown",
   "id": "a665ddf1",
   "metadata": {},
   "source": [
    "## Plots"
   ]
  },
  {
   "cell_type": "code",
   "execution_count": 60,
   "id": "41c7b15c",
   "metadata": {
    "ExecuteTime": {
     "end_time": "2023-04-11T14:45:24.165961Z",
     "start_time": "2023-04-11T14:45:23.703273Z"
    }
   },
   "outputs": [],
   "source": [
    "# some imports to set up plotting\n",
    "import matplotlib.pyplot as plt\n",
    "# pip install seaborn\n",
    "# import seaborn as sns\n",
    "\n",
    "plt.style.use('seaborn')"
   ]
  },
  {
   "cell_type": "code",
   "execution_count": 61,
   "id": "2d5e091c",
   "metadata": {
    "ExecuteTime": {
     "end_time": "2023-04-11T14:46:02.732763Z",
     "start_time": "2023-04-11T14:46:02.623519Z"
    }
   },
   "outputs": [
    {
     "data": {
      "image/png": "[encoded data removed]",
      "text/plain": [
       "<Figure size 576x396 with 1 Axes>"
      ]
     },
     "metadata": {},
     "output_type": "display_data"
    }
   ],
   "source": [
    "plt.plot([1, 2, 3, 4])\n",
    "plt.ylabel('some numbers')\n",
    "plt.show()"
   ]
  },
  {
   "cell_type": "code",
   "execution_count": 64,
   "id": "25dd4f83",
   "metadata": {
    "ExecuteTime": {
     "end_time": "2023-04-11T14:46:44.493623Z",
     "start_time": "2023-04-11T14:46:44.387753Z"
    }
   },
   "outputs": [
    {
     "data": {
      "text/plain": [
       "[<matplotlib.lines.Line2D at 0x7fd5207f3b20>]"
      ]
     },
     "execution_count": 64,
     "metadata": {},
     "output_type": "execute_result"
    },
    {
     "data": {
      "image/png": "[encoded data removed]",
      "text/plain": [
       "<Figure size 576x396 with 1 Axes>"
      ]
     },
     "metadata": {},
     "output_type": "display_data"
    }
   ],
   "source": [
    "plt.plot([1, 2, 3, 4], [1, 4, 9, 17])"
   ]
  },
  {
   "cell_type": "code",
   "execution_count": 66,
   "id": "2062d80a",
   "metadata": {
    "ExecuteTime": {
     "end_time": "2023-04-11T14:47:34.335756Z",
     "start_time": "2023-04-11T14:47:34.251329Z"
    }
   },
   "outputs": [
    {
     "data": {
      "image/png": "[encoded data removed]",
      "text/plain": [
       "<Figure size 576x396 with 1 Axes>"
      ]
     },
     "metadata": {},
     "output_type": "display_data"
    }
   ],
   "source": [
    "plt.plot([1, 2, 3, 4], [1, 4, 9, 16], 'ro')\n",
    "plt.axis([0, 6, 0, 20])\n",
    "plt.show()"
   ]
  },
  {
   "cell_type": "code",
   "execution_count": 67,
   "id": "d18099b6",
   "metadata": {
    "ExecuteTime": {
     "end_time": "2023-04-11T14:49:05.681040Z",
     "start_time": "2023-04-11T14:49:05.570682Z"
    }
   },
   "outputs": [
    {
     "data": {
      "image/png": "[encoded data removed]",
      "text/plain": [
       "<Figure size 576x396 with 1 Axes>"
      ]
     },
     "metadata": {},
     "output_type": "display_data"
    }
   ],
   "source": [
    "import numpy as np\n",
    "\n",
    "t = np.arange(0., 5., 0.2)\n",
    "\n",
    "plt.plot(t, t, 'r--', t, t**2, 'bs', t, t**3, 'g^')\n",
    "plt.show()"
   ]
  },
  {
   "cell_type": "code",
   "execution_count": 68,
   "id": "49c90700",
   "metadata": {
    "ExecuteTime": {
     "end_time": "2023-04-11T14:50:08.726616Z",
     "start_time": "2023-04-11T14:50:08.577518Z"
    }
   },
   "outputs": [
    {
     "data": {
      "image/png": "[encoded data removed]",
      "text/plain": [
       "<Figure size 648x216 with 3 Axes>"
      ]
     },
     "metadata": {},
     "output_type": "display_data"
    }
   ],
   "source": [
    "names = ['group_a', 'group_b', 'group_c']\n",
    "values = [1, 10, 100]\n",
    "\n",
    "plt.figure(figsize=(9, 3))\n",
    "\n",
    "plt.subplot(131)\n",
    "plt.bar(names, values)\n",
    "plt.subplot(132)\n",
    "plt.scatter(names, values)\n",
    "plt.subplot(133)\n",
    "plt.plot(names, values)\n",
    "plt.suptitle('Categorical Plotting')\n",
    "plt.show()\n"
   ]
  },
  {
   "cell_type": "code",
   "execution_count": 69,
   "id": "104371a2",
   "metadata": {
    "ExecuteTime": {
     "end_time": "2023-04-11T14:50:53.248488Z",
     "start_time": "2023-04-11T14:50:53.111506Z"
    }
   },
   "outputs": [
    {
     "data": {
      "image/png": "[encoded data removed]",
      "text/plain": [
       "<Figure size 576x396 with 2 Axes>"
      ]
     },
     "metadata": {},
     "output_type": "display_data"
    }
   ],
   "source": [
    "def f(t):\n",
    "    return np.exp(-t) * np.cos(2*np.pi*t)\n",
    "\n",
    "t1 = np.arange(0.0, 5.0, 0.1)\n",
    "t2 = np.arange(0.0, 5.0, 0.02)\n",
    "\n",
    "plt.figure()\n",
    "plt.subplot(211)\n",
    "plt.plot(t1, f(t1), 'bo', t2, f(t2), 'k')\n",
    "\n",
    "plt.subplot(212)\n",
    "plt.plot(t2, np.cos(2*np.pi*t2), 'r--')\n",
    "plt.show()"
   ]
  },
  {
   "cell_type": "code",
   "execution_count": 71,
   "id": "0a02d8bb",
   "metadata": {
    "ExecuteTime": {
     "end_time": "2023-04-11T14:52:30.584845Z",
     "start_time": "2023-04-11T14:52:30.440449Z"
    }
   },
   "outputs": [
    {
     "data": {
      "image/png": "[encoded data removed]",
      "text/plain": [
       "<Figure size 576x396 with 1 Axes>"
      ]
     },
     "metadata": {},
     "output_type": "display_data"
    }
   ],
   "source": [
    "mu, sigma = 100, 15\n",
    "x = mu + sigma * np.random.randn(10000)\n",
    "\n",
    "# the histogram of the data\n",
    "n, bins, patches = plt.hist(x, 50, density=True, facecolor='g', alpha=0.75)\n",
    "\n",
    "\n",
    "plt.xlabel('Smarts')\n",
    "plt.ylabel('Probability')\n",
    "plt.title('Histogram of IQ')\n",
    "plt.text(60, .025, r'$\\mu=100,\\ \\sigma=15$')\n",
    "plt.axis([40, 160, 0, 0.03])\n",
    "plt.grid(True)\n",
    "plt.show()"
   ]
  },
  {
   "cell_type": "code",
   "execution_count": null,
   "id": "e144b130",
   "metadata": {},
   "outputs": [],
   "source": []
  },
  {
   "cell_type": "code",
   "execution_count": 72,
   "id": "d0ffc84c",
   "metadata": {
    "ExecuteTime": {
     "end_time": "2023-04-11T14:53:45.670508Z",
     "start_time": "2023-04-11T14:53:45.623815Z"
    }
   },
   "outputs": [],
   "source": [
    "data_rus = data[data.iso_code == 'RUS'].sort_values(by='date').set_index('date')\n",
    "data_rus.total_cases = data_rus.total_cases.apply(int)"
   ]
  },
  {
   "cell_type": "code",
   "execution_count": 73,
   "id": "7e0bab4a",
   "metadata": {
    "ExecuteTime": {
     "end_time": "2023-04-11T14:53:46.662228Z",
     "start_time": "2023-04-11T14:53:46.653567Z"
    }
   },
   "outputs": [
    {
     "data": {
      "text/plain": [
       "Index(['iso_code', 'total_cases', 'new_cases', 'new_cases_smoothed',\n",
       "       'icu_patients', 'hosp_patients', 'new_tests', 'total_tests',\n",
       "       'new_tests_smoothed', 'total_vaccinations', 'people_vaccinated',\n",
       "       'people_fully_vaccinated', 'new_vaccinations',\n",
       "       'new_vaccinations_smoothed', 'cardiovasc_death_rate',\n",
       "       'diabetes_prevalence'],\n",
       "      dtype='object')"
      ]
     },
     "execution_count": 73,
     "metadata": {},
     "output_type": "execute_result"
    }
   ],
   "source": [
    "data_rus.columns"
   ]
  },
  {
   "cell_type": "code",
   "execution_count": null,
   "id": "b53f5f64",
   "metadata": {},
   "outputs": [],
   "source": [
    "# data.columns"
   ]
  },
  {
   "cell_type": "code",
   "execution_count": 74,
   "id": "1de3e1f9",
   "metadata": {
    "ExecuteTime": {
     "end_time": "2023-04-11T14:54:23.340562Z",
     "start_time": "2023-04-11T14:54:23.115079Z"
    }
   },
   "outputs": [
    {
     "data": {
      "image/png": "[encoded data removed]",
      "text/plain": [
       "<Figure size 1080x576 with 1 Axes>"
      ]
     },
     "metadata": {},
     "output_type": "display_data"
    }
   ],
   "source": [
    "plt.figure(figsize=(15,8))\n",
    "data_rus.total_cases.plot()\n",
    "plt.xlabel('date', fontsize=13)\n",
    "plt.ylabel('count', fontsize=13)\n",
    "plt.title('Statistics for Russia', fontsize=13)\n",
    "plt.legend(['total_cases'],fontsize=13)\n",
    "plt.show()"
   ]
  },
  {
   "cell_type": "code",
   "execution_count": 75,
   "id": "97659dfe",
   "metadata": {
    "ExecuteTime": {
     "end_time": "2023-04-11T14:55:13.727725Z",
     "start_time": "2023-04-11T14:55:13.547910Z"
    }
   },
   "outputs": [
    {
     "data": {
      "image/png": "[encoded data removed]",
      "text/plain": [
       "<Figure size 1080x576 with 1 Axes>"
      ]
     },
     "metadata": {},
     "output_type": "display_data"
    }
   ],
   "source": [
    "cols_to_show = ['total_cases', 'total_tests', 'total_vaccinations', 'people_fully_vaccinated']\n",
    "plt.figure(figsize=(15,8))\n",
    "plt.plot(data_rus.index,data_rus[cols_to_show] )\n",
    "plt.legend(cols_to_show,fontsize=13)\n",
    "plt.xlabel('date', fontsize=13)\n",
    "plt.ylabel('count', fontsize=13)\n",
    "plt.title('Statistics for Russia', fontsize=13)\n",
    "plt.show()"
   ]
  },
  {
   "cell_type": "code",
   "execution_count": 76,
   "id": "7f659182",
   "metadata": {
    "ExecuteTime": {
     "end_time": "2023-04-11T14:56:00.907209Z",
     "start_time": "2023-04-11T14:56:00.872473Z"
    }
   },
   "outputs": [
    {
     "data": {
      "text/html": [
       "<div>\n",
       "<style scoped>\n",
       "    .dataframe tbody tr th:only-of-type {\n",
       "        vertical-align: middle;\n",
       "    }\n",
       "\n",
       "    .dataframe tbody tr th {\n",
       "        vertical-align: top;\n",
       "    }\n",
       "\n",
       "    .dataframe thead th {\n",
       "        text-align: right;\n",
       "    }\n",
       "</style>\n",
       "<table border=\"1\" class=\"dataframe\">\n",
       "  <thead>\n",
       "    <tr style=\"text-align: right;\">\n",
       "      <th></th>\n",
       "      <th>iso_code</th>\n",
       "      <th>total_cases</th>\n",
       "      <th>new_cases</th>\n",
       "      <th>new_cases_smoothed</th>\n",
       "      <th>icu_patients</th>\n",
       "      <th>hosp_patients</th>\n",
       "      <th>new_tests</th>\n",
       "      <th>total_tests</th>\n",
       "      <th>new_tests_smoothed</th>\n",
       "      <th>total_vaccinations</th>\n",
       "      <th>people_vaccinated</th>\n",
       "      <th>people_fully_vaccinated</th>\n",
       "      <th>new_vaccinations</th>\n",
       "      <th>new_vaccinations_smoothed</th>\n",
       "      <th>cardiovasc_death_rate</th>\n",
       "      <th>diabetes_prevalence</th>\n",
       "    </tr>\n",
       "    <tr>\n",
       "      <th>date</th>\n",
       "      <th></th>\n",
       "      <th></th>\n",
       "      <th></th>\n",
       "      <th></th>\n",
       "      <th></th>\n",
       "      <th></th>\n",
       "      <th></th>\n",
       "      <th></th>\n",
       "      <th></th>\n",
       "      <th></th>\n",
       "      <th></th>\n",
       "      <th></th>\n",
       "      <th></th>\n",
       "      <th></th>\n",
       "      <th></th>\n",
       "      <th></th>\n",
       "    </tr>\n",
       "  </thead>\n",
       "  <tbody>\n",
       "    <tr>\n",
       "      <th>2020-01-31</th>\n",
       "      <td>RUS</td>\n",
       "      <td>2</td>\n",
       "      <td>2.0</td>\n",
       "      <td>NaN</td>\n",
       "      <td>NaN</td>\n",
       "      <td>NaN</td>\n",
       "      <td>NaN</td>\n",
       "      <td>NaN</td>\n",
       "      <td>NaN</td>\n",
       "      <td>NaN</td>\n",
       "      <td>NaN</td>\n",
       "      <td>NaN</td>\n",
       "      <td>NaN</td>\n",
       "      <td>NaN</td>\n",
       "      <td>431.297</td>\n",
       "      <td>6.18</td>\n",
       "    </tr>\n",
       "    <tr>\n",
       "      <th>2020-02-01</th>\n",
       "      <td>RUS</td>\n",
       "      <td>2</td>\n",
       "      <td>0.0</td>\n",
       "      <td>NaN</td>\n",
       "      <td>NaN</td>\n",
       "      <td>NaN</td>\n",
       "      <td>NaN</td>\n",
       "      <td>NaN</td>\n",
       "      <td>NaN</td>\n",
       "      <td>NaN</td>\n",
       "      <td>NaN</td>\n",
       "      <td>NaN</td>\n",
       "      <td>NaN</td>\n",
       "      <td>NaN</td>\n",
       "      <td>431.297</td>\n",
       "      <td>6.18</td>\n",
       "    </tr>\n",
       "    <tr>\n",
       "      <th>2020-02-02</th>\n",
       "      <td>RUS</td>\n",
       "      <td>2</td>\n",
       "      <td>0.0</td>\n",
       "      <td>NaN</td>\n",
       "      <td>NaN</td>\n",
       "      <td>NaN</td>\n",
       "      <td>NaN</td>\n",
       "      <td>NaN</td>\n",
       "      <td>NaN</td>\n",
       "      <td>NaN</td>\n",
       "      <td>NaN</td>\n",
       "      <td>NaN</td>\n",
       "      <td>NaN</td>\n",
       "      <td>NaN</td>\n",
       "      <td>431.297</td>\n",
       "      <td>6.18</td>\n",
       "    </tr>\n",
       "    <tr>\n",
       "      <th>2020-02-03</th>\n",
       "      <td>RUS</td>\n",
       "      <td>2</td>\n",
       "      <td>0.0</td>\n",
       "      <td>NaN</td>\n",
       "      <td>NaN</td>\n",
       "      <td>NaN</td>\n",
       "      <td>NaN</td>\n",
       "      <td>NaN</td>\n",
       "      <td>NaN</td>\n",
       "      <td>NaN</td>\n",
       "      <td>NaN</td>\n",
       "      <td>NaN</td>\n",
       "      <td>NaN</td>\n",
       "      <td>NaN</td>\n",
       "      <td>431.297</td>\n",
       "      <td>6.18</td>\n",
       "    </tr>\n",
       "    <tr>\n",
       "      <th>2020-02-04</th>\n",
       "      <td>RUS</td>\n",
       "      <td>2</td>\n",
       "      <td>0.0</td>\n",
       "      <td>NaN</td>\n",
       "      <td>NaN</td>\n",
       "      <td>NaN</td>\n",
       "      <td>NaN</td>\n",
       "      <td>NaN</td>\n",
       "      <td>NaN</td>\n",
       "      <td>NaN</td>\n",
       "      <td>NaN</td>\n",
       "      <td>NaN</td>\n",
       "      <td>NaN</td>\n",
       "      <td>NaN</td>\n",
       "      <td>431.297</td>\n",
       "      <td>6.18</td>\n",
       "    </tr>\n",
       "    <tr>\n",
       "      <th>...</th>\n",
       "      <td>...</td>\n",
       "      <td>...</td>\n",
       "      <td>...</td>\n",
       "      <td>...</td>\n",
       "      <td>...</td>\n",
       "      <td>...</td>\n",
       "      <td>...</td>\n",
       "      <td>...</td>\n",
       "      <td>...</td>\n",
       "      <td>...</td>\n",
       "      <td>...</td>\n",
       "      <td>...</td>\n",
       "      <td>...</td>\n",
       "      <td>...</td>\n",
       "      <td>...</td>\n",
       "      <td>...</td>\n",
       "    </tr>\n",
       "    <tr>\n",
       "      <th>2021-10-17</th>\n",
       "      <td>RUS</td>\n",
       "      <td>7870529</td>\n",
       "      <td>33428.0</td>\n",
       "      <td>30229.429</td>\n",
       "      <td>NaN</td>\n",
       "      <td>NaN</td>\n",
       "      <td>NaN</td>\n",
       "      <td>NaN</td>\n",
       "      <td>548199.0</td>\n",
       "      <td>NaN</td>\n",
       "      <td>NaN</td>\n",
       "      <td>NaN</td>\n",
       "      <td>NaN</td>\n",
       "      <td>398960.0</td>\n",
       "      <td>431.297</td>\n",
       "      <td>6.18</td>\n",
       "    </tr>\n",
       "    <tr>\n",
       "      <th>2021-10-18</th>\n",
       "      <td>RUS</td>\n",
       "      <td>7903963</td>\n",
       "      <td>33434.0</td>\n",
       "      <td>30914.857</td>\n",
       "      <td>NaN</td>\n",
       "      <td>NaN</td>\n",
       "      <td>NaN</td>\n",
       "      <td>201631267.0</td>\n",
       "      <td>555619.0</td>\n",
       "      <td>NaN</td>\n",
       "      <td>NaN</td>\n",
       "      <td>NaN</td>\n",
       "      <td>NaN</td>\n",
       "      <td>473239.0</td>\n",
       "      <td>431.297</td>\n",
       "      <td>6.18</td>\n",
       "    </tr>\n",
       "    <tr>\n",
       "      <th>2021-10-19</th>\n",
       "      <td>RUS</td>\n",
       "      <td>7936798</td>\n",
       "      <td>32835.0</td>\n",
       "      <td>31689.286</td>\n",
       "      <td>NaN</td>\n",
       "      <td>NaN</td>\n",
       "      <td>512218.0</td>\n",
       "      <td>202143485.0</td>\n",
       "      <td>553659.0</td>\n",
       "      <td>NaN</td>\n",
       "      <td>NaN</td>\n",
       "      <td>NaN</td>\n",
       "      <td>NaN</td>\n",
       "      <td>556106.0</td>\n",
       "      <td>431.297</td>\n",
       "      <td>6.18</td>\n",
       "    </tr>\n",
       "    <tr>\n",
       "      <th>2021-10-20</th>\n",
       "      <td>RUS</td>\n",
       "      <td>7969960</td>\n",
       "      <td>33162.0</td>\n",
       "      <td>32437.286</td>\n",
       "      <td>NaN</td>\n",
       "      <td>NaN</td>\n",
       "      <td>NaN</td>\n",
       "      <td>NaN</td>\n",
       "      <td>571798.0</td>\n",
       "      <td>99382776.0</td>\n",
       "      <td>51965705.0</td>\n",
       "      <td>47417071.0</td>\n",
       "      <td>NaN</td>\n",
       "      <td>603792.0</td>\n",
       "      <td>431.297</td>\n",
       "      <td>6.18</td>\n",
       "    </tr>\n",
       "    <tr>\n",
       "      <th>2021-10-21</th>\n",
       "      <td>RUS</td>\n",
       "      <td>8005376</td>\n",
       "      <td>35416.0</td>\n",
       "      <td>33141.143</td>\n",
       "      <td>NaN</td>\n",
       "      <td>NaN</td>\n",
       "      <td>NaN</td>\n",
       "      <td>203449310.0</td>\n",
       "      <td>589938.0</td>\n",
       "      <td>99443669.0</td>\n",
       "      <td>52015298.0</td>\n",
       "      <td>47428371.0</td>\n",
       "      <td>60893.0</td>\n",
       "      <td>585457.0</td>\n",
       "      <td>431.297</td>\n",
       "      <td>6.18</td>\n",
       "    </tr>\n",
       "  </tbody>\n",
       "</table>\n",
       "<p>630 rows × 16 columns</p>\n",
       "</div>"
      ],
      "text/plain": [
       "           iso_code  total_cases  new_cases  new_cases_smoothed  icu_patients  \\\n",
       "date                                                                            \n",
       "2020-01-31      RUS            2        2.0                 NaN           NaN   \n",
       "2020-02-01      RUS            2        0.0                 NaN           NaN   \n",
       "2020-02-02      RUS            2        0.0                 NaN           NaN   \n",
       "2020-02-03      RUS            2        0.0                 NaN           NaN   \n",
       "2020-02-04      RUS            2        0.0                 NaN           NaN   \n",
       "...             ...          ...        ...                 ...           ...   \n",
       "2021-10-17      RUS      7870529    33428.0           30229.429           NaN   \n",
       "2021-10-18      RUS      7903963    33434.0           30914.857           NaN   \n",
       "2021-10-19      RUS      7936798    32835.0           31689.286           NaN   \n",
       "2021-10-20      RUS      7969960    33162.0           32437.286           NaN   \n",
       "2021-10-21      RUS      8005376    35416.0           33141.143           NaN   \n",
       "\n",
       "            hosp_patients  new_tests  total_tests  new_tests_smoothed  \\\n",
       "date                                                                    \n",
       "2020-01-31            NaN        NaN          NaN                 NaN   \n",
       "2020-02-01            NaN        NaN          NaN                 NaN   \n",
       "2020-02-02            NaN        NaN          NaN                 NaN   \n",
       "2020-02-03            NaN        NaN          NaN                 NaN   \n",
       "2020-02-04            NaN        NaN          NaN                 NaN   \n",
       "...                   ...        ...          ...                 ...   \n",
       "2021-10-17            NaN        NaN          NaN            548199.0   \n",
       "2021-10-18            NaN        NaN  201631267.0            555619.0   \n",
       "2021-10-19            NaN   512218.0  202143485.0            553659.0   \n",
       "2021-10-20            NaN        NaN          NaN            571798.0   \n",
       "2021-10-21            NaN        NaN  203449310.0            589938.0   \n",
       "\n",
       "            total_vaccinations  people_vaccinated  people_fully_vaccinated  \\\n",
       "date                                                                         \n",
       "2020-01-31                 NaN                NaN                      NaN   \n",
       "2020-02-01                 NaN                NaN                      NaN   \n",
       "2020-02-02                 NaN                NaN                      NaN   \n",
       "2020-02-03                 NaN                NaN                      NaN   \n",
       "2020-02-04                 NaN                NaN                      NaN   \n",
       "...                        ...                ...                      ...   \n",
       "2021-10-17                 NaN                NaN                      NaN   \n",
       "2021-10-18                 NaN                NaN                      NaN   \n",
       "2021-10-19                 NaN                NaN                      NaN   \n",
       "2021-10-20          99382776.0         51965705.0               47417071.0   \n",
       "2021-10-21          99443669.0         52015298.0               47428371.0   \n",
       "\n",
       "            new_vaccinations  new_vaccinations_smoothed  \\\n",
       "date                                                      \n",
       "2020-01-31               NaN                        NaN   \n",
       "2020-02-01               NaN                        NaN   \n",
       "2020-02-02               NaN                        NaN   \n",
       "2020-02-03               NaN                        NaN   \n",
       "2020-02-04               NaN                        NaN   \n",
       "...                      ...                        ...   \n",
       "2021-10-17               NaN                   398960.0   \n",
       "2021-10-18               NaN                   473239.0   \n",
       "2021-10-19               NaN                   556106.0   \n",
       "2021-10-20               NaN                   603792.0   \n",
       "2021-10-21           60893.0                   585457.0   \n",
       "\n",
       "            cardiovasc_death_rate  diabetes_prevalence  \n",
       "date                                                    \n",
       "2020-01-31                431.297                 6.18  \n",
       "2020-02-01                431.297                 6.18  \n",
       "2020-02-02                431.297                 6.18  \n",
       "2020-02-03                431.297                 6.18  \n",
       "2020-02-04                431.297                 6.18  \n",
       "...                           ...                  ...  \n",
       "2021-10-17                431.297                 6.18  \n",
       "2021-10-18                431.297                 6.18  \n",
       "2021-10-19                431.297                 6.18  \n",
       "2021-10-20                431.297                 6.18  \n",
       "2021-10-21                431.297                 6.18  \n",
       "\n",
       "[630 rows x 16 columns]"
      ]
     },
     "execution_count": 76,
     "metadata": {},
     "output_type": "execute_result"
    }
   ],
   "source": [
    "data_rus"
   ]
  },
  {
   "cell_type": "markdown",
   "id": "4e9007e7",
   "metadata": {},
   "source": [
    "## Задачи"
   ]
  },
  {
   "cell_type": "code",
   "execution_count": 89,
   "id": "2e30e776",
   "metadata": {
    "ExecuteTime": {
     "end_time": "2023-04-11T15:07:46.612951Z",
     "start_time": "2023-04-11T15:07:46.584054Z"
    }
   },
   "outputs": [
    {
     "data": {
      "text/html": [
       "<div>\n",
       "<style scoped>\n",
       "    .dataframe tbody tr th:only-of-type {\n",
       "        vertical-align: middle;\n",
       "    }\n",
       "\n",
       "    .dataframe tbody tr th {\n",
       "        vertical-align: top;\n",
       "    }\n",
       "\n",
       "    .dataframe thead th {\n",
       "        text-align: right;\n",
       "    }\n",
       "</style>\n",
       "<table border=\"1\" class=\"dataframe\">\n",
       "  <thead>\n",
       "    <tr style=\"text-align: right;\">\n",
       "      <th></th>\n",
       "      <th>name</th>\n",
       "      <th>score</th>\n",
       "      <th>attempts</th>\n",
       "      <th>qualify</th>\n",
       "    </tr>\n",
       "  </thead>\n",
       "  <tbody>\n",
       "    <tr>\n",
       "      <th>a</th>\n",
       "      <td>Anastasia</td>\n",
       "      <td>12.5</td>\n",
       "      <td>1</td>\n",
       "      <td>yes</td>\n",
       "    </tr>\n",
       "    <tr>\n",
       "      <th>b</th>\n",
       "      <td>Dima</td>\n",
       "      <td>9.0</td>\n",
       "      <td>3</td>\n",
       "      <td>no</td>\n",
       "    </tr>\n",
       "    <tr>\n",
       "      <th>c</th>\n",
       "      <td>Katherine</td>\n",
       "      <td>16.5</td>\n",
       "      <td>2</td>\n",
       "      <td>yes</td>\n",
       "    </tr>\n",
       "    <tr>\n",
       "      <th>d</th>\n",
       "      <td>James</td>\n",
       "      <td>NaN</td>\n",
       "      <td>0</td>\n",
       "      <td>no</td>\n",
       "    </tr>\n",
       "    <tr>\n",
       "      <th>e</th>\n",
       "      <td>Emily</td>\n",
       "      <td>9.0</td>\n",
       "      <td>2</td>\n",
       "      <td>no</td>\n",
       "    </tr>\n",
       "    <tr>\n",
       "      <th>f</th>\n",
       "      <td>Michael</td>\n",
       "      <td>20.0</td>\n",
       "      <td>3</td>\n",
       "      <td>yes</td>\n",
       "    </tr>\n",
       "    <tr>\n",
       "      <th>g</th>\n",
       "      <td>Matthew</td>\n",
       "      <td>14.5</td>\n",
       "      <td>1</td>\n",
       "      <td>yes</td>\n",
       "    </tr>\n",
       "    <tr>\n",
       "      <th>h</th>\n",
       "      <td>Laura</td>\n",
       "      <td>NaN</td>\n",
       "      <td>0</td>\n",
       "      <td>no</td>\n",
       "    </tr>\n",
       "    <tr>\n",
       "      <th>i</th>\n",
       "      <td>Kevin</td>\n",
       "      <td>8.0</td>\n",
       "      <td>2</td>\n",
       "      <td>no</td>\n",
       "    </tr>\n",
       "    <tr>\n",
       "      <th>j</th>\n",
       "      <td>Jonas</td>\n",
       "      <td>19.0</td>\n",
       "      <td>1</td>\n",
       "      <td>yes</td>\n",
       "    </tr>\n",
       "  </tbody>\n",
       "</table>\n",
       "</div>"
      ],
      "text/plain": [
       "        name  score  attempts qualify\n",
       "a  Anastasia   12.5         1     yes\n",
       "b       Dima    9.0         3      no\n",
       "c  Katherine   16.5         2     yes\n",
       "d      James    NaN         0      no\n",
       "e      Emily    9.0         2      no\n",
       "f    Michael   20.0         3     yes\n",
       "g    Matthew   14.5         1     yes\n",
       "h      Laura    NaN         0      no\n",
       "i      Kevin    8.0         2      no\n",
       "j      Jonas   19.0         1     yes"
      ]
     },
     "execution_count": 89,
     "metadata": {},
     "output_type": "execute_result"
    }
   ],
   "source": [
    "exam_data  = {'name': ['Anastasia', 'Dima', 'Katherine', 'James', 'Emily', 'Michael', 'Matthew', 'Laura', 'Kevin', 'Jonas'],\n",
    "        'score': [12.5, 9, 16.5, np.nan, 9, 20, 14.5, np.nan, 8, 19],\n",
    "        'attempts': [1, 3, 2, 0, 2, 3, 1, 0, 2, 1],\n",
    "        'qualify': ['yes', 'no', 'yes', 'no', 'no', 'yes', 'yes', 'no', 'no', 'yes']}\n",
    "labels = ['a', 'b', 'c', 'd', 'e', 'f', 'g', 'h', 'i', 'j']\n",
    "df = pd.DataFrame(exam_data , index=labels)\n",
    "\n",
    "df"
   ]
  },
  {
   "cell_type": "markdown",
   "id": "d6aca82a",
   "metadata": {},
   "source": [
    "### Задача 1\n",
    "\n",
    "Переведите столбец qualify в количественный признак"
   ]
  },
  {
   "cell_type": "code",
   "execution_count": 90,
   "id": "6d9d3516",
   "metadata": {
    "ExecuteTime": {
     "end_time": "2023-04-11T15:07:51.239261Z",
     "start_time": "2023-04-11T15:07:51.231946Z"
    }
   },
   "outputs": [],
   "source": [
    "df['qualify_num'] = df.qualify.map({'yes': 1, 'no': 0})"
   ]
  },
  {
   "cell_type": "code",
   "execution_count": 91,
   "id": "d03911b5",
   "metadata": {
    "ExecuteTime": {
     "end_time": "2023-04-11T15:07:51.641938Z",
     "start_time": "2023-04-11T15:07:51.621540Z"
    }
   },
   "outputs": [
    {
     "data": {
      "text/html": [
       "<div>\n",
       "<style scoped>\n",
       "    .dataframe tbody tr th:only-of-type {\n",
       "        vertical-align: middle;\n",
       "    }\n",
       "\n",
       "    .dataframe tbody tr th {\n",
       "        vertical-align: top;\n",
       "    }\n",
       "\n",
       "    .dataframe thead th {\n",
       "        text-align: right;\n",
       "    }\n",
       "</style>\n",
       "<table border=\"1\" class=\"dataframe\">\n",
       "  <thead>\n",
       "    <tr style=\"text-align: right;\">\n",
       "      <th></th>\n",
       "      <th>name</th>\n",
       "      <th>score</th>\n",
       "      <th>attempts</th>\n",
       "      <th>qualify</th>\n",
       "      <th>qualify_num</th>\n",
       "    </tr>\n",
       "  </thead>\n",
       "  <tbody>\n",
       "    <tr>\n",
       "      <th>a</th>\n",
       "      <td>Anastasia</td>\n",
       "      <td>12.5</td>\n",
       "      <td>1</td>\n",
       "      <td>yes</td>\n",
       "      <td>1</td>\n",
       "    </tr>\n",
       "    <tr>\n",
       "      <th>b</th>\n",
       "      <td>Dima</td>\n",
       "      <td>9.0</td>\n",
       "      <td>3</td>\n",
       "      <td>no</td>\n",
       "      <td>0</td>\n",
       "    </tr>\n",
       "    <tr>\n",
       "      <th>c</th>\n",
       "      <td>Katherine</td>\n",
       "      <td>16.5</td>\n",
       "      <td>2</td>\n",
       "      <td>yes</td>\n",
       "      <td>1</td>\n",
       "    </tr>\n",
       "    <tr>\n",
       "      <th>d</th>\n",
       "      <td>James</td>\n",
       "      <td>NaN</td>\n",
       "      <td>0</td>\n",
       "      <td>no</td>\n",
       "      <td>0</td>\n",
       "    </tr>\n",
       "    <tr>\n",
       "      <th>e</th>\n",
       "      <td>Emily</td>\n",
       "      <td>9.0</td>\n",
       "      <td>2</td>\n",
       "      <td>no</td>\n",
       "      <td>0</td>\n",
       "    </tr>\n",
       "    <tr>\n",
       "      <th>f</th>\n",
       "      <td>Michael</td>\n",
       "      <td>20.0</td>\n",
       "      <td>3</td>\n",
       "      <td>yes</td>\n",
       "      <td>1</td>\n",
       "    </tr>\n",
       "    <tr>\n",
       "      <th>g</th>\n",
       "      <td>Matthew</td>\n",
       "      <td>14.5</td>\n",
       "      <td>1</td>\n",
       "      <td>yes</td>\n",
       "      <td>1</td>\n",
       "    </tr>\n",
       "    <tr>\n",
       "      <th>h</th>\n",
       "      <td>Laura</td>\n",
       "      <td>NaN</td>\n",
       "      <td>0</td>\n",
       "      <td>no</td>\n",
       "      <td>0</td>\n",
       "    </tr>\n",
       "    <tr>\n",
       "      <th>i</th>\n",
       "      <td>Kevin</td>\n",
       "      <td>8.0</td>\n",
       "      <td>2</td>\n",
       "      <td>no</td>\n",
       "      <td>0</td>\n",
       "    </tr>\n",
       "    <tr>\n",
       "      <th>j</th>\n",
       "      <td>Jonas</td>\n",
       "      <td>19.0</td>\n",
       "      <td>1</td>\n",
       "      <td>yes</td>\n",
       "      <td>1</td>\n",
       "    </tr>\n",
       "  </tbody>\n",
       "</table>\n",
       "</div>"
      ],
      "text/plain": [
       "        name  score  attempts qualify  qualify_num\n",
       "a  Anastasia   12.5         1     yes            1\n",
       "b       Dima    9.0         3      no            0\n",
       "c  Katherine   16.5         2     yes            1\n",
       "d      James    NaN         0      no            0\n",
       "e      Emily    9.0         2      no            0\n",
       "f    Michael   20.0         3     yes            1\n",
       "g    Matthew   14.5         1     yes            1\n",
       "h      Laura    NaN         0      no            0\n",
       "i      Kevin    8.0         2      no            0\n",
       "j      Jonas   19.0         1     yes            1"
      ]
     },
     "execution_count": 91,
     "metadata": {},
     "output_type": "execute_result"
    }
   ],
   "source": [
    "df"
   ]
  },
  {
   "cell_type": "code",
   "execution_count": 92,
   "id": "fe07e24e",
   "metadata": {
    "ExecuteTime": {
     "end_time": "2023-04-11T15:07:52.037912Z",
     "start_time": "2023-04-11T15:07:52.032776Z"
    }
   },
   "outputs": [],
   "source": [
    "df['qualify_num_1'] = df.qualify.apply(lambda x: 1 if x=='yes' else 0)"
   ]
  },
  {
   "cell_type": "code",
   "execution_count": 93,
   "id": "87f07a83",
   "metadata": {
    "ExecuteTime": {
     "end_time": "2023-04-11T15:07:52.529919Z",
     "start_time": "2023-04-11T15:07:52.514558Z"
    }
   },
   "outputs": [
    {
     "data": {
      "text/html": [
       "<div>\n",
       "<style scoped>\n",
       "    .dataframe tbody tr th:only-of-type {\n",
       "        vertical-align: middle;\n",
       "    }\n",
       "\n",
       "    .dataframe tbody tr th {\n",
       "        vertical-align: top;\n",
       "    }\n",
       "\n",
       "    .dataframe thead th {\n",
       "        text-align: right;\n",
       "    }\n",
       "</style>\n",
       "<table border=\"1\" class=\"dataframe\">\n",
       "  <thead>\n",
       "    <tr style=\"text-align: right;\">\n",
       "      <th></th>\n",
       "      <th>name</th>\n",
       "      <th>score</th>\n",
       "      <th>attempts</th>\n",
       "      <th>qualify</th>\n",
       "      <th>qualify_num</th>\n",
       "      <th>qualify_num_1</th>\n",
       "    </tr>\n",
       "  </thead>\n",
       "  <tbody>\n",
       "    <tr>\n",
       "      <th>a</th>\n",
       "      <td>Anastasia</td>\n",
       "      <td>12.5</td>\n",
       "      <td>1</td>\n",
       "      <td>yes</td>\n",
       "      <td>1</td>\n",
       "      <td>1</td>\n",
       "    </tr>\n",
       "    <tr>\n",
       "      <th>b</th>\n",
       "      <td>Dima</td>\n",
       "      <td>9.0</td>\n",
       "      <td>3</td>\n",
       "      <td>no</td>\n",
       "      <td>0</td>\n",
       "      <td>0</td>\n",
       "    </tr>\n",
       "    <tr>\n",
       "      <th>c</th>\n",
       "      <td>Katherine</td>\n",
       "      <td>16.5</td>\n",
       "      <td>2</td>\n",
       "      <td>yes</td>\n",
       "      <td>1</td>\n",
       "      <td>1</td>\n",
       "    </tr>\n",
       "    <tr>\n",
       "      <th>d</th>\n",
       "      <td>James</td>\n",
       "      <td>NaN</td>\n",
       "      <td>0</td>\n",
       "      <td>no</td>\n",
       "      <td>0</td>\n",
       "      <td>0</td>\n",
       "    </tr>\n",
       "    <tr>\n",
       "      <th>e</th>\n",
       "      <td>Emily</td>\n",
       "      <td>9.0</td>\n",
       "      <td>2</td>\n",
       "      <td>no</td>\n",
       "      <td>0</td>\n",
       "      <td>0</td>\n",
       "    </tr>\n",
       "    <tr>\n",
       "      <th>f</th>\n",
       "      <td>Michael</td>\n",
       "      <td>20.0</td>\n",
       "      <td>3</td>\n",
       "      <td>yes</td>\n",
       "      <td>1</td>\n",
       "      <td>1</td>\n",
       "    </tr>\n",
       "    <tr>\n",
       "      <th>g</th>\n",
       "      <td>Matthew</td>\n",
       "      <td>14.5</td>\n",
       "      <td>1</td>\n",
       "      <td>yes</td>\n",
       "      <td>1</td>\n",
       "      <td>1</td>\n",
       "    </tr>\n",
       "    <tr>\n",
       "      <th>h</th>\n",
       "      <td>Laura</td>\n",
       "      <td>NaN</td>\n",
       "      <td>0</td>\n",
       "      <td>no</td>\n",
       "      <td>0</td>\n",
       "      <td>0</td>\n",
       "    </tr>\n",
       "    <tr>\n",
       "      <th>i</th>\n",
       "      <td>Kevin</td>\n",
       "      <td>8.0</td>\n",
       "      <td>2</td>\n",
       "      <td>no</td>\n",
       "      <td>0</td>\n",
       "      <td>0</td>\n",
       "    </tr>\n",
       "    <tr>\n",
       "      <th>j</th>\n",
       "      <td>Jonas</td>\n",
       "      <td>19.0</td>\n",
       "      <td>1</td>\n",
       "      <td>yes</td>\n",
       "      <td>1</td>\n",
       "      <td>1</td>\n",
       "    </tr>\n",
       "  </tbody>\n",
       "</table>\n",
       "</div>"
      ],
      "text/plain": [
       "        name  score  attempts qualify  qualify_num  qualify_num_1\n",
       "a  Anastasia   12.5         1     yes            1              1\n",
       "b       Dima    9.0         3      no            0              0\n",
       "c  Katherine   16.5         2     yes            1              1\n",
       "d      James    NaN         0      no            0              0\n",
       "e      Emily    9.0         2      no            0              0\n",
       "f    Michael   20.0         3     yes            1              1\n",
       "g    Matthew   14.5         1     yes            1              1\n",
       "h      Laura    NaN         0      no            0              0\n",
       "i      Kevin    8.0         2      no            0              0\n",
       "j      Jonas   19.0         1     yes            1              1"
      ]
     },
     "execution_count": 93,
     "metadata": {},
     "output_type": "execute_result"
    }
   ],
   "source": [
    "df"
   ]
  },
  {
   "cell_type": "markdown",
   "id": "ae55cbd9",
   "metadata": {},
   "source": [
    "### Задача 2\n",
    "\n",
    "1. Сколько студентов сдали экзамен\n",
    "2. Какое минимальное количество баллов нужно для сдачи экзамена\n",
    "3. Какое количество студентов сдали экзамен с более чем 1 попытки\n",
    "4. Найдите студентов, которые не сдавали экзамен\n",
    "5. Найдите студентов, которые либо не сдали экзамен, либо не сдавали его"
   ]
  },
  {
   "cell_type": "code",
   "execution_count": 94,
   "id": "377104ba",
   "metadata": {
    "ExecuteTime": {
     "end_time": "2023-04-11T15:07:56.125814Z",
     "start_time": "2023-04-11T15:07:56.119181Z"
    }
   },
   "outputs": [
    {
     "data": {
      "text/plain": [
       "5"
      ]
     },
     "execution_count": 94,
     "metadata": {},
     "output_type": "execute_result"
    }
   ],
   "source": [
    "df.qualify_num.sum()"
   ]
  },
  {
   "cell_type": "code",
   "execution_count": 95,
   "id": "88021a3e",
   "metadata": {
    "ExecuteTime": {
     "end_time": "2023-04-11T15:07:56.610521Z",
     "start_time": "2023-04-11T15:07:56.600768Z"
    }
   },
   "outputs": [
    {
     "data": {
      "text/plain": [
       "12.5"
      ]
     },
     "execution_count": 95,
     "metadata": {},
     "output_type": "execute_result"
    }
   ],
   "source": [
    "df.loc[df.qualify_num==1, 'score'].min()"
   ]
  },
  {
   "cell_type": "code",
   "execution_count": 96,
   "id": "b3ecd79e",
   "metadata": {
    "ExecuteTime": {
     "end_time": "2023-04-11T15:07:57.252563Z",
     "start_time": "2023-04-11T15:07:57.240682Z"
    }
   },
   "outputs": [
    {
     "data": {
      "text/plain": [
       "2"
      ]
     },
     "execution_count": 96,
     "metadata": {},
     "output_type": "execute_result"
    }
   ],
   "source": [
    "df.loc[(df.attempts>1) & (df.qualify_num==1), :].shape[0]"
   ]
  },
  {
   "cell_type": "code",
   "execution_count": 99,
   "id": "94730496",
   "metadata": {
    "ExecuteTime": {
     "end_time": "2023-04-11T15:09:17.317157Z",
     "start_time": "2023-04-11T15:09:17.301466Z"
    }
   },
   "outputs": [
    {
     "data": {
      "text/html": [
       "<div>\n",
       "<style scoped>\n",
       "    .dataframe tbody tr th:only-of-type {\n",
       "        vertical-align: middle;\n",
       "    }\n",
       "\n",
       "    .dataframe tbody tr th {\n",
       "        vertical-align: top;\n",
       "    }\n",
       "\n",
       "    .dataframe thead th {\n",
       "        text-align: right;\n",
       "    }\n",
       "</style>\n",
       "<table border=\"1\" class=\"dataframe\">\n",
       "  <thead>\n",
       "    <tr style=\"text-align: right;\">\n",
       "      <th></th>\n",
       "      <th>name</th>\n",
       "      <th>score</th>\n",
       "      <th>attempts</th>\n",
       "      <th>qualify</th>\n",
       "      <th>qualify_num</th>\n",
       "      <th>qualify_num_1</th>\n",
       "    </tr>\n",
       "  </thead>\n",
       "  <tbody>\n",
       "    <tr>\n",
       "      <th>d</th>\n",
       "      <td>James</td>\n",
       "      <td>NaN</td>\n",
       "      <td>0</td>\n",
       "      <td>no</td>\n",
       "      <td>0</td>\n",
       "      <td>0</td>\n",
       "    </tr>\n",
       "    <tr>\n",
       "      <th>h</th>\n",
       "      <td>Laura</td>\n",
       "      <td>NaN</td>\n",
       "      <td>0</td>\n",
       "      <td>no</td>\n",
       "      <td>0</td>\n",
       "      <td>0</td>\n",
       "    </tr>\n",
       "  </tbody>\n",
       "</table>\n",
       "</div>"
      ],
      "text/plain": [
       "    name  score  attempts qualify  qualify_num  qualify_num_1\n",
       "d  James    NaN         0      no            0              0\n",
       "h  Laura    NaN         0      no            0              0"
      ]
     },
     "execution_count": 99,
     "metadata": {},
     "output_type": "execute_result"
    }
   ],
   "source": [
    "df[df.score.isnull()]"
   ]
  },
  {
   "cell_type": "code",
   "execution_count": 101,
   "id": "3e6efcbb",
   "metadata": {
    "ExecuteTime": {
     "end_time": "2023-04-11T15:12:03.353026Z",
     "start_time": "2023-04-11T15:12:03.333331Z"
    }
   },
   "outputs": [
    {
     "data": {
      "text/html": [
       "<div>\n",
       "<style scoped>\n",
       "    .dataframe tbody tr th:only-of-type {\n",
       "        vertical-align: middle;\n",
       "    }\n",
       "\n",
       "    .dataframe tbody tr th {\n",
       "        vertical-align: top;\n",
       "    }\n",
       "\n",
       "    .dataframe thead th {\n",
       "        text-align: right;\n",
       "    }\n",
       "</style>\n",
       "<table border=\"1\" class=\"dataframe\">\n",
       "  <thead>\n",
       "    <tr style=\"text-align: right;\">\n",
       "      <th></th>\n",
       "      <th>name</th>\n",
       "      <th>score</th>\n",
       "      <th>attempts</th>\n",
       "      <th>qualify</th>\n",
       "      <th>qualify_num</th>\n",
       "      <th>qualify_num_1</th>\n",
       "    </tr>\n",
       "  </thead>\n",
       "  <tbody>\n",
       "    <tr>\n",
       "      <th>b</th>\n",
       "      <td>Dima</td>\n",
       "      <td>9.0</td>\n",
       "      <td>3</td>\n",
       "      <td>no</td>\n",
       "      <td>0</td>\n",
       "      <td>0</td>\n",
       "    </tr>\n",
       "    <tr>\n",
       "      <th>d</th>\n",
       "      <td>James</td>\n",
       "      <td>NaN</td>\n",
       "      <td>0</td>\n",
       "      <td>no</td>\n",
       "      <td>0</td>\n",
       "      <td>0</td>\n",
       "    </tr>\n",
       "    <tr>\n",
       "      <th>e</th>\n",
       "      <td>Emily</td>\n",
       "      <td>9.0</td>\n",
       "      <td>2</td>\n",
       "      <td>no</td>\n",
       "      <td>0</td>\n",
       "      <td>0</td>\n",
       "    </tr>\n",
       "    <tr>\n",
       "      <th>h</th>\n",
       "      <td>Laura</td>\n",
       "      <td>NaN</td>\n",
       "      <td>0</td>\n",
       "      <td>no</td>\n",
       "      <td>0</td>\n",
       "      <td>0</td>\n",
       "    </tr>\n",
       "    <tr>\n",
       "      <th>i</th>\n",
       "      <td>Kevin</td>\n",
       "      <td>8.0</td>\n",
       "      <td>2</td>\n",
       "      <td>no</td>\n",
       "      <td>0</td>\n",
       "      <td>0</td>\n",
       "    </tr>\n",
       "  </tbody>\n",
       "</table>\n",
       "</div>"
      ],
      "text/plain": [
       "    name  score  attempts qualify  qualify_num  qualify_num_1\n",
       "b   Dima    9.0         3      no            0              0\n",
       "d  James    NaN         0      no            0              0\n",
       "e  Emily    9.0         2      no            0              0\n",
       "h  Laura    NaN         0      no            0              0\n",
       "i  Kevin    8.0         2      no            0              0"
      ]
     },
     "execution_count": 101,
     "metadata": {},
     "output_type": "execute_result"
    }
   ],
   "source": [
    "df[(df.qualify_num==0) | (df.attempts==0)]"
   ]
  },
  {
   "cell_type": "markdown",
   "id": "0c01d154",
   "metadata": {},
   "source": [
    "### Задача 3\n",
    "\n",
    "Найдите среднее, медиану и максимум для столбца score для каждой из групп сдавших и не сдавших экзамен"
   ]
  },
  {
   "cell_type": "code",
   "execution_count": 103,
   "id": "bb23ea80",
   "metadata": {
    "ExecuteTime": {
     "end_time": "2023-04-11T15:14:22.416139Z",
     "start_time": "2023-04-11T15:14:22.379818Z"
    }
   },
   "outputs": [
    {
     "data": {
      "text/plain": [
       "score            16.5\n",
       "attempts          1.0\n",
       "qualify_num       1.0\n",
       "qualify_num_1     1.0\n",
       "dtype: float64"
      ]
     },
     "execution_count": 103,
     "metadata": {},
     "output_type": "execute_result"
    }
   ],
   "source": [
    "df[df.qualify_num==1].median()"
   ]
  },
  {
   "cell_type": "code",
   "execution_count": 104,
   "id": "6350d28e",
   "metadata": {
    "ExecuteTime": {
     "end_time": "2023-04-11T15:14:47.610299Z",
     "start_time": "2023-04-11T15:14:47.598679Z"
    }
   },
   "outputs": [
    {
     "data": {
      "text/plain": [
       "score            9.0\n",
       "attempts         2.0\n",
       "qualify_num      0.0\n",
       "qualify_num_1    0.0\n",
       "dtype: float64"
      ]
     },
     "execution_count": 104,
     "metadata": {},
     "output_type": "execute_result"
    }
   ],
   "source": [
    "df[df.qualify_num==0].median()"
   ]
  },
  {
   "cell_type": "code",
   "execution_count": 106,
   "id": "451775b0",
   "metadata": {
    "ExecuteTime": {
     "end_time": "2023-04-11T15:15:07.299630Z",
     "start_time": "2023-04-11T15:15:07.285370Z"
    }
   },
   "outputs": [
    {
     "data": {
      "text/plain": [
       "score            16.5\n",
       "attempts          1.6\n",
       "qualify_num       1.0\n",
       "qualify_num_1     1.0\n",
       "dtype: float64"
      ]
     },
     "execution_count": 106,
     "metadata": {},
     "output_type": "execute_result"
    }
   ],
   "source": [
    "df[df.qualify_num==1].mean()"
   ]
  },
  {
   "cell_type": "code",
   "execution_count": 107,
   "id": "8e81f842",
   "metadata": {
    "ExecuteTime": {
     "end_time": "2023-04-11T15:15:15.573319Z",
     "start_time": "2023-04-11T15:15:15.561385Z"
    }
   },
   "outputs": [
    {
     "data": {
      "text/plain": [
       "score            8.666667\n",
       "attempts         1.400000\n",
       "qualify_num      0.000000\n",
       "qualify_num_1    0.000000\n",
       "dtype: float64"
      ]
     },
     "execution_count": 107,
     "metadata": {},
     "output_type": "execute_result"
    }
   ],
   "source": [
    "df[df.qualify_num==0].mean()"
   ]
  },
  {
   "cell_type": "code",
   "execution_count": 108,
   "id": "ec24d37c",
   "metadata": {
    "ExecuteTime": {
     "end_time": "2023-04-11T15:15:23.893195Z",
     "start_time": "2023-04-11T15:15:23.886270Z"
    }
   },
   "outputs": [
    {
     "data": {
      "text/plain": [
       "name             Michael\n",
       "score               20.0\n",
       "attempts               3\n",
       "qualify              yes\n",
       "qualify_num            1\n",
       "qualify_num_1          1\n",
       "dtype: object"
      ]
     },
     "execution_count": 108,
     "metadata": {},
     "output_type": "execute_result"
    }
   ],
   "source": [
    "df[df.qualify_num==1].max()"
   ]
  },
  {
   "cell_type": "code",
   "execution_count": 109,
   "id": "5b62ada2",
   "metadata": {
    "ExecuteTime": {
     "end_time": "2023-04-11T15:15:33.831428Z",
     "start_time": "2023-04-11T15:15:33.819727Z"
    }
   },
   "outputs": [
    {
     "data": {
      "text/plain": [
       "name             Laura\n",
       "score              9.0\n",
       "attempts             3\n",
       "qualify             no\n",
       "qualify_num          0\n",
       "qualify_num_1        0\n",
       "dtype: object"
      ]
     },
     "execution_count": 109,
     "metadata": {},
     "output_type": "execute_result"
    }
   ],
   "source": [
    "df[df.qualify_num==0].max()"
   ]
  },
  {
   "cell_type": "code",
   "execution_count": 111,
   "id": "42725ef7",
   "metadata": {
    "ExecuteTime": {
     "end_time": "2023-04-11T15:17:13.775611Z",
     "start_time": "2023-04-11T15:17:13.764093Z"
    }
   },
   "outputs": [
    {
     "data": {
      "text/plain": [
       "qualify_num\n",
       "0     8.666667\n",
       "1    16.500000\n",
       "Name: score, dtype: float64"
      ]
     },
     "execution_count": 111,
     "metadata": {},
     "output_type": "execute_result"
    }
   ],
   "source": [
    "df.groupby('qualify_num')['score'].mean() # meadian, max"
   ]
  },
  {
   "cell_type": "code",
   "execution_count": 112,
   "id": "16fc0485",
   "metadata": {
    "ExecuteTime": {
     "end_time": "2023-04-11T15:18:13.215665Z",
     "start_time": "2023-04-11T15:18:13.190304Z"
    }
   },
   "outputs": [
    {
     "data": {
      "text/html": [
       "<div>\n",
       "<style scoped>\n",
       "    .dataframe tbody tr th:only-of-type {\n",
       "        vertical-align: middle;\n",
       "    }\n",
       "\n",
       "    .dataframe tbody tr th {\n",
       "        vertical-align: top;\n",
       "    }\n",
       "\n",
       "    .dataframe thead tr th {\n",
       "        text-align: left;\n",
       "    }\n",
       "\n",
       "    .dataframe thead tr:last-of-type th {\n",
       "        text-align: right;\n",
       "    }\n",
       "</style>\n",
       "<table border=\"1\" class=\"dataframe\">\n",
       "  <thead>\n",
       "    <tr>\n",
       "      <th></th>\n",
       "      <th colspan=\"3\" halign=\"left\">score</th>\n",
       "    </tr>\n",
       "    <tr>\n",
       "      <th></th>\n",
       "      <th>median</th>\n",
       "      <th>mean</th>\n",
       "      <th>max</th>\n",
       "    </tr>\n",
       "    <tr>\n",
       "      <th>qualify_num</th>\n",
       "      <th></th>\n",
       "      <th></th>\n",
       "      <th></th>\n",
       "    </tr>\n",
       "  </thead>\n",
       "  <tbody>\n",
       "    <tr>\n",
       "      <th>0</th>\n",
       "      <td>9.0</td>\n",
       "      <td>8.666667</td>\n",
       "      <td>9.0</td>\n",
       "    </tr>\n",
       "    <tr>\n",
       "      <th>1</th>\n",
       "      <td>16.5</td>\n",
       "      <td>16.500000</td>\n",
       "      <td>20.0</td>\n",
       "    </tr>\n",
       "  </tbody>\n",
       "</table>\n",
       "</div>"
      ],
      "text/plain": [
       "             score                 \n",
       "            median       mean   max\n",
       "qualify_num                        \n",
       "0              9.0   8.666667   9.0\n",
       "1             16.5  16.500000  20.0"
      ]
     },
     "execution_count": 112,
     "metadata": {},
     "output_type": "execute_result"
    }
   ],
   "source": [
    "df.groupby('qualify_num').agg({'score': ['median', 'mean', 'max']})"
   ]
  },
  {
   "cell_type": "markdown",
   "id": "275aa75e",
   "metadata": {},
   "source": [
    "### Задача 4\n",
    "\n",
    "Добавьте колонку result, используя таблицу ниже"
   ]
  },
  {
   "cell_type": "code",
   "execution_count": 115,
   "id": "68fb245d",
   "metadata": {
    "ExecuteTime": {
     "end_time": "2023-04-11T15:22:19.007962Z",
     "start_time": "2023-04-11T15:22:18.993557Z"
    }
   },
   "outputs": [
    {
     "data": {
      "text/html": [
       "<div>\n",
       "<style scoped>\n",
       "    .dataframe tbody tr th:only-of-type {\n",
       "        vertical-align: middle;\n",
       "    }\n",
       "\n",
       "    .dataframe tbody tr th {\n",
       "        vertical-align: top;\n",
       "    }\n",
       "\n",
       "    .dataframe thead th {\n",
       "        text-align: right;\n",
       "    }\n",
       "</style>\n",
       "<table border=\"1\" class=\"dataframe\">\n",
       "  <thead>\n",
       "    <tr style=\"text-align: right;\">\n",
       "      <th></th>\n",
       "      <th>passed</th>\n",
       "      <th>result</th>\n",
       "    </tr>\n",
       "  </thead>\n",
       "  <tbody>\n",
       "    <tr>\n",
       "      <th>0</th>\n",
       "      <td>yes</td>\n",
       "      <td>success</td>\n",
       "    </tr>\n",
       "    <tr>\n",
       "      <th>1</th>\n",
       "      <td>no</td>\n",
       "      <td>fail</td>\n",
       "    </tr>\n",
       "    <tr>\n",
       "      <th>2</th>\n",
       "      <td>not defined</td>\n",
       "      <td>50/50</td>\n",
       "    </tr>\n",
       "  </tbody>\n",
       "</table>\n",
       "</div>"
      ],
      "text/plain": [
       "        passed   result\n",
       "0          yes  success\n",
       "1           no     fail\n",
       "2  not defined    50/50"
      ]
     },
     "execution_count": 115,
     "metadata": {},
     "output_type": "execute_result"
    }
   ],
   "source": [
    "df_res = pd.DataFrame({'passed': ['yes', 'no', 'not defined'], 'result': ['success', 'fail', '50/50']})\n",
    "df_res"
   ]
  },
  {
   "cell_type": "code",
   "execution_count": 121,
   "id": "509b50d9",
   "metadata": {
    "ExecuteTime": {
     "end_time": "2023-04-11T15:24:19.058613Z",
     "start_time": "2023-04-11T15:24:19.032264Z"
    }
   },
   "outputs": [
    {
     "data": {
      "text/html": [
       "<div>\n",
       "<style scoped>\n",
       "    .dataframe tbody tr th:only-of-type {\n",
       "        vertical-align: middle;\n",
       "    }\n",
       "\n",
       "    .dataframe tbody tr th {\n",
       "        vertical-align: top;\n",
       "    }\n",
       "\n",
       "    .dataframe thead th {\n",
       "        text-align: right;\n",
       "    }\n",
       "</style>\n",
       "<table border=\"1\" class=\"dataframe\">\n",
       "  <thead>\n",
       "    <tr style=\"text-align: right;\">\n",
       "      <th></th>\n",
       "      <th>name</th>\n",
       "      <th>score</th>\n",
       "      <th>attempts</th>\n",
       "      <th>qualify</th>\n",
       "      <th>qualify_num</th>\n",
       "      <th>qualify_num_1</th>\n",
       "      <th>passed</th>\n",
       "      <th>result</th>\n",
       "    </tr>\n",
       "  </thead>\n",
       "  <tbody>\n",
       "    <tr>\n",
       "      <th>0</th>\n",
       "      <td>Anastasia</td>\n",
       "      <td>12.5</td>\n",
       "      <td>1</td>\n",
       "      <td>yes</td>\n",
       "      <td>1</td>\n",
       "      <td>1</td>\n",
       "      <td>yes</td>\n",
       "      <td>success</td>\n",
       "    </tr>\n",
       "    <tr>\n",
       "      <th>1</th>\n",
       "      <td>Katherine</td>\n",
       "      <td>16.5</td>\n",
       "      <td>2</td>\n",
       "      <td>yes</td>\n",
       "      <td>1</td>\n",
       "      <td>1</td>\n",
       "      <td>yes</td>\n",
       "      <td>success</td>\n",
       "    </tr>\n",
       "    <tr>\n",
       "      <th>2</th>\n",
       "      <td>Michael</td>\n",
       "      <td>20.0</td>\n",
       "      <td>3</td>\n",
       "      <td>yes</td>\n",
       "      <td>1</td>\n",
       "      <td>1</td>\n",
       "      <td>yes</td>\n",
       "      <td>success</td>\n",
       "    </tr>\n",
       "    <tr>\n",
       "      <th>3</th>\n",
       "      <td>Matthew</td>\n",
       "      <td>14.5</td>\n",
       "      <td>1</td>\n",
       "      <td>yes</td>\n",
       "      <td>1</td>\n",
       "      <td>1</td>\n",
       "      <td>yes</td>\n",
       "      <td>success</td>\n",
       "    </tr>\n",
       "    <tr>\n",
       "      <th>4</th>\n",
       "      <td>Jonas</td>\n",
       "      <td>19.0</td>\n",
       "      <td>1</td>\n",
       "      <td>yes</td>\n",
       "      <td>1</td>\n",
       "      <td>1</td>\n",
       "      <td>yes</td>\n",
       "      <td>success</td>\n",
       "    </tr>\n",
       "    <tr>\n",
       "      <th>5</th>\n",
       "      <td>Dima</td>\n",
       "      <td>9.0</td>\n",
       "      <td>3</td>\n",
       "      <td>no</td>\n",
       "      <td>0</td>\n",
       "      <td>0</td>\n",
       "      <td>no</td>\n",
       "      <td>fail</td>\n",
       "    </tr>\n",
       "    <tr>\n",
       "      <th>6</th>\n",
       "      <td>James</td>\n",
       "      <td>NaN</td>\n",
       "      <td>0</td>\n",
       "      <td>no</td>\n",
       "      <td>0</td>\n",
       "      <td>0</td>\n",
       "      <td>no</td>\n",
       "      <td>fail</td>\n",
       "    </tr>\n",
       "    <tr>\n",
       "      <th>7</th>\n",
       "      <td>Emily</td>\n",
       "      <td>9.0</td>\n",
       "      <td>2</td>\n",
       "      <td>no</td>\n",
       "      <td>0</td>\n",
       "      <td>0</td>\n",
       "      <td>no</td>\n",
       "      <td>fail</td>\n",
       "    </tr>\n",
       "    <tr>\n",
       "      <th>8</th>\n",
       "      <td>Laura</td>\n",
       "      <td>NaN</td>\n",
       "      <td>0</td>\n",
       "      <td>no</td>\n",
       "      <td>0</td>\n",
       "      <td>0</td>\n",
       "      <td>no</td>\n",
       "      <td>fail</td>\n",
       "    </tr>\n",
       "    <tr>\n",
       "      <th>9</th>\n",
       "      <td>Kevin</td>\n",
       "      <td>8.0</td>\n",
       "      <td>2</td>\n",
       "      <td>no</td>\n",
       "      <td>0</td>\n",
       "      <td>0</td>\n",
       "      <td>no</td>\n",
       "      <td>fail</td>\n",
       "    </tr>\n",
       "  </tbody>\n",
       "</table>\n",
       "</div>"
      ],
      "text/plain": [
       "        name  score  attempts qualify  qualify_num  qualify_num_1 passed  \\\n",
       "0  Anastasia   12.5         1     yes            1              1    yes   \n",
       "1  Katherine   16.5         2     yes            1              1    yes   \n",
       "2    Michael   20.0         3     yes            1              1    yes   \n",
       "3    Matthew   14.5         1     yes            1              1    yes   \n",
       "4      Jonas   19.0         1     yes            1              1    yes   \n",
       "5       Dima    9.0         3      no            0              0     no   \n",
       "6      James    NaN         0      no            0              0     no   \n",
       "7      Emily    9.0         2      no            0              0     no   \n",
       "8      Laura    NaN         0      no            0              0     no   \n",
       "9      Kevin    8.0         2      no            0              0     no   \n",
       "\n",
       "    result  \n",
       "0  success  \n",
       "1  success  \n",
       "2  success  \n",
       "3  success  \n",
       "4  success  \n",
       "5     fail  \n",
       "6     fail  \n",
       "7     fail  \n",
       "8     fail  \n",
       "9     fail  "
      ]
     },
     "execution_count": 121,
     "metadata": {},
     "output_type": "execute_result"
    }
   ],
   "source": [
    "df.merge(df_res, how='inner', left_on='qualify', right_on='passed')"
   ]
  },
  {
   "cell_type": "code",
   "execution_count": null,
   "id": "daea8fd2",
   "metadata": {},
   "outputs": [],
   "source": []
  }
 ],
 "metadata": {
  "kernelspec": {
   "display_name": "Python 3",
   "language": "python",
   "name": "python3"
  },
  "language_info": {
   "codemirror_mode": {
    "name": "ipython",
    "version": 3
   },
   "file_extension": ".py",
   "mimetype": "text/x-python",
   "name": "python",
   "nbconvert_exporter": "python",
   "pygments_lexer": "ipython3",
   "version": "3.8.8"
  },
  "latex_envs": {
   "LaTeX_envs_menu_present": true,
   "autoclose": false,
   "autocomplete": true,
   "bibliofile": "biblio.bib",
   "cite_by": "apalike",
   "current_citInitial": 1,
   "eqLabelWithNumbers": true,
   "eqNumInitial": 1,
   "hotkeys": {
    "equation": "Ctrl-E",
    "itemize": "Ctrl-I"
   },
   "labels_anchors": false,
   "latex_user_defs": false,
   "report_style_numbering": false,
   "user_envs_cfg": false
  },
  "toc": {
   "base_numbering": 1,
   "nav_menu": {},
   "number_sections": true,
   "sideBar": true,
   "skip_h1_title": false,
   "title_cell": "Table of Contents",
   "title_sidebar": "Contents",
   "toc_cell": false,
   "toc_position": {},
   "toc_section_display": true,
   "toc_window_display": true
  }
 },
 "nbformat": 4,
 "nbformat_minor": 5
}

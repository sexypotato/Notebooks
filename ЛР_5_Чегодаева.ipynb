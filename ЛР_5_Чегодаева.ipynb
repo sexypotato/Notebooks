{
  "cells": [
    {
      "cell_type": "markdown",
      "metadata": {
        "id": "bjf9oPfEFjo2"
      },
      "source": [
        "# **Лабораторная работа №5. Визуализация данных с использованием библиотек Python.Интерактивная визуализация с Plotly**"
      ]
    },
    {
      "cell_type": "code",
      "execution_count": null,
      "metadata": {
        "id": "HFwxNzoPdbvT"
      },
      "outputs": [],
      "source": [
        "import plotly\n",
        "import plotly.graph_objs as go\n",
        "import plotly.graph_objects as go\n",
        "from plotly.offline import iplot\n",
        "import plotly.express as px\n",
        "from plotly.subplots import make_subplots\n",
        "\n",
        "import pandas as pd\n",
        "import numpy as np\n",
        "import seaborn as sns\n",
        "import matplotlib.pyplot as plt\n",
        "import warnings\n",
        "warnings.filterwarnings(\"ignore\")"
      ]
    },
    {
      "cell_type": "code",
      "execution_count": null,
      "metadata": {
        "id": "0_oNurdpE1f_"
      },
      "outputs": [],
      "source": [
        "from google.colab import drive\n",
        "drive.mount('/content/drive')"
      ]
    },
    {
      "cell_type": "code",
      "execution_count": 27,
      "metadata": {
        "id": "gs4JyfVBE_x9"
      },
      "outputs": [],
      "source": [
        "data = pd.read_csv('/content/drive/MyDrive/bfeed.csv')"
      ]
    },
    {
      "cell_type": "code",
      "execution_count": 28,
      "metadata": {
        "id": "_zkwWuS1RCrA"
      },
      "outputs": [],
      "source": [
        "data['education']=data['yschool'].map(lambda x: 'only school (or less)' if x < 13 else 'higher education')"
      ]
    },
    {
      "cell_type": "code",
      "execution_count": 29,
      "metadata": {
        "colab": {
          "base_uri": "https://localhost:8080/",
          "height": 206
        },
        "id": "XMXcFo9HFFN1",
        "outputId": "ff2300ae-e285-4ec0-e528-8f61d15edfc8"
      },
      "outputs": [
        {
          "output_type": "execute_result",
          "data": {
            "text/plain": [
              "   Unnamed: 0  duration  delta  race  poverty  smoke  alcohol  agemth  ybirth  \\\n",
              "0           1        16      1     1        0      0        1      24      82   \n",
              "1           2         1      1     1        0      1        0      26      85   \n",
              "2           3         4      0     1        0      0        0      25      85   \n",
              "3           4         3      1     1        0      1        1      21      85   \n",
              "4           5        36      1     1        0      1        0      22      82   \n",
              "\n",
              "   yschool  pc3mth              education  \n",
              "0       14       0       higher education  \n",
              "1       12       0  only school (or less)  \n",
              "2       12       0  only school (or less)  \n",
              "3        9       0  only school (or less)  \n",
              "4       12       0  only school (or less)  "
            ],
            "text/html": [
              "\n",
              "  <div id=\"df-35b7f346-d32a-4c10-9353-32b3ce6a4c3d\">\n",
              "    <div class=\"colab-df-container\">\n",
              "      <div>\n",
              "<style scoped>\n",
              "    .dataframe tbody tr th:only-of-type {\n",
              "        vertical-align: middle;\n",
              "    }\n",
              "\n",
              "    .dataframe tbody tr th {\n",
              "        vertical-align: top;\n",
              "    }\n",
              "\n",
              "    .dataframe thead th {\n",
              "        text-align: right;\n",
              "    }\n",
              "</style>\n",
              "<table border=\"1\" class=\"dataframe\">\n",
              "  <thead>\n",
              "    <tr style=\"text-align: right;\">\n",
              "      <th></th>\n",
              "      <th>Unnamed: 0</th>\n",
              "      <th>duration</th>\n",
              "      <th>delta</th>\n",
              "      <th>race</th>\n",
              "      <th>poverty</th>\n",
              "      <th>smoke</th>\n",
              "      <th>alcohol</th>\n",
              "      <th>agemth</th>\n",
              "      <th>ybirth</th>\n",
              "      <th>yschool</th>\n",
              "      <th>pc3mth</th>\n",
              "      <th>education</th>\n",
              "    </tr>\n",
              "  </thead>\n",
              "  <tbody>\n",
              "    <tr>\n",
              "      <th>0</th>\n",
              "      <td>1</td>\n",
              "      <td>16</td>\n",
              "      <td>1</td>\n",
              "      <td>1</td>\n",
              "      <td>0</td>\n",
              "      <td>0</td>\n",
              "      <td>1</td>\n",
              "      <td>24</td>\n",
              "      <td>82</td>\n",
              "      <td>14</td>\n",
              "      <td>0</td>\n",
              "      <td>higher education</td>\n",
              "    </tr>\n",
              "    <tr>\n",
              "      <th>1</th>\n",
              "      <td>2</td>\n",
              "      <td>1</td>\n",
              "      <td>1</td>\n",
              "      <td>1</td>\n",
              "      <td>0</td>\n",
              "      <td>1</td>\n",
              "      <td>0</td>\n",
              "      <td>26</td>\n",
              "      <td>85</td>\n",
              "      <td>12</td>\n",
              "      <td>0</td>\n",
              "      <td>only school (or less)</td>\n",
              "    </tr>\n",
              "    <tr>\n",
              "      <th>2</th>\n",
              "      <td>3</td>\n",
              "      <td>4</td>\n",
              "      <td>0</td>\n",
              "      <td>1</td>\n",
              "      <td>0</td>\n",
              "      <td>0</td>\n",
              "      <td>0</td>\n",
              "      <td>25</td>\n",
              "      <td>85</td>\n",
              "      <td>12</td>\n",
              "      <td>0</td>\n",
              "      <td>only school (or less)</td>\n",
              "    </tr>\n",
              "    <tr>\n",
              "      <th>3</th>\n",
              "      <td>4</td>\n",
              "      <td>3</td>\n",
              "      <td>1</td>\n",
              "      <td>1</td>\n",
              "      <td>0</td>\n",
              "      <td>1</td>\n",
              "      <td>1</td>\n",
              "      <td>21</td>\n",
              "      <td>85</td>\n",
              "      <td>9</td>\n",
              "      <td>0</td>\n",
              "      <td>only school (or less)</td>\n",
              "    </tr>\n",
              "    <tr>\n",
              "      <th>4</th>\n",
              "      <td>5</td>\n",
              "      <td>36</td>\n",
              "      <td>1</td>\n",
              "      <td>1</td>\n",
              "      <td>0</td>\n",
              "      <td>1</td>\n",
              "      <td>0</td>\n",
              "      <td>22</td>\n",
              "      <td>82</td>\n",
              "      <td>12</td>\n",
              "      <td>0</td>\n",
              "      <td>only school (or less)</td>\n",
              "    </tr>\n",
              "  </tbody>\n",
              "</table>\n",
              "</div>\n",
              "      <button class=\"colab-df-convert\" onclick=\"convertToInteractive('df-35b7f346-d32a-4c10-9353-32b3ce6a4c3d')\"\n",
              "              title=\"Convert this dataframe to an interactive table.\"\n",
              "              style=\"display:none;\">\n",
              "        \n",
              "  <svg xmlns=\"http://www.w3.org/2000/svg\" height=\"24px\"viewBox=\"0 0 24 24\"\n",
              "       width=\"24px\">\n",
              "    <path d=\"M0 0h24v24H0V0z\" fill=\"none\"/>\n",
              "    <path d=\"M18.56 5.44l.94 2.06.94-2.06 2.06-.94-2.06-.94-.94-2.06-.94 2.06-2.06.94zm-11 1L8.5 8.5l.94-2.06 2.06-.94-2.06-.94L8.5 2.5l-.94 2.06-2.06.94zm10 10l.94 2.06.94-2.06 2.06-.94-2.06-.94-.94-2.06-.94 2.06-2.06.94z\"/><path d=\"M17.41 7.96l-1.37-1.37c-.4-.4-.92-.59-1.43-.59-.52 0-1.04.2-1.43.59L10.3 9.45l-7.72 7.72c-.78.78-.78 2.05 0 2.83L4 21.41c.39.39.9.59 1.41.59.51 0 1.02-.2 1.41-.59l7.78-7.78 2.81-2.81c.8-.78.8-2.07 0-2.86zM5.41 20L4 18.59l7.72-7.72 1.47 1.35L5.41 20z\"/>\n",
              "  </svg>\n",
              "      </button>\n",
              "      \n",
              "  <style>\n",
              "    .colab-df-container {\n",
              "      display:flex;\n",
              "      flex-wrap:wrap;\n",
              "      gap: 12px;\n",
              "    }\n",
              "\n",
              "    .colab-df-convert {\n",
              "      background-color: #E8F0FE;\n",
              "      border: none;\n",
              "      border-radius: 50%;\n",
              "      cursor: pointer;\n",
              "      display: none;\n",
              "      fill: #1967D2;\n",
              "      height: 32px;\n",
              "      padding: 0 0 0 0;\n",
              "      width: 32px;\n",
              "    }\n",
              "\n",
              "    .colab-df-convert:hover {\n",
              "      background-color: #E2EBFA;\n",
              "      box-shadow: 0px 1px 2px rgba(60, 64, 67, 0.3), 0px 1px 3px 1px rgba(60, 64, 67, 0.15);\n",
              "      fill: #174EA6;\n",
              "    }\n",
              "\n",
              "    [theme=dark] .colab-df-convert {\n",
              "      background-color: #3B4455;\n",
              "      fill: #D2E3FC;\n",
              "    }\n",
              "\n",
              "    [theme=dark] .colab-df-convert:hover {\n",
              "      background-color: #434B5C;\n",
              "      box-shadow: 0px 1px 3px 1px rgba(0, 0, 0, 0.15);\n",
              "      filter: drop-shadow(0px 1px 2px rgba(0, 0, 0, 0.3));\n",
              "      fill: #FFFFFF;\n",
              "    }\n",
              "  </style>\n",
              "\n",
              "      <script>\n",
              "        const buttonEl =\n",
              "          document.querySelector('#df-35b7f346-d32a-4c10-9353-32b3ce6a4c3d button.colab-df-convert');\n",
              "        buttonEl.style.display =\n",
              "          google.colab.kernel.accessAllowed ? 'block' : 'none';\n",
              "\n",
              "        async function convertToInteractive(key) {\n",
              "          const element = document.querySelector('#df-35b7f346-d32a-4c10-9353-32b3ce6a4c3d');\n",
              "          const dataTable =\n",
              "            await google.colab.kernel.invokeFunction('convertToInteractive',\n",
              "                                                     [key], {});\n",
              "          if (!dataTable) return;\n",
              "\n",
              "          const docLinkHtml = 'Like what you see? Visit the ' +\n",
              "            '<a target=\"_blank\" href=https://colab.research.google.com/notebooks/data_table.ipynb>data table notebook</a>'\n",
              "            + ' to learn more about interactive tables.';\n",
              "          element.innerHTML = '';\n",
              "          dataTable['output_type'] = 'display_data';\n",
              "          await google.colab.output.renderOutput(dataTable, element);\n",
              "          const docLink = document.createElement('div');\n",
              "          docLink.innerHTML = docLinkHtml;\n",
              "          element.appendChild(docLink);\n",
              "        }\n",
              "      </script>\n",
              "    </div>\n",
              "  </div>\n",
              "  "
            ]
          },
          "metadata": {},
          "execution_count": 29
        }
      ],
      "source": [
        "data.head(5)"
      ]
    },
    {
      "cell_type": "markdown",
      "metadata": {
        "id": "oD-LnnybFcLt"
      },
      "source": [
        "**Описание данных**\n",
        "\n",
        "* **duration** - Продолжительность грудного вскармливания (нед.). *Количественная*.\n",
        "\n",
        "* **delta** - Индикатор завершения грудного вскармливания (1=да, 0=нет). *Категориальный*\n",
        "\n",
        "* **race** - Раса матери (1=белая, 2=черная, 3=другая). *Категориальный*\n",
        "\n",
        "* **poverty** - Мать в бедности (1=да, 0=нет). *Категориальный*\n",
        "\n",
        "* **smoke** - Мать курила при рождении ребенка (1=да, 0=нет). *Категориальный*\n",
        "\n",
        "* **alcohol** - Мать употребляла алкоголь при рождении ребенка (1=да, 0=нет). *Категориальный*\n",
        "\n",
        "* **agemth** - Возраст матери при рождении ребенка. *Количественный*\n",
        "\n",
        "* **ybirth** - Год рождения ребенка. *Количественный*\n",
        "\n",
        "* **yschool** - Уровень образования матери (годы обучения). *Количественный*\n",
        "\n",
        "* **pc3mth** - Дородовой уход после 3-го месяца (1=да, 0=нет). *Категориальный*\n",
        "\n",
        "**Дородовой уход является одной из форм профилактической медицины.  Он предоставляется в форме медицинских осмотров, включая пренатальный скрининг и диагностику, а также рекомендации о том, как вести здоровый образ жизни и предоставление медицинской информации, такой как физиологические изменения матери во время беременности, биологические изменения и пренатальное питание.*"
      ]
    },
    {
      "cell_type": "markdown",
      "metadata": {
        "id": "mBPThICr92Y2"
      },
      "source": [
        "## 1. «Ящик с усами»"
      ]
    },
    {
      "cell_type": "code",
      "execution_count": 30,
      "metadata": {
        "id": "Js0bq1lXRuAW",
        "colab": {
          "base_uri": "https://localhost:8080/",
          "height": 542
        },
        "outputId": "0f9e54e7-3195-45d3-de74-164e80c0ad94"
      },
      "outputs": [
        {
          "output_type": "display_data",
          "data": {
            "text/html": [
              "<html>\n",
              "<head><meta charset=\"utf-8\" /></head>\n",
              "<body>\n",
              "    <div>            <script src=\"https://cdnjs.cloudflare.com/ajax/libs/mathjax/2.7.5/MathJax.js?config=TeX-AMS-MML_SVG\"></script><script type=\"text/javascript\">if (window.MathJax && window.MathJax.Hub && window.MathJax.Hub.Config) {window.MathJax.Hub.Config({SVG: {font: \"STIX-Web\"}});}</script>                <script type=\"text/javascript\">window.PlotlyConfig = {MathJaxConfig: 'local'};</script>\n",
              "        <script src=\"https://cdn.plot.ly/plotly-2.18.2.min.js\"></script>                <div id=\"20951163-d535-4a27-8194-bce03d8b9ac5\" class=\"plotly-graph-div\" style=\"height:525px; width:100%;\"></div>            <script type=\"text/javascript\">                                    window.PLOTLYENV=window.PLOTLYENV || {};                                    if (document.getElementById(\"20951163-d535-4a27-8194-bce03d8b9ac5\")) {                    Plotly.newPlot(                        \"20951163-d535-4a27-8194-bce03d8b9ac5\",                        [{\"alignmentgroup\":\"True\",\"hovertemplate\":\"race=1<br>education=%{x}<br>ybirth=%{y}<extra></extra>\",\"legendgroup\":\"1\",\"marker\":{\"color\":\"#636efa\"},\"name\":\"1\",\"notched\":false,\"offsetgroup\":\"1\",\"orientation\":\"v\",\"showlegend\":true,\"x\":[\"higher education\",\"only school (or less)\",\"only school (or less)\",\"only school (or less)\",\"only school (or less)\",\"only school (or less)\",\"only school (or less)\",\"only school (or less)\",\"only school (or less)\",\"higher education\",\"only school (or less)\",\"only school (or less)\",\"only school (or less)\",\"higher education\",\"higher education\",\"only school (or less)\",\"higher education\",\"only school (or less)\",\"only school (or less)\",\"only school (or less)\",\"higher education\",\"only school (or less)\",\"higher education\",\"higher education\",\"only school (or less)\",\"only school (or less)\",\"higher education\",\"only school (or less)\",\"only school (or less)\",\"only school (or less)\",\"only school (or less)\",\"higher education\",\"only school (or less)\",\"only school (or less)\",\"only school (or less)\",\"only school (or less)\",\"higher education\",\"only school (or less)\",\"higher education\",\"only school (or less)\",\"higher education\",\"only school (or less)\",\"higher education\",\"only school (or less)\",\"only school (or less)\",\"only school (or less)\",\"higher education\",\"only school (or less)\",\"only school (or less)\",\"higher education\",\"only school (or less)\",\"higher education\",\"higher education\",\"only school (or less)\",\"higher education\",\"only school (or less)\",\"only school (or less)\",\"only school (or less)\",\"only school (or less)\",\"only school (or less)\",\"only school (or less)\",\"only school (or less)\",\"only school (or less)\",\"only school (or less)\",\"higher education\",\"higher education\",\"only school (or less)\",\"only school (or less)\",\"higher education\",\"only school (or less)\",\"only school (or less)\",\"higher education\",\"only school (or less)\",\"only school (or less)\",\"higher education\",\"higher education\",\"only school (or less)\",\"only school (or less)\",\"only school (or less)\",\"only school (or less)\",\"only school (or less)\",\"only school (or less)\",\"higher education\",\"only school (or less)\",\"only school (or less)\",\"only school (or less)\",\"only school (or less)\",\"only school (or less)\",\"only school (or less)\",\"only school (or less)\",\"only school (or less)\",\"only school (or less)\",\"higher education\",\"only school (or less)\",\"only school (or less)\",\"only school (or less)\",\"only school (or less)\",\"only school (or less)\",\"only school (or less)\",\"only school (or less)\",\"higher education\",\"only school (or less)\",\"only school (or less)\",\"higher education\",\"only school (or less)\",\"only school (or less)\",\"higher education\",\"higher education\",\"only school (or less)\",\"only school (or less)\",\"only school (or less)\",\"only school (or less)\",\"higher education\",\"higher education\",\"only school (or less)\",\"only school (or less)\",\"higher education\",\"only school (or less)\",\"only school (or less)\",\"higher education\",\"only school (or less)\",\"higher education\",\"only school (or less)\",\"only school (or less)\",\"only school (or less)\",\"only school (or less)\",\"higher education\",\"higher education\",\"only school (or less)\",\"higher education\",\"only school (or less)\",\"only school (or less)\",\"only school (or less)\",\"only school (or less)\",\"only school (or less)\",\"only school (or less)\",\"higher education\",\"only school (or less)\",\"only school (or less)\",\"higher education\",\"higher education\",\"higher education\",\"only school (or less)\",\"only school (or less)\",\"only school (or less)\",\"only school (or less)\",\"higher education\",\"only school (or less)\",\"only school (or less)\",\"only school (or less)\",\"only school (or less)\",\"only school (or less)\",\"only school (or less)\",\"only school (or less)\",\"only school (or less)\",\"only school (or less)\",\"only school (or less)\",\"only school (or less)\",\"only school (or less)\",\"higher education\",\"only school (or less)\",\"only school (or less)\",\"only school (or less)\",\"higher education\",\"higher education\",\"only school (or less)\",\"only school (or less)\",\"only school (or less)\",\"only school (or less)\",\"only school (or less)\",\"only school (or less)\",\"only school (or less)\",\"only school (or less)\",\"higher education\",\"only school (or less)\",\"only school (or less)\",\"higher education\",\"only school (or less)\",\"only school (or less)\",\"only school (or less)\",\"higher education\",\"higher education\",\"only school (or less)\",\"only school (or less)\",\"only school (or less)\",\"only school (or less)\",\"only school (or less)\",\"higher education\",\"only school (or less)\",\"only school (or less)\",\"higher education\",\"only school (or less)\",\"higher education\",\"higher education\",\"higher education\",\"higher education\",\"higher education\",\"higher education\",\"higher education\",\"higher education\",\"only school (or less)\",\"only school (or less)\",\"only school (or less)\",\"only school (or less)\",\"only school (or less)\",\"higher education\",\"higher education\",\"higher education\",\"higher education\",\"only school (or less)\",\"higher education\",\"higher education\",\"only school (or less)\",\"only school (or less)\",\"only school (or less)\",\"only school (or less)\",\"higher education\",\"only school (or less)\",\"only school (or less)\",\"only school (or less)\",\"higher education\",\"only school (or less)\",\"only school (or less)\",\"only school (or less)\",\"only school (or less)\",\"only school (or less)\",\"higher education\",\"only school (or less)\",\"only school (or less)\",\"higher education\",\"higher education\",\"only school (or less)\",\"only school (or less)\",\"only school (or less)\",\"only school (or less)\",\"only school (or less)\",\"only school (or less)\",\"higher education\",\"higher education\",\"only school (or less)\",\"only school (or less)\",\"only school (or less)\",\"higher education\",\"higher education\",\"only school (or less)\",\"higher education\",\"higher education\",\"only school (or less)\",\"only school (or less)\",\"higher education\",\"higher education\",\"only school (or less)\",\"only school (or less)\",\"only school (or less)\",\"only school (or less)\",\"only school (or less)\",\"only school (or less)\",\"only school (or less)\",\"only school (or less)\",\"only school (or less)\",\"only school (or less)\",\"only school (or less)\",\"only school (or less)\",\"only school (or less)\",\"only school (or less)\",\"only school (or less)\",\"only school (or less)\",\"higher education\",\"only school (or less)\",\"higher education\",\"only school (or less)\",\"only school (or less)\",\"only school (or less)\",\"only school (or less)\",\"only school (or less)\",\"only school (or less)\",\"only school (or less)\",\"only school (or less)\",\"only school (or less)\",\"only school (or less)\",\"only school (or less)\",\"only school (or less)\",\"only school (or less)\",\"only school (or less)\",\"only school (or less)\",\"only school (or less)\",\"only school (or less)\",\"higher education\",\"only school (or less)\",\"higher education\",\"only school (or less)\",\"only school (or less)\",\"only school (or less)\",\"only school (or less)\",\"only school (or less)\",\"only school (or less)\",\"higher education\",\"only school (or less)\",\"only school (or less)\",\"only school (or less)\",\"only school (or less)\",\"only school (or less)\",\"only school (or less)\",\"only school (or less)\",\"only school (or less)\",\"only school (or less)\",\"only school (or less)\",\"only school (or less)\",\"only school (or less)\",\"only school (or less)\",\"only school (or less)\",\"only school (or less)\",\"only school (or less)\",\"higher education\",\"higher education\",\"higher education\",\"only school (or less)\",\"only school (or less)\",\"only school (or less)\",\"only school (or less)\",\"higher education\",\"only school (or less)\",\"only school (or less)\",\"higher education\",\"higher education\",\"only school (or less)\",\"higher education\",\"higher education\",\"only school (or less)\",\"higher education\",\"higher education\",\"higher education\",\"only school (or less)\",\"only school (or less)\",\"only school (or less)\",\"higher education\",\"only school (or less)\",\"only school (or less)\",\"only school (or less)\",\"only school (or less)\",\"only school (or less)\",\"only school (or less)\",\"only school (or less)\",\"only school (or less)\",\"only school (or less)\",\"only school (or less)\",\"only school (or less)\",\"higher education\",\"only school (or less)\",\"higher education\",\"only school (or less)\",\"only school (or less)\",\"only school (or less)\",\"only school (or less)\",\"only school (or less)\",\"only school (or less)\",\"only school (or less)\",\"only school (or less)\",\"only school (or less)\",\"higher education\",\"higher education\",\"only school (or less)\",\"only school (or less)\",\"only school (or less)\",\"higher education\",\"only school (or less)\",\"higher education\",\"only school (or less)\",\"only school (or less)\",\"only school (or less)\",\"higher education\",\"higher education\",\"higher education\",\"higher education\",\"higher education\",\"higher education\",\"only school (or less)\",\"higher education\",\"only school (or less)\",\"only school (or less)\",\"only school (or less)\",\"higher education\",\"only school (or less)\",\"only school (or less)\",\"only school (or less)\",\"only school (or less)\",\"higher education\",\"only school (or less)\",\"higher education\",\"higher education\",\"higher education\",\"higher education\",\"only school (or less)\",\"only school (or less)\",\"only school (or less)\",\"only school (or less)\",\"higher education\",\"only school (or less)\",\"only school (or less)\",\"only school (or less)\",\"only school (or less)\",\"only school (or less)\",\"only school (or less)\",\"only school (or less)\",\"higher education\",\"only school (or less)\",\"higher education\",\"higher education\",\"higher education\",\"higher education\",\"higher education\",\"only school (or less)\",\"only school (or less)\",\"only school (or less)\",\"only school (or less)\",\"only school (or less)\",\"only school (or less)\",\"only school (or less)\",\"higher education\",\"only school (or less)\",\"only school (or less)\",\"only school (or less)\",\"only school (or less)\",\"higher education\",\"only school (or less)\",\"higher education\",\"only school (or less)\",\"only school (or less)\",\"only school (or less)\",\"only school (or less)\",\"higher education\",\"higher education\",\"only school (or less)\",\"higher education\",\"only school (or less)\",\"higher education\",\"higher education\",\"higher education\",\"higher education\",\"higher education\",\"higher education\",\"higher education\",\"higher education\",\"only school (or less)\",\"only school (or less)\",\"only school (or less)\",\"higher education\",\"only school (or less)\",\"only school (or less)\",\"only school (or less)\",\"higher education\",\"only school (or less)\",\"higher education\",\"only school (or less)\",\"only school (or less)\",\"only school (or less)\",\"only school (or less)\",\"higher education\",\"only school (or less)\",\"higher education\",\"only school (or less)\",\"only school (or less)\",\"only school (or less)\",\"only school (or less)\",\"higher education\",\"only school (or less)\",\"only school (or less)\",\"only school (or less)\",\"higher education\",\"only school (or less)\",\"higher education\",\"only school (or less)\",\"only school (or less)\",\"only school (or less)\",\"higher education\",\"only school (or less)\",\"only school (or less)\",\"only school (or less)\",\"only school (or less)\",\"only school (or less)\",\"only school (or less)\",\"higher education\",\"higher education\",\"higher education\",\"higher education\",\"higher education\",\"higher education\",\"higher education\",\"only school (or less)\",\"only school (or less)\",\"only school (or less)\",\"only school (or less)\",\"only school (or less)\",\"only school (or less)\",\"only school (or less)\",\"only school (or less)\",\"only school (or less)\",\"higher education\",\"higher education\",\"higher education\",\"only school (or less)\",\"only school (or less)\",\"only school (or less)\",\"only school (or less)\",\"only school (or less)\",\"higher education\",\"higher education\",\"higher education\",\"higher education\",\"only school (or less)\",\"only school (or less)\",\"only school (or less)\",\"only school (or less)\",\"higher education\",\"higher education\",\"higher education\",\"only school (or less)\",\"only school (or less)\",\"only school (or less)\",\"only school (or less)\",\"only school (or less)\",\"only school (or less)\",\"only school (or less)\",\"higher education\",\"higher education\",\"only school (or less)\",\"only school (or less)\",\"only school (or less)\",\"higher education\",\"higher education\",\"higher education\",\"higher education\",\"higher education\",\"only school (or less)\",\"only school (or less)\",\"higher education\",\"higher education\",\"only school (or less)\",\"higher education\",\"higher education\",\"only school (or less)\",\"only school (or less)\",\"only school (or less)\",\"only school (or less)\",\"only school (or less)\",\"only school (or less)\",\"only school (or less)\",\"only school (or less)\",\"only school (or less)\",\"only school (or less)\",\"only school (or less)\",\"only school (or less)\",\"only school (or less)\",\"only school (or less)\",\"only school (or less)\",\"only school (or less)\",\"only school (or less)\",\"only school (or less)\",\"only school (or less)\",\"only school (or less)\",\"only school (or less)\",\"higher education\",\"only school (or less)\",\"only school (or less)\",\"only school (or less)\",\"only school (or less)\",\"only school (or less)\",\"only school (or less)\",\"only school (or less)\",\"only school (or less)\",\"only school (or less)\",\"only school (or less)\",\"only school (or less)\",\"higher education\",\"only school (or less)\",\"only school (or less)\",\"only school (or less)\",\"higher education\",\"only school (or less)\",\"only school (or less)\",\"only school (or less)\",\"only school (or less)\",\"only school (or less)\",\"only school (or less)\",\"only school (or less)\",\"only school (or less)\",\"only school (or less)\",\"only school (or less)\",\"only school (or less)\",\"only school (or less)\",\"only school (or less)\",\"only school (or less)\",\"only school (or less)\",\"higher education\",\"higher education\",\"only school (or less)\",\"only school (or less)\",\"only school (or less)\",\"only school (or less)\",\"only school (or less)\",\"only school (or less)\",\"only school (or less)\",\"only school (or less)\",\"only school (or less)\",\"only school (or less)\",\"only school (or less)\",\"higher education\",\"only school (or less)\",\"higher education\",\"only school (or less)\",\"only school (or less)\",\"only school (or less)\",\"higher education\",\"only school (or less)\",\"higher education\",\"higher education\",\"only school (or less)\",\"only school (or less)\",\"only school (or less)\",\"higher education\",\"only school (or less)\",\"only school (or less)\",\"only school (or less)\",\"only school (or less)\",\"only school (or less)\",\"higher education\",\"only school (or less)\",\"only school (or less)\",\"higher education\",\"only school (or less)\",\"only school (or less)\",\"only school (or less)\",\"higher education\",\"only school (or less)\",\"only school (or less)\",\"higher education\",\"only school (or less)\",\"only school (or less)\",\"only school (or less)\",\"only school (or less)\",\"only school (or less)\",\"only school (or less)\",\"only school (or less)\",\"higher education\",\"only school (or less)\",\"higher education\",\"only school (or less)\",\"higher education\",\"only school (or less)\",\"only school (or less)\",\"higher education\",\"only school (or less)\",\"only school (or less)\",\"only school (or less)\",\"higher education\",\"only school (or less)\",\"only school (or less)\",\"only school (or less)\",\"only school (or less)\",\"only school (or less)\",\"only school (or less)\",\"only school (or less)\"],\"x0\":\" \",\"xaxis\":\"x\",\"y\":[82,85,85,85,82,82,81,85,85,82,84,84,83,80,84,81,85,78,83,81,84,81,84,82,81,81,85,83,82,80,83,83,83,84,84,80,80,83,85,78,85,81,82,81,81,86,85,81,83,83,85,82,79,84,84,83,81,84,82,82,78,83,81,82,84,84,80,84,84,85,83,85,80,84,85,83,82,80,82,83,84,78,81,81,83,83,79,81,78,83,80,82,86,85,84,78,79,84,80,84,85,85,85,84,81,85,85,80,83,79,82,85,82,81,85,83,83,84,80,80,84,85,80,84,81,78,79,83,82,80,83,85,82,78,80,80,85,82,82,84,85,85,80,78,83,79,81,83,85,82,78,78,81,85,84,82,81,82,85,85,85,83,83,84,82,81,81,85,85,81,78,79,80,80,80,84,82,84,85,84,81,85,85,78,79,85,85,83,83,80,85,80,79,85,85,81,84,84,82,85,86,80,83,80,81,85,83,85,84,78,84,79,84,83,83,81,80,85,84,83,82,83,85,81,79,83,85,83,85,79,80,79,84,84,80,78,81,84,79,85,84,80,85,83,80,85,78,81,81,84,83,79,79,81,84,81,81,86,78,84,82,83,80,78,81,84,79,85,85,80,84,79,83,84,78,85,85,80,79,80,79,81,85,79,83,84,83,85,78,84,85,82,83,81,78,80,83,84,84,83,78,79,85,84,79,78,79,83,79,81,83,81,85,81,84,85,82,82,79,86,85,83,81,82,80,81,84,85,79,84,82,81,81,84,82,78,83,82,79,81,83,85,84,85,85,82,83,80,79,81,83,78,84,78,83,80,82,81,85,84,80,85,85,84,84,85,79,85,84,83,85,83,82,86,85,85,79,82,79,81,85,80,80,79,82,84,82,82,84,82,80,85,82,81,81,82,84,81,82,81,80,85,80,81,83,80,81,81,84,84,83,83,79,83,83,83,81,83,81,78,80,84,80,85,78,82,79,82,83,83,79,80,83,84,79,85,83,85,85,83,84,86,85,79,81,79,84,80,78,79,79,83,83,78,79,85,85,82,81,82,83,83,83,85,84,80,85,81,85,78,84,84,81,81,85,80,82,84,78,78,80,84,84,84,82,84,79,81,82,81,82,84,80,83,84,79,81,84,84,84,80,81,82,83,81,84,84,81,85,83,78,80,81,85,80,83,82,81,79,78,78,78,80,85,83,82,83,84,81,78,85,85,83,81,84,83,83,84,83,84,79,81,85,80,80,81,83,80,83,81,82,80,83,80,78,83,79,80,81,81,81,82,81,81,82,83,82,78,80,83,81,81,80,80,79,79,79,79,79,81,82,79,82,80,83,81,82,83,81,80,81,78,82,81,81,83,80,82,79,81,82,79,82,83,79,82,82,82,82,83,85,80,82,83,81,83,79,80,82,83,81,79,85,83,80,85,84,80,78,81,83,83,85,84,82,85,82,81,81,80,83,83,79,82,81,84,80,83,80,81,81,84,78,82,82,80,81,81,80,79,81,80],\"y0\":\" \",\"yaxis\":\"y\",\"type\":\"box\"},{\"alignmentgroup\":\"True\",\"hovertemplate\":\"race=2<br>education=%{x}<br>ybirth=%{y}<extra></extra>\",\"legendgroup\":\"2\",\"marker\":{\"color\":\"#EF553B\"},\"name\":\"2\",\"notched\":false,\"offsetgroup\":\"2\",\"orientation\":\"v\",\"showlegend\":true,\"x\":[\"only school (or less)\",\"only school (or less)\",\"only school (or less)\",\"only school (or less)\",\"higher education\",\"only school (or less)\",\"higher education\",\"only school (or less)\",\"only school (or less)\",\"only school (or less)\",\"higher education\",\"only school (or less)\",\"only school (or less)\",\"only school (or less)\",\"higher education\",\"only school (or less)\",\"only school (or less)\",\"only school (or less)\",\"higher education\",\"only school (or less)\",\"only school (or less)\",\"only school (or less)\",\"only school (or less)\",\"only school (or less)\",\"only school (or less)\",\"only school (or less)\",\"only school (or less)\",\"higher education\",\"only school (or less)\",\"only school (or less)\",\"only school (or less)\",\"only school (or less)\",\"only school (or less)\",\"only school (or less)\",\"only school (or less)\",\"only school (or less)\",\"only school (or less)\",\"higher education\",\"only school (or less)\",\"only school (or less)\",\"higher education\",\"higher education\",\"only school (or less)\",\"only school (or less)\",\"higher education\",\"higher education\",\"only school (or less)\",\"higher education\",\"higher education\",\"only school (or less)\",\"higher education\",\"higher education\",\"higher education\",\"only school (or less)\",\"only school (or less)\",\"only school (or less)\",\"only school (or less)\",\"higher education\",\"higher education\",\"only school (or less)\",\"only school (or less)\",\"higher education\",\"only school (or less)\",\"only school (or less)\",\"only school (or less)\",\"only school (or less)\",\"higher education\",\"higher education\",\"only school (or less)\",\"only school (or less)\",\"higher education\",\"only school (or less)\",\"higher education\",\"higher education\",\"higher education\",\"higher education\",\"higher education\",\"higher education\",\"only school (or less)\",\"higher education\",\"only school (or less)\",\"only school (or less)\",\"only school (or less)\",\"higher education\",\"only school (or less)\",\"only school (or less)\",\"higher education\",\"higher education\",\"only school (or less)\",\"only school (or less)\",\"higher education\",\"higher education\",\"higher education\",\"higher education\",\"only school (or less)\",\"only school (or less)\",\"only school (or less)\",\"only school (or less)\",\"higher education\",\"only school (or less)\",\"only school (or less)\",\"higher education\",\"only school (or less)\",\"only school (or less)\",\"higher education\",\"higher education\",\"higher education\",\"only school (or less)\",\"only school (or less)\",\"only school (or less)\",\"only school (or less)\",\"only school (or less)\",\"only school (or less)\",\"higher education\",\"only school (or less)\",\"only school (or less)\",\"only school (or less)\"],\"x0\":\" \",\"xaxis\":\"x\",\"y\":[86,84,79,83,81,79,82,84,83,79,84,83,79,82,83,83,82,84,85,84,81,83,79,82,80,82,80,85,80,80,82,81,83,84,81,80,82,81,78,84,85,84,78,82,82,85,81,86,84,82,84,81,80,83,81,85,79,85,81,83,81,84,83,78,80,82,83,81,81,81,84,83,83,86,79,81,83,82,83,82,82,79,78,81,83,79,85,82,80,84,81,82,86,83,84,81,82,82,80,79,81,85,83,81,85,82,81,81,79,83,81,81,83,82,79,78,80],\"y0\":\" \",\"yaxis\":\"y\",\"type\":\"box\"},{\"alignmentgroup\":\"True\",\"hovertemplate\":\"race=3<br>education=%{x}<br>ybirth=%{y}<extra></extra>\",\"legendgroup\":\"3\",\"marker\":{\"color\":\"#00cc96\"},\"name\":\"3\",\"notched\":false,\"offsetgroup\":\"3\",\"orientation\":\"v\",\"showlegend\":true,\"x\":[\"only school (or less)\",\"only school (or less)\",\"higher education\",\"only school (or less)\",\"only school (or less)\",\"only school (or less)\",\"only school (or less)\",\"only school (or less)\",\"only school (or less)\",\"only school (or less)\",\"only school (or less)\",\"only school (or less)\",\"only school (or less)\",\"only school (or less)\",\"only school (or less)\",\"only school (or less)\",\"only school (or less)\",\"only school (or less)\",\"only school (or less)\",\"only school (or less)\",\"higher education\",\"only school (or less)\",\"only school (or less)\",\"only school (or less)\",\"only school (or less)\",\"only school (or less)\",\"only school (or less)\",\"higher education\",\"higher education\",\"only school (or less)\",\"higher education\",\"only school (or less)\",\"only school (or less)\",\"higher education\",\"only school (or less)\",\"only school (or less)\",\"higher education\",\"higher education\",\"higher education\",\"only school (or less)\",\"only school (or less)\",\"only school (or less)\",\"only school (or less)\",\"only school (or less)\",\"only school (or less)\",\"only school (or less)\",\"only school (or less)\",\"only school (or less)\",\"higher education\",\"higher education\",\"higher education\",\"only school (or less)\",\"only school (or less)\",\"higher education\",\"only school (or less)\",\"only school (or less)\",\"only school (or less)\",\"only school (or less)\",\"only school (or less)\",\"only school (or less)\",\"only school (or less)\",\"higher education\",\"only school (or less)\",\"only school (or less)\",\"only school (or less)\",\"only school (or less)\",\"only school (or less)\",\"higher education\",\"higher education\",\"only school (or less)\",\"only school (or less)\",\"only school (or less)\",\"only school (or less)\",\"only school (or less)\",\"higher education\",\"higher education\",\"only school (or less)\",\"higher education\",\"only school (or less)\",\"higher education\",\"only school (or less)\",\"only school (or less)\",\"only school (or less)\",\"only school (or less)\",\"only school (or less)\",\"higher education\",\"only school (or less)\",\"only school (or less)\",\"only school (or less)\",\"only school (or less)\",\"only school (or less)\",\"only school (or less)\",\"only school (or less)\",\"higher education\",\"only school (or less)\",\"higher education\",\"only school (or less)\",\"only school (or less)\",\"only school (or less)\",\"only school (or less)\",\"higher education\",\"only school (or less)\",\"higher education\",\"only school (or less)\",\"only school (or less)\",\"only school (or less)\",\"only school (or less)\",\"higher education\",\"only school (or less)\",\"only school (or less)\",\"only school (or less)\",\"only school (or less)\",\"only school (or less)\",\"only school (or less)\",\"only school (or less)\",\"higher education\",\"only school (or less)\",\"only school (or less)\",\"only school (or less)\",\"higher education\",\"only school (or less)\",\"only school (or less)\",\"only school (or less)\",\"only school (or less)\",\"only school (or less)\",\"only school (or less)\",\"higher education\",\"only school (or less)\",\"only school (or less)\",\"higher education\",\"only school (or less)\",\"only school (or less)\",\"only school (or less)\",\"higher education\",\"only school (or less)\",\"only school (or less)\",\"only school (or less)\",\"higher education\",\"only school (or less)\",\"only school (or less)\",\"only school (or less)\",\"only school (or less)\",\"only school (or less)\",\"higher education\",\"only school (or less)\",\"only school (or less)\",\"only school (or less)\",\"only school (or less)\"],\"x0\":\" \",\"xaxis\":\"x\",\"y\":[85,81,85,79,83,82,82,85,78,78,83,80,81,80,82,79,81,83,83,80,85,79,84,83,81,82,82,85,81,78,85,79,84,82,82,82,85,83,80,82,80,79,81,84,83,79,82,79,82,82,85,82,83,85,82,82,80,83,82,82,82,79,81,81,84,82,78,83,84,83,84,81,79,80,81,82,79,79,81,85,79,79,78,79,85,85,83,78,85,81,83,80,81,83,80,84,81,80,84,81,85,79,85,80,83,85,83,83,81,78,82,84,81,85,80,85,84,81,85,81,84,84,80,80,79,85,84,81,79,82,83,82,83,84,84,82,85,84,82,84,81,79,83,79,80,81,81,82],\"y0\":\" \",\"yaxis\":\"y\",\"type\":\"box\"}],                        {\"template\":{\"data\":{\"histogram2dcontour\":[{\"type\":\"histogram2dcontour\",\"colorbar\":{\"outlinewidth\":0,\"ticks\":\"\"},\"colorscale\":[[0.0,\"#0d0887\"],[0.1111111111111111,\"#46039f\"],[0.2222222222222222,\"#7201a8\"],[0.3333333333333333,\"#9c179e\"],[0.4444444444444444,\"#bd3786\"],[0.5555555555555556,\"#d8576b\"],[0.6666666666666666,\"#ed7953\"],[0.7777777777777778,\"#fb9f3a\"],[0.8888888888888888,\"#fdca26\"],[1.0,\"#f0f921\"]]}],\"choropleth\":[{\"type\":\"choropleth\",\"colorbar\":{\"outlinewidth\":0,\"ticks\":\"\"}}],\"histogram2d\":[{\"type\":\"histogram2d\",\"colorbar\":{\"outlinewidth\":0,\"ticks\":\"\"},\"colorscale\":[[0.0,\"#0d0887\"],[0.1111111111111111,\"#46039f\"],[0.2222222222222222,\"#7201a8\"],[0.3333333333333333,\"#9c179e\"],[0.4444444444444444,\"#bd3786\"],[0.5555555555555556,\"#d8576b\"],[0.6666666666666666,\"#ed7953\"],[0.7777777777777778,\"#fb9f3a\"],[0.8888888888888888,\"#fdca26\"],[1.0,\"#f0f921\"]]}],\"heatmap\":[{\"type\":\"heatmap\",\"colorbar\":{\"outlinewidth\":0,\"ticks\":\"\"},\"colorscale\":[[0.0,\"#0d0887\"],[0.1111111111111111,\"#46039f\"],[0.2222222222222222,\"#7201a8\"],[0.3333333333333333,\"#9c179e\"],[0.4444444444444444,\"#bd3786\"],[0.5555555555555556,\"#d8576b\"],[0.6666666666666666,\"#ed7953\"],[0.7777777777777778,\"#fb9f3a\"],[0.8888888888888888,\"#fdca26\"],[1.0,\"#f0f921\"]]}],\"heatmapgl\":[{\"type\":\"heatmapgl\",\"colorbar\":{\"outlinewidth\":0,\"ticks\":\"\"},\"colorscale\":[[0.0,\"#0d0887\"],[0.1111111111111111,\"#46039f\"],[0.2222222222222222,\"#7201a8\"],[0.3333333333333333,\"#9c179e\"],[0.4444444444444444,\"#bd3786\"],[0.5555555555555556,\"#d8576b\"],[0.6666666666666666,\"#ed7953\"],[0.7777777777777778,\"#fb9f3a\"],[0.8888888888888888,\"#fdca26\"],[1.0,\"#f0f921\"]]}],\"contourcarpet\":[{\"type\":\"contourcarpet\",\"colorbar\":{\"outlinewidth\":0,\"ticks\":\"\"}}],\"contour\":[{\"type\":\"contour\",\"colorbar\":{\"outlinewidth\":0,\"ticks\":\"\"},\"colorscale\":[[0.0,\"#0d0887\"],[0.1111111111111111,\"#46039f\"],[0.2222222222222222,\"#7201a8\"],[0.3333333333333333,\"#9c179e\"],[0.4444444444444444,\"#bd3786\"],[0.5555555555555556,\"#d8576b\"],[0.6666666666666666,\"#ed7953\"],[0.7777777777777778,\"#fb9f3a\"],[0.8888888888888888,\"#fdca26\"],[1.0,\"#f0f921\"]]}],\"surface\":[{\"type\":\"surface\",\"colorbar\":{\"outlinewidth\":0,\"ticks\":\"\"},\"colorscale\":[[0.0,\"#0d0887\"],[0.1111111111111111,\"#46039f\"],[0.2222222222222222,\"#7201a8\"],[0.3333333333333333,\"#9c179e\"],[0.4444444444444444,\"#bd3786\"],[0.5555555555555556,\"#d8576b\"],[0.6666666666666666,\"#ed7953\"],[0.7777777777777778,\"#fb9f3a\"],[0.8888888888888888,\"#fdca26\"],[1.0,\"#f0f921\"]]}],\"mesh3d\":[{\"type\":\"mesh3d\",\"colorbar\":{\"outlinewidth\":0,\"ticks\":\"\"}}],\"scatter\":[{\"fillpattern\":{\"fillmode\":\"overlay\",\"size\":10,\"solidity\":0.2},\"type\":\"scatter\"}],\"parcoords\":[{\"type\":\"parcoords\",\"line\":{\"colorbar\":{\"outlinewidth\":0,\"ticks\":\"\"}}}],\"scatterpolargl\":[{\"type\":\"scatterpolargl\",\"marker\":{\"colorbar\":{\"outlinewidth\":0,\"ticks\":\"\"}}}],\"bar\":[{\"error_x\":{\"color\":\"#2a3f5f\"},\"error_y\":{\"color\":\"#2a3f5f\"},\"marker\":{\"line\":{\"color\":\"#E5ECF6\",\"width\":0.5},\"pattern\":{\"fillmode\":\"overlay\",\"size\":10,\"solidity\":0.2}},\"type\":\"bar\"}],\"scattergeo\":[{\"type\":\"scattergeo\",\"marker\":{\"colorbar\":{\"outlinewidth\":0,\"ticks\":\"\"}}}],\"scatterpolar\":[{\"type\":\"scatterpolar\",\"marker\":{\"colorbar\":{\"outlinewidth\":0,\"ticks\":\"\"}}}],\"histogram\":[{\"marker\":{\"pattern\":{\"fillmode\":\"overlay\",\"size\":10,\"solidity\":0.2}},\"type\":\"histogram\"}],\"scattergl\":[{\"type\":\"scattergl\",\"marker\":{\"colorbar\":{\"outlinewidth\":0,\"ticks\":\"\"}}}],\"scatter3d\":[{\"type\":\"scatter3d\",\"line\":{\"colorbar\":{\"outlinewidth\":0,\"ticks\":\"\"}},\"marker\":{\"colorbar\":{\"outlinewidth\":0,\"ticks\":\"\"}}}],\"scattermapbox\":[{\"type\":\"scattermapbox\",\"marker\":{\"colorbar\":{\"outlinewidth\":0,\"ticks\":\"\"}}}],\"scatterternary\":[{\"type\":\"scatterternary\",\"marker\":{\"colorbar\":{\"outlinewidth\":0,\"ticks\":\"\"}}}],\"scattercarpet\":[{\"type\":\"scattercarpet\",\"marker\":{\"colorbar\":{\"outlinewidth\":0,\"ticks\":\"\"}}}],\"carpet\":[{\"aaxis\":{\"endlinecolor\":\"#2a3f5f\",\"gridcolor\":\"white\",\"linecolor\":\"white\",\"minorgridcolor\":\"white\",\"startlinecolor\":\"#2a3f5f\"},\"baxis\":{\"endlinecolor\":\"#2a3f5f\",\"gridcolor\":\"white\",\"linecolor\":\"white\",\"minorgridcolor\":\"white\",\"startlinecolor\":\"#2a3f5f\"},\"type\":\"carpet\"}],\"table\":[{\"cells\":{\"fill\":{\"color\":\"#EBF0F8\"},\"line\":{\"color\":\"white\"}},\"header\":{\"fill\":{\"color\":\"#C8D4E3\"},\"line\":{\"color\":\"white\"}},\"type\":\"table\"}],\"barpolar\":[{\"marker\":{\"line\":{\"color\":\"#E5ECF6\",\"width\":0.5},\"pattern\":{\"fillmode\":\"overlay\",\"size\":10,\"solidity\":0.2}},\"type\":\"barpolar\"}],\"pie\":[{\"automargin\":true,\"type\":\"pie\"}]},\"layout\":{\"autotypenumbers\":\"strict\",\"colorway\":[\"#636efa\",\"#EF553B\",\"#00cc96\",\"#ab63fa\",\"#FFA15A\",\"#19d3f3\",\"#FF6692\",\"#B6E880\",\"#FF97FF\",\"#FECB52\"],\"font\":{\"color\":\"#2a3f5f\"},\"hovermode\":\"closest\",\"hoverlabel\":{\"align\":\"left\"},\"paper_bgcolor\":\"white\",\"plot_bgcolor\":\"#E5ECF6\",\"polar\":{\"bgcolor\":\"#E5ECF6\",\"angularaxis\":{\"gridcolor\":\"white\",\"linecolor\":\"white\",\"ticks\":\"\"},\"radialaxis\":{\"gridcolor\":\"white\",\"linecolor\":\"white\",\"ticks\":\"\"}},\"ternary\":{\"bgcolor\":\"#E5ECF6\",\"aaxis\":{\"gridcolor\":\"white\",\"linecolor\":\"white\",\"ticks\":\"\"},\"baxis\":{\"gridcolor\":\"white\",\"linecolor\":\"white\",\"ticks\":\"\"},\"caxis\":{\"gridcolor\":\"white\",\"linecolor\":\"white\",\"ticks\":\"\"}},\"coloraxis\":{\"colorbar\":{\"outlinewidth\":0,\"ticks\":\"\"}},\"colorscale\":{\"sequential\":[[0.0,\"#0d0887\"],[0.1111111111111111,\"#46039f\"],[0.2222222222222222,\"#7201a8\"],[0.3333333333333333,\"#9c179e\"],[0.4444444444444444,\"#bd3786\"],[0.5555555555555556,\"#d8576b\"],[0.6666666666666666,\"#ed7953\"],[0.7777777777777778,\"#fb9f3a\"],[0.8888888888888888,\"#fdca26\"],[1.0,\"#f0f921\"]],\"sequentialminus\":[[0.0,\"#0d0887\"],[0.1111111111111111,\"#46039f\"],[0.2222222222222222,\"#7201a8\"],[0.3333333333333333,\"#9c179e\"],[0.4444444444444444,\"#bd3786\"],[0.5555555555555556,\"#d8576b\"],[0.6666666666666666,\"#ed7953\"],[0.7777777777777778,\"#fb9f3a\"],[0.8888888888888888,\"#fdca26\"],[1.0,\"#f0f921\"]],\"diverging\":[[0,\"#8e0152\"],[0.1,\"#c51b7d\"],[0.2,\"#de77ae\"],[0.3,\"#f1b6da\"],[0.4,\"#fde0ef\"],[0.5,\"#f7f7f7\"],[0.6,\"#e6f5d0\"],[0.7,\"#b8e186\"],[0.8,\"#7fbc41\"],[0.9,\"#4d9221\"],[1,\"#276419\"]]},\"xaxis\":{\"gridcolor\":\"white\",\"linecolor\":\"white\",\"ticks\":\"\",\"title\":{\"standoff\":15},\"zerolinecolor\":\"white\",\"automargin\":true,\"zerolinewidth\":2},\"yaxis\":{\"gridcolor\":\"white\",\"linecolor\":\"white\",\"ticks\":\"\",\"title\":{\"standoff\":15},\"zerolinecolor\":\"white\",\"automargin\":true,\"zerolinewidth\":2},\"scene\":{\"xaxis\":{\"backgroundcolor\":\"#E5ECF6\",\"gridcolor\":\"white\",\"linecolor\":\"white\",\"showbackground\":true,\"ticks\":\"\",\"zerolinecolor\":\"white\",\"gridwidth\":2},\"yaxis\":{\"backgroundcolor\":\"#E5ECF6\",\"gridcolor\":\"white\",\"linecolor\":\"white\",\"showbackground\":true,\"ticks\":\"\",\"zerolinecolor\":\"white\",\"gridwidth\":2},\"zaxis\":{\"backgroundcolor\":\"#E5ECF6\",\"gridcolor\":\"white\",\"linecolor\":\"white\",\"showbackground\":true,\"ticks\":\"\",\"zerolinecolor\":\"white\",\"gridwidth\":2}},\"shapedefaults\":{\"line\":{\"color\":\"#2a3f5f\"}},\"annotationdefaults\":{\"arrowcolor\":\"#2a3f5f\",\"arrowhead\":0,\"arrowwidth\":1},\"geo\":{\"bgcolor\":\"white\",\"landcolor\":\"#E5ECF6\",\"subunitcolor\":\"white\",\"showland\":true,\"showlakes\":true,\"lakecolor\":\"white\"},\"title\":{\"x\":0.05},\"mapbox\":{\"style\":\"light\"}}},\"xaxis\":{\"anchor\":\"y\",\"domain\":[0.0,1.0],\"title\":{\"text\":\"education\"}},\"yaxis\":{\"anchor\":\"x\",\"domain\":[0.0,1.0],\"title\":{\"text\":\"ybirth\"}},\"legend\":{\"title\":{\"text\":\"race\"},\"tracegroupgap\":0},\"margin\":{\"t\":60},\"boxmode\":\"group\"},                        {\"responsive\": true}                    ).then(function(){\n",
              "                            \n",
              "var gd = document.getElementById('20951163-d535-4a27-8194-bce03d8b9ac5');\n",
              "var x = new MutationObserver(function (mutations, observer) {{\n",
              "        var display = window.getComputedStyle(gd).display;\n",
              "        if (!display || display === 'none') {{\n",
              "            console.log([gd, 'removed!']);\n",
              "            Plotly.purge(gd);\n",
              "            observer.disconnect();\n",
              "        }}\n",
              "}});\n",
              "\n",
              "// Listen for the removal of the full notebook cells\n",
              "var notebookContainer = gd.closest('#notebook-container');\n",
              "if (notebookContainer) {{\n",
              "    x.observe(notebookContainer, {childList: true});\n",
              "}}\n",
              "\n",
              "// Listen for the clearing of the current output cell\n",
              "var outputEl = gd.closest('.output');\n",
              "if (outputEl) {{\n",
              "    x.observe(outputEl, {childList: true});\n",
              "}}\n",
              "\n",
              "                        })                };                            </script>        </div>\n",
              "</body>\n",
              "</html>"
            ]
          },
          "metadata": {}
        }
      ],
      "source": [
        "fig = px.box(data, x=\"education\", y=\"ybirth\", color=\"race\")\n",
        "fig.show()"
      ]
    },
    {
      "cell_type": "markdown",
      "metadata": {
        "id": "JEEsnAZGRO87"
      },
      "source": [
        "Подтвердили вывод полученный в 4ой лабораторной."
      ]
    },
    {
      "cell_type": "code",
      "execution_count": 31,
      "metadata": {
        "id": "2SvO0ijCcoRw"
      },
      "outputs": [],
      "source": [
        "data3=pd.DataFrame(data[['agemth', 'duration']])\n",
        "data3 = data3[data3['duration']<150]"
      ]
    },
    {
      "cell_type": "code",
      "execution_count": 32,
      "metadata": {
        "id": "-GZP-dJhSore",
        "colab": {
          "base_uri": "https://localhost:8080/",
          "height": 542
        },
        "outputId": "641cd6d4-5baf-4297-8245-0385e79c7761"
      },
      "outputs": [
        {
          "output_type": "display_data",
          "data": {
            "text/html": [
              "<html>\n",
              "<head><meta charset=\"utf-8\" /></head>\n",
              "<body>\n",
              "    <div>            <script src=\"https://cdnjs.cloudflare.com/ajax/libs/mathjax/2.7.5/MathJax.js?config=TeX-AMS-MML_SVG\"></script><script type=\"text/javascript\">if (window.MathJax && window.MathJax.Hub && window.MathJax.Hub.Config) {window.MathJax.Hub.Config({SVG: {font: \"STIX-Web\"}});}</script>                <script type=\"text/javascript\">window.PlotlyConfig = {MathJaxConfig: 'local'};</script>\n",
              "        <script src=\"https://cdn.plot.ly/plotly-2.18.2.min.js\"></script>                <div id=\"0c9baf66-228b-4f35-aa71-65b4f06686ce\" class=\"plotly-graph-div\" style=\"height:525px; width:100%;\"></div>            <script type=\"text/javascript\">                                    window.PLOTLYENV=window.PLOTLYENV || {};                                    if (document.getElementById(\"0c9baf66-228b-4f35-aa71-65b4f06686ce\")) {                    Plotly.newPlot(                        \"0c9baf66-228b-4f35-aa71-65b4f06686ce\",                        [{\"name\":\"15\",\"y\":[2,8,12,2,8],\"type\":\"box\"},{\"name\":\"16\",\"y\":[2,5,2,12,8,5,12,28,2,12,16,3,8,1,8,4,2,72,1],\"type\":\"box\"},{\"name\":\"17\",\"y\":[10,1,14,16,8,4,16,12,36,1,24,12,32,6,20,6,4,6,28,15,48,2,4,7,16,8,12,4,56,52,12,8,32],\"type\":\"box\"},{\"name\":\"18\",\"y\":[36,24,4,24,20,16,48,2,12,16,7,3,44,16,1,24,1,3,1,16,2,6,8,20,12,32,6,24,4,1,4,20,3,8,4,4,96,4,12,16,48,8,40,8,24,40,24,1,4,32,24,32,4],\"type\":\"box\"},{\"name\":\"19\",\"y\":[24,1,2,6,5,4,18,6,3,28,24,4,16,28,2,16,24,6,16,20,60,12,16,24,21,24,21,20,1,50,52,40,8,6,10,6,2,24,36,8,48,6,2,24,3,6,12,2,2,6,48,60,1,1,2,4,48,28,4,24,16,3,12,50,12,96,15,1,3,6,52,1,12,8,12,2,3,3,3,4,24,4,12,2,96,3,4,6,8,2,12,3,2,16,16,16,12,24,3,32,72,5,1,8,12,16,8,48,16,32,28,3],\"type\":\"box\"},{\"name\":\"20\",\"y\":[16,4,32,64,24,4,16,16,1,16,4,52,18,32,20,12,24,52,6,12,16,32,18,48,5,68,5,48,12,12,4,48,4,24,4,8,40,12,40,2,2,104,8,2,1,1,24,1,24,10,3,12,24,6,32,2,52,8,3,24,40,48,1,1,24,28,18,28,22,8,4,1,15,16,3,48,12,18,4,4,5,3,24,52,52,8,5,8,24,4,5,46,6,2,6,12,3,12,16,24,48,24,1,32,32,24,4,32,48,8,36,4,3,1,1,16,1,12,48,1,24,4,6],\"type\":\"box\"},{\"name\":\"21\",\"y\":[3,16,36,16,2,2,2,16,28,12,2,48,8,52,12,96,1,36,48,12,16,3,20,24,8,32,20,8,16,26,6,16,36,1,12,7,8,12,48,24,52,24,1,2,42,1,3,8,20,10,7,40,14,1,3,26,6,10,24,32,2,18,8,20,8,32,6,3,4,6,4,8,8,24,48,1,1,1,48,3,18,60,24,2,10,6,4,9,12,2,48,3,6,2,8,25,36,5,4,64,8,48,28,6,2,3,16,12,2,20,5,2,6,8,12,1,24,72,24,6,2,20,76,6,4,5,4,16,13,44,6,4,3,24],\"type\":\"box\"},{\"name\":\"22\",\"y\":[36,30,13,2,12,1,12,5,44,4,12,10,28,2,18,12,12,4,4,3,32,16,40,4,40,12,2,2,6,2,8,20,28,38,14,1,24,2,1,8,24,38,2,7,8,7,2,6,8,12,2,12,24,8,10,8,1,28,10,2,48,2,16,2,8,6,32,8,8,40,12,6,24,2,12,12,10,2,5,2,1,2,14,20,1,1,3,3,6,1,10,4,7,1,1,3,26,4,6,52,28,3,6,16,3,1,20,1,120,44,6,52,3,36,12,40,32,8,6,5],\"type\":\"box\"},{\"name\":\"23\",\"y\":[16,28,13,8,6,28,1,12,4,3,1,52,48,28,20,8,6,1,8,36,12,18,20,4,2,10,3,12,16,24,2,20,40,8,24,7,2,10,2,40,10,32,72,60,2,44,8,8,1,28,12,56,20,12,12,1,4,16,42,4,16,1,12,40,48,14,6,1,12,48,4,16,8,12,18,8,8,1,7,2,6,24,12,3,48,3,8,20,2,24,16,10,48,24,1,8,48,32,4],\"type\":\"box\"},{\"name\":\"24\",\"y\":[16,8,20,44,4,16,8,18,32,36,34,6,24,7,16,36,8,36,16,30,12,24,40,6,1,4,13,32,2,4,3,10,15,24,24,5,40,16,1,1,8,52,1,4,1,36,12,32,16,24,48,1,8,4,3,10,4,48,60,6,1,4,2,18,12,12,8,6,12,5,4,4,11,4,2,56,24,2,6,4,12,7,2,32],\"type\":\"box\"},{\"name\":\"25\",\"y\":[4,6,42,44,40,8,13,1,36,4,1,12,17,3,36,1,12,1,32,22,9,16,80,56,1,7,20,4,12,44,15,8,4,10,48,24,32,4,3,26,4,1,6,8,44,2,2,20,52,4,16,2,46,10,96,12,28,3,12,1,6,7,3,5,32],\"type\":\"box\"},{\"name\":\"26\",\"y\":[1,20,5,3,7,44,12,26,6,8,8,8,4,12,8,20,6,1,7,20,6,3,2,1,7,40,6,1,52,8,6,4,6,24,11,2,7,6,14,3,12,8,5,1,56,2,4,14,24],\"type\":\"box\"},{\"name\":\"27\",\"y\":[6,24,23,13,2,14,5,13,1,7,9,5,20,20,9,8,24,24,16,2,3,20],\"type\":\"box\"},{\"name\":\"28\",\"y\":[16,3,16,6,1,16,6,10],\"type\":\"box\"}],                        {\"template\":{\"data\":{\"barpolar\":[{\"marker\":{\"line\":{\"color\":\"#E5ECF6\",\"width\":0.5},\"pattern\":{\"fillmode\":\"overlay\",\"size\":10,\"solidity\":0.2}},\"type\":\"barpolar\"}],\"bar\":[{\"error_x\":{\"color\":\"#2a3f5f\"},\"error_y\":{\"color\":\"#2a3f5f\"},\"marker\":{\"line\":{\"color\":\"#E5ECF6\",\"width\":0.5},\"pattern\":{\"fillmode\":\"overlay\",\"size\":10,\"solidity\":0.2}},\"type\":\"bar\"}],\"carpet\":[{\"aaxis\":{\"endlinecolor\":\"#2a3f5f\",\"gridcolor\":\"white\",\"linecolor\":\"white\",\"minorgridcolor\":\"white\",\"startlinecolor\":\"#2a3f5f\"},\"baxis\":{\"endlinecolor\":\"#2a3f5f\",\"gridcolor\":\"white\",\"linecolor\":\"white\",\"minorgridcolor\":\"white\",\"startlinecolor\":\"#2a3f5f\"},\"type\":\"carpet\"}],\"choropleth\":[{\"colorbar\":{\"outlinewidth\":0,\"ticks\":\"\"},\"type\":\"choropleth\"}],\"contourcarpet\":[{\"colorbar\":{\"outlinewidth\":0,\"ticks\":\"\"},\"type\":\"contourcarpet\"}],\"contour\":[{\"colorbar\":{\"outlinewidth\":0,\"ticks\":\"\"},\"colorscale\":[[0.0,\"#0d0887\"],[0.1111111111111111,\"#46039f\"],[0.2222222222222222,\"#7201a8\"],[0.3333333333333333,\"#9c179e\"],[0.4444444444444444,\"#bd3786\"],[0.5555555555555556,\"#d8576b\"],[0.6666666666666666,\"#ed7953\"],[0.7777777777777778,\"#fb9f3a\"],[0.8888888888888888,\"#fdca26\"],[1.0,\"#f0f921\"]],\"type\":\"contour\"}],\"heatmapgl\":[{\"colorbar\":{\"outlinewidth\":0,\"ticks\":\"\"},\"colorscale\":[[0.0,\"#0d0887\"],[0.1111111111111111,\"#46039f\"],[0.2222222222222222,\"#7201a8\"],[0.3333333333333333,\"#9c179e\"],[0.4444444444444444,\"#bd3786\"],[0.5555555555555556,\"#d8576b\"],[0.6666666666666666,\"#ed7953\"],[0.7777777777777778,\"#fb9f3a\"],[0.8888888888888888,\"#fdca26\"],[1.0,\"#f0f921\"]],\"type\":\"heatmapgl\"}],\"heatmap\":[{\"colorbar\":{\"outlinewidth\":0,\"ticks\":\"\"},\"colorscale\":[[0.0,\"#0d0887\"],[0.1111111111111111,\"#46039f\"],[0.2222222222222222,\"#7201a8\"],[0.3333333333333333,\"#9c179e\"],[0.4444444444444444,\"#bd3786\"],[0.5555555555555556,\"#d8576b\"],[0.6666666666666666,\"#ed7953\"],[0.7777777777777778,\"#fb9f3a\"],[0.8888888888888888,\"#fdca26\"],[1.0,\"#f0f921\"]],\"type\":\"heatmap\"}],\"histogram2dcontour\":[{\"colorbar\":{\"outlinewidth\":0,\"ticks\":\"\"},\"colorscale\":[[0.0,\"#0d0887\"],[0.1111111111111111,\"#46039f\"],[0.2222222222222222,\"#7201a8\"],[0.3333333333333333,\"#9c179e\"],[0.4444444444444444,\"#bd3786\"],[0.5555555555555556,\"#d8576b\"],[0.6666666666666666,\"#ed7953\"],[0.7777777777777778,\"#fb9f3a\"],[0.8888888888888888,\"#fdca26\"],[1.0,\"#f0f921\"]],\"type\":\"histogram2dcontour\"}],\"histogram2d\":[{\"colorbar\":{\"outlinewidth\":0,\"ticks\":\"\"},\"colorscale\":[[0.0,\"#0d0887\"],[0.1111111111111111,\"#46039f\"],[0.2222222222222222,\"#7201a8\"],[0.3333333333333333,\"#9c179e\"],[0.4444444444444444,\"#bd3786\"],[0.5555555555555556,\"#d8576b\"],[0.6666666666666666,\"#ed7953\"],[0.7777777777777778,\"#fb9f3a\"],[0.8888888888888888,\"#fdca26\"],[1.0,\"#f0f921\"]],\"type\":\"histogram2d\"}],\"histogram\":[{\"marker\":{\"pattern\":{\"fillmode\":\"overlay\",\"size\":10,\"solidity\":0.2}},\"type\":\"histogram\"}],\"mesh3d\":[{\"colorbar\":{\"outlinewidth\":0,\"ticks\":\"\"},\"type\":\"mesh3d\"}],\"parcoords\":[{\"line\":{\"colorbar\":{\"outlinewidth\":0,\"ticks\":\"\"}},\"type\":\"parcoords\"}],\"pie\":[{\"automargin\":true,\"type\":\"pie\"}],\"scatter3d\":[{\"line\":{\"colorbar\":{\"outlinewidth\":0,\"ticks\":\"\"}},\"marker\":{\"colorbar\":{\"outlinewidth\":0,\"ticks\":\"\"}},\"type\":\"scatter3d\"}],\"scattercarpet\":[{\"marker\":{\"colorbar\":{\"outlinewidth\":0,\"ticks\":\"\"}},\"type\":\"scattercarpet\"}],\"scattergeo\":[{\"marker\":{\"colorbar\":{\"outlinewidth\":0,\"ticks\":\"\"}},\"type\":\"scattergeo\"}],\"scattergl\":[{\"marker\":{\"colorbar\":{\"outlinewidth\":0,\"ticks\":\"\"}},\"type\":\"scattergl\"}],\"scattermapbox\":[{\"marker\":{\"colorbar\":{\"outlinewidth\":0,\"ticks\":\"\"}},\"type\":\"scattermapbox\"}],\"scatterpolargl\":[{\"marker\":{\"colorbar\":{\"outlinewidth\":0,\"ticks\":\"\"}},\"type\":\"scatterpolargl\"}],\"scatterpolar\":[{\"marker\":{\"colorbar\":{\"outlinewidth\":0,\"ticks\":\"\"}},\"type\":\"scatterpolar\"}],\"scatter\":[{\"fillpattern\":{\"fillmode\":\"overlay\",\"size\":10,\"solidity\":0.2},\"type\":\"scatter\"}],\"scatterternary\":[{\"marker\":{\"colorbar\":{\"outlinewidth\":0,\"ticks\":\"\"}},\"type\":\"scatterternary\"}],\"surface\":[{\"colorbar\":{\"outlinewidth\":0,\"ticks\":\"\"},\"colorscale\":[[0.0,\"#0d0887\"],[0.1111111111111111,\"#46039f\"],[0.2222222222222222,\"#7201a8\"],[0.3333333333333333,\"#9c179e\"],[0.4444444444444444,\"#bd3786\"],[0.5555555555555556,\"#d8576b\"],[0.6666666666666666,\"#ed7953\"],[0.7777777777777778,\"#fb9f3a\"],[0.8888888888888888,\"#fdca26\"],[1.0,\"#f0f921\"]],\"type\":\"surface\"}],\"table\":[{\"cells\":{\"fill\":{\"color\":\"#EBF0F8\"},\"line\":{\"color\":\"white\"}},\"header\":{\"fill\":{\"color\":\"#C8D4E3\"},\"line\":{\"color\":\"white\"}},\"type\":\"table\"}]},\"layout\":{\"annotationdefaults\":{\"arrowcolor\":\"#2a3f5f\",\"arrowhead\":0,\"arrowwidth\":1},\"autotypenumbers\":\"strict\",\"coloraxis\":{\"colorbar\":{\"outlinewidth\":0,\"ticks\":\"\"}},\"colorscale\":{\"diverging\":[[0,\"#8e0152\"],[0.1,\"#c51b7d\"],[0.2,\"#de77ae\"],[0.3,\"#f1b6da\"],[0.4,\"#fde0ef\"],[0.5,\"#f7f7f7\"],[0.6,\"#e6f5d0\"],[0.7,\"#b8e186\"],[0.8,\"#7fbc41\"],[0.9,\"#4d9221\"],[1,\"#276419\"]],\"sequential\":[[0.0,\"#0d0887\"],[0.1111111111111111,\"#46039f\"],[0.2222222222222222,\"#7201a8\"],[0.3333333333333333,\"#9c179e\"],[0.4444444444444444,\"#bd3786\"],[0.5555555555555556,\"#d8576b\"],[0.6666666666666666,\"#ed7953\"],[0.7777777777777778,\"#fb9f3a\"],[0.8888888888888888,\"#fdca26\"],[1.0,\"#f0f921\"]],\"sequentialminus\":[[0.0,\"#0d0887\"],[0.1111111111111111,\"#46039f\"],[0.2222222222222222,\"#7201a8\"],[0.3333333333333333,\"#9c179e\"],[0.4444444444444444,\"#bd3786\"],[0.5555555555555556,\"#d8576b\"],[0.6666666666666666,\"#ed7953\"],[0.7777777777777778,\"#fb9f3a\"],[0.8888888888888888,\"#fdca26\"],[1.0,\"#f0f921\"]]},\"colorway\":[\"#636efa\",\"#EF553B\",\"#00cc96\",\"#ab63fa\",\"#FFA15A\",\"#19d3f3\",\"#FF6692\",\"#B6E880\",\"#FF97FF\",\"#FECB52\"],\"font\":{\"color\":\"#2a3f5f\"},\"geo\":{\"bgcolor\":\"white\",\"lakecolor\":\"white\",\"landcolor\":\"#E5ECF6\",\"showlakes\":true,\"showland\":true,\"subunitcolor\":\"white\"},\"hoverlabel\":{\"align\":\"left\"},\"hovermode\":\"closest\",\"mapbox\":{\"style\":\"light\"},\"paper_bgcolor\":\"white\",\"plot_bgcolor\":\"#E5ECF6\",\"polar\":{\"angularaxis\":{\"gridcolor\":\"white\",\"linecolor\":\"white\",\"ticks\":\"\"},\"bgcolor\":\"#E5ECF6\",\"radialaxis\":{\"gridcolor\":\"white\",\"linecolor\":\"white\",\"ticks\":\"\"}},\"scene\":{\"xaxis\":{\"backgroundcolor\":\"#E5ECF6\",\"gridcolor\":\"white\",\"gridwidth\":2,\"linecolor\":\"white\",\"showbackground\":true,\"ticks\":\"\",\"zerolinecolor\":\"white\"},\"yaxis\":{\"backgroundcolor\":\"#E5ECF6\",\"gridcolor\":\"white\",\"gridwidth\":2,\"linecolor\":\"white\",\"showbackground\":true,\"ticks\":\"\",\"zerolinecolor\":\"white\"},\"zaxis\":{\"backgroundcolor\":\"#E5ECF6\",\"gridcolor\":\"white\",\"gridwidth\":2,\"linecolor\":\"white\",\"showbackground\":true,\"ticks\":\"\",\"zerolinecolor\":\"white\"}},\"shapedefaults\":{\"line\":{\"color\":\"#2a3f5f\"}},\"ternary\":{\"aaxis\":{\"gridcolor\":\"white\",\"linecolor\":\"white\",\"ticks\":\"\"},\"baxis\":{\"gridcolor\":\"white\",\"linecolor\":\"white\",\"ticks\":\"\"},\"bgcolor\":\"#E5ECF6\",\"caxis\":{\"gridcolor\":\"white\",\"linecolor\":\"white\",\"ticks\":\"\"}},\"title\":{\"x\":0.05},\"xaxis\":{\"automargin\":true,\"gridcolor\":\"white\",\"linecolor\":\"white\",\"ticks\":\"\",\"title\":{\"standoff\":15},\"zerolinecolor\":\"white\",\"zerolinewidth\":2},\"yaxis\":{\"automargin\":true,\"gridcolor\":\"white\",\"linecolor\":\"white\",\"ticks\":\"\",\"title\":{\"standoff\":15},\"zerolinecolor\":\"white\",\"zerolinewidth\":2}}}},                        {\"responsive\": true}                    ).then(function(){\n",
              "                            \n",
              "var gd = document.getElementById('0c9baf66-228b-4f35-aa71-65b4f06686ce');\n",
              "var x = new MutationObserver(function (mutations, observer) {{\n",
              "        var display = window.getComputedStyle(gd).display;\n",
              "        if (!display || display === 'none') {{\n",
              "            console.log([gd, 'removed!']);\n",
              "            Plotly.purge(gd);\n",
              "            observer.disconnect();\n",
              "        }}\n",
              "}});\n",
              "\n",
              "// Listen for the removal of the full notebook cells\n",
              "var notebookContainer = gd.closest('#notebook-container');\n",
              "if (notebookContainer) {{\n",
              "    x.observe(notebookContainer, {childList: true});\n",
              "}}\n",
              "\n",
              "// Listen for the clearing of the current output cell\n",
              "var outputEl = gd.closest('.output');\n",
              "if (outputEl) {{\n",
              "    x.observe(outputEl, {childList: true});\n",
              "}}\n",
              "\n",
              "                        })                };                            </script>        </div>\n",
              "</body>\n",
              "</html>"
            ]
          },
          "metadata": {}
        }
      ],
      "source": [
        "po = []\n",
        "for i in data3['agemth'].sort_values().unique():\n",
        "  po.append(go.Box(y=data3[data3['agemth']==i].duration, name=str(i)))\n",
        "\n",
        "iplot(po)"
      ]
    },
    {
      "cell_type": "markdown",
      "metadata": {
        "id": "TQ15icQjA6A1"
      },
      "source": [
        "## 2. Гистограммы"
      ]
    },
    {
      "cell_type": "code",
      "execution_count": 33,
      "metadata": {
        "id": "zrDTWx_Gn5vU",
        "colab": {
          "base_uri": "https://localhost:8080/",
          "height": 542
        },
        "outputId": "da0e50c0-5d85-490a-f2eb-7284c8ec4868"
      },
      "outputs": [
        {
          "output_type": "display_data",
          "data": {
            "text/html": [
              "<html>\n",
              "<head><meta charset=\"utf-8\" /></head>\n",
              "<body>\n",
              "    <div>            <script src=\"https://cdnjs.cloudflare.com/ajax/libs/mathjax/2.7.5/MathJax.js?config=TeX-AMS-MML_SVG\"></script><script type=\"text/javascript\">if (window.MathJax && window.MathJax.Hub && window.MathJax.Hub.Config) {window.MathJax.Hub.Config({SVG: {font: \"STIX-Web\"}});}</script>                <script type=\"text/javascript\">window.PlotlyConfig = {MathJaxConfig: 'local'};</script>\n",
              "        <script src=\"https://cdn.plot.ly/plotly-2.18.2.min.js\"></script>                <div id=\"345bfb7e-6b09-4d27-b34a-00b7a2b3dce9\" class=\"plotly-graph-div\" style=\"height:525px; width:100%;\"></div>            <script type=\"text/javascript\">                                    window.PLOTLYENV=window.PLOTLYENV || {};                                    if (document.getElementById(\"345bfb7e-6b09-4d27-b34a-00b7a2b3dce9\")) {                    Plotly.newPlot(                        \"345bfb7e-6b09-4d27-b34a-00b7a2b3dce9\",                        [{\"name\":\"duration\",\"x\":[16,1,4,3,36,36,16,8,20,44,20,30,24,13,6,2,5,192,4,12,4,16,24,16,3,16,28,1,13,36,32,16,2,8,1,24,64,8,2,12,18,32,2,7,5,44,2,4,2,6,4,36,12,24,42,16,44,44,10,4,12,28,24,6,28,12,34,2,48,16,26,6,2,24,6,16,16,8,28,7,5,18,4,18,6,1,10,1,1,12,12,40,12,14,52,5,3,28,16,8,4,13,20,12,4,52,23,16,4,6,4,1,16,18,3,16,96,24,48,4,2,16,28,1,52,32,20,12,8,36,8,24,36,16,3,32,16,48,1,36,30,2,52,36,28,48,16,4,1,6,12,24,40,8,4,20,6,12,8,3,12,16,20,12,16,17,60,12,4,16,3,3,16,24,21,32,8,6,16,12,16,16,8,20,40,12,36,18,48,7,1,24,12,36,3,1,5,24,21,1,8,24,68,20,2,12,40,4,1,32,1,6,13,2,50,32,12,2,8,20,12,8,1,16,24,4,22,5,36,12,52,9,6,26,8,18,2,20,16,2,48,4,8,40,14,80,13,20,44,12,20,32,2,28,6,6,38,16,1,7,10,3,36,12,8,14,4,1,2,1,4,24,12,12,20,7,12,8,6,16,48,2,1,16,8,24,4,2,5,24,1,12,10,48,24,56,52,6,32,8,6,24,2,20,40,4,3,24,8,24,36,1,8,8,40,5,24,2,6,24,42,12,48,12,7,10,1,2,3,6,40,38,1,2,8,20,2,2,3,13,20,3,10,2,24,2,10,28,7,2,1,40,104,1,16,7,40,8,2,3,1,14,2,15,6,8,1,7,24,3,12,2,10,26,7,1,2,32,20,6,1,4,10,6,24,24,24,6,7,2,32,1,6,2,8,24,12,18,10,12,3,40,72,8,60,48,2,20,60,2,2,44,12,1,6,24,8,10,8,44,8,32,15,5,12,8,40,24,1,6,6,8,16,2,32,1,2,1,6,1,1,8,1,28,1,8,28,12,4,6,52,7,52,28,2,4,52,3,10,4,16,20,9,12,6,2,8,48,12,1,8,8,4,48,3,32,28,24,8,40,4,48,15,48,1,6,8,24,56,6,1,24,4,1,4,16,4,24,3,2,28,10,24,16,36,5,6,48,48,12,4,18,1,50,20,12,12,96,12,12,2,1,1,28,4,22,2,4,1,6,1,8,48,24,8,4,20,4,11,15,16,1,24,15,6,1,32,2,3,16,6,3,42,3,32,8,4,3,7,4,6,20,18,3,16,26,1,20,12,16,32,60,24,7,1,16,48,12,4,8,4,4,18,48,24,8,52,1,12,4,12,8,2,96,8,8,40,10,12,12,9,6,16,1,6,4,2,4,8,6,40,24,1,5,2,8,4,12,12,3,48,8,14,9,4,14,3,3,6,12,8,3,3,10,3,44,2,1,1,12,4,16,5,24,6,52,2,2,10,48,52,2,24,12,8,4,4,4,8,48,24,3,20,52,60,2,2,5,12,24,12,4,2,6,1,4,2,48,8,24,12,2,3,96,3,16,6,4,56,4,6,2,8,14,8,1,2,16,8,48,52,25,20,12,8,5,4,16,1,5,3,46,8,40,1,4,3,2,2,3,46,2,36,6,8,16,16,12,6,5,16,12,1,4,24,1,10,10,2,2,64,8,48,28,24,18,6,3,56,18,2,6,12,32,3,72,5,12,8,8,16,2,3,12,40,96,4,3,12,28,7,1,1,4,3,12,1,14,12,8,12,1,8,8,8,7,12,6,2,16,24,24,12,72,6,1,48,3,24,12,26,3,24,1,5,2,12,48,3,4,6,4,52,8,20,20,28,4,16,8,5,11,4,3,2,2,6,8,1,48,32,32,6,6,24,4,16,12,2,1,3,7,56,1,24,16,20,1,120,44,3,32,6,52,24,72,24,3,6,24,16,5,48,10,48,2,6,36,12,2,4,24,1,20,76,8,4,36,6,32,4,4,40,3,8,32,10,1,1,5,24,48,12,20,4,16,32,24,13,1,16,44,32,1,8,6,6,32,28,7,12,4,32,48,32,3,4,4,2,3,1,32,24,4,5,24,6],\"type\":\"histogram\",\"xaxis\":\"x\",\"yaxis\":\"y\"},{\"name\":\"agemth\",\"x\":[24,26,25,21,22,18,20,24,24,24,26,22,19,22,27,22,26,21,20,22,24,21,27,23,26,24,23,19,23,21,20,21,21,24,22,18,20,23,16,22,24,24,19,26,22,22,21,18,21,25,22,24,22,20,25,21,25,26,22,20,26,22,18,19,21,21,24,21,21,20,26,24,22,24,23,28,20,21,23,24,19,22,19,19,19,20,17,23,17,22,23,25,22,17,21,16,19,19,20,25,20,25,18,21,22,20,27,17,23,26,22,25,18,20,23,24,21,19,18,19,18,19,19,23,23,20,20,20,17,24,24,20,24,24,22,22,22,23,21,25,24,19,20,21,23,21,19,25,25,20,20,19,22,26,22,23,19,21,23,28,25,19,19,18,20,25,19,19,17,21,21,25,19,19,19,20,26,23,17,24,18,28,26,21,22,22,25,20,20,18,25,21,17,17,18,23,20,19,19,17,21,24,20,19,16,25,24,26,25,25,19,24,27,22,19,21,16,22,23,21,26,21,24,21,17,24,25,20,23,23,19,25,22,21,26,23,27,23,25,22,20,23,22,19,27,25,24,26,18,20,22,24,23,22,21,26,22,21,26,26,23,23,21,20,19,22,20,22,24,21,24,22,23,21,26,21,17,16,19,23,20,22,22,18,21,23,20,23,27,20,18,21,19,21,21,25,21,19,17,22,17,18,19,23,23,20,24,19,20,21,19,21,19,23,20,16,23,21,26,22,21,16,19,20,23,24,21,23,21,19,20,22,18,19,21,17,20,20,26,27,21,18,23,22,19,23,21,16,21,26,25,21,20,18,18,22,23,20,18,19,26,21,20,24,19,22,21,25,24,21,19,19,23,21,22,20,19,23,25,21,20,25,21,18,21,20,24,19,26,22,21,20,22,21,22,20,25,21,20,22,20,26,23,21,23,19,15,21,19,22,23,25,22,27,26,22,22,22,22,23,21,21,25,24,20,23,24,20,26,21,20,18,24,16,20,24,20,22,17,19,19,23,23,23,24,24,22,16,17,17,20,27,24,17,19,19,26,21,22,21,16,18,27,18,21,22,20,22,23,24,25,26,21,19,20,18,19,20,21,20,19,20,17,17,20,18,21,21,23,26,20,19,24,24,26,19,25,20,19,22,20,25,18,22,24,27,26,25,21,19,18,20,18,19,23,19,23,19,23,24,22,23,21,20,23,20,17,18,21,28,21,20,21,26,22,17,18,20,26,19,23,20,25,20,22,19,24,26,19,20,19,21,23,20,25,15,23,18,26,25,26,27,21,25,24,25,28,27,15,23,22,21,24,17,23,17,20,20,25,18,18,18,20,24,21,22,19,19,23,20,19,17,21,18,19,22,22,21,19,22,27,22,28,25,21,18,19,20,27,25,23,22,24,20,22,24,21,22,18,16,23,16,23,21,24,26,19,20,23,22,25,24,19,22,19,25,22,16,23,23,19,18,22,20,28,20,15,25,24,23,20,25,19,21,16,24,19,16,20,24,27,26,25,25,24,21,22,20,17,27,19,23,16,24,22,17,19,21,20,20,26,22,21,19,19,23,21,19,17,20,19,21,21,22,19,24,19,27,26,18,17,21,22,19,23,20,25,25,22,26,19,20,18,18,22,24,22,25,27,22,25,19,21,22,18,19,19,23,20,21,19,19,26,21,19,22,22,25,20,24,21,21,21,21,18,23,21,19,26,24,21,20,24,19,21,19,19,20,23,23,21,26,27,17,18,25,22,20,25,25,22,22,23,26,25,24,19,26,20,19,25,22,17,24,15,23,21,24,23,20,18,20,24,16,23,25,20,22,23,23,22,23,20,20,24,21,19,23,23,22,22,24,22,23,21,23,22,24,19,19,21,24,24,22,23,21,21,21,18,19,20,20,22,25,20,20,22,21,24,21,22,25,24,22,21,19,22,22,22,22,25,20,22,22,23,21,21,22,21,24,23,25,20,23,23,24,24,22,22,21,18,23,23,21,21,20,24,20,21,19,20,21,22,20,23,18,28,20,20,21,18,23,24,27,21,21,18,26,21,16,20,21,22,20,22,22,21,25,19,24,20,18,23,20,17,19,21,23,24,21,20,24,20,20,22,21,20],\"type\":\"histogram\",\"xaxis\":\"x2\",\"yaxis\":\"y2\"},{\"name\":\"yschool\",\"x\":[14,12,12,9,12,11,9,12,12,14,12,12,12,14,16,12,13,12,12,12,12,12,14,12,14,14,12,12,14,10,12,12,12,14,10,11,12,10,9,13,12,14,12,16,12,16,12,10,12,16,12,12,13,12,16,13,12,16,12,11,12,12,11,11,12,12,12,13,14,12,12,14,12,12,12,16,12,12,14,15,8,12,12,12,12,8,8,13,11,12,14,12,12,11,12,10,12,10,12,16,10,12,10,12,12,12,12,9,13,12,12,13,12,14,12,14,13,9,12,11,12,11,12,12,14,14,12,12,11,16,12,11,16,12,12,15,12,16,12,12,12,12,13,13,12,16,7,12,12,12,12,11,10,19,12,12,12,12,16,16,16,12,8,12,12,11,11,10,10,14,12,12,12,12,12,12,11,12,11,12,12,12,16,12,12,12,16,13,12,10,12,12,9,8,10,6,10,11,12,11,12,16,12,14,9,12,14,12,12,11,10,16,16,12,11,12,9,12,12,15,12,12,13,11,11,13,12,12,12,12,13,16,14,13,16,14,19,16,14,12,12,11,12,12,19,16,16,16,12,13,14,12,12,14,12,12,12,14,12,12,12,16,12,12,11,12,11,12,13,12,12,14,15,12,12,12,10,9,11,15,13,12,12,11,14,15,12,12,16,12,11,13,12,11,13,13,12,10,10,12,10,11,12,12,12,12,11,9,12,12,12,12,12,12,12,9,16,12,12,14,11,10,12,10,12,12,12,12,12,11,12,12,11,10,11,10,11,11,12,13,12,11,13,12,12,12,12,9,12,13,12,12,12,11,10,12,12,12,12,12,12,11,12,12,12,12,13,16,14,12,12,11,12,13,12,8,11,15,16,13,9,14,15,9,13,13,16,12,12,12,14,12,12,12,12,12,12,12,12,10,12,12,15,12,13,8,10,12,12,12,12,10,12,12,16,15,12,12,12,14,12,13,12,12,12,16,13,13,16,14,13,12,15,9,12,12,13,13,9,12,9,12,13,16,12,16,14,9,10,11,13,14,12,10,12,11,14,12,12,12,10,11,13,10,12,12,12,13,12,12,15,14,13,12,12,11,12,8,12,12,12,12,10,10,12,11,13,12,12,14,13,12,12,14,13,12,14,13,11,15,13,16,11,16,17,16,17,15,12,12,11,13,12,12,8,11,12,8,13,16,10,12,12,12,12,13,10,11,12,18,14,12,11,15,12,10,11,10,16,10,14,7,12,13,13,12,12,15,12,12,12,13,15,12,16,7,13,10,16,17,16,17,12,14,16,16,16,18,8,6,12,12,16,9,13,10,12,13,13,10,11,12,10,12,14,12,12,10,16,14,12,10,14,10,12,13,12,12,12,14,18,13,12,11,12,10,11,11,11,16,11,16,13,12,13,12,13,3,6,7,14,8,11,12,12,14,10,11,12,12,12,12,12,12,11,16,13,8,12,14,12,11,12,9,14,12,8,13,12,12,12,14,9,10,11,12,12,9,12,14,18,16,15,16,14,13,14,12,8,10,12,13,10,13,15,10,8,12,9,12,14,12,9,8,10,16,12,10,11,12,10,14,14,13,10,9,11,16,16,8,7,11,12,11,14,10,16,16,15,16,11,12,12,10,12,13,12,12,15,16,14,12,12,12,11,12,9,9,13,14,11,12,11,12,11,12,13,13,12,12,11,12,12,11,10,11,12,11,15,13,9,6,14,9,12,11,7,13,12,13,14,13,16,10,12,14,12,12,16,16,11,15,14,9,14,12,12,15,12,12,12,11,10,9,9,13,12,12,14,11,9,10,9,9,12,13,12,12,12,12,12,12,12,12,12,12,12,12,13,12,12,13,12,12,12,12,12,12,12,12,12,12,12,12,12,12,13,12,12,12,13,12,12,12,12,14,12,12,12,12,12,12,12,12,12,12,12,13,12,14,12,12,12,12,12,12,12,10,12,12,12,12,12,12,13,12,14,14,12,12,12,13,11,13,14,12,11,12,12,14,12,12,12,9,10,11,15,12,12,15,10,12,12,17,12,12,10,14,12,9,12,12,12,12,12,13,12,18,12,14,10,11,16,11,12,11,12,12,13,12,12,12,12,12,12,12,12],\"type\":\"histogram\",\"xaxis\":\"x3\",\"yaxis\":\"y3\"},{\"name\":\"ybirth\",\"x\":[82,85,85,85,82,82,81,85,85,82,84,84,83,80,84,81,85,78,83,81,86,84,84,81,84,82,81,81,85,83,82,80,83,83,83,79,84,84,80,80,83,85,78,85,81,82,81,81,86,85,81,83,83,85,82,79,84,84,83,81,84,82,82,78,83,81,82,84,84,80,84,84,85,85,83,85,80,84,85,83,82,80,82,83,83,84,78,81,81,81,85,83,83,79,81,78,83,80,82,86,85,84,78,79,84,80,84,79,85,85,85,84,81,81,85,85,80,83,79,83,82,79,82,85,82,82,82,85,78,81,85,83,83,84,80,80,84,85,80,84,81,78,79,83,82,80,78,83,85,82,78,80,80,85,82,84,83,82,84,85,85,80,78,79,83,83,80,81,79,81,83,85,82,78,78,81,85,84,82,81,82,85,85,85,83,83,84,82,81,81,85,85,80,82,79,81,83,83,81,78,79,84,80,80,80,84,82,84,85,84,80,81,85,85,83,78,79,79,82,83,85,85,83,83,80,85,83,82,84,80,79,85,85,81,84,84,85,82,85,86,80,83,80,81,85,83,85,84,78,84,79,84,83,85,84,83,81,80,85,84,83,82,83,85,81,81,79,83,85,83,85,79,80,79,84,84,80,78,81,84,79,85,84,80,85,83,80,83,85,79,82,78,81,81,84,83,79,79,81,84,81,81,79,84,80,82,86,78,84,82,83,80,78,81,84,79,85,83,85,80,84,79,80,83,81,84,78,85,85,80,79,80,79,81,85,79,83,84,83,85,78,82,84,85,82,83,81,78,80,83,84,84,83,78,79,85,84,79,78,79,83,79,81,83,81,85,81,84,85,82,82,79,86,85,83,81,82,85,82,80,81,84,85,79,84,82,81,81,84,82,78,83,82,79,81,83,85,84,85,85,82,83,80,79,81,83,78,84,78,83,80,82,81,85,84,80,85,85,84,84,85,79,85,84,83,85,83,82,86,85,85,79,82,79,81,85,80,85,80,79,82,84,82,81,82,84,82,80,80,82,80,85,82,81,81,82,84,81,82,81,80,78,85,79,85,84,80,82,82,82,85,83,80,82,80,79,81,84,83,81,83,84,81,80,81,82,81,78,84,85,84,78,82,82,85,81,86,84,82,84,81,83,80,81,81,84,84,83,83,79,79,80,83,82,83,83,81,79,82,82,83,81,85,79,83,81,78,80,84,85,81,83,81,84,83,78,80,80,85,78,82,79,82,83,81,82,83,85,81,83,81,79,80,83,84,79,84,83,85,83,85,85,82,83,83,84,86,85,79,83,81,79,84,80,86,78,79,79,85,82,82,80,83,82,79,82,82,83,81,79,81,81,83,78,84,83,79,82,78,83,84,82,85,83,84,81,79,80,85,82,81,81,82,79,79,81,85,79,79,78,82,79,83,85,83,85,83,78,85,83,85,81,83,80,81,83,84,80,83,82,82,79,85,81,85,78,80,84,84,81,81,85,80,82,78,84,78,78,80,81,84,84,84,82,84,79,84,81,80,84,81,85,79,85,81,80,82,83,79,81,85,82,84,80,83,82,84,79,80,84,81,81,84,82,83,85,83,84,84,80,81,82,83,81,83,81,84,84,81,85,83,78,78,80,82,86,81,84,85,80,83,81,82,85,81,79,78,80,83,85,84,81,85,78,78,80,81,85,84,84,80,84,81,80,79,82,85,82,84,83,81,79,82,82,83,83,84,80,82,81,78,85,85,79,81,83,81,84,83,83,84,85,83,83,84,84,83,84,79,81,82,85,81,85,80,84,82,84,85,81,80,79,83,81,83,82,80,83,81,82,80,83,80,78,83,79,80,81,81,81,81,82,81,81,81,82,83,82,78,79,80,83,83,81,81,80,80,79,79,79,79,79,81,82,79,79,82,80,83,81,82,83,81,80,81,78,82,81,80,81,83,80,82,79,81,81,81,82,79,82,83,83,79,82,82,82,82,82,83,85,80,82,83,81,83,79,81,80,82,83,81,79,85,81,83,80,85,84,80,78,81,83,83,85,84,82,82,85,82,81,81,80,83,83,79,82,81,84,80,83,80,81,81,84,78,79,78,82,82,80,81,81,80,79,81,80,80],\"type\":\"histogram\",\"xaxis\":\"x4\",\"yaxis\":\"y4\"}],                        {\"template\":{\"data\":{\"histogram2dcontour\":[{\"type\":\"histogram2dcontour\",\"colorbar\":{\"outlinewidth\":0,\"ticks\":\"\"},\"colorscale\":[[0.0,\"#0d0887\"],[0.1111111111111111,\"#46039f\"],[0.2222222222222222,\"#7201a8\"],[0.3333333333333333,\"#9c179e\"],[0.4444444444444444,\"#bd3786\"],[0.5555555555555556,\"#d8576b\"],[0.6666666666666666,\"#ed7953\"],[0.7777777777777778,\"#fb9f3a\"],[0.8888888888888888,\"#fdca26\"],[1.0,\"#f0f921\"]]}],\"choropleth\":[{\"type\":\"choropleth\",\"colorbar\":{\"outlinewidth\":0,\"ticks\":\"\"}}],\"histogram2d\":[{\"type\":\"histogram2d\",\"colorbar\":{\"outlinewidth\":0,\"ticks\":\"\"},\"colorscale\":[[0.0,\"#0d0887\"],[0.1111111111111111,\"#46039f\"],[0.2222222222222222,\"#7201a8\"],[0.3333333333333333,\"#9c179e\"],[0.4444444444444444,\"#bd3786\"],[0.5555555555555556,\"#d8576b\"],[0.6666666666666666,\"#ed7953\"],[0.7777777777777778,\"#fb9f3a\"],[0.8888888888888888,\"#fdca26\"],[1.0,\"#f0f921\"]]}],\"heatmap\":[{\"type\":\"heatmap\",\"colorbar\":{\"outlinewidth\":0,\"ticks\":\"\"},\"colorscale\":[[0.0,\"#0d0887\"],[0.1111111111111111,\"#46039f\"],[0.2222222222222222,\"#7201a8\"],[0.3333333333333333,\"#9c179e\"],[0.4444444444444444,\"#bd3786\"],[0.5555555555555556,\"#d8576b\"],[0.6666666666666666,\"#ed7953\"],[0.7777777777777778,\"#fb9f3a\"],[0.8888888888888888,\"#fdca26\"],[1.0,\"#f0f921\"]]}],\"heatmapgl\":[{\"type\":\"heatmapgl\",\"colorbar\":{\"outlinewidth\":0,\"ticks\":\"\"},\"colorscale\":[[0.0,\"#0d0887\"],[0.1111111111111111,\"#46039f\"],[0.2222222222222222,\"#7201a8\"],[0.3333333333333333,\"#9c179e\"],[0.4444444444444444,\"#bd3786\"],[0.5555555555555556,\"#d8576b\"],[0.6666666666666666,\"#ed7953\"],[0.7777777777777778,\"#fb9f3a\"],[0.8888888888888888,\"#fdca26\"],[1.0,\"#f0f921\"]]}],\"contourcarpet\":[{\"type\":\"contourcarpet\",\"colorbar\":{\"outlinewidth\":0,\"ticks\":\"\"}}],\"contour\":[{\"type\":\"contour\",\"colorbar\":{\"outlinewidth\":0,\"ticks\":\"\"},\"colorscale\":[[0.0,\"#0d0887\"],[0.1111111111111111,\"#46039f\"],[0.2222222222222222,\"#7201a8\"],[0.3333333333333333,\"#9c179e\"],[0.4444444444444444,\"#bd3786\"],[0.5555555555555556,\"#d8576b\"],[0.6666666666666666,\"#ed7953\"],[0.7777777777777778,\"#fb9f3a\"],[0.8888888888888888,\"#fdca26\"],[1.0,\"#f0f921\"]]}],\"surface\":[{\"type\":\"surface\",\"colorbar\":{\"outlinewidth\":0,\"ticks\":\"\"},\"colorscale\":[[0.0,\"#0d0887\"],[0.1111111111111111,\"#46039f\"],[0.2222222222222222,\"#7201a8\"],[0.3333333333333333,\"#9c179e\"],[0.4444444444444444,\"#bd3786\"],[0.5555555555555556,\"#d8576b\"],[0.6666666666666666,\"#ed7953\"],[0.7777777777777778,\"#fb9f3a\"],[0.8888888888888888,\"#fdca26\"],[1.0,\"#f0f921\"]]}],\"mesh3d\":[{\"type\":\"mesh3d\",\"colorbar\":{\"outlinewidth\":0,\"ticks\":\"\"}}],\"scatter\":[{\"fillpattern\":{\"fillmode\":\"overlay\",\"size\":10,\"solidity\":0.2},\"type\":\"scatter\"}],\"parcoords\":[{\"type\":\"parcoords\",\"line\":{\"colorbar\":{\"outlinewidth\":0,\"ticks\":\"\"}}}],\"scatterpolargl\":[{\"type\":\"scatterpolargl\",\"marker\":{\"colorbar\":{\"outlinewidth\":0,\"ticks\":\"\"}}}],\"bar\":[{\"error_x\":{\"color\":\"#2a3f5f\"},\"error_y\":{\"color\":\"#2a3f5f\"},\"marker\":{\"line\":{\"color\":\"#E5ECF6\",\"width\":0.5},\"pattern\":{\"fillmode\":\"overlay\",\"size\":10,\"solidity\":0.2}},\"type\":\"bar\"}],\"scattergeo\":[{\"type\":\"scattergeo\",\"marker\":{\"colorbar\":{\"outlinewidth\":0,\"ticks\":\"\"}}}],\"scatterpolar\":[{\"type\":\"scatterpolar\",\"marker\":{\"colorbar\":{\"outlinewidth\":0,\"ticks\":\"\"}}}],\"histogram\":[{\"marker\":{\"pattern\":{\"fillmode\":\"overlay\",\"size\":10,\"solidity\":0.2}},\"type\":\"histogram\"}],\"scattergl\":[{\"type\":\"scattergl\",\"marker\":{\"colorbar\":{\"outlinewidth\":0,\"ticks\":\"\"}}}],\"scatter3d\":[{\"type\":\"scatter3d\",\"line\":{\"colorbar\":{\"outlinewidth\":0,\"ticks\":\"\"}},\"marker\":{\"colorbar\":{\"outlinewidth\":0,\"ticks\":\"\"}}}],\"scattermapbox\":[{\"type\":\"scattermapbox\",\"marker\":{\"colorbar\":{\"outlinewidth\":0,\"ticks\":\"\"}}}],\"scatterternary\":[{\"type\":\"scatterternary\",\"marker\":{\"colorbar\":{\"outlinewidth\":0,\"ticks\":\"\"}}}],\"scattercarpet\":[{\"type\":\"scattercarpet\",\"marker\":{\"colorbar\":{\"outlinewidth\":0,\"ticks\":\"\"}}}],\"carpet\":[{\"aaxis\":{\"endlinecolor\":\"#2a3f5f\",\"gridcolor\":\"white\",\"linecolor\":\"white\",\"minorgridcolor\":\"white\",\"startlinecolor\":\"#2a3f5f\"},\"baxis\":{\"endlinecolor\":\"#2a3f5f\",\"gridcolor\":\"white\",\"linecolor\":\"white\",\"minorgridcolor\":\"white\",\"startlinecolor\":\"#2a3f5f\"},\"type\":\"carpet\"}],\"table\":[{\"cells\":{\"fill\":{\"color\":\"#EBF0F8\"},\"line\":{\"color\":\"white\"}},\"header\":{\"fill\":{\"color\":\"#C8D4E3\"},\"line\":{\"color\":\"white\"}},\"type\":\"table\"}],\"barpolar\":[{\"marker\":{\"line\":{\"color\":\"#E5ECF6\",\"width\":0.5},\"pattern\":{\"fillmode\":\"overlay\",\"size\":10,\"solidity\":0.2}},\"type\":\"barpolar\"}],\"pie\":[{\"automargin\":true,\"type\":\"pie\"}]},\"layout\":{\"autotypenumbers\":\"strict\",\"colorway\":[\"#636efa\",\"#EF553B\",\"#00cc96\",\"#ab63fa\",\"#FFA15A\",\"#19d3f3\",\"#FF6692\",\"#B6E880\",\"#FF97FF\",\"#FECB52\"],\"font\":{\"color\":\"#2a3f5f\"},\"hovermode\":\"closest\",\"hoverlabel\":{\"align\":\"left\"},\"paper_bgcolor\":\"white\",\"plot_bgcolor\":\"#E5ECF6\",\"polar\":{\"bgcolor\":\"#E5ECF6\",\"angularaxis\":{\"gridcolor\":\"white\",\"linecolor\":\"white\",\"ticks\":\"\"},\"radialaxis\":{\"gridcolor\":\"white\",\"linecolor\":\"white\",\"ticks\":\"\"}},\"ternary\":{\"bgcolor\":\"#E5ECF6\",\"aaxis\":{\"gridcolor\":\"white\",\"linecolor\":\"white\",\"ticks\":\"\"},\"baxis\":{\"gridcolor\":\"white\",\"linecolor\":\"white\",\"ticks\":\"\"},\"caxis\":{\"gridcolor\":\"white\",\"linecolor\":\"white\",\"ticks\":\"\"}},\"coloraxis\":{\"colorbar\":{\"outlinewidth\":0,\"ticks\":\"\"}},\"colorscale\":{\"sequential\":[[0.0,\"#0d0887\"],[0.1111111111111111,\"#46039f\"],[0.2222222222222222,\"#7201a8\"],[0.3333333333333333,\"#9c179e\"],[0.4444444444444444,\"#bd3786\"],[0.5555555555555556,\"#d8576b\"],[0.6666666666666666,\"#ed7953\"],[0.7777777777777778,\"#fb9f3a\"],[0.8888888888888888,\"#fdca26\"],[1.0,\"#f0f921\"]],\"sequentialminus\":[[0.0,\"#0d0887\"],[0.1111111111111111,\"#46039f\"],[0.2222222222222222,\"#7201a8\"],[0.3333333333333333,\"#9c179e\"],[0.4444444444444444,\"#bd3786\"],[0.5555555555555556,\"#d8576b\"],[0.6666666666666666,\"#ed7953\"],[0.7777777777777778,\"#fb9f3a\"],[0.8888888888888888,\"#fdca26\"],[1.0,\"#f0f921\"]],\"diverging\":[[0,\"#8e0152\"],[0.1,\"#c51b7d\"],[0.2,\"#de77ae\"],[0.3,\"#f1b6da\"],[0.4,\"#fde0ef\"],[0.5,\"#f7f7f7\"],[0.6,\"#e6f5d0\"],[0.7,\"#b8e186\"],[0.8,\"#7fbc41\"],[0.9,\"#4d9221\"],[1,\"#276419\"]]},\"xaxis\":{\"gridcolor\":\"white\",\"linecolor\":\"white\",\"ticks\":\"\",\"title\":{\"standoff\":15},\"zerolinecolor\":\"white\",\"automargin\":true,\"zerolinewidth\":2},\"yaxis\":{\"gridcolor\":\"white\",\"linecolor\":\"white\",\"ticks\":\"\",\"title\":{\"standoff\":15},\"zerolinecolor\":\"white\",\"automargin\":true,\"zerolinewidth\":2},\"scene\":{\"xaxis\":{\"backgroundcolor\":\"#E5ECF6\",\"gridcolor\":\"white\",\"linecolor\":\"white\",\"showbackground\":true,\"ticks\":\"\",\"zerolinecolor\":\"white\",\"gridwidth\":2},\"yaxis\":{\"backgroundcolor\":\"#E5ECF6\",\"gridcolor\":\"white\",\"linecolor\":\"white\",\"showbackground\":true,\"ticks\":\"\",\"zerolinecolor\":\"white\",\"gridwidth\":2},\"zaxis\":{\"backgroundcolor\":\"#E5ECF6\",\"gridcolor\":\"white\",\"linecolor\":\"white\",\"showbackground\":true,\"ticks\":\"\",\"zerolinecolor\":\"white\",\"gridwidth\":2}},\"shapedefaults\":{\"line\":{\"color\":\"#2a3f5f\"}},\"annotationdefaults\":{\"arrowcolor\":\"#2a3f5f\",\"arrowhead\":0,\"arrowwidth\":1},\"geo\":{\"bgcolor\":\"white\",\"landcolor\":\"#E5ECF6\",\"subunitcolor\":\"white\",\"showland\":true,\"showlakes\":true,\"lakecolor\":\"white\"},\"title\":{\"x\":0.05},\"mapbox\":{\"style\":\"light\"}}},\"xaxis\":{\"anchor\":\"y\",\"domain\":[0.0,0.45]},\"yaxis\":{\"anchor\":\"x\",\"domain\":[0.575,1.0]},\"xaxis2\":{\"anchor\":\"y2\",\"domain\":[0.55,1.0]},\"yaxis2\":{\"anchor\":\"x2\",\"domain\":[0.575,1.0]},\"xaxis3\":{\"anchor\":\"y3\",\"domain\":[0.0,0.45]},\"yaxis3\":{\"anchor\":\"x3\",\"domain\":[0.0,0.425]},\"xaxis4\":{\"anchor\":\"y4\",\"domain\":[0.55,1.0]},\"yaxis4\":{\"anchor\":\"x4\",\"domain\":[0.0,0.425]},\"bargap\":0.2,\"title\":{\"text\":\"\\u0413\\u0438\\u0441\\u0442\\u043e\\u0433\\u0440\\u0430\\u043c\\u043c\\u044b \\u0434\\u043b\\u044f \\u043a\\u043e\\u043b\\u0438\\u0447\\u0435\\u0441\\u0442\\u0432\\u0435\\u043d\\u043d\\u044b\\u0445 \\u043f\\u0440\\u0438\\u0437\\u043d\\u0430\\u043a\\u043e\\u0432\"}},                        {\"responsive\": true}                    ).then(function(){\n",
              "                            \n",
              "var gd = document.getElementById('345bfb7e-6b09-4d27-b34a-00b7a2b3dce9');\n",
              "var x = new MutationObserver(function (mutations, observer) {{\n",
              "        var display = window.getComputedStyle(gd).display;\n",
              "        if (!display || display === 'none') {{\n",
              "            console.log([gd, 'removed!']);\n",
              "            Plotly.purge(gd);\n",
              "            observer.disconnect();\n",
              "        }}\n",
              "}});\n",
              "\n",
              "// Listen for the removal of the full notebook cells\n",
              "var notebookContainer = gd.closest('#notebook-container');\n",
              "if (notebookContainer) {{\n",
              "    x.observe(notebookContainer, {childList: true});\n",
              "}}\n",
              "\n",
              "// Listen for the clearing of the current output cell\n",
              "var outputEl = gd.closest('.output');\n",
              "if (outputEl) {{\n",
              "    x.observe(outputEl, {childList: true});\n",
              "}}\n",
              "\n",
              "                        })                };                            </script>        </div>\n",
              "</body>\n",
              "</html>"
            ]
          },
          "metadata": {}
        }
      ],
      "source": [
        "fig = make_subplots(rows=2, cols=2)\n",
        "\n",
        "trace0 = go.Histogram(x=data['duration'], name=\"duration\")\n",
        "trace1 = go.Histogram(x=data['agemth'], name=\"agemth\")\n",
        "trace2 = go.Histogram(x=data['yschool'], name=\"yschool\")\n",
        "trace3 = go.Histogram(x=data['ybirth'], name=\"ybirth\")\n",
        "\n",
        "fig.append_trace(trace0, 1, 1)\n",
        "fig.append_trace(trace1, 1, 2)\n",
        "fig.append_trace(trace2, 2, 1)\n",
        "fig.append_trace(trace3, 2, 2)\n",
        "\n",
        "fig.update_layout(bargap=0.2)\n",
        "fig.update_layout(title_text=\"Гистограммы для количественных признаков\")\n",
        "fig.show()"
      ]
    },
    {
      "cell_type": "code",
      "execution_count": 34,
      "metadata": {
        "id": "XBQUTinymB8E",
        "colab": {
          "base_uri": "https://localhost:8080/",
          "height": 542
        },
        "outputId": "97d01760-8ce0-459d-afeb-a060e6642118"
      },
      "outputs": [
        {
          "output_type": "display_data",
          "data": {
            "text/html": [
              "<html>\n",
              "<head><meta charset=\"utf-8\" /></head>\n",
              "<body>\n",
              "    <div>            <script src=\"https://cdnjs.cloudflare.com/ajax/libs/mathjax/2.7.5/MathJax.js?config=TeX-AMS-MML_SVG\"></script><script type=\"text/javascript\">if (window.MathJax && window.MathJax.Hub && window.MathJax.Hub.Config) {window.MathJax.Hub.Config({SVG: {font: \"STIX-Web\"}});}</script>                <script type=\"text/javascript\">window.PlotlyConfig = {MathJaxConfig: 'local'};</script>\n",
              "        <script src=\"https://cdn.plot.ly/plotly-2.18.2.min.js\"></script>                <div id=\"880681b5-3830-4a2b-ab2d-4847c14b09df\" class=\"plotly-graph-div\" style=\"height:525px; width:100%;\"></div>            <script type=\"text/javascript\">                                    window.PLOTLYENV=window.PLOTLYENV || {};                                    if (document.getElementById(\"880681b5-3830-4a2b-ab2d-4847c14b09df\")) {                    Plotly.newPlot(                        \"880681b5-3830-4a2b-ab2d-4847c14b09df\",                        [{\"alignmentgroup\":\"True\",\"bingroup\":\"x\",\"histfunc\":\"count\",\"hovertemplate\":\"education=%{x}<br>poverty=0<br>count=%{y}<extra></extra>\",\"legendgroup\":\"higher education, 0\",\"marker\":{\"color\":\"#636efa\",\"pattern\":{\"shape\":\"\"}},\"name\":\"higher education, 0\",\"offsetgroup\":\"higher education, 0\",\"orientation\":\"v\",\"showlegend\":true,\"texttemplate\":\"%{value}\",\"x\":[\"higher education\",\"higher education\",\"higher education\",\"higher education\",\"higher education\",\"higher education\",\"higher education\",\"higher education\",\"higher education\",\"higher education\",\"higher education\",\"higher education\",\"higher education\",\"higher education\",\"higher education\",\"higher education\",\"higher education\",\"higher education\",\"higher education\",\"higher education\",\"higher education\",\"higher education\",\"higher education\",\"higher education\",\"higher education\",\"higher education\",\"higher education\",\"higher education\",\"higher education\",\"higher education\",\"higher education\",\"higher education\",\"higher education\",\"higher education\",\"higher education\",\"higher education\",\"higher education\",\"higher education\",\"higher education\",\"higher education\",\"higher education\",\"higher education\",\"higher education\",\"higher education\",\"higher education\",\"higher education\",\"higher education\",\"higher education\",\"higher education\",\"higher education\",\"higher education\",\"higher education\",\"higher education\",\"higher education\",\"higher education\",\"higher education\",\"higher education\",\"higher education\",\"higher education\",\"higher education\",\"higher education\",\"higher education\",\"higher education\",\"higher education\",\"higher education\",\"higher education\",\"higher education\",\"higher education\",\"higher education\",\"higher education\",\"higher education\",\"higher education\",\"higher education\",\"higher education\",\"higher education\",\"higher education\",\"higher education\",\"higher education\",\"higher education\",\"higher education\",\"higher education\",\"higher education\",\"higher education\",\"higher education\",\"higher education\",\"higher education\",\"higher education\",\"higher education\",\"higher education\",\"higher education\",\"higher education\",\"higher education\",\"higher education\",\"higher education\",\"higher education\",\"higher education\",\"higher education\",\"higher education\",\"higher education\",\"higher education\",\"higher education\",\"higher education\",\"higher education\",\"higher education\",\"higher education\",\"higher education\",\"higher education\",\"higher education\",\"higher education\",\"higher education\",\"higher education\",\"higher education\",\"higher education\",\"higher education\",\"higher education\",\"higher education\",\"higher education\",\"higher education\",\"higher education\",\"higher education\",\"higher education\",\"higher education\",\"higher education\",\"higher education\",\"higher education\",\"higher education\",\"higher education\",\"higher education\",\"higher education\",\"higher education\",\"higher education\",\"higher education\",\"higher education\",\"higher education\",\"higher education\",\"higher education\",\"higher education\",\"higher education\",\"higher education\",\"higher education\",\"higher education\",\"higher education\",\"higher education\",\"higher education\",\"higher education\",\"higher education\",\"higher education\",\"higher education\",\"higher education\",\"higher education\",\"higher education\",\"higher education\",\"higher education\",\"higher education\",\"higher education\",\"higher education\",\"higher education\",\"higher education\",\"higher education\",\"higher education\",\"higher education\",\"higher education\",\"higher education\",\"higher education\",\"higher education\",\"higher education\",\"higher education\",\"higher education\",\"higher education\",\"higher education\",\"higher education\",\"higher education\",\"higher education\",\"higher education\",\"higher education\",\"higher education\",\"higher education\",\"higher education\",\"higher education\",\"higher education\",\"higher education\",\"higher education\",\"higher education\",\"higher education\",\"higher education\",\"higher education\",\"higher education\",\"higher education\",\"higher education\",\"higher education\",\"higher education\",\"higher education\",\"higher education\",\"higher education\",\"higher education\",\"higher education\",\"higher education\",\"higher education\",\"higher education\",\"higher education\",\"higher education\",\"higher education\",\"higher education\",\"higher education\",\"higher education\",\"higher education\",\"higher education\",\"higher education\",\"higher education\",\"higher education\",\"higher education\",\"higher education\",\"higher education\",\"higher education\",\"higher education\",\"higher education\",\"higher education\",\"higher education\",\"higher education\",\"higher education\",\"higher education\",\"higher education\",\"higher education\",\"higher education\",\"higher education\",\"higher education\",\"higher education\",\"higher education\",\"higher education\",\"higher education\",\"higher education\",\"higher education\",\"higher education\",\"higher education\",\"higher education\",\"higher education\",\"higher education\",\"higher education\",\"higher education\",\"higher education\",\"higher education\",\"higher education\",\"higher education\",\"higher education\",\"higher education\",\"higher education\",\"higher education\",\"higher education\",\"higher education\"],\"xaxis\":\"x\",\"y\":[14,14,14,16,13,14,14,14,14,14,13,14,16,16,16,13,16,13,16,13,14,14,16,14,15,13,14,16,13,13,14,14,13,14,16,16,15,16,13,16,16,16,14,16,16,13,16,14,14,16,16,15,13,13,13,16,14,13,16,19,16,14,19,16,16,16,13,14,14,14,16,13,15,15,13,14,15,16,13,13,13,16,14,13,13,13,16,14,13,15,16,13,14,15,13,13,16,14,13,16,15,14,13,16,13,13,16,13,15,13,13,16,16,14,13,14,14,13,13,14,13,13,14,13,14,13,14,13,15,13,16,16,17,16,17,15,13,13,16,18,14,16,14,13,13,15,13,15,16,13,16,17,16,17,14,16,16,16,18,16,13,13,16,14,14,13,14,13,16,16,13,13,13,14,14,16,13,14,14,13,14,14,18,16,15,16,14,13,14,13,13,15,14,16,14,13,16,16,14,16,16,15,16,13,15,16,14,14,13,13,15,13,14,13,13,14,13,16,14,16,16,14,14,15,13,14,13,13,13,13,13,14,13,14,13,14,14,13,13,14,14,15,17,14,13,18,14,16,13],\"yaxis\":\"y\",\"type\":\"histogram\"},{\"alignmentgroup\":\"True\",\"bingroup\":\"x\",\"histfunc\":\"count\",\"hovertemplate\":\"education=%{x}<br>poverty=1<br>count=%{y}<extra></extra>\",\"legendgroup\":\"higher education, 1\",\"marker\":{\"color\":\"#636efa\",\"pattern\":{\"shape\":\"/\"}},\"name\":\"higher education, 1\",\"offsetgroup\":\"higher education, 1\",\"orientation\":\"v\",\"showlegend\":true,\"texttemplate\":\"%{value}\",\"x\":[\"higher education\",\"higher education\",\"higher education\",\"higher education\",\"higher education\",\"higher education\",\"higher education\",\"higher education\",\"higher education\",\"higher education\",\"higher education\",\"higher education\",\"higher education\",\"higher education\",\"higher education\",\"higher education\",\"higher education\",\"higher education\",\"higher education\",\"higher education\"],\"xaxis\":\"x\",\"y\":[14,13,19,16,14,14,13,15,14,13,15,13,15,13,14,18,14,13,15,15],\"yaxis\":\"y\",\"type\":\"histogram\"},{\"alignmentgroup\":\"True\",\"bingroup\":\"x\",\"histfunc\":\"count\",\"hovertemplate\":\"education=%{x}<br>poverty=0<br>count=%{y}<extra></extra>\",\"legendgroup\":\"only school (or less), 0\",\"marker\":{\"color\":\"#EF553B\",\"pattern\":{\"shape\":\"\"}},\"name\":\"only school (or less), 0\",\"offsetgroup\":\"only school (or less), 0\",\"orientation\":\"v\",\"showlegend\":true,\"texttemplate\":\"%{value}\",\"x\":[\"only school (or less)\",\"only school (or less)\",\"only school (or less)\",\"only school (or less)\",\"only school (or less)\",\"only school (or less)\",\"only school (or less)\",\"only school (or less)\",\"only school (or less)\",\"only school (or less)\",\"only school (or less)\",\"only school (or less)\",\"only school (or less)\",\"only school (or less)\",\"only school (or less)\",\"only school (or less)\",\"only school (or less)\",\"only school (or less)\",\"only school (or less)\",\"only school (or less)\",\"only school (or less)\",\"only school (or less)\",\"only school (or less)\",\"only school (or less)\",\"only school (or less)\",\"only school (or less)\",\"only school (or less)\",\"only school (or less)\",\"only school (or less)\",\"only school (or less)\",\"only school (or less)\",\"only school (or less)\",\"only school (or less)\",\"only school (or less)\",\"only school (or less)\",\"only school (or less)\",\"only school (or less)\",\"only school (or less)\",\"only school (or less)\",\"only school (or less)\",\"only school (or less)\",\"only school (or less)\",\"only school (or less)\",\"only school (or less)\",\"only school (or less)\",\"only school (or less)\",\"only school (or less)\",\"only school (or less)\",\"only school (or less)\",\"only school (or less)\",\"only school (or less)\",\"only school (or less)\",\"only school (or less)\",\"only school (or less)\",\"only school (or less)\",\"only school (or less)\",\"only school (or less)\",\"only school (or less)\",\"only school (or less)\",\"only school (or less)\",\"only school (or less)\",\"only school (or less)\",\"only school (or less)\",\"only school (or less)\",\"only school (or less)\",\"only school (or less)\",\"only school (or less)\",\"only school (or less)\",\"only school (or less)\",\"only school (or less)\",\"only school (or less)\",\"only school (or less)\",\"only school (or less)\",\"only school (or less)\",\"only school (or less)\",\"only school (or less)\",\"only school (or less)\",\"only school (or less)\",\"only school (or less)\",\"only school (or less)\",\"only school (or less)\",\"only school (or less)\",\"only school (or less)\",\"only school (or less)\",\"only school (or less)\",\"only school (or less)\",\"only school (or less)\",\"only school (or less)\",\"only school (or less)\",\"only school (or less)\",\"only school (or less)\",\"only school (or less)\",\"only school (or less)\",\"only school (or less)\",\"only school (or less)\",\"only school (or less)\",\"only school (or less)\",\"only school (or less)\",\"only school (or less)\",\"only school (or less)\",\"only school (or less)\",\"only school (or less)\",\"only school (or less)\",\"only school (or less)\",\"only school (or less)\",\"only school (or less)\",\"only school (or less)\",\"only school (or less)\",\"only school (or less)\",\"only school (or less)\",\"only school (or less)\",\"only school (or less)\",\"only school (or less)\",\"only school (or less)\",\"only school (or less)\",\"only school (or less)\",\"only school (or less)\",\"only school (or less)\",\"only school (or less)\",\"only school (or less)\",\"only school (or less)\",\"only school (or less)\",\"only school (or less)\",\"only school (or less)\",\"only school (or less)\",\"only school (or less)\",\"only school (or less)\",\"only school (or less)\",\"only school (or less)\",\"only school (or less)\",\"only school (or less)\",\"only school (or less)\",\"only school (or less)\",\"only school (or less)\",\"only school (or less)\",\"only school (or less)\",\"only school (or less)\",\"only school (or less)\",\"only school (or less)\",\"only school (or less)\",\"only school (or less)\",\"only school (or less)\",\"only school (or less)\",\"only school (or less)\",\"only school (or less)\",\"only school (or less)\",\"only school (or less)\",\"only school (or less)\",\"only school (or less)\",\"only school (or less)\",\"only school (or less)\",\"only school (or less)\",\"only school (or less)\",\"only school (or less)\",\"only school (or less)\",\"only school (or less)\",\"only school (or less)\",\"only school (or less)\",\"only school (or less)\",\"only school (or less)\",\"only school (or less)\",\"only school (or less)\",\"only school (or less)\",\"only school (or less)\",\"only school (or less)\",\"only school (or less)\",\"only school (or less)\",\"only school (or less)\",\"only school (or less)\",\"only school (or less)\",\"only school (or less)\",\"only school (or less)\",\"only school (or less)\",\"only school (or less)\",\"only school (or less)\",\"only school (or less)\",\"only school (or less)\",\"only school (or less)\",\"only school (or less)\",\"only school (or less)\",\"only school (or less)\",\"only school (or less)\",\"only school (or less)\",\"only school (or less)\",\"only school (or less)\",\"only school (or less)\",\"only school (or less)\",\"only school (or less)\",\"only school (or less)\",\"only school (or less)\",\"only school (or less)\",\"only school (or less)\",\"only school (or less)\",\"only school (or less)\",\"only school (or less)\",\"only school (or less)\",\"only school (or less)\",\"only school (or less)\",\"only school (or less)\",\"only school (or less)\",\"only school (or less)\",\"only school (or less)\",\"only school (or less)\",\"only school (or less)\",\"only school (or less)\",\"only school (or less)\",\"only school (or less)\",\"only school (or less)\",\"only school (or less)\",\"only school (or less)\",\"only school (or less)\",\"only school (or less)\",\"only school (or less)\",\"only school (or less)\",\"only school (or less)\",\"only school (or less)\",\"only school (or less)\",\"only school (or less)\",\"only school (or less)\",\"only school (or less)\",\"only school (or less)\",\"only school (or less)\",\"only school (or less)\",\"only school (or less)\",\"only school (or less)\",\"only school (or less)\",\"only school (or less)\",\"only school (or less)\",\"only school (or less)\",\"only school (or less)\",\"only school (or less)\",\"only school (or less)\",\"only school (or less)\",\"only school (or less)\",\"only school (or less)\",\"only school (or less)\",\"only school (or less)\",\"only school (or less)\",\"only school (or less)\",\"only school (or less)\",\"only school (or less)\",\"only school (or less)\",\"only school (or less)\",\"only school (or less)\",\"only school (or less)\",\"only school (or less)\",\"only school (or less)\",\"only school (or less)\",\"only school (or less)\",\"only school (or less)\",\"only school (or less)\",\"only school (or less)\",\"only school (or less)\",\"only school (or less)\",\"only school (or less)\",\"only school (or less)\",\"only school (or less)\",\"only school (or less)\",\"only school (or less)\",\"only school (or less)\",\"only school (or less)\",\"only school (or less)\",\"only school (or less)\",\"only school (or less)\",\"only school (or less)\",\"only school (or less)\",\"only school (or less)\",\"only school (or less)\",\"only school (or less)\",\"only school (or less)\",\"only school (or less)\",\"only school (or less)\",\"only school (or less)\",\"only school (or less)\",\"only school (or less)\",\"only school (or less)\",\"only school (or less)\",\"only school (or less)\",\"only school (or less)\",\"only school (or less)\",\"only school (or less)\",\"only school (or less)\",\"only school (or less)\",\"only school (or less)\",\"only school (or less)\",\"only school (or less)\",\"only school (or less)\",\"only school (or less)\",\"only school (or less)\",\"only school (or less)\",\"only school (or less)\",\"only school (or less)\",\"only school (or less)\",\"only school (or less)\",\"only school (or less)\",\"only school (or less)\",\"only school (or less)\",\"only school (or less)\",\"only school (or less)\",\"only school (or less)\",\"only school (or less)\",\"only school (or less)\",\"only school (or less)\",\"only school (or less)\",\"only school (or less)\",\"only school (or less)\",\"only school (or less)\",\"only school (or less)\",\"only school (or less)\",\"only school (or less)\",\"only school (or less)\",\"only school (or less)\",\"only school (or less)\",\"only school (or less)\",\"only school (or less)\",\"only school (or less)\",\"only school (or less)\",\"only school (or less)\",\"only school (or less)\",\"only school (or less)\",\"only school (or less)\",\"only school (or less)\",\"only school (or less)\",\"only school (or less)\",\"only school (or less)\",\"only school (or less)\",\"only school (or less)\",\"only school (or less)\",\"only school (or less)\",\"only school (or less)\",\"only school (or less)\",\"only school (or less)\",\"only school (or less)\",\"only school (or less)\",\"only school (or less)\",\"only school (or less)\",\"only school (or less)\",\"only school (or less)\",\"only school (or less)\",\"only school (or less)\",\"only school (or less)\",\"only school (or less)\",\"only school (or less)\",\"only school (or less)\",\"only school (or less)\",\"only school (or less)\",\"only school (or less)\",\"only school (or less)\",\"only school (or less)\",\"only school (or less)\",\"only school (or less)\",\"only school (or less)\",\"only school (or less)\",\"only school (or less)\",\"only school (or less)\",\"only school (or less)\",\"only school (or less)\",\"only school (or less)\",\"only school (or less)\",\"only school (or less)\",\"only school (or less)\",\"only school (or less)\",\"only school (or less)\",\"only school (or less)\",\"only school (or less)\",\"only school (or less)\",\"only school (or less)\",\"only school (or less)\",\"only school (or less)\",\"only school (or less)\",\"only school (or less)\",\"only school (or less)\",\"only school (or less)\",\"only school (or less)\",\"only school (or less)\",\"only school (or less)\",\"only school (or less)\",\"only school (or less)\",\"only school (or less)\",\"only school (or less)\",\"only school (or less)\",\"only school (or less)\",\"only school (or less)\",\"only school (or less)\",\"only school (or less)\",\"only school (or less)\",\"only school (or less)\",\"only school (or less)\",\"only school (or less)\",\"only school (or less)\",\"only school (or less)\",\"only school (or less)\",\"only school (or less)\",\"only school (or less)\",\"only school (or less)\",\"only school (or less)\",\"only school (or less)\",\"only school (or less)\",\"only school (or less)\",\"only school (or less)\",\"only school (or less)\",\"only school (or less)\",\"only school (or less)\",\"only school (or less)\",\"only school (or less)\",\"only school (or less)\",\"only school (or less)\",\"only school (or less)\",\"only school (or less)\",\"only school (or less)\",\"only school (or less)\",\"only school (or less)\",\"only school (or less)\",\"only school (or less)\",\"only school (or less)\",\"only school (or less)\",\"only school (or less)\",\"only school (or less)\",\"only school (or less)\",\"only school (or less)\",\"only school (or less)\",\"only school (or less)\",\"only school (or less)\",\"only school (or less)\",\"only school (or less)\",\"only school (or less)\",\"only school (or less)\",\"only school (or less)\",\"only school (or less)\",\"only school (or less)\",\"only school (or less)\",\"only school (or less)\",\"only school (or less)\",\"only school (or less)\",\"only school (or less)\",\"only school (or less)\",\"only school (or less)\",\"only school (or less)\",\"only school (or less)\",\"only school (or less)\",\"only school (or less)\",\"only school (or less)\",\"only school (or less)\",\"only school (or less)\",\"only school (or less)\",\"only school (or less)\",\"only school (or less)\",\"only school (or less)\",\"only school (or less)\",\"only school (or less)\",\"only school (or less)\",\"only school (or less)\",\"only school (or less)\",\"only school (or less)\",\"only school (or less)\",\"only school (or less)\",\"only school (or less)\",\"only school (or less)\",\"only school (or less)\",\"only school (or less)\",\"only school (or less)\",\"only school (or less)\",\"only school (or less)\",\"only school (or less)\",\"only school (or less)\",\"only school (or less)\",\"only school (or less)\",\"only school (or less)\",\"only school (or less)\",\"only school (or less)\",\"only school (or less)\",\"only school (or less)\",\"only school (or less)\",\"only school (or less)\",\"only school (or less)\",\"only school (or less)\",\"only school (or less)\",\"only school (or less)\",\"only school (or less)\",\"only school (or less)\",\"only school (or less)\",\"only school (or less)\",\"only school (or less)\",\"only school (or less)\",\"only school (or less)\",\"only school (or less)\",\"only school (or less)\",\"only school (or less)\",\"only school (or less)\",\"only school (or less)\",\"only school (or less)\",\"only school (or less)\",\"only school (or less)\",\"only school (or less)\",\"only school (or less)\",\"only school (or less)\",\"only school (or less)\",\"only school (or less)\",\"only school (or less)\",\"only school (or less)\",\"only school (or less)\",\"only school (or less)\",\"only school (or less)\",\"only school (or less)\",\"only school (or less)\",\"only school (or less)\",\"only school (or less)\"],\"xaxis\":\"x\",\"y\":[12,12,9,12,11,12,12,12,12,12,12,12,12,12,12,12,12,10,12,12,12,10,11,12,10,9,12,12,12,10,12,12,12,12,12,12,12,12,11,11,12,12,12,12,12,12,12,12,12,12,12,12,11,12,12,12,11,12,10,12,10,12,12,10,12,12,12,12,12,12,12,12,9,12,11,12,11,12,12,12,12,11,12,11,12,12,12,12,12,12,12,12,7,12,12,12,12,11,12,12,12,12,12,8,12,12,11,11,12,12,12,12,12,12,11,12,12,12,12,12,12,12,6,10,11,12,9,12,12,12,11,10,11,12,9,12,12,12,12,11,11,12,12,12,12,12,11,12,12,12,12,12,12,12,12,12,12,12,12,12,12,11,12,12,12,12,12,12,10,9,11,12,12,12,12,11,12,10,12,10,12,12,12,11,9,12,12,12,12,12,12,12,9,12,12,11,10,12,10,12,12,12,12,12,11,12,12,11,10,11,10,11,11,12,12,11,12,12,12,9,12,12,12,11,10,12,12,12,12,12,11,12,12,12,12,12,11,12,12,9,9,12,12,12,12,12,12,12,12,12,12,10,12,12,12,10,12,12,12,12,12,12,12,12,12,12,12,9,12,12,9,12,12,12,9,10,11,12,10,12,11,12,12,10,11,10,12,12,12,12,12,11,12,8,12,12,12,10,12,12,12,12,11,12,12,8,11,12,12,12,12,10,11,12,12,7,12,12,12,12,12,12,12,12,8,12,12,12,12,10,12,12,12,10,12,10,12,12,12,12,11,10,11,11,11,11,12,12,3,11,12,10,11,12,12,12,12,12,12,11,12,9,12,12,12,9,11,12,12,10,12,10,10,8,12,12,9,12,12,10,9,11,10,12,12,12,12,12,11,12,12,11,12,12,11,10,12,9,6,9,12,11,12,12,12,9,12,12,12,11,12,12,9,10,9,12,12,12,12,12,12,12,12,12,12,12,12,12,12,12,12,12,12,12,12,12,12,12,12,12,12,12,12,12,12,12,12,12,12,12,12,12,12,12,12,12,12,12,12,12,12,12,12,12,10,12,12,12,12,12,12,12,12,12,11,12,11,12,12,12,12,9,11,12,12,10,12,12,12,12,12,12,12,12,12,12,11,12,12,12,12,12,12,12,12,12,12],\"yaxis\":\"y\",\"type\":\"histogram\"},{\"alignmentgroup\":\"True\",\"bingroup\":\"x\",\"histfunc\":\"count\",\"hovertemplate\":\"education=%{x}<br>poverty=1<br>count=%{y}<extra></extra>\",\"legendgroup\":\"only school (or less), 1\",\"marker\":{\"color\":\"#EF553B\",\"pattern\":{\"shape\":\"/\"}},\"name\":\"only school (or less), 1\",\"offsetgroup\":\"only school (or less), 1\",\"orientation\":\"v\",\"showlegend\":true,\"texttemplate\":\"%{value}\",\"x\":[\"only school (or less)\",\"only school (or less)\",\"only school (or less)\",\"only school (or less)\",\"only school (or less)\",\"only school (or less)\",\"only school (or less)\",\"only school (or less)\",\"only school (or less)\",\"only school (or less)\",\"only school (or less)\",\"only school (or less)\",\"only school (or less)\",\"only school (or less)\",\"only school (or less)\",\"only school (or less)\",\"only school (or less)\",\"only school (or less)\",\"only school (or less)\",\"only school (or less)\",\"only school (or less)\",\"only school (or less)\",\"only school (or less)\",\"only school (or less)\",\"only school (or less)\",\"only school (or less)\",\"only school (or less)\",\"only school (or less)\",\"only school (or less)\",\"only school (or less)\",\"only school (or less)\",\"only school (or less)\",\"only school (or less)\",\"only school (or less)\",\"only school (or less)\",\"only school (or less)\",\"only school (or less)\",\"only school (or less)\",\"only school (or less)\",\"only school (or less)\",\"only school (or less)\",\"only school (or less)\",\"only school (or less)\",\"only school (or less)\",\"only school (or less)\",\"only school (or less)\",\"only school (or less)\",\"only school (or less)\",\"only school (or less)\",\"only school (or less)\",\"only school (or less)\",\"only school (or less)\",\"only school (or less)\",\"only school (or less)\",\"only school (or less)\",\"only school (or less)\",\"only school (or less)\",\"only school (or less)\",\"only school (or less)\",\"only school (or less)\",\"only school (or less)\",\"only school (or less)\",\"only school (or less)\",\"only school (or less)\",\"only school (or less)\",\"only school (or less)\",\"only school (or less)\",\"only school (or less)\",\"only school (or less)\",\"only school (or less)\",\"only school (or less)\",\"only school (or less)\",\"only school (or less)\",\"only school (or less)\",\"only school (or less)\",\"only school (or less)\",\"only school (or less)\",\"only school (or less)\",\"only school (or less)\",\"only school (or less)\",\"only school (or less)\",\"only school (or less)\",\"only school (or less)\",\"only school (or less)\",\"only school (or less)\",\"only school (or less)\",\"only school (or less)\",\"only school (or less)\",\"only school (or less)\",\"only school (or less)\",\"only school (or less)\",\"only school (or less)\",\"only school (or less)\",\"only school (or less)\",\"only school (or less)\",\"only school (or less)\",\"only school (or less)\",\"only school (or less)\",\"only school (or less)\",\"only school (or less)\",\"only school (or less)\",\"only school (or less)\",\"only school (or less)\",\"only school (or less)\",\"only school (or less)\",\"only school (or less)\",\"only school (or less)\",\"only school (or less)\",\"only school (or less)\",\"only school (or less)\",\"only school (or less)\",\"only school (or less)\",\"only school (or less)\",\"only school (or less)\",\"only school (or less)\",\"only school (or less)\",\"only school (or less)\",\"only school (or less)\",\"only school (or less)\",\"only school (or less)\",\"only school (or less)\",\"only school (or less)\",\"only school (or less)\",\"only school (or less)\",\"only school (or less)\",\"only school (or less)\",\"only school (or less)\",\"only school (or less)\",\"only school (or less)\",\"only school (or less)\",\"only school (or less)\",\"only school (or less)\",\"only school (or less)\",\"only school (or less)\",\"only school (or less)\",\"only school (or less)\",\"only school (or less)\",\"only school (or less)\",\"only school (or less)\",\"only school (or less)\",\"only school (or less)\",\"only school (or less)\",\"only school (or less)\",\"only school (or less)\",\"only school (or less)\",\"only school (or less)\",\"only school (or less)\",\"only school (or less)\",\"only school (or less)\",\"only school (or less)\",\"only school (or less)\"],\"xaxis\":\"x\",\"y\":[9,12,12,12,11,12,12,8,8,8,10,9,10,10,10,12,11,12,12,10,9,8,10,11,12,12,12,12,11,11,12,11,12,10,11,12,12,12,12,12,8,11,12,8,10,12,12,12,9,12,12,12,12,10,12,11,12,11,11,12,12,12,8,10,12,11,10,11,10,10,7,10,6,9,10,10,11,10,12,12,6,7,8,12,11,8,12,12,12,8,10,12,9,12,8,9,12,8,10,10,11,10,8,7,11,12,11,10,11,12,12,12,9,9,11,12,11,12,11,12,12,11,11,7,10,12,11,12,12,10,9,9,11,9,12,12,12,12,12,12,12,12,10,12,10,9,12,10,11,11,12],\"yaxis\":\"y\",\"type\":\"histogram\"}],                        {\"template\":{\"data\":{\"histogram2dcontour\":[{\"type\":\"histogram2dcontour\",\"colorbar\":{\"outlinewidth\":0,\"ticks\":\"\"},\"colorscale\":[[0.0,\"#0d0887\"],[0.1111111111111111,\"#46039f\"],[0.2222222222222222,\"#7201a8\"],[0.3333333333333333,\"#9c179e\"],[0.4444444444444444,\"#bd3786\"],[0.5555555555555556,\"#d8576b\"],[0.6666666666666666,\"#ed7953\"],[0.7777777777777778,\"#fb9f3a\"],[0.8888888888888888,\"#fdca26\"],[1.0,\"#f0f921\"]]}],\"choropleth\":[{\"type\":\"choropleth\",\"colorbar\":{\"outlinewidth\":0,\"ticks\":\"\"}}],\"histogram2d\":[{\"type\":\"histogram2d\",\"colorbar\":{\"outlinewidth\":0,\"ticks\":\"\"},\"colorscale\":[[0.0,\"#0d0887\"],[0.1111111111111111,\"#46039f\"],[0.2222222222222222,\"#7201a8\"],[0.3333333333333333,\"#9c179e\"],[0.4444444444444444,\"#bd3786\"],[0.5555555555555556,\"#d8576b\"],[0.6666666666666666,\"#ed7953\"],[0.7777777777777778,\"#fb9f3a\"],[0.8888888888888888,\"#fdca26\"],[1.0,\"#f0f921\"]]}],\"heatmap\":[{\"type\":\"heatmap\",\"colorbar\":{\"outlinewidth\":0,\"ticks\":\"\"},\"colorscale\":[[0.0,\"#0d0887\"],[0.1111111111111111,\"#46039f\"],[0.2222222222222222,\"#7201a8\"],[0.3333333333333333,\"#9c179e\"],[0.4444444444444444,\"#bd3786\"],[0.5555555555555556,\"#d8576b\"],[0.6666666666666666,\"#ed7953\"],[0.7777777777777778,\"#fb9f3a\"],[0.8888888888888888,\"#fdca26\"],[1.0,\"#f0f921\"]]}],\"heatmapgl\":[{\"type\":\"heatmapgl\",\"colorbar\":{\"outlinewidth\":0,\"ticks\":\"\"},\"colorscale\":[[0.0,\"#0d0887\"],[0.1111111111111111,\"#46039f\"],[0.2222222222222222,\"#7201a8\"],[0.3333333333333333,\"#9c179e\"],[0.4444444444444444,\"#bd3786\"],[0.5555555555555556,\"#d8576b\"],[0.6666666666666666,\"#ed7953\"],[0.7777777777777778,\"#fb9f3a\"],[0.8888888888888888,\"#fdca26\"],[1.0,\"#f0f921\"]]}],\"contourcarpet\":[{\"type\":\"contourcarpet\",\"colorbar\":{\"outlinewidth\":0,\"ticks\":\"\"}}],\"contour\":[{\"type\":\"contour\",\"colorbar\":{\"outlinewidth\":0,\"ticks\":\"\"},\"colorscale\":[[0.0,\"#0d0887\"],[0.1111111111111111,\"#46039f\"],[0.2222222222222222,\"#7201a8\"],[0.3333333333333333,\"#9c179e\"],[0.4444444444444444,\"#bd3786\"],[0.5555555555555556,\"#d8576b\"],[0.6666666666666666,\"#ed7953\"],[0.7777777777777778,\"#fb9f3a\"],[0.8888888888888888,\"#fdca26\"],[1.0,\"#f0f921\"]]}],\"surface\":[{\"type\":\"surface\",\"colorbar\":{\"outlinewidth\":0,\"ticks\":\"\"},\"colorscale\":[[0.0,\"#0d0887\"],[0.1111111111111111,\"#46039f\"],[0.2222222222222222,\"#7201a8\"],[0.3333333333333333,\"#9c179e\"],[0.4444444444444444,\"#bd3786\"],[0.5555555555555556,\"#d8576b\"],[0.6666666666666666,\"#ed7953\"],[0.7777777777777778,\"#fb9f3a\"],[0.8888888888888888,\"#fdca26\"],[1.0,\"#f0f921\"]]}],\"mesh3d\":[{\"type\":\"mesh3d\",\"colorbar\":{\"outlinewidth\":0,\"ticks\":\"\"}}],\"scatter\":[{\"fillpattern\":{\"fillmode\":\"overlay\",\"size\":10,\"solidity\":0.2},\"type\":\"scatter\"}],\"parcoords\":[{\"type\":\"parcoords\",\"line\":{\"colorbar\":{\"outlinewidth\":0,\"ticks\":\"\"}}}],\"scatterpolargl\":[{\"type\":\"scatterpolargl\",\"marker\":{\"colorbar\":{\"outlinewidth\":0,\"ticks\":\"\"}}}],\"bar\":[{\"error_x\":{\"color\":\"#2a3f5f\"},\"error_y\":{\"color\":\"#2a3f5f\"},\"marker\":{\"line\":{\"color\":\"#E5ECF6\",\"width\":0.5},\"pattern\":{\"fillmode\":\"overlay\",\"size\":10,\"solidity\":0.2}},\"type\":\"bar\"}],\"scattergeo\":[{\"type\":\"scattergeo\",\"marker\":{\"colorbar\":{\"outlinewidth\":0,\"ticks\":\"\"}}}],\"scatterpolar\":[{\"type\":\"scatterpolar\",\"marker\":{\"colorbar\":{\"outlinewidth\":0,\"ticks\":\"\"}}}],\"histogram\":[{\"marker\":{\"pattern\":{\"fillmode\":\"overlay\",\"size\":10,\"solidity\":0.2}},\"type\":\"histogram\"}],\"scattergl\":[{\"type\":\"scattergl\",\"marker\":{\"colorbar\":{\"outlinewidth\":0,\"ticks\":\"\"}}}],\"scatter3d\":[{\"type\":\"scatter3d\",\"line\":{\"colorbar\":{\"outlinewidth\":0,\"ticks\":\"\"}},\"marker\":{\"colorbar\":{\"outlinewidth\":0,\"ticks\":\"\"}}}],\"scattermapbox\":[{\"type\":\"scattermapbox\",\"marker\":{\"colorbar\":{\"outlinewidth\":0,\"ticks\":\"\"}}}],\"scatterternary\":[{\"type\":\"scatterternary\",\"marker\":{\"colorbar\":{\"outlinewidth\":0,\"ticks\":\"\"}}}],\"scattercarpet\":[{\"type\":\"scattercarpet\",\"marker\":{\"colorbar\":{\"outlinewidth\":0,\"ticks\":\"\"}}}],\"carpet\":[{\"aaxis\":{\"endlinecolor\":\"#2a3f5f\",\"gridcolor\":\"white\",\"linecolor\":\"white\",\"minorgridcolor\":\"white\",\"startlinecolor\":\"#2a3f5f\"},\"baxis\":{\"endlinecolor\":\"#2a3f5f\",\"gridcolor\":\"white\",\"linecolor\":\"white\",\"minorgridcolor\":\"white\",\"startlinecolor\":\"#2a3f5f\"},\"type\":\"carpet\"}],\"table\":[{\"cells\":{\"fill\":{\"color\":\"#EBF0F8\"},\"line\":{\"color\":\"white\"}},\"header\":{\"fill\":{\"color\":\"#C8D4E3\"},\"line\":{\"color\":\"white\"}},\"type\":\"table\"}],\"barpolar\":[{\"marker\":{\"line\":{\"color\":\"#E5ECF6\",\"width\":0.5},\"pattern\":{\"fillmode\":\"overlay\",\"size\":10,\"solidity\":0.2}},\"type\":\"barpolar\"}],\"pie\":[{\"automargin\":true,\"type\":\"pie\"}]},\"layout\":{\"autotypenumbers\":\"strict\",\"colorway\":[\"#636efa\",\"#EF553B\",\"#00cc96\",\"#ab63fa\",\"#FFA15A\",\"#19d3f3\",\"#FF6692\",\"#B6E880\",\"#FF97FF\",\"#FECB52\"],\"font\":{\"color\":\"#2a3f5f\"},\"hovermode\":\"closest\",\"hoverlabel\":{\"align\":\"left\"},\"paper_bgcolor\":\"white\",\"plot_bgcolor\":\"#E5ECF6\",\"polar\":{\"bgcolor\":\"#E5ECF6\",\"angularaxis\":{\"gridcolor\":\"white\",\"linecolor\":\"white\",\"ticks\":\"\"},\"radialaxis\":{\"gridcolor\":\"white\",\"linecolor\":\"white\",\"ticks\":\"\"}},\"ternary\":{\"bgcolor\":\"#E5ECF6\",\"aaxis\":{\"gridcolor\":\"white\",\"linecolor\":\"white\",\"ticks\":\"\"},\"baxis\":{\"gridcolor\":\"white\",\"linecolor\":\"white\",\"ticks\":\"\"},\"caxis\":{\"gridcolor\":\"white\",\"linecolor\":\"white\",\"ticks\":\"\"}},\"coloraxis\":{\"colorbar\":{\"outlinewidth\":0,\"ticks\":\"\"}},\"colorscale\":{\"sequential\":[[0.0,\"#0d0887\"],[0.1111111111111111,\"#46039f\"],[0.2222222222222222,\"#7201a8\"],[0.3333333333333333,\"#9c179e\"],[0.4444444444444444,\"#bd3786\"],[0.5555555555555556,\"#d8576b\"],[0.6666666666666666,\"#ed7953\"],[0.7777777777777778,\"#fb9f3a\"],[0.8888888888888888,\"#fdca26\"],[1.0,\"#f0f921\"]],\"sequentialminus\":[[0.0,\"#0d0887\"],[0.1111111111111111,\"#46039f\"],[0.2222222222222222,\"#7201a8\"],[0.3333333333333333,\"#9c179e\"],[0.4444444444444444,\"#bd3786\"],[0.5555555555555556,\"#d8576b\"],[0.6666666666666666,\"#ed7953\"],[0.7777777777777778,\"#fb9f3a\"],[0.8888888888888888,\"#fdca26\"],[1.0,\"#f0f921\"]],\"diverging\":[[0,\"#8e0152\"],[0.1,\"#c51b7d\"],[0.2,\"#de77ae\"],[0.3,\"#f1b6da\"],[0.4,\"#fde0ef\"],[0.5,\"#f7f7f7\"],[0.6,\"#e6f5d0\"],[0.7,\"#b8e186\"],[0.8,\"#7fbc41\"],[0.9,\"#4d9221\"],[1,\"#276419\"]]},\"xaxis\":{\"gridcolor\":\"white\",\"linecolor\":\"white\",\"ticks\":\"\",\"title\":{\"standoff\":15},\"zerolinecolor\":\"white\",\"automargin\":true,\"zerolinewidth\":2},\"yaxis\":{\"gridcolor\":\"white\",\"linecolor\":\"white\",\"ticks\":\"\",\"title\":{\"standoff\":15},\"zerolinecolor\":\"white\",\"automargin\":true,\"zerolinewidth\":2},\"scene\":{\"xaxis\":{\"backgroundcolor\":\"#E5ECF6\",\"gridcolor\":\"white\",\"linecolor\":\"white\",\"showbackground\":true,\"ticks\":\"\",\"zerolinecolor\":\"white\",\"gridwidth\":2},\"yaxis\":{\"backgroundcolor\":\"#E5ECF6\",\"gridcolor\":\"white\",\"linecolor\":\"white\",\"showbackground\":true,\"ticks\":\"\",\"zerolinecolor\":\"white\",\"gridwidth\":2},\"zaxis\":{\"backgroundcolor\":\"#E5ECF6\",\"gridcolor\":\"white\",\"linecolor\":\"white\",\"showbackground\":true,\"ticks\":\"\",\"zerolinecolor\":\"white\",\"gridwidth\":2}},\"shapedefaults\":{\"line\":{\"color\":\"#2a3f5f\"}},\"annotationdefaults\":{\"arrowcolor\":\"#2a3f5f\",\"arrowhead\":0,\"arrowwidth\":1},\"geo\":{\"bgcolor\":\"white\",\"landcolor\":\"#E5ECF6\",\"subunitcolor\":\"white\",\"showland\":true,\"showlakes\":true,\"lakecolor\":\"white\"},\"title\":{\"x\":0.05},\"mapbox\":{\"style\":\"light\"}}},\"xaxis\":{\"anchor\":\"y\",\"domain\":[0.0,1.0],\"title\":{\"text\":\"education\"},\"categoryorder\":\"array\",\"categoryarray\":[\"higher education\",\"only school (or less)\"]},\"yaxis\":{\"anchor\":\"x\",\"domain\":[0.0,1.0],\"title\":{\"text\":\"count\"}},\"legend\":{\"title\":{\"text\":\"education, poverty\"},\"tracegroupgap\":0},\"margin\":{\"t\":60},\"barmode\":\"relative\"},                        {\"responsive\": true}                    ).then(function(){\n",
              "                            \n",
              "var gd = document.getElementById('880681b5-3830-4a2b-ab2d-4847c14b09df');\n",
              "var x = new MutationObserver(function (mutations, observer) {{\n",
              "        var display = window.getComputedStyle(gd).display;\n",
              "        if (!display || display === 'none') {{\n",
              "            console.log([gd, 'removed!']);\n",
              "            Plotly.purge(gd);\n",
              "            observer.disconnect();\n",
              "        }}\n",
              "}});\n",
              "\n",
              "// Listen for the removal of the full notebook cells\n",
              "var notebookContainer = gd.closest('#notebook-container');\n",
              "if (notebookContainer) {{\n",
              "    x.observe(notebookContainer, {childList: true});\n",
              "}}\n",
              "\n",
              "// Listen for the clearing of the current output cell\n",
              "var outputEl = gd.closest('.output');\n",
              "if (outputEl) {{\n",
              "    x.observe(outputEl, {childList: true});\n",
              "}}\n",
              "\n",
              "                        })                };                            </script>        </div>\n",
              "</body>\n",
              "</html>"
            ]
          },
          "metadata": {}
        }
      ],
      "source": [
        "fig = px.histogram(data, x=\"education\", y=\"yschool\", color=\"education\", pattern_shape=\"poverty\", histfunc=\"count\", text_auto=True)\n",
        "fig.show()"
      ]
    },
    {
      "cell_type": "markdown",
      "metadata": {
        "id": "8BKOM48AsPAj"
      },
      "source": [
        "Среди женщин закончивших только школу ~23% находяться в тяжелом материальном положении.\n",
        "\n",
        "Среди же матерей с высшим образованием бедных всего ~7,5%."
      ]
    },
    {
      "cell_type": "markdown",
      "metadata": {
        "id": "af17s_YRbLH1"
      },
      "source": [
        "## 3. Круговые диаграммы"
      ]
    },
    {
      "cell_type": "code",
      "execution_count": 53,
      "metadata": {
        "id": "VfQf3J_pq7we",
        "colab": {
          "base_uri": "https://localhost:8080/",
          "height": 542
        },
        "outputId": "32cc5830-d4f6-41f8-b5c7-d18bbb9c862e"
      },
      "outputs": [
        {
          "output_type": "display_data",
          "data": {
            "text/html": [
              "<html>\n",
              "<head><meta charset=\"utf-8\" /></head>\n",
              "<body>\n",
              "    <div>            <script src=\"https://cdnjs.cloudflare.com/ajax/libs/mathjax/2.7.5/MathJax.js?config=TeX-AMS-MML_SVG\"></script><script type=\"text/javascript\">if (window.MathJax && window.MathJax.Hub && window.MathJax.Hub.Config) {window.MathJax.Hub.Config({SVG: {font: \"STIX-Web\"}});}</script>                <script type=\"text/javascript\">window.PlotlyConfig = {MathJaxConfig: 'local'};</script>\n",
              "        <script src=\"https://cdn.plot.ly/plotly-2.18.2.min.js\"></script>                <div id=\"12aa5cd9-fef5-4cfd-baf5-8ef18a05dd25\" class=\"plotly-graph-div\" style=\"height:525px; width:100%;\"></div>            <script type=\"text/javascript\">                                    window.PLOTLYENV=window.PLOTLYENV || {};                                    if (document.getElementById(\"12aa5cd9-fef5-4cfd-baf5-8ef18a05dd25\")) {                    Plotly.newPlot(                        \"12aa5cd9-fef5-4cfd-baf5-8ef18a05dd25\",                        [{\"labels\":[\"White\",\"Black\",\"Another\"],\"name\":\"race\",\"values\":[662,117,148],\"type\":\"pie\",\"domain\":{\"x\":[0.0,0.2888888888888889],\"y\":[0.575,1.0]},\"hole\":0.4,\"hoverinfo\":\"label+percent+name\"},{\"labels\":[\"No\",\"Yes\"],\"name\":\"poverty\",\"values\":[756,171],\"type\":\"pie\",\"domain\":{\"x\":[0.35555555555555557,0.6444444444444445],\"y\":[0.575,1.0]},\"hole\":0.4,\"hoverinfo\":\"label+percent+name\"},{\"labels\":[\"No\",\"Yes\"],\"name\":\"education\",\"values\":[658,269],\"type\":\"pie\",\"domain\":{\"x\":[0.7111111111111111,1.0],\"y\":[0.575,1.0]},\"hole\":0.4,\"hoverinfo\":\"label+percent+name\"},{\"labels\":[\"No\",\"Yes\"],\"name\":\"smoke\",\"values\":[657,270],\"type\":\"pie\",\"domain\":{\"x\":[0.0,0.2888888888888889],\"y\":[0.0,0.425]},\"hole\":0.4,\"hoverinfo\":\"label+percent+name\"},{\"labels\":[\"No\",\"Yes\"],\"name\":\"alcohol\",\"values\":[848,79],\"type\":\"pie\",\"domain\":{\"x\":[0.35555555555555557,0.6444444444444445],\"y\":[0.0,0.425]},\"hole\":0.4,\"hoverinfo\":\"label+percent+name\"},{\"labels\":[\"No\",\"Yes\"],\"name\":\"pc3mth\",\"values\":[763,164],\"type\":\"pie\",\"domain\":{\"x\":[0.7111111111111111,1.0],\"y\":[0.0,0.425]},\"hole\":0.4,\"hoverinfo\":\"label+percent+name\"}],                        {\"template\":{\"data\":{\"histogram2dcontour\":[{\"type\":\"histogram2dcontour\",\"colorbar\":{\"outlinewidth\":0,\"ticks\":\"\"},\"colorscale\":[[0.0,\"#0d0887\"],[0.1111111111111111,\"#46039f\"],[0.2222222222222222,\"#7201a8\"],[0.3333333333333333,\"#9c179e\"],[0.4444444444444444,\"#bd3786\"],[0.5555555555555556,\"#d8576b\"],[0.6666666666666666,\"#ed7953\"],[0.7777777777777778,\"#fb9f3a\"],[0.8888888888888888,\"#fdca26\"],[1.0,\"#f0f921\"]]}],\"choropleth\":[{\"type\":\"choropleth\",\"colorbar\":{\"outlinewidth\":0,\"ticks\":\"\"}}],\"histogram2d\":[{\"type\":\"histogram2d\",\"colorbar\":{\"outlinewidth\":0,\"ticks\":\"\"},\"colorscale\":[[0.0,\"#0d0887\"],[0.1111111111111111,\"#46039f\"],[0.2222222222222222,\"#7201a8\"],[0.3333333333333333,\"#9c179e\"],[0.4444444444444444,\"#bd3786\"],[0.5555555555555556,\"#d8576b\"],[0.6666666666666666,\"#ed7953\"],[0.7777777777777778,\"#fb9f3a\"],[0.8888888888888888,\"#fdca26\"],[1.0,\"#f0f921\"]]}],\"heatmap\":[{\"type\":\"heatmap\",\"colorbar\":{\"outlinewidth\":0,\"ticks\":\"\"},\"colorscale\":[[0.0,\"#0d0887\"],[0.1111111111111111,\"#46039f\"],[0.2222222222222222,\"#7201a8\"],[0.3333333333333333,\"#9c179e\"],[0.4444444444444444,\"#bd3786\"],[0.5555555555555556,\"#d8576b\"],[0.6666666666666666,\"#ed7953\"],[0.7777777777777778,\"#fb9f3a\"],[0.8888888888888888,\"#fdca26\"],[1.0,\"#f0f921\"]]}],\"heatmapgl\":[{\"type\":\"heatmapgl\",\"colorbar\":{\"outlinewidth\":0,\"ticks\":\"\"},\"colorscale\":[[0.0,\"#0d0887\"],[0.1111111111111111,\"#46039f\"],[0.2222222222222222,\"#7201a8\"],[0.3333333333333333,\"#9c179e\"],[0.4444444444444444,\"#bd3786\"],[0.5555555555555556,\"#d8576b\"],[0.6666666666666666,\"#ed7953\"],[0.7777777777777778,\"#fb9f3a\"],[0.8888888888888888,\"#fdca26\"],[1.0,\"#f0f921\"]]}],\"contourcarpet\":[{\"type\":\"contourcarpet\",\"colorbar\":{\"outlinewidth\":0,\"ticks\":\"\"}}],\"contour\":[{\"type\":\"contour\",\"colorbar\":{\"outlinewidth\":0,\"ticks\":\"\"},\"colorscale\":[[0.0,\"#0d0887\"],[0.1111111111111111,\"#46039f\"],[0.2222222222222222,\"#7201a8\"],[0.3333333333333333,\"#9c179e\"],[0.4444444444444444,\"#bd3786\"],[0.5555555555555556,\"#d8576b\"],[0.6666666666666666,\"#ed7953\"],[0.7777777777777778,\"#fb9f3a\"],[0.8888888888888888,\"#fdca26\"],[1.0,\"#f0f921\"]]}],\"surface\":[{\"type\":\"surface\",\"colorbar\":{\"outlinewidth\":0,\"ticks\":\"\"},\"colorscale\":[[0.0,\"#0d0887\"],[0.1111111111111111,\"#46039f\"],[0.2222222222222222,\"#7201a8\"],[0.3333333333333333,\"#9c179e\"],[0.4444444444444444,\"#bd3786\"],[0.5555555555555556,\"#d8576b\"],[0.6666666666666666,\"#ed7953\"],[0.7777777777777778,\"#fb9f3a\"],[0.8888888888888888,\"#fdca26\"],[1.0,\"#f0f921\"]]}],\"mesh3d\":[{\"type\":\"mesh3d\",\"colorbar\":{\"outlinewidth\":0,\"ticks\":\"\"}}],\"scatter\":[{\"fillpattern\":{\"fillmode\":\"overlay\",\"size\":10,\"solidity\":0.2},\"type\":\"scatter\"}],\"parcoords\":[{\"type\":\"parcoords\",\"line\":{\"colorbar\":{\"outlinewidth\":0,\"ticks\":\"\"}}}],\"scatterpolargl\":[{\"type\":\"scatterpolargl\",\"marker\":{\"colorbar\":{\"outlinewidth\":0,\"ticks\":\"\"}}}],\"bar\":[{\"error_x\":{\"color\":\"#2a3f5f\"},\"error_y\":{\"color\":\"#2a3f5f\"},\"marker\":{\"line\":{\"color\":\"#E5ECF6\",\"width\":0.5},\"pattern\":{\"fillmode\":\"overlay\",\"size\":10,\"solidity\":0.2}},\"type\":\"bar\"}],\"scattergeo\":[{\"type\":\"scattergeo\",\"marker\":{\"colorbar\":{\"outlinewidth\":0,\"ticks\":\"\"}}}],\"scatterpolar\":[{\"type\":\"scatterpolar\",\"marker\":{\"colorbar\":{\"outlinewidth\":0,\"ticks\":\"\"}}}],\"histogram\":[{\"marker\":{\"pattern\":{\"fillmode\":\"overlay\",\"size\":10,\"solidity\":0.2}},\"type\":\"histogram\"}],\"scattergl\":[{\"type\":\"scattergl\",\"marker\":{\"colorbar\":{\"outlinewidth\":0,\"ticks\":\"\"}}}],\"scatter3d\":[{\"type\":\"scatter3d\",\"line\":{\"colorbar\":{\"outlinewidth\":0,\"ticks\":\"\"}},\"marker\":{\"colorbar\":{\"outlinewidth\":0,\"ticks\":\"\"}}}],\"scattermapbox\":[{\"type\":\"scattermapbox\",\"marker\":{\"colorbar\":{\"outlinewidth\":0,\"ticks\":\"\"}}}],\"scatterternary\":[{\"type\":\"scatterternary\",\"marker\":{\"colorbar\":{\"outlinewidth\":0,\"ticks\":\"\"}}}],\"scattercarpet\":[{\"type\":\"scattercarpet\",\"marker\":{\"colorbar\":{\"outlinewidth\":0,\"ticks\":\"\"}}}],\"carpet\":[{\"aaxis\":{\"endlinecolor\":\"#2a3f5f\",\"gridcolor\":\"white\",\"linecolor\":\"white\",\"minorgridcolor\":\"white\",\"startlinecolor\":\"#2a3f5f\"},\"baxis\":{\"endlinecolor\":\"#2a3f5f\",\"gridcolor\":\"white\",\"linecolor\":\"white\",\"minorgridcolor\":\"white\",\"startlinecolor\":\"#2a3f5f\"},\"type\":\"carpet\"}],\"table\":[{\"cells\":{\"fill\":{\"color\":\"#EBF0F8\"},\"line\":{\"color\":\"white\"}},\"header\":{\"fill\":{\"color\":\"#C8D4E3\"},\"line\":{\"color\":\"white\"}},\"type\":\"table\"}],\"barpolar\":[{\"marker\":{\"line\":{\"color\":\"#E5ECF6\",\"width\":0.5},\"pattern\":{\"fillmode\":\"overlay\",\"size\":10,\"solidity\":0.2}},\"type\":\"barpolar\"}],\"pie\":[{\"automargin\":true,\"type\":\"pie\"}]},\"layout\":{\"autotypenumbers\":\"strict\",\"colorway\":[\"#636efa\",\"#EF553B\",\"#00cc96\",\"#ab63fa\",\"#FFA15A\",\"#19d3f3\",\"#FF6692\",\"#B6E880\",\"#FF97FF\",\"#FECB52\"],\"font\":{\"color\":\"#2a3f5f\"},\"hovermode\":\"closest\",\"hoverlabel\":{\"align\":\"left\"},\"paper_bgcolor\":\"white\",\"plot_bgcolor\":\"#E5ECF6\",\"polar\":{\"bgcolor\":\"#E5ECF6\",\"angularaxis\":{\"gridcolor\":\"white\",\"linecolor\":\"white\",\"ticks\":\"\"},\"radialaxis\":{\"gridcolor\":\"white\",\"linecolor\":\"white\",\"ticks\":\"\"}},\"ternary\":{\"bgcolor\":\"#E5ECF6\",\"aaxis\":{\"gridcolor\":\"white\",\"linecolor\":\"white\",\"ticks\":\"\"},\"baxis\":{\"gridcolor\":\"white\",\"linecolor\":\"white\",\"ticks\":\"\"},\"caxis\":{\"gridcolor\":\"white\",\"linecolor\":\"white\",\"ticks\":\"\"}},\"coloraxis\":{\"colorbar\":{\"outlinewidth\":0,\"ticks\":\"\"}},\"colorscale\":{\"sequential\":[[0.0,\"#0d0887\"],[0.1111111111111111,\"#46039f\"],[0.2222222222222222,\"#7201a8\"],[0.3333333333333333,\"#9c179e\"],[0.4444444444444444,\"#bd3786\"],[0.5555555555555556,\"#d8576b\"],[0.6666666666666666,\"#ed7953\"],[0.7777777777777778,\"#fb9f3a\"],[0.8888888888888888,\"#fdca26\"],[1.0,\"#f0f921\"]],\"sequentialminus\":[[0.0,\"#0d0887\"],[0.1111111111111111,\"#46039f\"],[0.2222222222222222,\"#7201a8\"],[0.3333333333333333,\"#9c179e\"],[0.4444444444444444,\"#bd3786\"],[0.5555555555555556,\"#d8576b\"],[0.6666666666666666,\"#ed7953\"],[0.7777777777777778,\"#fb9f3a\"],[0.8888888888888888,\"#fdca26\"],[1.0,\"#f0f921\"]],\"diverging\":[[0,\"#8e0152\"],[0.1,\"#c51b7d\"],[0.2,\"#de77ae\"],[0.3,\"#f1b6da\"],[0.4,\"#fde0ef\"],[0.5,\"#f7f7f7\"],[0.6,\"#e6f5d0\"],[0.7,\"#b8e186\"],[0.8,\"#7fbc41\"],[0.9,\"#4d9221\"],[1,\"#276419\"]]},\"xaxis\":{\"gridcolor\":\"white\",\"linecolor\":\"white\",\"ticks\":\"\",\"title\":{\"standoff\":15},\"zerolinecolor\":\"white\",\"automargin\":true,\"zerolinewidth\":2},\"yaxis\":{\"gridcolor\":\"white\",\"linecolor\":\"white\",\"ticks\":\"\",\"title\":{\"standoff\":15},\"zerolinecolor\":\"white\",\"automargin\":true,\"zerolinewidth\":2},\"scene\":{\"xaxis\":{\"backgroundcolor\":\"#E5ECF6\",\"gridcolor\":\"white\",\"linecolor\":\"white\",\"showbackground\":true,\"ticks\":\"\",\"zerolinecolor\":\"white\",\"gridwidth\":2},\"yaxis\":{\"backgroundcolor\":\"#E5ECF6\",\"gridcolor\":\"white\",\"linecolor\":\"white\",\"showbackground\":true,\"ticks\":\"\",\"zerolinecolor\":\"white\",\"gridwidth\":2},\"zaxis\":{\"backgroundcolor\":\"#E5ECF6\",\"gridcolor\":\"white\",\"linecolor\":\"white\",\"showbackground\":true,\"ticks\":\"\",\"zerolinecolor\":\"white\",\"gridwidth\":2}},\"shapedefaults\":{\"line\":{\"color\":\"#2a3f5f\"}},\"annotationdefaults\":{\"arrowcolor\":\"#2a3f5f\",\"arrowhead\":0,\"arrowwidth\":1},\"geo\":{\"bgcolor\":\"white\",\"landcolor\":\"#E5ECF6\",\"subunitcolor\":\"white\",\"showland\":true,\"showlakes\":true,\"lakecolor\":\"white\"},\"title\":{\"x\":0.05},\"mapbox\":{\"style\":\"light\"}}},\"title\":{\"pad\":{\"l\":100},\"text\":\"\\u041a\\u0440\\u0443\\u0433\\u043e\\u0432\\u044b\\u0435 \\u0434\\u0438\\u0430\\u0433\\u0440\\u0430\\u043c\\u043c\\u044b \\u0434\\u043b\\u044f \\u043a\\u0430\\u0447\\u0435\\u0441\\u0442\\u0432\\u0435\\u043d\\u043d\\u044b\\u0445 \\u043f\\u0440\\u0438\\u0437\\u043d\\u0430\\u043a\\u043e\\u0432\"},\"annotations\":[{\"showarrow\":false,\"text\":\"Race\",\"x\":0.135,\"y\":0.8245,\"font\":{\"size\":15}},{\"showarrow\":false,\"text\":\"Poverty\",\"x\":0.5,\"y\":0.8245,\"font\":{\"size\":15}},{\"showarrow\":false,\"text\":\"Education\",\"x\":0.88,\"y\":0.8245,\"font\":{\"size\":15}},{\"showarrow\":false,\"text\":\"Smoke\",\"x\":0.13,\"y\":0.18,\"font\":{\"size\":15}},{\"showarrow\":false,\"text\":\"Alcohol\",\"x\":0.5,\"y\":0.18,\"font\":{\"size\":15}},{\"showarrow\":false,\"text\":\"Prenatal care\",\"x\":0.89,\"y\":0.18,\"font\":{\"size\":15}}]},                        {\"responsive\": true}                    ).then(function(){\n",
              "                            \n",
              "var gd = document.getElementById('12aa5cd9-fef5-4cfd-baf5-8ef18a05dd25');\n",
              "var x = new MutationObserver(function (mutations, observer) {{\n",
              "        var display = window.getComputedStyle(gd).display;\n",
              "        if (!display || display === 'none') {{\n",
              "            console.log([gd, 'removed!']);\n",
              "            Plotly.purge(gd);\n",
              "            observer.disconnect();\n",
              "        }}\n",
              "}});\n",
              "\n",
              "// Listen for the removal of the full notebook cells\n",
              "var notebookContainer = gd.closest('#notebook-container');\n",
              "if (notebookContainer) {{\n",
              "    x.observe(notebookContainer, {childList: true});\n",
              "}}\n",
              "\n",
              "// Listen for the clearing of the current output cell\n",
              "var outputEl = gd.closest('.output');\n",
              "if (outputEl) {{\n",
              "    x.observe(outputEl, {childList: true});\n",
              "}}\n",
              "\n",
              "                        })                };                            </script>        </div>\n",
              "</body>\n",
              "</html>"
            ]
          },
          "metadata": {}
        }
      ],
      "source": [
        "labels_race = [\"White\", \"Black\", \"Another\"]\n",
        "labels = ['No', 'Yes']\n",
        "\n",
        "# Create subplots: use 'domain' type for Pie subplot\n",
        "fig = make_subplots(rows=2, cols=3, specs=[[{'type':'domain'}, {'type':'domain'}, {'type':'domain'}],\n",
        "                                           [{'type':'domain'}, {'type':'domain'}, {'type':'domain'}]])\n",
        "fig.add_trace(go.Pie(labels=labels_race, values=data['race'].value_counts().sort_index(), name=\"race\"),\n",
        "              1, 1)\n",
        "fig.add_trace(go.Pie(labels=labels, values=data['poverty'].value_counts().sort_index(), name=\"poverty\"),\n",
        "              1, 2)\n",
        "fig.add_trace(go.Pie(labels=labels, values=data['education'].value_counts(), name=\"education\"),\n",
        "              1, 3)\n",
        "fig.add_trace(go.Pie(labels=labels, values=data['smoke'].value_counts().sort_index(), name=\"smoke\"),\n",
        "              2, 1)\n",
        "fig.add_trace(go.Pie(labels=labels, values=data['alcohol'].value_counts().sort_index(), name=\"alcohol\"),\n",
        "              2, 2)\n",
        "fig.add_trace(go.Pie(labels=labels, values=data['pc3mth'].value_counts().sort_index(), name=\"pc3mth\"),\n",
        "              2, 3)\n",
        "\n",
        "\n",
        "# Use `hole` to create a donut-like pie chart\n",
        "fig.update_traces(hole=.4, hoverinfo=\"label+percent+name\")\n",
        "\n",
        "fig.update_layout(\n",
        "    title_text=\"Круговые диаграммы для качественных признаков\",\n",
        "    # Add annotations in the center of the donut pies.\n",
        "    annotations=[dict(text='Race', x=0.135, y=0.8245, font_size=15, showarrow=False),\n",
        "                 dict(text='Poverty', x=0.5, y=0.8245, font_size=15, showarrow=False),\n",
        "                 dict(text='Education', x=0.88, y=0.8245, font_size=15, showarrow=False),\n",
        "                 dict(text='Smoke', x=0.13, y=0.18, font_size=15, showarrow=False),\n",
        "                 dict(text='Alcohol', x=0.5, y=0.18, font_size=15, showarrow=False),\n",
        "                 dict(text='Prenatal care', x=0.89, y=0.18, font_size=15, showarrow=False)],\n",
        "                 title_pad_l=100)\n",
        "fig.show()"
      ]
    },
    {
      "cell_type": "code",
      "execution_count": 43,
      "metadata": {
        "id": "2dmgXPcmF4ZN",
        "colab": {
          "base_uri": "https://localhost:8080/",
          "height": 542
        },
        "outputId": "14b6fe92-79f4-4b06-943b-f91b718adc85"
      },
      "outputs": [
        {
          "output_type": "display_data",
          "data": {
            "text/html": [
              "<html>\n",
              "<head><meta charset=\"utf-8\" /></head>\n",
              "<body>\n",
              "    <div>            <script src=\"https://cdnjs.cloudflare.com/ajax/libs/mathjax/2.7.5/MathJax.js?config=TeX-AMS-MML_SVG\"></script><script type=\"text/javascript\">if (window.MathJax && window.MathJax.Hub && window.MathJax.Hub.Config) {window.MathJax.Hub.Config({SVG: {font: \"STIX-Web\"}});}</script>                <script type=\"text/javascript\">window.PlotlyConfig = {MathJaxConfig: 'local'};</script>\n",
              "        <script src=\"https://cdn.plot.ly/plotly-2.18.2.min.js\"></script>                <div id=\"0fbdd501-b39b-4c23-856c-a47d83859145\" class=\"plotly-graph-div\" style=\"height:525px; width:100%;\"></div>            <script type=\"text/javascript\">                                    window.PLOTLYENV=window.PLOTLYENV || {};                                    if (document.getElementById(\"0fbdd501-b39b-4c23-856c-a47d83859145\")) {                    Plotly.newPlot(                        \"0fbdd501-b39b-4c23-856c-a47d83859145\",                        [{\"domain\":{\"x\":[0.0,1.0],\"y\":[0.0,1.0]},\"hole\":0.2,\"hovertemplate\":\"label=%{label}<br>value=%{value}<extra></extra>\",\"labels\":[15,16,17,18,19,20,21,22,23,24,25,26,27,28],\"legendgroup\":\"\",\"name\":\"\",\"showlegend\":true,\"values\":[5,19,33,53,112,123,135,120,99,84,65,49,22,8],\"type\":\"pie\",\"marker\":{\"line\":{\"color\":\"white\",\"width\":2}}}],                        {\"template\":{\"data\":{\"histogram2dcontour\":[{\"type\":\"histogram2dcontour\",\"colorbar\":{\"outlinewidth\":0,\"ticks\":\"\"},\"colorscale\":[[0.0,\"#0d0887\"],[0.1111111111111111,\"#46039f\"],[0.2222222222222222,\"#7201a8\"],[0.3333333333333333,\"#9c179e\"],[0.4444444444444444,\"#bd3786\"],[0.5555555555555556,\"#d8576b\"],[0.6666666666666666,\"#ed7953\"],[0.7777777777777778,\"#fb9f3a\"],[0.8888888888888888,\"#fdca26\"],[1.0,\"#f0f921\"]]}],\"choropleth\":[{\"type\":\"choropleth\",\"colorbar\":{\"outlinewidth\":0,\"ticks\":\"\"}}],\"histogram2d\":[{\"type\":\"histogram2d\",\"colorbar\":{\"outlinewidth\":0,\"ticks\":\"\"},\"colorscale\":[[0.0,\"#0d0887\"],[0.1111111111111111,\"#46039f\"],[0.2222222222222222,\"#7201a8\"],[0.3333333333333333,\"#9c179e\"],[0.4444444444444444,\"#bd3786\"],[0.5555555555555556,\"#d8576b\"],[0.6666666666666666,\"#ed7953\"],[0.7777777777777778,\"#fb9f3a\"],[0.8888888888888888,\"#fdca26\"],[1.0,\"#f0f921\"]]}],\"heatmap\":[{\"type\":\"heatmap\",\"colorbar\":{\"outlinewidth\":0,\"ticks\":\"\"},\"colorscale\":[[0.0,\"#0d0887\"],[0.1111111111111111,\"#46039f\"],[0.2222222222222222,\"#7201a8\"],[0.3333333333333333,\"#9c179e\"],[0.4444444444444444,\"#bd3786\"],[0.5555555555555556,\"#d8576b\"],[0.6666666666666666,\"#ed7953\"],[0.7777777777777778,\"#fb9f3a\"],[0.8888888888888888,\"#fdca26\"],[1.0,\"#f0f921\"]]}],\"heatmapgl\":[{\"type\":\"heatmapgl\",\"colorbar\":{\"outlinewidth\":0,\"ticks\":\"\"},\"colorscale\":[[0.0,\"#0d0887\"],[0.1111111111111111,\"#46039f\"],[0.2222222222222222,\"#7201a8\"],[0.3333333333333333,\"#9c179e\"],[0.4444444444444444,\"#bd3786\"],[0.5555555555555556,\"#d8576b\"],[0.6666666666666666,\"#ed7953\"],[0.7777777777777778,\"#fb9f3a\"],[0.8888888888888888,\"#fdca26\"],[1.0,\"#f0f921\"]]}],\"contourcarpet\":[{\"type\":\"contourcarpet\",\"colorbar\":{\"outlinewidth\":0,\"ticks\":\"\"}}],\"contour\":[{\"type\":\"contour\",\"colorbar\":{\"outlinewidth\":0,\"ticks\":\"\"},\"colorscale\":[[0.0,\"#0d0887\"],[0.1111111111111111,\"#46039f\"],[0.2222222222222222,\"#7201a8\"],[0.3333333333333333,\"#9c179e\"],[0.4444444444444444,\"#bd3786\"],[0.5555555555555556,\"#d8576b\"],[0.6666666666666666,\"#ed7953\"],[0.7777777777777778,\"#fb9f3a\"],[0.8888888888888888,\"#fdca26\"],[1.0,\"#f0f921\"]]}],\"surface\":[{\"type\":\"surface\",\"colorbar\":{\"outlinewidth\":0,\"ticks\":\"\"},\"colorscale\":[[0.0,\"#0d0887\"],[0.1111111111111111,\"#46039f\"],[0.2222222222222222,\"#7201a8\"],[0.3333333333333333,\"#9c179e\"],[0.4444444444444444,\"#bd3786\"],[0.5555555555555556,\"#d8576b\"],[0.6666666666666666,\"#ed7953\"],[0.7777777777777778,\"#fb9f3a\"],[0.8888888888888888,\"#fdca26\"],[1.0,\"#f0f921\"]]}],\"mesh3d\":[{\"type\":\"mesh3d\",\"colorbar\":{\"outlinewidth\":0,\"ticks\":\"\"}}],\"scatter\":[{\"fillpattern\":{\"fillmode\":\"overlay\",\"size\":10,\"solidity\":0.2},\"type\":\"scatter\"}],\"parcoords\":[{\"type\":\"parcoords\",\"line\":{\"colorbar\":{\"outlinewidth\":0,\"ticks\":\"\"}}}],\"scatterpolargl\":[{\"type\":\"scatterpolargl\",\"marker\":{\"colorbar\":{\"outlinewidth\":0,\"ticks\":\"\"}}}],\"bar\":[{\"error_x\":{\"color\":\"#2a3f5f\"},\"error_y\":{\"color\":\"#2a3f5f\"},\"marker\":{\"line\":{\"color\":\"#E5ECF6\",\"width\":0.5},\"pattern\":{\"fillmode\":\"overlay\",\"size\":10,\"solidity\":0.2}},\"type\":\"bar\"}],\"scattergeo\":[{\"type\":\"scattergeo\",\"marker\":{\"colorbar\":{\"outlinewidth\":0,\"ticks\":\"\"}}}],\"scatterpolar\":[{\"type\":\"scatterpolar\",\"marker\":{\"colorbar\":{\"outlinewidth\":0,\"ticks\":\"\"}}}],\"histogram\":[{\"marker\":{\"pattern\":{\"fillmode\":\"overlay\",\"size\":10,\"solidity\":0.2}},\"type\":\"histogram\"}],\"scattergl\":[{\"type\":\"scattergl\",\"marker\":{\"colorbar\":{\"outlinewidth\":0,\"ticks\":\"\"}}}],\"scatter3d\":[{\"type\":\"scatter3d\",\"line\":{\"colorbar\":{\"outlinewidth\":0,\"ticks\":\"\"}},\"marker\":{\"colorbar\":{\"outlinewidth\":0,\"ticks\":\"\"}}}],\"scattermapbox\":[{\"type\":\"scattermapbox\",\"marker\":{\"colorbar\":{\"outlinewidth\":0,\"ticks\":\"\"}}}],\"scatterternary\":[{\"type\":\"scatterternary\",\"marker\":{\"colorbar\":{\"outlinewidth\":0,\"ticks\":\"\"}}}],\"scattercarpet\":[{\"type\":\"scattercarpet\",\"marker\":{\"colorbar\":{\"outlinewidth\":0,\"ticks\":\"\"}}}],\"carpet\":[{\"aaxis\":{\"endlinecolor\":\"#2a3f5f\",\"gridcolor\":\"white\",\"linecolor\":\"white\",\"minorgridcolor\":\"white\",\"startlinecolor\":\"#2a3f5f\"},\"baxis\":{\"endlinecolor\":\"#2a3f5f\",\"gridcolor\":\"white\",\"linecolor\":\"white\",\"minorgridcolor\":\"white\",\"startlinecolor\":\"#2a3f5f\"},\"type\":\"carpet\"}],\"table\":[{\"cells\":{\"fill\":{\"color\":\"#EBF0F8\"},\"line\":{\"color\":\"white\"}},\"header\":{\"fill\":{\"color\":\"#C8D4E3\"},\"line\":{\"color\":\"white\"}},\"type\":\"table\"}],\"barpolar\":[{\"marker\":{\"line\":{\"color\":\"#E5ECF6\",\"width\":0.5},\"pattern\":{\"fillmode\":\"overlay\",\"size\":10,\"solidity\":0.2}},\"type\":\"barpolar\"}],\"pie\":[{\"automargin\":true,\"type\":\"pie\"}]},\"layout\":{\"autotypenumbers\":\"strict\",\"colorway\":[\"#636efa\",\"#EF553B\",\"#00cc96\",\"#ab63fa\",\"#FFA15A\",\"#19d3f3\",\"#FF6692\",\"#B6E880\",\"#FF97FF\",\"#FECB52\"],\"font\":{\"color\":\"#2a3f5f\"},\"hovermode\":\"closest\",\"hoverlabel\":{\"align\":\"left\"},\"paper_bgcolor\":\"white\",\"plot_bgcolor\":\"#E5ECF6\",\"polar\":{\"bgcolor\":\"#E5ECF6\",\"angularaxis\":{\"gridcolor\":\"white\",\"linecolor\":\"white\",\"ticks\":\"\"},\"radialaxis\":{\"gridcolor\":\"white\",\"linecolor\":\"white\",\"ticks\":\"\"}},\"ternary\":{\"bgcolor\":\"#E5ECF6\",\"aaxis\":{\"gridcolor\":\"white\",\"linecolor\":\"white\",\"ticks\":\"\"},\"baxis\":{\"gridcolor\":\"white\",\"linecolor\":\"white\",\"ticks\":\"\"},\"caxis\":{\"gridcolor\":\"white\",\"linecolor\":\"white\",\"ticks\":\"\"}},\"coloraxis\":{\"colorbar\":{\"outlinewidth\":0,\"ticks\":\"\"}},\"colorscale\":{\"sequential\":[[0.0,\"#0d0887\"],[0.1111111111111111,\"#46039f\"],[0.2222222222222222,\"#7201a8\"],[0.3333333333333333,\"#9c179e\"],[0.4444444444444444,\"#bd3786\"],[0.5555555555555556,\"#d8576b\"],[0.6666666666666666,\"#ed7953\"],[0.7777777777777778,\"#fb9f3a\"],[0.8888888888888888,\"#fdca26\"],[1.0,\"#f0f921\"]],\"sequentialminus\":[[0.0,\"#0d0887\"],[0.1111111111111111,\"#46039f\"],[0.2222222222222222,\"#7201a8\"],[0.3333333333333333,\"#9c179e\"],[0.4444444444444444,\"#bd3786\"],[0.5555555555555556,\"#d8576b\"],[0.6666666666666666,\"#ed7953\"],[0.7777777777777778,\"#fb9f3a\"],[0.8888888888888888,\"#fdca26\"],[1.0,\"#f0f921\"]],\"diverging\":[[0,\"#8e0152\"],[0.1,\"#c51b7d\"],[0.2,\"#de77ae\"],[0.3,\"#f1b6da\"],[0.4,\"#fde0ef\"],[0.5,\"#f7f7f7\"],[0.6,\"#e6f5d0\"],[0.7,\"#b8e186\"],[0.8,\"#7fbc41\"],[0.9,\"#4d9221\"],[1,\"#276419\"]]},\"xaxis\":{\"gridcolor\":\"white\",\"linecolor\":\"white\",\"ticks\":\"\",\"title\":{\"standoff\":15},\"zerolinecolor\":\"white\",\"automargin\":true,\"zerolinewidth\":2},\"yaxis\":{\"gridcolor\":\"white\",\"linecolor\":\"white\",\"ticks\":\"\",\"title\":{\"standoff\":15},\"zerolinecolor\":\"white\",\"automargin\":true,\"zerolinewidth\":2},\"scene\":{\"xaxis\":{\"backgroundcolor\":\"#E5ECF6\",\"gridcolor\":\"white\",\"linecolor\":\"white\",\"showbackground\":true,\"ticks\":\"\",\"zerolinecolor\":\"white\",\"gridwidth\":2},\"yaxis\":{\"backgroundcolor\":\"#E5ECF6\",\"gridcolor\":\"white\",\"linecolor\":\"white\",\"showbackground\":true,\"ticks\":\"\",\"zerolinecolor\":\"white\",\"gridwidth\":2},\"zaxis\":{\"backgroundcolor\":\"#E5ECF6\",\"gridcolor\":\"white\",\"linecolor\":\"white\",\"showbackground\":true,\"ticks\":\"\",\"zerolinecolor\":\"white\",\"gridwidth\":2}},\"shapedefaults\":{\"line\":{\"color\":\"#2a3f5f\"}},\"annotationdefaults\":{\"arrowcolor\":\"#2a3f5f\",\"arrowhead\":0,\"arrowwidth\":1},\"geo\":{\"bgcolor\":\"white\",\"landcolor\":\"#E5ECF6\",\"subunitcolor\":\"white\",\"showland\":true,\"showlakes\":true,\"lakecolor\":\"white\"},\"title\":{\"x\":0.05},\"mapbox\":{\"style\":\"light\"}}},\"legend\":{\"tracegroupgap\":0},\"margin\":{\"t\":60},\"title\":{\"text\":\"\\u0420\\u0430\\u0441\\u043f\\u0440\\u0435\\u0434\\u0435\\u043b\\u0435\\u043d\\u0438\\u0435 \\u0432\\u043e\\u0437\\u0440\\u0430\\u0441\\u0442\\u0430 \\u043c\\u0430\\u0442\\u0435\\u0440\\u0435\\u0439\"}},                        {\"responsive\": true}                    ).then(function(){\n",
              "                            \n",
              "var gd = document.getElementById('0fbdd501-b39b-4c23-856c-a47d83859145');\n",
              "var x = new MutationObserver(function (mutations, observer) {{\n",
              "        var display = window.getComputedStyle(gd).display;\n",
              "        if (!display || display === 'none') {{\n",
              "            console.log([gd, 'removed!']);\n",
              "            Plotly.purge(gd);\n",
              "            observer.disconnect();\n",
              "        }}\n",
              "}});\n",
              "\n",
              "// Listen for the removal of the full notebook cells\n",
              "var notebookContainer = gd.closest('#notebook-container');\n",
              "if (notebookContainer) {{\n",
              "    x.observe(notebookContainer, {childList: true});\n",
              "}}\n",
              "\n",
              "// Listen for the clearing of the current output cell\n",
              "var outputEl = gd.closest('.output');\n",
              "if (outputEl) {{\n",
              "    x.observe(outputEl, {childList: true});\n",
              "}}\n",
              "\n",
              "                        })                };                            </script>        </div>\n",
              "</body>\n",
              "</html>"
            ]
          },
          "metadata": {}
        }
      ],
      "source": [
        "age = data['agemth'].value_counts().sort_index()\n",
        "\n",
        "fig = px.pie(values=age.values, names=age.index, hole=.2)\n",
        "fig.update_traces(marker_line_width=2, marker_line_color=\"white\")\n",
        "fig.update_layout(title_text=\"Распределение возраста матерей\")\n",
        "fig.show()"
      ]
    },
    {
      "cell_type": "markdown",
      "source": [
        "**Выводы:** С помощью библиотеки Plotly подтвердили выводы полученные в предыдущих лабораторных по-новому взлянув на данные. Интерактивная визуализация нагляднее, динамичнее и удобнее, чем статическая, следовательно, потенциально может содержать гораздо больше информации, что позволяет быстро понять ключевые моменты."
      ],
      "metadata": {
        "id": "vZoWXklv5oZ4"
      }
    }
  ],
  "metadata": {
    "colab": {
      "provenance": []
    },
    "kernelspec": {
      "display_name": "Python 3",
      "name": "python3"
    },
    "language_info": {
      "name": "python"
    }
  },
  "nbformat": 4,
  "nbformat_minor": 0
}
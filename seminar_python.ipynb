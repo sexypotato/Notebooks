{
 "cells": [
  {
   "cell_type": "markdown",
   "id": "ef3b9e89",
   "metadata": {},
   "source": [
    "#### Алгоритм действия, когда сложно и непонятно "
   ]
  },
  {
   "cell_type": "markdown",
   "id": "4663f737",
   "metadata": {
    "ExecuteTime": {
     "end_time": "2023-04-11T09:08:07.374983Z",
     "start_time": "2023-04-11T09:08:07.351818Z"
    }
   },
   "source": [
    "1. Просмотреть материалы с занятий\n",
    "2. Поискать похожую ошибку/пример в Яндексе/Google. Можно искать похожие случаи по сообщению об ошибке\n",
    "3. Написать в discord преподавателю (Elizaveta Kapustina VTB, Artem Semenov VTB). Мы пришлем ссылки, где можно почитать про ваш вопрос, или объясним, что вы делаете неправильно"
   ]
  },
  {
   "cell_type": "markdown",
   "id": "44ca635a",
   "metadata": {},
   "source": [
    "### Условные операторы и циклы"
   ]
  },
  {
   "cell_type": "markdown",
   "id": "c3e73876",
   "metadata": {},
   "source": [
    "#### if\n",
    "В коде часто приходится проверять выполнимость или невыполнимость каких-то условий. Синтаксис следующий\n",
    "\n",
    "```\n",
    "if <условие1 (булевское выражение)> :\n",
    "    <код, который выполнится, если условие верно>\n",
    "elif <условие2 (булевское выражение)>:\n",
    "    <код, который выполнится, если условие1 было неверно, а условие2 верно>\n",
    "else:\n",
    "    <код, который выполнится, если условие1 и условие2 были неверны>\n",
    "```\n",
    "\n",
    "Обратите внимание, что код, который должен выполняться внутри каждого условия, записывается с отступом в 4 пробела от уровня if, elif и else: в питоне области видимости переменных обозначаются отступами.\n",
    "\n",
    "*То есть, отступы позволяют понять, где начинается код, который должен выполняться при выполнении условия в if, и где заканчивается*\n",
    "\n",
    "Рассмотрим пример: пусть в нашем коде есть переменная x. Мы хотим вывести на экран сообщение \"x отрицателен\", если x<0, \"x равен нулю\", если x=0 и \"x положителен\", если x>0. Код будет следующий:"
   ]
  },
  {
   "cell_type": "code",
   "execution_count": null,
   "id": "7c8962a2",
   "metadata": {},
   "outputs": [],
   "source": [
    "True False"
   ]
  },
  {
   "cell_type": "code",
   "execution_count": 13,
   "id": "38eb279e",
   "metadata": {
    "ExecuteTime": {
     "end_time": "2023-04-11T13:09:31.592064Z",
     "start_time": "2023-04-11T13:09:31.582546Z"
    }
   },
   "outputs": [
    {
     "name": "stdout",
     "output_type": "stream",
     "text": [
      "x положителен\n"
     ]
    }
   ],
   "source": [
    "x = 10\n",
    "\n",
    "if x<0:\n",
    "    print(\"x отрицателен\")\n",
    "elif x==0:\n",
    "    print(\"x равен нулю\")\n",
    "else:\n",
    "    print(\"x положителен\")"
   ]
  },
  {
   "cell_type": "code",
   "execution_count": 15,
   "id": "3154e57a",
   "metadata": {
    "ExecuteTime": {
     "end_time": "2023-04-11T13:12:51.442281Z",
     "start_time": "2023-04-11T13:12:51.438021Z"
    }
   },
   "outputs": [
    {
     "name": "stdout",
     "output_type": "stream",
     "text": [
      "1\n",
      "2\n"
     ]
    }
   ],
   "source": [
    "x = 13\n",
    "\n",
    "if x>1:\n",
    "    print(1)\n",
    "if x>5:\n",
    "    print(2)"
   ]
  },
  {
   "cell_type": "markdown",
   "id": "0205a3c1",
   "metadata": {},
   "source": [
    "#### while\n",
    "\n",
    "Синтаксис `while`:\n",
    "\n",
    "```\n",
    "while <условие (булевское выражение)>:\n",
    "    <code>\n",
    "```\n",
    "\n",
    "Здесь код, написанный вместо `code` будет выполняться каждую итерацию цикла, пока условие после `while` будет выполняться.\n",
    "\n",
    "Посмотрим на примере: Напишем цикл, в котором будем выводить переменную x и увеличивать x на 1, пока x не станет больше 10:"
   ]
  },
  {
   "cell_type": "code",
   "execution_count": 17,
   "id": "e5fb0dc1",
   "metadata": {
    "ExecuteTime": {
     "end_time": "2023-04-11T13:14:14.894494Z",
     "start_time": "2023-04-11T13:14:14.889119Z"
    }
   },
   "outputs": [
    {
     "name": "stdout",
     "output_type": "stream",
     "text": [
      "1\n",
      "3\n",
      "5\n",
      "7\n",
      "9\n"
     ]
    }
   ],
   "source": [
    "x = 1\n",
    "\n",
    "while x <= 10:\n",
    "    print(x)\n",
    "    # более удобный способ записи x = x + 1\n",
    "    x += 2"
   ]
  },
  {
   "cell_type": "markdown",
   "id": "f6b511b7",
   "metadata": {},
   "source": [
    "#### for"
   ]
  },
  {
   "cell_type": "markdown",
   "id": "3d57ca2b",
   "metadata": {},
   "source": [
    "iterable стректуры данных так называются, потому что по ним можно *итерироваться* -- последовательно получать значения последовательных элементов этой структуры данных. Итерироваться можно с помощью циклов `for` или `while`.\n",
    "\n",
    "Синтаксис следующий:\n",
    "\n",
    "```\n",
    "for element in iterable:\n",
    "    <code>\n",
    "```\n",
    "\n",
    "Здесь каждую новую итерацию цикла в element будет записываться очередное значение из контейнера iterable и с ним можно будет работать внутри тела цикла (`code`). Когда код внутри тела цикла отработает, начнется новая итерация цикла -- в переменную element запишется следующее значение из iterable и опять будет выполняться code.\n",
    "\n",
    "Код, который будет выполняться каждую итерацию цикла, записывается после двоеточия с отступом 4 пробела от строчки c `for`.\n",
    "\n",
    "Посмотрим на примере:"
   ]
  },
  {
   "cell_type": "code",
   "execution_count": 19,
   "id": "b48b8e05",
   "metadata": {
    "ExecuteTime": {
     "end_time": "2023-04-11T13:17:19.561475Z",
     "start_time": "2023-04-11T13:17:19.548658Z"
    }
   },
   "outputs": [
    {
     "name": "stdout",
     "output_type": "stream",
     "text": [
      "decision tree\n",
      "linear model\n",
      "svm\n",
      "ensemble\n",
      "Done\n"
     ]
    }
   ],
   "source": [
    "# создадим list элементов\n",
    "models = ['decision tree', 'linear model', 'svm', 'ensemble']\n",
    "\n",
    "# итерируемся по названиям модели: каждую итерацию цикла в переменную model будет\n",
    "# записываться новое значение из models и оно будет использоваться для print(model)\n",
    "for model in models:\n",
    "    # тело цикла. Здесь с отступом в 4 пробела нужно описать код, который будет выполняться на каждой итерации цикла.\n",
    "    print(model)\n",
    "    \n",
    "# этот код уже будет выполняться ПОСЛЕ цикла, потому что он записан без отступа в 4 пробела после for:\n",
    "print(\"Done\")"
   ]
  },
  {
   "cell_type": "code",
   "execution_count": 20,
   "id": "8b63cca3",
   "metadata": {
    "ExecuteTime": {
     "end_time": "2023-04-11T13:18:19.362728Z",
     "start_time": "2023-04-11T13:18:19.356724Z"
    }
   },
   "outputs": [
    {
     "name": "stdout",
     "output_type": "stream",
     "text": [
      "Anna:1\n",
      "John:2\n",
      "Paul:0\n"
     ]
    }
   ],
   "source": [
    "# Итерируемся по словарю (способ 1)\n",
    "persons = {'Anna': 1, 'John': 2, 'Paul': 0}\n",
    "for key in persons:\n",
    "    print(f\"{key}:{persons[key]}\")"
   ]
  },
  {
   "cell_type": "code",
   "execution_count": 21,
   "id": "3f72202d",
   "metadata": {
    "ExecuteTime": {
     "end_time": "2023-04-11T13:18:36.551102Z",
     "start_time": "2023-04-11T13:18:36.542619Z"
    }
   },
   "outputs": [
    {
     "name": "stdout",
     "output_type": "stream",
     "text": [
      "Anna:1\n",
      "John:2\n",
      "Paul:0\n"
     ]
    }
   ],
   "source": [
    "# Итерируемся по словарю (способ 2)\n",
    "for key, value in persons.items():\n",
    "    print(f\"{key}:{value}\")"
   ]
  },
  {
   "cell_type": "markdown",
   "id": "b5a3075e",
   "metadata": {},
   "source": [
    "**range**\n",
    "\n",
    "Для работы с циклами в питоне есть очень полезная функция `range()`. Допустим, вы хотите написать цикл, который бы отработал 100 раз. Можно сделать это следующим образом:\n",
    "\n",
    "```\n",
    "i = 0\n",
    "while i < 100:\n",
    "    i += 1\n",
    "    <code>\n",
    "```\n",
    "\n",
    "но это неудобно: нужно завести вспомогательную переменную i, написать лишние 2 строчки кода (i=0 и i+=1). Так код терядет в понятности и читабельности. Гораздо проще записать этот цикл с помощью range.\n",
    "\n",
    "`range()` принимает 3 аргумента: начало интервала begin, конец интервала end и шаг step, с которым будет двигаться по игтервалу, и возвращает iterable объект -- по сути, массив чисел начиная с begin включительно, заканчивая end не включительно, числа в массиве идут с шагом step.\n",
    "\n",
    "Посмотрим на пример:"
   ]
  },
  {
   "cell_type": "code",
   "execution_count": 22,
   "id": "f28b3477",
   "metadata": {
    "ExecuteTime": {
     "end_time": "2023-04-11T13:21:44.220592Z",
     "start_time": "2023-04-11T13:21:44.209767Z"
    }
   },
   "outputs": [
    {
     "name": "stdout",
     "output_type": "stream",
     "text": [
      "0\n",
      "1\n",
      "2\n",
      "3\n",
      "4\n",
      "5\n",
      "6\n",
      "7\n",
      "8\n"
     ]
    }
   ],
   "source": [
    "# Итерируемся определенное количество раз с помощью генератора. Правая граница не включается!\n",
    "for i in range(0, 9, 1):\n",
    "    print(i)"
   ]
  },
  {
   "cell_type": "markdown",
   "id": "eb1e5867",
   "metadata": {},
   "source": [
    "**enumerate, zip**"
   ]
  },
  {
   "cell_type": "code",
   "execution_count": 23,
   "id": "393fa45b",
   "metadata": {
    "ExecuteTime": {
     "end_time": "2023-04-11T13:22:19.975284Z",
     "start_time": "2023-04-11T13:22:19.968125Z"
    }
   },
   "outputs": [
    {
     "name": "stdout",
     "output_type": "stream",
     "text": [
      "0: a\n",
      "1: b\n",
      "2: c\n"
     ]
    }
   ],
   "source": [
    "# enumerate\n",
    "a = ['a', 'b', 'c']\n",
    "for i, value in enumerate(a):\n",
    "    print(f\"{i}: {value}\")"
   ]
  },
  {
   "cell_type": "code",
   "execution_count": 24,
   "id": "4db775d9",
   "metadata": {
    "ExecuteTime": {
     "end_time": "2023-04-11T13:22:44.422012Z",
     "start_time": "2023-04-11T13:22:44.416408Z"
    }
   },
   "outputs": [
    {
     "name": "stdout",
     "output_type": "stream",
     "text": [
      "a:4\n",
      "b:5\n",
      "c:6\n"
     ]
    }
   ],
   "source": [
    "# zip\n",
    "a = ['a', 'b', 'c']\n",
    "b = [4, 5, 6]\n",
    "# zip dвозвращает пару элементов, которые можно записать в 2 разные переменные в цикле for. \n",
    "for i, j in zip(a, b):\n",
    "    print(f\"{i}:{j}\")"
   ]
  },
  {
   "cell_type": "markdown",
   "id": "cf9e2ae3",
   "metadata": {},
   "source": [
    "### Индексация и структуры данных"
   ]
  },
  {
   "cell_type": "markdown",
   "id": "db037135",
   "metadata": {},
   "source": [
    "Индексация в языках программирования — это механизм для доступа к компоненте массива данных посредством ссылки на массив и посредством одного или более выражений, значения которых определяют позицию компоненты массива. Индекс — элемент перечислимого множества, который указывает на конкретный элемент массива. Индексация в python начинается с 0. Если перед индексом стоит '-', значит порядок индексирования обратный и отсчет ведется с конца."
   ]
  },
  {
   "cell_type": "markdown",
   "id": "ce7843e8",
   "metadata": {},
   "source": [
    "![python.png](data:image/png;base64,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)"
   ]
  },
  {
   "cell_type": "code",
   "execution_count": 26,
   "id": "335129e6",
   "metadata": {
    "ExecuteTime": {
     "end_time": "2023-04-11T13:24:50.465611Z",
     "start_time": "2023-04-11T13:24:50.460251Z"
    }
   },
   "outputs": [],
   "source": [
    "l = [1,2,'aaa',[1,2]] #list\n",
    "t = (1,2,'aaa',[1,2]) #tuple\n",
    "d = {'k1': 1, 'k2': 2, 'k3': 'aaa', 'k4': [1,2]} #dict\n",
    "s = '12aaa[1,2]' # string"
   ]
  },
  {
   "cell_type": "code",
   "execution_count": 31,
   "id": "6cec89dd",
   "metadata": {
    "ExecuteTime": {
     "end_time": "2023-04-11T13:26:24.555751Z",
     "start_time": "2023-04-11T13:26:24.549620Z"
    }
   },
   "outputs": [
    {
     "data": {
      "text/plain": [
       "10"
      ]
     },
     "execution_count": 31,
     "metadata": {},
     "output_type": "execute_result"
    }
   ],
   "source": [
    "len(s)"
   ]
  },
  {
   "cell_type": "code",
   "execution_count": 32,
   "id": "e3dac5e4",
   "metadata": {
    "ExecuteTime": {
     "end_time": "2023-04-11T13:26:33.133091Z",
     "start_time": "2023-04-11T13:26:33.126544Z"
    }
   },
   "outputs": [
    {
     "data": {
      "text/plain": [
       "4"
      ]
     },
     "execution_count": 32,
     "metadata": {},
     "output_type": "execute_result"
    }
   ],
   "source": [
    "len(l)"
   ]
  },
  {
   "cell_type": "code",
   "execution_count": 29,
   "id": "03d88ca7",
   "metadata": {
    "ExecuteTime": {
     "end_time": "2023-04-11T13:25:48.832479Z",
     "start_time": "2023-04-11T13:25:48.826111Z"
    }
   },
   "outputs": [
    {
     "data": {
      "text/plain": [
       "1"
      ]
     },
     "execution_count": 29,
     "metadata": {},
     "output_type": "execute_result"
    }
   ],
   "source": [
    "d['k1']"
   ]
  },
  {
   "cell_type": "markdown",
   "id": "e718f7c5",
   "metadata": {},
   "source": [
    "#### Срезы\n",
    "В Python, кроме индексов, существуют ещё и срезы.\n",
    "\n",
    "item[START:STOP:STEP] - берёт срез от номера START, до STOP (не включая его), с шагом STEP. По умолчанию START = 0, STOP = длине объекта, STEP = 1. Соответственно, какие-нибудь (а возможно, и все) параметры могут быть опущены.\n"
   ]
  },
  {
   "cell_type": "code",
   "execution_count": 42,
   "id": "018a7280",
   "metadata": {
    "ExecuteTime": {
     "end_time": "2023-04-11T13:29:35.461324Z",
     "start_time": "2023-04-11T13:29:35.454234Z"
    }
   },
   "outputs": [
    {
     "data": {
      "text/plain": [
       "'aa[1,'"
      ]
     },
     "execution_count": 42,
     "metadata": {},
     "output_type": "execute_result"
    }
   ],
   "source": [
    "#    0 1 2 3 4 5 6 7 \n",
    "s = [1,2,3,4,5,6,7,8]\n",
    "s1 = '12aaa[1,2]'\n",
    "\n",
    "s1[-7:-2:]"
   ]
  },
  {
   "cell_type": "markdown",
   "id": "8c558773",
   "metadata": {},
   "source": [
    "### Задачи"
   ]
  },
  {
   "cell_type": "markdown",
   "id": "5674106c",
   "metadata": {},
   "source": [
    "#### Задача 1\n",
    "\n",
    "Напишите функцию, которая принимает слово и переворачивает его."
   ]
  },
  {
   "cell_type": "code",
   "execution_count": 47,
   "id": "32774251",
   "metadata": {
    "ExecuteTime": {
     "end_time": "2023-04-11T13:36:52.271823Z",
     "start_time": "2023-04-11T13:36:52.267530Z"
    }
   },
   "outputs": [],
   "source": [
    "def reverse_string(s):\n",
    "    s_rev = ''\n",
    "    for i in range(1,len(s)+1):\n",
    "        s_rev += s[-i]\n",
    "    return s_rev"
   ]
  },
  {
   "cell_type": "code",
   "execution_count": 48,
   "id": "a4f5233f",
   "metadata": {
    "ExecuteTime": {
     "end_time": "2023-04-11T13:36:52.752695Z",
     "start_time": "2023-04-11T13:36:52.747306Z"
    }
   },
   "outputs": [
    {
     "data": {
      "text/plain": [
       "'987654321'"
      ]
     },
     "execution_count": 48,
     "metadata": {},
     "output_type": "execute_result"
    }
   ],
   "source": [
    "reverse_string('123456789')"
   ]
  },
  {
   "cell_type": "code",
   "execution_count": 50,
   "id": "e6b50c13",
   "metadata": {
    "ExecuteTime": {
     "end_time": "2023-04-11T13:37:59.116192Z",
     "start_time": "2023-04-11T13:37:59.112327Z"
    }
   },
   "outputs": [],
   "source": [
    "def reverse_string_simple(s):\n",
    "    return s[::-1]"
   ]
  },
  {
   "cell_type": "code",
   "execution_count": 51,
   "id": "9cbb70f6",
   "metadata": {
    "ExecuteTime": {
     "end_time": "2023-04-11T13:37:59.734216Z",
     "start_time": "2023-04-11T13:37:59.727995Z"
    }
   },
   "outputs": [
    {
     "data": {
      "text/plain": [
       "'987654321'"
      ]
     },
     "execution_count": 51,
     "metadata": {},
     "output_type": "execute_result"
    }
   ],
   "source": [
    "reverse_string_simple('123456789')"
   ]
  },
  {
   "cell_type": "markdown",
   "id": "6715f014",
   "metadata": {},
   "source": [
    "#### Задача 2\n",
    "\n",
    "Напишите цикл, который перебирает целые числа от 1 до 50. Для кратных трех выведите «Fizz» вместо числа и для кратных пяти выведите «Buzz». Для чисел, кратных трем и пяти «FizzBuzz». Полученные числа должны быть напечатаны в последовательности через запятую."
   ]
  },
  {
   "cell_type": "code",
   "execution_count": 59,
   "id": "bfa70872",
   "metadata": {
    "ExecuteTime": {
     "end_time": "2023-04-11T13:51:13.349250Z",
     "start_time": "2023-04-11T13:51:13.341999Z"
    }
   },
   "outputs": [
    {
     "name": "stdout",
     "output_type": "stream",
     "text": [
      "1,2,Fizz,4,Buzz,Fizz,7,8,Fizz,Buzz,11,Fizz,13,14,FizzBuzz,16,17,Fizz,19,Buzz,Fizz,22,23,Fizz,Buzz,26,Fizz,28,29,FizzBuzz,31,32,Fizz,34,Buzz,Fizz,37,38,Fizz,Buzz,41,Fizz,43,44,FizzBuzz,46,47,Fizz,49,Buzz\n"
     ]
    }
   ],
   "source": [
    "res = ''\n",
    "for n in range(1,51):\n",
    "    if n%3==0 and n%5==0:\n",
    "        res+='FizzBuzz'+','\n",
    "    elif n%3==0:\n",
    "        res+='Fizz'+','\n",
    "    elif n%5==0 and n!=50:\n",
    "        res+='Buzz'+','\n",
    "    elif n==50:\n",
    "        res+='Buzz'\n",
    "    else:\n",
    "        res+=str(n)+','\n",
    "print(res[::])"
   ]
  },
  {
   "cell_type": "markdown",
   "id": "7f2dec69",
   "metadata": {},
   "source": [
    "#### Задача 3\n",
    "\n",
    "Напишите функцию, для нахождения медианы из трех значений. "
   ]
  },
  {
   "cell_type": "code",
   "execution_count": 67,
   "id": "46f6aae2",
   "metadata": {
    "ExecuteTime": {
     "end_time": "2023-04-11T13:59:20.779843Z",
     "start_time": "2023-04-11T13:59:20.767176Z"
    }
   },
   "outputs": [],
   "source": [
    "def median_func(a,b,c):\n",
    "    if a > b:\n",
    "        if a < c:\n",
    "            median=a\n",
    "        elif b > c:\n",
    "            median=b\n",
    "        else:\n",
    "            median=c\n",
    "    else:\n",
    "        if a > c:\n",
    "            median=a\n",
    "        elif b < c:\n",
    "            median=b\n",
    "        else:\n",
    "            median=c\n",
    "    return median"
   ]
  },
  {
   "cell_type": "code",
   "execution_count": 68,
   "id": "17ccd8ee",
   "metadata": {
    "ExecuteTime": {
     "end_time": "2023-04-11T13:59:21.537022Z",
     "start_time": "2023-04-11T13:59:21.531162Z"
    }
   },
   "outputs": [
    {
     "data": {
      "text/plain": [
       "-3"
      ]
     },
     "execution_count": 68,
     "metadata": {},
     "output_type": "execute_result"
    }
   ],
   "source": [
    "#           a  b  c\n",
    "median_func(-9,2,-3)"
   ]
  },
  {
   "cell_type": "markdown",
   "id": "337f6332",
   "metadata": {},
   "source": [
    "#### Задача 4\n",
    "\n",
    "Напишите функцию, которая принимает строку и рассчитывает количество цифр и букв."
   ]
  },
  {
   "cell_type": "code",
   "execution_count": 69,
   "id": "bfed503e",
   "metadata": {
    "ExecuteTime": {
     "end_time": "2023-04-11T14:06:36.282000Z",
     "start_time": "2023-04-11T14:06:36.273419Z"
    }
   },
   "outputs": [],
   "source": [
    "def func(s):\n",
    "    n=0\n",
    "    l=0\n",
    "    for i in s:\n",
    "        if i.isdigit():\n",
    "            n+=1\n",
    "        elif i.isalpha():\n",
    "            l+=1\n",
    "        else:\n",
    "            pass\n",
    "    print(f'{n} -- count of digits, {l} -- count of letters')"
   ]
  },
  {
   "cell_type": "code",
   "execution_count": 72,
   "id": "0e43d562",
   "metadata": {
    "ExecuteTime": {
     "end_time": "2023-04-11T14:07:34.982386Z",
     "start_time": "2023-04-11T14:07:34.978733Z"
    }
   },
   "outputs": [
    {
     "name": "stdout",
     "output_type": "stream",
     "text": [
      "0 -- count of digits, 0 -- count of letters\n"
     ]
    }
   ],
   "source": [
    "func('@@$$')"
   ]
  },
  {
   "cell_type": "code",
   "execution_count": null,
   "id": "342e12b4",
   "metadata": {},
   "outputs": [],
   "source": []
  }
 ],
 "metadata": {
  "kernelspec": {
   "display_name": "Python 3",
   "language": "python",
   "name": "python3"
  },
  "language_info": {
   "codemirror_mode": {
    "name": "ipython",
    "version": 3
   },
   "file_extension": ".py",
   "mimetype": "text/x-python",
   "name": "python",
   "nbconvert_exporter": "python",
   "pygments_lexer": "ipython3",
   "version": "3.8.8"
  },
  "latex_envs": {
   "LaTeX_envs_menu_present": true,
   "autoclose": false,
   "autocomplete": true,
   "bibliofile": "biblio.bib",
   "cite_by": "apalike",
   "current_citInitial": 1,
   "eqLabelWithNumbers": true,
   "eqNumInitial": 1,
   "hotkeys": {
    "equation": "Ctrl-E",
    "itemize": "Ctrl-I"
   },
   "labels_anchors": false,
   "latex_user_defs": false,
   "report_style_numbering": false,
   "user_envs_cfg": false
  },
  "toc": {
   "base_numbering": 1,
   "nav_menu": {},
   "number_sections": true,
   "sideBar": true,
   "skip_h1_title": false,
   "title_cell": "Table of Contents",
   "title_sidebar": "Contents",
   "toc_cell": false,
   "toc_position": {},
   "toc_section_display": true,
   "toc_window_display": true
  }
 },
 "nbformat": 4,
 "nbformat_minor": 5
}

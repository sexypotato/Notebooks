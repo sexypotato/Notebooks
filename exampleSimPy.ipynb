{
  "nbformat": 4,
  "nbformat_minor": 0,
  "metadata": {
    "colab": {
      "provenance": []
    },
    "kernelspec": {
      "name": "python3",
      "display_name": "Python 3"
    },
    "language_info": {
      "name": "python"
    }
  },
  "cells": [
    {
      "cell_type": "code",
      "source": [
        "!pip install simpy"
      ],
      "metadata": {
        "colab": {
          "base_uri": "https://localhost:8080/"
        },
        "id": "ulEV9AWbJU3H",
        "outputId": "dd1fbbb2-4696-4fbc-d283-b826353d34ad"
      },
      "execution_count": 2,
      "outputs": [
        {
          "output_type": "stream",
          "name": "stdout",
          "text": [
            "Looking in indexes: https://pypi.org/simple, https://us-python.pkg.dev/colab-wheels/public/simple/\n",
            "Collecting simpy\n",
            "  Downloading simpy-4.0.1-py2.py3-none-any.whl (29 kB)\n",
            "Installing collected packages: simpy\n",
            "Successfully installed simpy-4.0.1\n"
          ]
        }
      ]
    },
    {
      "cell_type": "code",
      "source": [
        "import simpy\n",
        "import random\n",
        "import statistics"
      ],
      "metadata": {
        "id": "RroTNmgfJWpp"
      },
      "execution_count": 3,
      "outputs": []
    },
    {
      "cell_type": "code",
      "execution_count": 5,
      "metadata": {
        "colab": {
          "base_uri": "https://localhost:8080/"
        },
        "id": "AFrDqq8kJJ4i",
        "outputId": "061d1f3e-6785-4c07-8778-550a640df9b8"
      },
      "outputs": [
        {
          "output_type": "stream",
          "name": "stdout",
          "text": [
            "Input # of cashiers working: 7\n",
            "Input # of servers working: 5\n",
            "Input # of ushers working: 1\n",
            "Running simulation... \n",
            "The average wait time is 17 minutes and 8 seconds.\n"
          ]
        }
      ],
      "source": [
        "wait_times = []\n",
        "\n",
        "\n",
        "class Theater(object):\n",
        "    def __init__(self, env, num_cashiers, num_servers, num_ushers):\n",
        "        self.env = env\n",
        "        self.cashier = simpy.Resource(env, num_cashiers)\n",
        "        self.server = simpy.Resource(env, num_servers)\n",
        "        self.usher = simpy.Resource(env, num_ushers)\n",
        "\n",
        "    def purchase_ticket(self, moviegoer):\n",
        "        yield self.env.timeout(random.randint(1, 3))\n",
        "\n",
        "    def check_ticket(self, moviegoer):\n",
        "        yield self.env.timeout(3 / 60)\n",
        "\n",
        "    def sell_food(self, moviegoer):\n",
        "        yield self.env.timeout(random.randint(1, 5))\n",
        "\n",
        "\n",
        "def go_to_movies(env, moviegoer, theater):\n",
        "    # Moviegoer arrives at the theater\n",
        "    arrival_time = env.now\n",
        "\n",
        "    with theater.cashier.request() as request:\n",
        "        yield request\n",
        "        yield env.process(theater.purchase_ticket(moviegoer))\n",
        "\n",
        "    with theater.usher.request() as request:\n",
        "        yield request\n",
        "        yield env.process(theater.check_ticket(moviegoer))\n",
        "\n",
        "    if random.choice([True, False]):\n",
        "        with theater.server.request() as request:\n",
        "            yield request\n",
        "            yield env.process(theater.sell_food(moviegoer))\n",
        "\n",
        "    # Moviegoer heads into the theater\n",
        "    wait_times.append(env.now - arrival_time)\n",
        "\n",
        "\n",
        "def run_theater(env, num_cashiers, num_servers, num_ushers):\n",
        "    theater = Theater(env, num_cashiers, num_servers, num_ushers)\n",
        "\n",
        "    for moviegoer in range(3):\n",
        "        env.process(go_to_movies(env, moviegoer, theater))\n",
        "\n",
        "    while True:\n",
        "        yield env.timeout(0.20)  # Wait a bit before generating a new person\n",
        "\n",
        "        moviegoer += 1\n",
        "        env.process(go_to_movies(env, moviegoer, theater))\n",
        "\n",
        "\n",
        "def get_average_wait_time(wait_times):\n",
        "    average_wait = statistics.mean(wait_times)\n",
        "    # Pretty print the results\n",
        "    minutes, frac_minutes = divmod(average_wait, 1)\n",
        "    seconds = frac_minutes * 60\n",
        "    return round(minutes), round(seconds)\n",
        "\n",
        "\n",
        "def get_user_input():\n",
        "    num_cashiers = input(\"Input # of cashiers working: \")\n",
        "    num_servers = input(\"Input # of servers working: \")\n",
        "    num_ushers = input(\"Input # of ushers working: \")\n",
        "    params = [num_cashiers, num_servers, num_ushers]\n",
        "    if all(str(i).isdigit() for i in params):  # Check input is valid\n",
        "        params = [int(x) for x in params]\n",
        "    else:\n",
        "        print(\n",
        "            \"Could not parse input. Simulation will use default values:\",\n",
        "            \"\\n1 cashier, 1 server, 1 usher.\",\n",
        "        )\n",
        "        params = [1, 1, 1]\n",
        "    return params\n",
        "\n",
        "\n",
        "def main():\n",
        "    # Setup\n",
        "    random.seed(42)\n",
        "    num_cashiers, num_servers, num_ushers = get_user_input()\n",
        "\n",
        "    # Run the simulation\n",
        "    env = simpy.Environment()\n",
        "    env.process(run_theater(env, num_cashiers, num_servers, num_ushers))\n",
        "    env.run(until=90)\n",
        "\n",
        "    # View the results\n",
        "    mins, secs = get_average_wait_time(wait_times)\n",
        "    print(\n",
        "        \"Running simulation...\",\n",
        "        f\"\\nThe average wait time is {mins} minutes and {secs} seconds.\",\n",
        "    )\n",
        "\n",
        "\n",
        "if __name__ == \"__main__\":\n",
        "    main()"
      ]
    },
    {
      "cell_type": "code",
      "source": [
        "def task(env, name, counter, mean_time_to_connect): # Логирует\n",
        "  \"\"\"The task arrives, is served, and leaves.\"\"\"\n",
        "  print('%7.4f %s: Here I am' % (env.now, name))\n",
        "  with counter.request() as req:\n",
        "    patience = 0\n",
        "    # Try to connect or abort the attempt\n",
        "    results = yield req | env.timeout(patience)\n",
        "    if req in results:\n",
        "      # We got to the counter\n",
        "      print('%7.4f %s: started' % (env.now, name))\n",
        "      tib = random.expovariate(1.0 / mean_time_to_connect)\n",
        "      yield env.timeout(tib)\n",
        "      print('%7.4f %s: finished' % (env.now, name))\n",
        "    else:\n",
        "      # We reneged\n",
        "      print('%7.4f %s: RENEGED' % (env.now, name))\n",
        "\n",
        "def source(env, number, intensity, counter, mean_time_to_connect): # Генерирует заявки в систему\n",
        "  \"\"\"Source generates tasks randomly\"\"\"\n",
        "  for i in range(number):\n",
        "    c = task(env, 'Task_%02d' % i, counter, mean_time_to_connect)\n",
        "    env.process(c)\n",
        "    t = random.expovariate(intensity)\n",
        "    yield env.timeout(t)"
      ],
      "metadata": {
        "id": "9hOp3LR3MKKE"
      },
      "execution_count": null,
      "outputs": []
    },
    {
      "cell_type": "code",
      "source": [
        "# Горячая линия банка\n",
        "seed = 42\n",
        "new_tasks = 120 # Число заявок в систему\n",
        "intensity_of_tasks = 100.10 # Интенсивность поступления заявок\n",
        "mean_time_to_connect = 30 # Среднее время обслуживания (Интенсивность обслуживания = 1/mean_time_to_connect)\n",
        "cap = 100 # Кол-во серверов\n",
        "\n",
        "# Setup and start the simulation\n",
        "random.seed(seed)\n",
        "env = simpy.Environment()\n",
        "# Start processes and run\n",
        "counter = simpy.Resource(env, capacity=cap)\n",
        "env.process(source(env, new_tasks, intensity_of_tasks, counter, mean_time_to_connect))\n",
        "\n",
        "env.run()"
      ],
      "metadata": {
        "id": "N9c1TS98MMA_"
      },
      "execution_count": null,
      "outputs": []
    },
    {
      "cell_type": "code",
      "source": [
        "def example(env):\n",
        "     event = simpy.events.Timeout(env, delay=1, value=42)\n",
        "     value = yield event\n",
        "     print('now=%d, value=%d' % (env.now, value))\n",
        "\n",
        "env = simpy.Environment()\n",
        "example_gen = example(env)\n",
        "p = simpy.events.Process(env, example_gen)\n",
        "\n",
        "env.run()"
      ],
      "metadata": {
        "id": "wZrugTQUMN9P"
      },
      "execution_count": null,
      "outputs": []
    }
  ]
}